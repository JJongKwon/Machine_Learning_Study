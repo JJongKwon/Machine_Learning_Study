{
 "cells": [
  {
   "cell_type": "markdown",
   "metadata": {},
   "source": [
    "# Cost Function\n",
    "**학습 목표**\n",
    "\n",
    "이번 강의에서는 실제 값과 가설 함수의 차이를 최소화하기 위해 구하는 Cost function 에 대한 수식과 함께 cost function\n",
    "의 개념에 대해 공부합니다. "
   ]
  },
  {
   "cell_type": "markdown",
   "metadata": {},
   "source": [
    "**핵심 키워드**\n",
    "\n",
    "- Cost function\n",
    "- Loss function\n",
    "- Hypothesis function\n",
    "- Chain Rule"
   ]
  },
  {
   "cell_type": "markdown",
   "metadata": {},
   "source": [
    "<center> **앞으로 우리는** </center>\n",
    "\n",
    "$$f(x) = h_{\\theta}(x)$$\n",
    "<br></br>\n",
    "<center>**예측 함수를 가설 함수라고 부를 예정**</center>"
   ]
  },
  {
   "cell_type": "markdown",
   "metadata": {},
   "source": [
    "------------"
   ]
  },
  {
   "cell_type": "markdown",
   "metadata": {},
   "source": [
    "<center>**실제값과 가설함수의 차이**</center>\n",
    "\n",
    "$$J(w_0, w_1) = \\frac{1}{2m} \\sum_{i=1}^{m}(h_{\\theta}(x^{(i)})-y^{(i)})^2$$\n",
    "<br></br>\n",
    "<center>**Cost function이라고 부를예정**</center>"
   ]
  },
  {
   "cell_type": "markdown",
   "metadata": {},
   "source": [
    "----------------"
   ]
  },
  {
   "cell_type": "markdown",
   "metadata": {},
   "source": [
    "<center>**Cost fuction에서 구하는 것**</center>\n",
    "\n",
    "$$argmin_{\\theta}\\frac{1}{2m} \\sum_{i=1}^{m}(h_{\\theta}(x^{(i)})-y^{(i)})^2$$\n",
    "<br></br>\n",
    "<center>**Cost function의 최소화를 위한 weight 값**</center>"
   ]
  },
  {
   "cell_type": "markdown",
   "metadata": {},
   "source": [
    "-----------"
   ]
  },
  {
   "cell_type": "markdown",
   "metadata": {},
   "source": [
    "$$J(w_0, w_1) = \\frac{1}{2m} \\sum_{i=1}^{m}(w_{1}x^{(i)}+w_{0}-y^{(i)})^2$$\n",
    "<br></br>\n",
    "$$\\frac{\\partial J}{\\partial w_{0}} = \\frac{1}{m} \\sum_{i=1}^{m}(w_{1}x^{(i)}+w_{0}-y^{(i)})$$\n",
    "<br></br>\n",
    "$$\\frac{\\partial J}{\\partial w_{1}} = \\frac{1}{m} \\sum_{i=1}^{m}(w_{1}x^{(i)}+w_{0}-y^{(i)})x^{(i)}$$"
   ]
  },
  {
   "cell_type": "markdown",
   "metadata": {},
   "source": [
    "-----------------"
   ]
  },
  {
   "cell_type": "markdown",
   "metadata": {},
   "source": [
    "![](./image7.png)"
   ]
  },
  {
   "cell_type": "markdown",
   "metadata": {},
   "source": [
    "## weights의 최적값 컴퓨터가 찾는 방법\n",
    "- 연립방정식 풀기(normal equation)\n",
    "- gradient descent"
   ]
  }
 ],
 "metadata": {
  "kernelspec": {
   "display_name": "Python 3",
   "language": "python",
   "name": "python3"
  },
  "language_info": {
   "codemirror_mode": {
    "name": "ipython",
    "version": 3
   },
   "file_extension": ".py",
   "mimetype": "text/x-python",
   "name": "python",
   "nbconvert_exporter": "python",
   "pygments_lexer": "ipython3",
   "version": "3.5.2"
  }
 },
 "nbformat": 4,
 "nbformat_minor": 0
}
