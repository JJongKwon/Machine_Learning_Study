{
 "cells": [
  {
   "cell_type": "markdown",
   "metadata": {},
   "source": [
    "# Chapter2 Pythonic code"
   ]
  },
  {
   "cell_type": "markdown",
   "metadata": {},
   "source": [
    "## Pythonic Code Overview"
   ]
  },
  {
   "cell_type": "markdown",
   "metadata": {},
   "source": [
    "- 파이썬 스타일의 코딩 기법\n",
    "- 파이썬 특유의 문법을 활용하여 효율적으로 코드를 표현함\n",
    "- 고급 코드를 작성할 수록 더 많이 필요해짐"
   ]
  },
  {
   "cell_type": "markdown",
   "metadata": {},
   "source": [
    "### 예시: 여러 단어들을 하나로 붙일 때"
   ]
  },
  {
   "cell_type": "code",
   "execution_count": 1,
   "metadata": {
    "collapsed": false
   },
   "outputs": [
    {
     "name": "stdout",
     "output_type": "stream",
     "text": [
      "abcde\n"
     ]
    }
   ],
   "source": [
    "# 일반 코드\n",
    "\n",
    "colors = [\"a\", \"b\", \"c\", \"d\", \"e\"]\n",
    "result = \"\"\n",
    "\n",
    "for s in colors:\n",
    "    result += s\n",
    "\n",
    "print(result)"
   ]
  },
  {
   "cell_type": "code",
   "execution_count": 2,
   "metadata": {
    "collapsed": false
   },
   "outputs": [
    {
     "name": "stdout",
     "output_type": "stream",
     "text": [
      "redbluegreenyellow\n"
     ]
    }
   ],
   "source": [
    "# pythonic code\n",
    "\n",
    "colors = [\"red\", \"blue\", \"green\", \"yellow\"]\n",
    "result = \"\".join(colors)\n",
    "\n",
    "print(result)"
   ]
  },
  {
   "cell_type": "markdown",
   "metadata": {},
   "source": [
    "---------------------"
   ]
  },
  {
   "cell_type": "markdown",
   "metadata": {},
   "source": [
    "## Split & Join"
   ]
  },
  {
   "cell_type": "markdown",
   "metadata": {},
   "source": [
    "### Split 함수\n",
    "- String Type의 값을 나눠서 List 형태로 변환"
   ]
  },
  {
   "cell_type": "code",
   "execution_count": 4,
   "metadata": {
    "collapsed": false
   },
   "outputs": [
    {
     "name": "stdout",
     "output_type": "stream",
     "text": [
      "['zero', 'one', 'two', 'three']\n"
     ]
    }
   ],
   "source": [
    "#빈칸을 기준으로 문자열 나누기\n",
    "\n",
    "items = 'zero one two three'.split()\n",
    "\n",
    "print(items)"
   ]
  },
  {
   "cell_type": "code",
   "execution_count": 5,
   "metadata": {
    "collapsed": false
   },
   "outputs": [
    {
     "name": "stdout",
     "output_type": "stream",
     "text": [
      "['python', 'jquery', 'javascript']\n"
     ]
    }
   ],
   "source": [
    "#\",\" 을 기준으로 문자열 나누기\n",
    "\n",
    "example = 'python,jquery,javascript'\n",
    "\n",
    "print(example.split(\",\"))"
   ]
  },
  {
   "cell_type": "code",
   "execution_count": 7,
   "metadata": {
    "collapsed": true
   },
   "outputs": [],
   "source": [
    "#리스트의 각 값을 a, b, c, 변수로 unpacking\n",
    "\n",
    "example = 'python,jquery,javascript'\n",
    "\n",
    "a, b, c = example.split(\",\")"
   ]
  },
  {
   "cell_type": "code",
   "execution_count": 9,
   "metadata": {
    "collapsed": true
   },
   "outputs": [],
   "source": [
    "#\".\"을 기준으로 문자열 나누고 unpacking\n",
    "\n",
    "example = 'cs50.gachon.edu'\n",
    "\n",
    "subdomain, domain, tld = example.split(\".\")"
   ]
  },
  {
   "cell_type": "markdown",
   "metadata": {},
   "source": [
    "### Join 함수\n",
    "- String List를 합쳐 하나의 String으로 변환할 때 사용"
   ]
  },
  {
   "cell_type": "code",
   "execution_count": 10,
   "metadata": {
    "collapsed": false
   },
   "outputs": [
    {
     "name": "stdout",
     "output_type": "stream",
     "text": [
      "redbluegrennyellow\n"
     ]
    }
   ],
   "source": [
    "colors = ['red', 'blue', 'grenn', 'yellow']\n",
    "\n",
    "result = ''.join(colors)\n",
    "\n",
    "print(result)"
   ]
  },
  {
   "cell_type": "markdown",
   "metadata": {},
   "source": [
    "-----------------------------"
   ]
  },
  {
   "cell_type": "markdown",
   "metadata": {},
   "source": [
    "## List Comprehension\n",
    "- 기존 List 사용하여 간단히 다른 List를 만드는 기법\n",
    "- 포괄적인 List, 포함되는 리스트라는 의미로 사용됨\n",
    "- 파이썬에서 가장 많이 사용되는 기법 중하나"
   ]
  },
  {
   "cell_type": "code",
   "execution_count": 12,
   "metadata": {
    "collapsed": false
   },
   "outputs": [
    {
     "name": "stdout",
     "output_type": "stream",
     "text": [
      "[0, 1, 2, 3, 4, 5, 6, 7, 8, 9]\n"
     ]
    }
   ],
   "source": [
    "#for loop + append 사용하기\n",
    "\n",
    "result = []\n",
    "\n",
    "for i in range(10):\n",
    "    result.append(i)\n",
    "\n",
    "print(result)"
   ]
  },
  {
   "cell_type": "code",
   "execution_count": 14,
   "metadata": {
    "collapsed": false
   },
   "outputs": [
    {
     "name": "stdout",
     "output_type": "stream",
     "text": [
      "[0, 1, 2, 3, 4, 5, 6, 7, 8, 9]\n",
      "[0, 2, 4, 6, 8]\n"
     ]
    }
   ],
   "source": [
    "#list Comprehension 사용하기\n",
    "\n",
    "result = [i for i in range(10)]\n",
    "print(result)\n",
    "\n",
    "result = [i for i in range(10) if i % 2 == 0]\n",
    "print(result)"
   ]
  },
  {
   "cell_type": "code",
   "execution_count": 17,
   "metadata": {
    "collapsed": false
   },
   "outputs": [
    {
     "name": "stdout",
     "output_type": "stream",
     "text": [
      "['HW', 'Ho', 'Hr', 'Hl', 'Hd', 'eW', 'eo', 'er', 'el', 'ed', 'lW', 'lo', 'lr', 'll', 'ld', 'lW', 'lo', 'lr', 'll', 'ld', 'oW', 'oo', 'or', 'ol', 'od']\n"
     ]
    }
   ],
   "source": [
    "#Nested For loop\n",
    "\n",
    "word_1 = \"Hello\"\n",
    "word_2 = \"World\"\n",
    "result = [i+j for i in word_1 for j in word_2]\n",
    "\n",
    "print(result)"
   ]
  },
  {
   "cell_type": "code",
   "execution_count": 18,
   "metadata": {
    "collapsed": false
   },
   "outputs": [
    {
     "name": "stdout",
     "output_type": "stream",
     "text": [
      "['AD', 'AE', 'AA', 'BD', 'BE', 'BA', 'CD', 'CE', 'CA']\n",
      "['AD', 'AE', 'BA', 'BD', 'BE', 'CA', 'CD', 'CE']\n"
     ]
    }
   ],
   "source": [
    "#Nested For loop + if 문\n",
    "\n",
    "case_1 = [\"A\", \"B\", \"C\"]\n",
    "case_2 = [\"D\", \"E\", \"A\"]\n",
    "\n",
    "result = [i+j for i in case_1 for j in case_2]\n",
    "print(result)\n",
    "\n",
    "# if 문 추가\n",
    "result = [i+j for i in case_1 for j in case_2 if not(i==j)]\n",
    "result.sort()\n",
    "\n",
    "print(result)"
   ]
  },
  {
   "cell_type": "code",
   "execution_count": 19,
   "metadata": {
    "collapsed": false
   },
   "outputs": [
    {
     "name": "stdout",
     "output_type": "stream",
     "text": [
      "['The', 'quick', 'brown', 'fox', 'jumps', 'over', 'the', 'lazy', 'dog']\n",
      "['THE', 'the', 3]\n",
      "['QUICK', 'quick', 5]\n",
      "['BROWN', 'brown', 5]\n",
      "['FOX', 'fox', 3]\n",
      "['JUMPS', 'jumps', 5]\n",
      "['OVER', 'over', 4]\n",
      "['THE', 'the', 3]\n",
      "['LAZY', 'lazy', 4]\n",
      "['DOG', 'dog', 3]\n"
     ]
    }
   ],
   "source": [
    "#split + list Comprehension\n",
    "\n",
    "words = 'The quick brown fox jumps over the lazy dog'.split()\n",
    "print(words)\n",
    "\n",
    "stuff = [[w.upper(), w.lower(), len(w)] for w in words]\n",
    "\n",
    "for i in stuff:\n",
    "    print(i)"
   ]
  },
  {
   "cell_type": "markdown",
   "metadata": {},
   "source": [
    "--------------------------------------"
   ]
  },
  {
   "cell_type": "markdown",
   "metadata": {},
   "source": [
    "## Enumerate & Zip"
   ]
  },
  {
   "cell_type": "markdown",
   "metadata": {},
   "source": [
    "### Enumerate\n",
    "- List의 element를 추출할 때 번호를 붙여서 추출"
   ]
  },
  {
   "cell_type": "code",
   "execution_count": 22,
   "metadata": {
    "collapsed": false
   },
   "outputs": [
    {
     "name": "stdout",
     "output_type": "stream",
     "text": [
      "0 tic\n",
      "1 tac\n",
      "2 toc\n"
     ]
    }
   ],
   "source": [
    "#list에 있는 index와 값을 unpacking\n",
    "\n",
    "for i, v in enumerate(['tic', 'tac', 'toc']):\n",
    "    print(i, v)"
   ]
  },
  {
   "cell_type": "code",
   "execution_count": 26,
   "metadata": {
    "collapsed": false
   },
   "outputs": [
    {
     "data": {
      "text/plain": [
       "[(0, 'a'), (1, 'b'), (2, 'c'), (3, 'd')]"
      ]
     },
     "execution_count": 26,
     "metadata": {},
     "output_type": "execute_result"
    }
   ],
   "source": [
    "#list에 있는 index와 값을 unpacking하여 list로 저장\n",
    "\n",
    "mylist = [\"a\", \"b\", \"c\", \"d\"]\n",
    "\n",
    "list(enumerate(mylist))"
   ]
  },
  {
   "cell_type": "code",
   "execution_count": 27,
   "metadata": {
    "collapsed": false
   },
   "outputs": [
    {
     "data": {
      "text/plain": [
       "{0: 'Gachon',\n",
       " 1: 'University',\n",
       " 2: 'as',\n",
       " 3: 'an',\n",
       " 4: 'academic',\n",
       " 5: 'institute',\n",
       " 6: 'located',\n",
       " 7: 'in',\n",
       " 8: 'South',\n",
       " 9: 'Korea.'}"
      ]
     },
     "execution_count": 27,
     "metadata": {},
     "output_type": "execute_result"
    }
   ],
   "source": [
    "#문장을 list로 만들고 list의 index와 값을 unpacking하여 dict로 저장\n",
    "\n",
    "{i:j for i,j in enumerate('Gachon University as an academic institute located in South Korea.'.split())}"
   ]
  },
  {
   "cell_type": "markdown",
   "metadata": {},
   "source": [
    "### Zip\n",
    "- 두 개의 list의 값을 병렬적으로 추출함"
   ]
  },
  {
   "cell_type": "code",
   "execution_count": 20,
   "metadata": {
    "collapsed": false
   },
   "outputs": [
    {
     "name": "stdout",
     "output_type": "stream",
     "text": [
      "a1 b1\n",
      "a2 b2\n",
      "a3 b3\n"
     ]
    }
   ],
   "source": [
    "#for loop + zip\n",
    "\n",
    "alist = ['a1', 'a2', 'a3']\n",
    "blist = ['b1', 'b2', 'b3']\n",
    "\n",
    "for a, b in zip(alist, blist):\n",
    "    print(a, b)"
   ]
  },
  {
   "cell_type": "code",
   "execution_count": 28,
   "metadata": {
    "collapsed": false
   },
   "outputs": [
    {
     "name": "stdout",
     "output_type": "stream",
     "text": [
      "(1, 10, 100) (2, 20, 200) (3, 30, 300)\n",
      "[111, 222, 333]\n"
     ]
    }
   ],
   "source": [
    "#list comprehension + zip\n",
    "\n",
    "a, b, c = zip((1, 2, 3), (10, 20, 30), (100, 200, 300))\n",
    "print(a, b, c)\n",
    "\n",
    "print([sum(x) for x in zip((1, 2, 3), (10, 20, 30), (100, 200, 300))])"
   ]
  },
  {
   "cell_type": "code",
   "execution_count": 29,
   "metadata": {
    "collapsed": false
   },
   "outputs": [
    {
     "name": "stdout",
     "output_type": "stream",
     "text": [
      "0 a1 b1\n",
      "1 a2 b2\n",
      "2 a3 b3\n"
     ]
    }
   ],
   "source": [
    "#enumerate + zip\n",
    "\n",
    "alist = ['a1', 'a2', 'a3']\n",
    "blist = ['b1', 'b2', 'b3']\n",
    "\n",
    "for i, (a, b) in enumerate(zip(alist, blist)):\n",
    "    print(i, a, b)"
   ]
  },
  {
   "cell_type": "markdown",
   "metadata": {},
   "source": [
    "----------------------------------------------"
   ]
  },
  {
   "cell_type": "markdown",
   "metadata": {},
   "source": [
    "## Lambda & MapReduce"
   ]
  },
  {
   "cell_type": "markdown",
   "metadata": {},
   "source": [
    "### Lambda\n",
    "- 함수 이름 없이, 함수처럼 쓸 수 있는 익명함수\n",
    "- 수학의 람다 대수에서 유래함"
   ]
  },
  {
   "cell_type": "code",
   "execution_count": 32,
   "metadata": {
    "collapsed": false
   },
   "outputs": [
    {
     "name": "stdout",
     "output_type": "stream",
     "text": [
      "5\n",
      "5\n",
      "9\n",
      "1.5\n",
      "6\n"
     ]
    }
   ],
   "source": [
    "def f(x, y):\n",
    "    return x + y\n",
    "\n",
    "print(f(1, 4))\n",
    "\n",
    "f = lambda x, y: x + y\n",
    "print(f(1, 4))\n",
    "\n",
    "f = lambda x: x ** 2\n",
    "print(f(3))\n",
    "\n",
    "f = lambda x: x / 2\n",
    "print(f(3))\n",
    "\n",
    "print((lambda x: x + 1)(5))"
   ]
  },
  {
   "cell_type": "markdown",
   "metadata": {},
   "source": [
    "### Map function\n",
    "- Sequence 자료형의 각 element에 동일한 function을 적용함"
   ]
  },
  {
   "cell_type": "code",
   "execution_count": 33,
   "metadata": {
    "collapsed": false
   },
   "outputs": [
    {
     "name": "stdout",
     "output_type": "stream",
     "text": [
      "[1, 4, 9, 16, 25]\n",
      "[2, 4, 6, 8, 10]\n"
     ]
    },
    {
     "data": {
      "text/plain": [
       "[1, 4, 3, 16, 5]"
      ]
     },
     "execution_count": 33,
     "metadata": {},
     "output_type": "execute_result"
    }
   ],
   "source": [
    "ex = [1, 2, 3, 4, 5]\n",
    "f = lambda x: x ** 2\n",
    "print(list(map(f, ex)))\n",
    "#[value ** 2 for value in ex]\n",
    "\n",
    "\n",
    "ex = [1, 2, 3, 4, 5]\n",
    "f = lambda x, y: x + y\n",
    "print(list(map(f, ex, ex)))\n",
    "\n",
    "list(map(\n",
    "    lambda x: x ** 2 if x % 2 == 0 else x, \n",
    "    ex))"
   ]
  },
  {
   "cell_type": "code",
   "execution_count": 35,
   "metadata": {
    "collapsed": false
   },
   "outputs": [
    {
     "name": "stdout",
     "output_type": "stream",
     "text": [
      "[2, 4, 6, 8, 10]\n",
      "<map object at 0x000001FE6F42F978>\n",
      "<map object at 0x000001FE6F42F978>\n",
      "1\n",
      "4\n",
      "9\n",
      "16\n",
      "25\n"
     ]
    }
   ],
   "source": [
    "ex = [1,2,3,4,5]\n",
    "\n",
    "print(list(map(lambda x: x+x, ex)))\n",
    "\n",
    "print((map(lambda x: x+x, ex)))\n",
    "\n",
    "f = lambda x: x ** 2\n",
    "print(map(f, ex))\n",
    "\n",
    "for i in map(f, ex):\n",
    "    print(i)"
   ]
  },
  {
   "cell_type": "markdown",
   "metadata": {},
   "source": [
    "### Reduce function\n",
    "- map function과 달리 list에 똑같은 함수를 적용해서 통합"
   ]
  },
  {
   "cell_type": "code",
   "execution_count": 34,
   "metadata": {
    "collapsed": false
   },
   "outputs": [
    {
     "name": "stdout",
     "output_type": "stream",
     "text": [
      "15\n"
     ]
    },
    {
     "data": {
      "text/plain": [
       "120"
      ]
     },
     "execution_count": 34,
     "metadata": {},
     "output_type": "execute_result"
    }
   ],
   "source": [
    "from functools import reduce\n",
    "print(reduce(lambda x, y: x+y, [1, 2, 3, 4, 5]))\n",
    "\n",
    "def factorial(n):\n",
    "    return reduce(\n",
    "            lambda x, y: x*y, range(1, n+1))\n",
    "\n",
    "factorial(5)"
   ]
  },
  {
   "cell_type": "markdown",
   "metadata": {},
   "source": [
    "-------------------------------------"
   ]
  },
  {
   "cell_type": "markdown",
   "metadata": {},
   "source": [
    "## Asterisk\n",
    "- 흔히 알고 있는 * 를 의미함\n",
    "- 단순 곱셈, 제곱연산, 가변 인자 활용 등 다양하게 사용됨"
   ]
  },
  {
   "cell_type": "code",
   "execution_count": 36,
   "metadata": {
    "collapsed": false
   },
   "outputs": [
    {
     "name": "stdout",
     "output_type": "stream",
     "text": [
      "1 (2, 3, 4, 5, 6)\n",
      "<class 'tuple'>\n"
     ]
    }
   ],
   "source": [
    "# *args\n",
    "\n",
    "def asterisk_test(a, *args):\n",
    "    print(a, args)\n",
    "    print(type(args))\n",
    "\n",
    "asterisk_test(1,2,3,4,5,6)"
   ]
  },
  {
   "cell_type": "code",
   "execution_count": 44,
   "metadata": {
    "collapsed": false
   },
   "outputs": [
    {
     "name": "stdout",
     "output_type": "stream",
     "text": [
      "1 {'e': 5, 'c': 3, 'd': 4, 'f': 6, 'b': 2}\n",
      "<class 'dict'>\n"
     ]
    }
   ],
   "source": [
    "# **kargs(키워드 인자)\n",
    "\n",
    "def asterisk_test(a, **kargs):\n",
    "    print(a, kargs)\n",
    "    print(type(kargs))\n",
    "\n",
    "asterisk_test(1, b=2, c=3, d=4, e=5, f=6)"
   ]
  },
  {
   "cell_type": "markdown",
   "metadata": {},
   "source": [
    "### Asterisk - unpacking a container\n",
    "- tuple, dict 등 자료형에 들어가 있는 값을 unpacking\n",
    "- 함수의 입력값, zip 등에 유용하게 사용가능"
   ]
  },
  {
   "cell_type": "code",
   "execution_count": 45,
   "metadata": {
    "collapsed": false
   },
   "outputs": [
    {
     "name": "stdout",
     "output_type": "stream",
     "text": [
      "1 (2, 3, 4, 5, 6)\n",
      "1 ((2, 3, 4, 5, 6),)\n",
      "<class 'tuple'>\n"
     ]
    }
   ],
   "source": [
    "def asterisk_test(a, *args):\n",
    "    print(a, args[0])\n",
    "    print(a, args)\n",
    "    print(type(args))\n",
    "\n",
    "asterisk_test(1, (2, 3, 4, 5, 6))"
   ]
  },
  {
   "cell_type": "code",
   "execution_count": 46,
   "metadata": {
    "collapsed": false
   },
   "outputs": [
    {
     "name": "stdout",
     "output_type": "stream",
     "text": [
      "1 (2, 3, 4, 5, 6)\n",
      "1 2 3 4 5 6\n",
      "<class 'tuple'>\n"
     ]
    }
   ],
   "source": [
    "def asterisk_test(a, args):\n",
    "    print(a, args)\n",
    "    print(a, *args)\n",
    "    print(type(args))\n",
    "\n",
    "asterisk_test(1, (2,3,4,5,6))"
   ]
  },
  {
   "cell_type": "code",
   "execution_count": 47,
   "metadata": {
    "collapsed": false
   },
   "outputs": [
    {
     "name": "stdout",
     "output_type": "stream",
     "text": [
      "[1, 2] [3, 4] [5, 6]\n",
      "[1, 2] [3, 4] [5, 6]\n",
      "([1, 2], [3, 4], [5, 6])\n"
     ]
    }
   ],
   "source": [
    "a, b, c = ([1, 2], [3, 4], [5, 6])\n",
    "print(a, b, c)\n",
    "\n",
    "data = ([1, 2], [3, 4], [5, 6])\n",
    "print(*data)\n",
    "print(data)"
   ]
  },
  {
   "cell_type": "code",
   "execution_count": 51,
   "metadata": {
    "collapsed": false
   },
   "outputs": [
    {
     "name": "stdout",
     "output_type": "stream",
     "text": [
      "10 1 2 3\n"
     ]
    }
   ],
   "source": [
    "def asterisk_test(a, b, c, d):\n",
    "    print(a, b, c, d)\n",
    "    \n",
    "data = {\"b\":1, \"c\":2, \"d\":3}\n",
    "asterisk_test(10, **data)"
   ]
  },
  {
   "cell_type": "code",
   "execution_count": 53,
   "metadata": {
    "collapsed": false
   },
   "outputs": [
    {
     "name": "stdout",
     "output_type": "stream",
     "text": [
      "(1, 3, 5)\n",
      "(2, 4, 6)\n"
     ]
    }
   ],
   "source": [
    "for data in zip(*([1, 2], [3, 4], [5, 6])):\n",
    "    print(data)"
   ]
  },
  {
   "cell_type": "code",
   "execution_count": 54,
   "metadata": {
    "collapsed": false
   },
   "outputs": [
    {
     "name": "stdout",
     "output_type": "stream",
     "text": [
      "10 3 2 1 56\n"
     ]
    }
   ],
   "source": [
    "def asterisk_test(a, b, c, d, e=0):\n",
    "    print(a, b, c, d, e)\n",
    "\n",
    "data = {\"d\":1 , \"c\":2, \"b\":3, \"e\":56}\n",
    "asterisk_test(10, **data)"
   ]
  },
  {
   "cell_type": "markdown",
   "metadata": {},
   "source": [
    "---------------------------------------------"
   ]
  },
  {
   "cell_type": "markdown",
   "metadata": {
    "collapsed": true
   },
   "source": [
    "## Data Structure - Collections"
   ]
  },
  {
   "cell_type": "markdown",
   "metadata": {},
   "source": [
    "### Collections\n",
    "- List, Tuple, Dict에 대한 Python Built-in 확장 자료 구조(모듈)\n",
    "- 편의성, 실행 효율 등을 사용자에게 제공함\n",
    "- 아래의 모듈들이 존재함"
   ]
  },
  {
   "cell_type": "code",
   "execution_count": 1,
   "metadata": {
    "collapsed": true
   },
   "outputs": [],
   "source": [
    "from collections import deque\n",
    "from collections import Counter\n",
    "from collections import OrderedDict\n",
    "from collections import defaultdict\n",
    "from collections import namedtuple"
   ]
  },
  {
   "cell_type": "markdown",
   "metadata": {},
   "source": [
    "### deque\n",
    "- Stack과 Queue를 지원하는 모듈\n",
    "- List에 비해 효율적인 자료 저장 방식을 지원함"
   ]
  },
  {
   "cell_type": "code",
   "execution_count": 2,
   "metadata": {
    "collapsed": false
   },
   "outputs": [
    {
     "name": "stdout",
     "output_type": "stream",
     "text": [
      "deque([0, 1, 2, 3, 4])\n",
      "deque([10, 0, 1, 2, 3, 4])\n"
     ]
    }
   ],
   "source": [
    "deque_list = deque()\n",
    "\n",
    "for i in range(5):\n",
    "    deque_list.append(i)\n",
    "print(deque_list)\n",
    "\n",
    "deque_list.appendleft(10)\n",
    "print(deque_list)"
   ]
  },
  {
   "cell_type": "markdown",
   "metadata": {},
   "source": [
    "- rotate, reverse 등 Linked List의 특성을 지원함\n",
    "- 기존 list 형태의 함수를 모두 지원함"
   ]
  },
  {
   "cell_type": "code",
   "execution_count": 3,
   "metadata": {
    "collapsed": false
   },
   "outputs": [
    {
     "name": "stdout",
     "output_type": "stream",
     "text": [
      "deque([3, 4, 10, 0, 1, 2])\n",
      "deque([1, 2, 3, 4, 10, 0])\n",
      "deque([1, 2, 3, 4, 10, 0])\n",
      "deque([0, 10, 4, 3, 2, 1])\n",
      "deque([1, 2, 3, 4, 10, 0, 5, 6, 7])\n",
      "deque([7, 6, 5, 1, 2, 3, 4, 10, 0, 5, 6, 7])\n"
     ]
    }
   ],
   "source": [
    "deque_list.rotate(2)\n",
    "print(deque_list)\n",
    "\n",
    "deque_list.rotate(2)\n",
    "print(deque_list)\n",
    "\n",
    "print(deque_list)\n",
    "\n",
    "print(deque(reversed(deque_list)))\n",
    "\n",
    "deque_list.extend([5, 6, 7])\n",
    "print(deque_list)\n",
    "\n",
    "deque_list.extendleft([5, 6, 7])\n",
    "print(deque_list)"
   ]
  },
  {
   "cell_type": "markdown",
   "metadata": {},
   "source": [
    "- deque는 기존 list보다 효율적인 자료구조를 제공\n",
    "- 효율적 메모리 구조로 처리 속도 향상"
   ]
  },
  {
   "cell_type": "markdown",
   "metadata": {},
   "source": [
    "### OrderedDict\n",
    "- Dict와 달리, 데이터를 입력한 순서대로 dict를 반환함"
   ]
  },
  {
   "cell_type": "code",
   "execution_count": 5,
   "metadata": {
    "collapsed": false
   },
   "outputs": [
    {
     "name": "stdout",
     "output_type": "stream",
     "text": [
      "x 100\n",
      "z 300\n",
      "l 500\n",
      "y 200\n",
      "\n",
      "\n",
      "x 100\n",
      "y 200\n",
      "z 300\n",
      "l 500\n"
     ]
    }
   ],
   "source": [
    "d = {}\n",
    "d['x'] = 100\n",
    "d['y'] = 200\n",
    "d['z'] = 300\n",
    "d['l'] = 500\n",
    "\n",
    "for k, v in d.items():\n",
    "    print(k, v)\n",
    "    \n",
    "print(\"\\n\")\n",
    "\n",
    "d = OrderedDict()\n",
    "d['x'] = 100\n",
    "d['y'] = 200\n",
    "d['z'] = 300\n",
    "d['l'] = 500\n",
    "\n",
    "for k, v in d.items():\n",
    "    print(k, v)"
   ]
  },
  {
   "cell_type": "markdown",
   "metadata": {},
   "source": [
    "- Dict type의 값을 value 또는 key 값으로 정렬할 때 사용가능"
   ]
  },
  {
   "cell_type": "code",
   "execution_count": 7,
   "metadata": {
    "collapsed": false
   },
   "outputs": [
    {
     "name": "stdout",
     "output_type": "stream",
     "text": [
      "l 500\n",
      "x 100\n",
      "y 200\n",
      "z 300\n",
      "\n",
      "\n",
      "l 500\n",
      "z 300\n",
      "y 200\n",
      "x 100\n"
     ]
    }
   ],
   "source": [
    "for k, v in OrderedDict(sorted(d.items(), key=lambda t: t[0])).items():\n",
    "    print(k, v)\n",
    "print(\"\\n\")    \n",
    "\n",
    "for k, v in OrderedDict(sorted(d.items(),\n",
    "                        reverse=True, key=lambda t: t[1])).items():\n",
    "    print(k, v)"
   ]
  },
  {
   "cell_type": "markdown",
   "metadata": {},
   "source": [
    "### defaultdict\n",
    "- Dict type의 값에 기본 값을 지정, 신규값 생성시 사용하는 방법"
   ]
  },
  {
   "cell_type": "code",
   "execution_count": 8,
   "metadata": {
    "collapsed": false
   },
   "outputs": [
    {
     "ename": "KeyError",
     "evalue": "'first'",
     "output_type": "error",
     "traceback": [
      "\u001b[1;31m---------------------------------------------------------------------------\u001b[0m",
      "\u001b[1;31mKeyError\u001b[0m                                  Traceback (most recent call last)",
      "\u001b[1;32m<ipython-input-8-72cfc40d5afb>\u001b[0m in \u001b[0;36m<module>\u001b[1;34m()\u001b[0m\n\u001b[0;32m      1\u001b[0m \u001b[0md\u001b[0m \u001b[1;33m=\u001b[0m \u001b[0mdict\u001b[0m\u001b[1;33m(\u001b[0m\u001b[1;33m)\u001b[0m\u001b[1;33m\u001b[0m\u001b[0m\n\u001b[1;32m----> 2\u001b[1;33m \u001b[0mprint\u001b[0m\u001b[1;33m(\u001b[0m\u001b[0md\u001b[0m\u001b[1;33m[\u001b[0m\u001b[1;34m\"first\"\u001b[0m\u001b[1;33m]\u001b[0m\u001b[1;33m)\u001b[0m\u001b[1;33m\u001b[0m\u001b[0m\n\u001b[0m",
      "\u001b[1;31mKeyError\u001b[0m: 'first'"
     ]
    }
   ],
   "source": [
    "d = dict()\n",
    "print(d[\"first\"])"
   ]
  },
  {
   "cell_type": "code",
   "execution_count": 10,
   "metadata": {
    "collapsed": false
   },
   "outputs": [
    {
     "name": "stdout",
     "output_type": "stream",
     "text": [
      "0\n"
     ]
    }
   ],
   "source": [
    "d = defaultdict(object)     # Default dictionary를 생성\n",
    "d = defaultdict(lambda: 0)  # Default 값을 0으로 설정합\n",
    "print(d[\"first\"])"
   ]
  },
  {
   "cell_type": "code",
   "execution_count": 13,
   "metadata": {
    "collapsed": false,
    "scrolled": true
   },
   "outputs": [
    {
     "name": "stdout",
     "output_type": "stream",
     "text": [
      "to 6\n",
      "press 3\n",
      "release 3\n",
      "and 3\n",
      "you 3\n",
      "your 3\n",
      "a 3\n",
      "that 3\n",
      "firm 2\n",
      "if 2\n",
      "can 2\n",
      "the 2\n",
      "about 2\n",
      "in 2\n",
      "is 2\n",
      "article 2\n",
      "prospects 2\n",
      "instance) 1\n",
      "drive 1\n",
      "paid 1\n",
      "more 1\n",
      "sell 1\n",
      "talk 1\n",
      "publicity. 1\n",
      "than 1\n",
      "are 1\n",
      "quickest 1\n",
      "what's 1\n",
      "asking 1\n",
      "result 1\n",
      "fruit! 1\n",
      "an 1\n",
      "its 1\n",
      "products. 1\n",
      "releases 1\n",
      "free 1\n",
      "published 1\n",
      "or 1\n",
      "results 1\n",
      "well 1\n",
      "contacting 1\n",
      "contact 1\n",
      "them. 1\n",
      "more, 1\n",
      "recommend 1\n",
      "effective. 1\n",
      "advertisement. 1\n",
      "easiest 1\n",
      "appears 1\n",
      "product, 1\n",
      "get 1\n",
      "articles 1\n",
      "comparable 1\n",
      "likely 1\n",
      "multiple 1\n",
      "mean 1\n",
      "written, 1\n",
      "cost 1\n",
      "(for 1\n",
      "new 1\n",
      "way 1\n",
      "low-hanging 1\n"
     ]
    }
   ],
   "source": [
    "text = \"\"\"A press release is the quickest and easiest way to get free publicity. \n",
    "If well written, a press release can result in multiple published articles about your firm and its products. \n",
    "And that can mean new prospects contacting you asking you to sell to them. Talk about low-hanging fruit!\n",
    "What's more, press releases are cost effective. If the release results in an article that (for instance) \n",
    "appears to recommend your firm or your product, that article is more likely to drive prospects to contact you\n",
    "than a comparable paid advertisement.\"\"\".lower().split()\n",
    "\n",
    "'''\n",
    "word_count = {}\n",
    "for word in text:\n",
    "    if word in word_count.keys():\n",
    "        word_count[word] += 1\n",
    "    else:\n",
    "        word_count[word] = 0\n",
    "print(word_count)\n",
    "'''\n",
    "\n",
    "word_count = defaultdict(object)     # Default dictionary를 생성\n",
    "word_count = defaultdict(lambda: 0)  # Default 값을 0으로 설정합\n",
    "\n",
    "for word in text:\n",
    "    word_count[word] += 1\n",
    "    \n",
    "for i, v in OrderedDict(sorted(\n",
    "        word_count.items(), key=lambda t: t[1], reverse=True)).items():\n",
    "    print(i, v)"
   ]
  },
  {
   "cell_type": "markdown",
   "metadata": {},
   "source": [
    "### Counter\n",
    "- Sequence type의 data element들의 개수를 dict 형태로 반환\n",
    "- Dict type, keyword parameter 등도 모두 처리 가능"
   ]
  },
  {
   "cell_type": "code",
   "execution_count": 14,
   "metadata": {
    "collapsed": false
   },
   "outputs": [
    {
     "name": "stdout",
     "output_type": "stream",
     "text": [
      "Counter({'a': 3, 'l': 2, 'd': 1, 'g': 1, 'h': 1})\n"
     ]
    }
   ],
   "source": [
    "c = Counter()                           # a new, empty counter\n",
    "c = Counter('gallahad')                 # a new counter from an iterable\n",
    "print(c)"
   ]
  },
  {
   "cell_type": "markdown",
   "metadata": {},
   "source": [
    "### namedtuple\n",
    "- tuple 형태로 Data 구조체를 저장하는 방법\n",
    "- 저장되는 data의 variable을 사전에 지정해서 저장함"
   ]
  },
  {
   "cell_type": "code",
   "execution_count": 16,
   "metadata": {
    "collapsed": false
   },
   "outputs": [
    {
     "name": "stdout",
     "output_type": "stream",
     "text": [
      "33\n",
      "11 22\n",
      "33\n",
      "Point(x=11, y=22)\n"
     ]
    }
   ],
   "source": [
    "# Basic example\n",
    "Point = namedtuple('Point', ['x', 'y'])\n",
    "p = Point(11, y=22)\n",
    "print(p[0] + p[1])\n",
    "\n",
    "x, y = p\n",
    "print(x, y)\n",
    "print(p.x + p.y)\n",
    "print(Point(x=11, y=22))"
   ]
  },
  {
   "cell_type": "markdown",
   "metadata": {},
   "source": [
    "---------------------------------"
   ]
  },
  {
   "cell_type": "markdown",
   "metadata": {},
   "source": [
    "## Linear algebra codes"
   ]
  },
  {
   "cell_type": "markdown",
   "metadata": {},
   "source": [
    "### Vector representation of python\n",
    "- Vector를 파이썬으로 표시하는 다양한 방법 존재"
   ]
  },
  {
   "cell_type": "code",
   "execution_count": 19,
   "metadata": {
    "collapsed": true
   },
   "outputs": [],
   "source": [
    "vector_a = [1, 2, 10] #List로 표현\n",
    "vector_b = (1, 2, 10) #Tuplt로 표현\n",
    "vector_c = {'x':1, 'y':1, 'z':10} #dict로 표현"
   ]
  },
  {
   "cell_type": "markdown",
   "metadata": {},
   "source": [
    "- 최선의 방법은 없음\n",
    "- 값의 변경 유무, 속성값 유무에 따라 선택할 수 있음\n",
    "- 본 수업에서는 기본적으로 list로 vector 연산 실시"
   ]
  },
  {
   "cell_type": "code",
   "execution_count": 20,
   "metadata": {
    "collapsed": false
   },
   "outputs": [
    {
     "name": "stdout",
     "output_type": "stream",
     "text": [
      "[7, 10]\n"
     ]
    }
   ],
   "source": [
    "#zip을 사용하여 vector 계산하기\n",
    "\n",
    "u = [2, 2]\n",
    "v = [2, 3]\n",
    "z = [3, 5]\n",
    "\n",
    "result = [sum(t) for t in zip(u, v, z)]\n",
    "print(result)\n",
    "\n",
    "#[2, 2] + [2, 3] + [3, 5] = [7, 10]"
   ]
  },
  {
   "cell_type": "markdown",
   "metadata": {},
   "source": [
    "### Vector의 계산"
   ]
  },
  {
   "cell_type": "code",
   "execution_count": 22,
   "metadata": {
    "collapsed": false
   },
   "outputs": [
    {
     "name": "stdout",
     "output_type": "stream",
     "text": [
      "[10, 14, 18]\n"
     ]
    }
   ],
   "source": [
    "#Scalar-Vector product\n",
    "\n",
    "u = [1, 2, 3]\n",
    "v = [4, 5, 6]\n",
    "alpha = 2\n",
    "\n",
    "result = [alpha*sum(z) for z in zip(u, v)]\n",
    "print(result)\n",
    "\n",
    "#2([1, 2, 3], + [4, 5, 6]) = 2[5, 7, 9] = [10, 14, 18]"
   ]
  },
  {
   "cell_type": "markdown",
   "metadata": {},
   "source": [
    "### Matrix representation of python\n",
    "- Matrix 역시 Python으로 표시하는 다양한 방법이 존재\n",
    "- 특히 dict로 표현할 때는 무궁무진한 방법이 있음\n",
    "- 본 수업에서는 기본적으로 two-dimensional list 형태로 표현함\n",
    "- [[1번쨰 row], [2번째 row], [3번째 row]]"
   ]
  },
  {
   "cell_type": "code",
   "execution_count": 24,
   "metadata": {
    "collapsed": false
   },
   "outputs": [
    {
     "name": "stdout",
     "output_type": "stream",
     "text": [
      "[[8, 14], [7, 12]]\n"
     ]
    }
   ],
   "source": [
    "#Matrix addition\n",
    "\n",
    "matrix_a  = [[3, 6], [4, 5]]\n",
    "matrix_b  = [[5, 8], [3, 7]]\n",
    "\n",
    "result = [[sum(row) for row in zip(*t)] #[3+5, 6+8]\n",
    "                               #*([3, 6], [5, 8]) = [3, 6] [5, 8]\n",
    "          for t in zip(matrix_a, matrix_b)] #([3, 6], [5, 8]) ([4, 5], [3, 7])\n",
    "\n",
    "print(result)"
   ]
  },
  {
   "cell_type": "markdown",
   "metadata": {},
   "source": [
    "### Matrix의 계산"
   ]
  },
  {
   "cell_type": "code",
   "execution_count": 25,
   "metadata": {
    "collapsed": false
   },
   "outputs": [
    {
     "name": "stdout",
     "output_type": "stream",
     "text": [
      "[[12, 24], [16, 20]]\n"
     ]
    }
   ],
   "source": [
    "#Scalar-Matrix Product\n",
    "\n",
    "matrix_a = [[3, 6], [4, 5]]\n",
    "alpha = 4\n",
    "result = [[alpha * element for element in t] for t in matrix_a]\n",
    "\n",
    "print(result)"
   ]
  },
  {
   "cell_type": "code",
   "execution_count": 26,
   "metadata": {
    "collapsed": false
   },
   "outputs": [
    {
     "name": "stdout",
     "output_type": "stream",
     "text": [
      "[[1, 4], [2, 5], [3, 6]]\n"
     ]
    }
   ],
   "source": [
    "#Matrix Transpose\n",
    "\n",
    "matrix_a = [[1, 2, 3], [4, 5, 6]]\n",
    "result = [[element for element in t] for t in zip(*matrix_a)]\n",
    "\n",
    "print(result)"
   ]
  },
  {
   "cell_type": "code",
   "execution_count": 27,
   "metadata": {
    "collapsed": false
   },
   "outputs": [
    {
     "name": "stdout",
     "output_type": "stream",
     "text": [
      "[[5, 8], [5, 6]]\n"
     ]
    }
   ],
   "source": [
    "#Matrix Product\n",
    "\n",
    "matrix_a = [[1, 1, 2], [2, 1, 1]]\n",
    "matrix_b = [[1, 1], [2, 1], [1, 3]]\n",
    "result = [[sum(a * b for a, b in zip(row_a, column_b))\n",
    "          for column_b in zip(*matrix_b)] for row_a in matrix_a]\n",
    "print(result)"
   ]
  },
  {
   "cell_type": "markdown",
   "metadata": {},
   "source": [
    "-------------------------------------------"
   ]
  },
  {
   "cell_type": "markdown",
   "metadata": {},
   "source": [
    "## Case Study - News Categorization\n",
    "- 비슷한 뉴스를 어떻게 선정할까?\n",
    "- 컴퓨터는 문자를 그대로 이해하지 못함 : 문자 -> 숫자\n",
    "- 숫자로 유사하다는 어떻게 표현할까? : 유사하다 = 가깝다"
   ]
  },
  {
   "cell_type": "markdown",
   "metadata": {},
   "source": [
    "### 문자 -> 숫자 -> 벡터"
   ]
  },
  {
   "cell_type": "markdown",
   "metadata": {},
   "source": [
    "#### 문자를 Vector로 - One-hot Encoding\n",
    "- 하나의 단어를 Vector의 Index로 인식, 단어 존재시 1 없으면 0"
   ]
  },
  {
   "cell_type": "markdown",
   "metadata": {},
   "source": [
    "#### Bag of words\n",
    "- 단어별로 인덱스를 부여해서, 한 문장(또는 문서)의 단어의 개수를 Vector로 표현"
   ]
  },
  {
   "cell_type": "markdown",
   "metadata": {},
   "source": [
    "### 그렇다면 유사성은?"
   ]
  },
  {
   "cell_type": "markdown",
   "metadata": {},
   "source": [
    "#### Distance measure\n",
    "- Cosine Similarity\n",
    "- Eucliedean Distance\n",
    "- Manhattan Distance"
   ]
  },
  {
   "cell_type": "markdown",
   "metadata": {},
   "source": [
    "#### Cosine Similarity\n",
    "- 두 점 사이의 각도\n",
    "- Why cosine similarity? Count < Direction\n",
    "- Love, hate : (5,0), (5,4), (4,0) - 어느 점이 가장 가까운가"
   ]
  },
  {
   "cell_type": "markdown",
   "metadata": {},
   "source": [
    "#### Euclidian Distance\n",
    "- 피타고라스 정리, 두 점 사이의 직선의 거리"
   ]
  },
  {
   "cell_type": "markdown",
   "metadata": {},
   "source": [
    "### Data set\n",
    "- 축구와 야구 선수들의 영문 기사를 분류해보자"
   ]
  },
  {
   "cell_type": "markdown",
   "metadata": {},
   "source": [
    "### Process\n",
    "- 파일을 불러오기\n",
    "- 파일을 읽어서 단어사전(corpus) 만들기\n",
    "- 단어별로 Index 만들기\n",
    "- 만들어진 인덱스로 문서별로 Bag of words vector 생성\n",
    "- 비교하고자 하는 문서 비교하기\n",
    "- 얼마나 맞는지 측정하기"
   ]
  },
  {
   "cell_type": "markdown",
   "metadata": {},
   "source": [
    "#### 파일 불러오기"
   ]
  },
  {
   "cell_type": "code",
   "execution_count": 38,
   "metadata": {
    "collapsed": false,
    "scrolled": true
   },
   "outputs": [],
   "source": [
    "import os\n",
    "\n",
    "def get_file_list(dir_name):\n",
    "    return os.listdir(dir_name)"
   ]
  },
  {
   "cell_type": "code",
   "execution_count": 39,
   "metadata": {
    "collapsed": false,
    "scrolled": true
   },
   "outputs": [
    {
     "name": "stdout",
     "output_type": "stream",
     "text": [
      "['news_data\\\\1_Dae-Ho Lee walk-off homer gives Mariners 4-2 win over Rangers.txt', 'news_data\\\\1_Korean First Baseman Dae-Ho Lee Becomes Free Agent, Interested In MLB Deal.txt', 'news_data\\\\1_Lee Dae-ho Announces MLB Aspirations.txt', 'news_data\\\\1_Lee Dae-ho to Start Spring Training in Arizona.txt', 'news_data\\\\1_Lee Dae-ho wins MVP in Japan Series.txt', \"news_data\\\\1_Mariners' Lee Dae-ho belts a walk-off homer.txt\", 'news_data\\\\1_Mariners’ Lee Dae-ho gets 1st two-hit game, double.txt', 'news_data\\\\1_MLB Team Interested In Dae-Ho Lee.txt', \"news_data\\\\1_Seattle Mariners' Newest Signing Dae-Ho Lee Could Become Fan Favorite.txt\", 'news_data\\\\1_SoftBank Hawks Hope to Renew Contract with Lee Dae-ho.txt', 'news_data\\\\2_Dodgers left with questions after latest Hyun-Jin Ryu setback.txt', 'news_data\\\\2_Dodgers left-hander Hyun-Jin Ryu expects to be ready for start of season.txt', 'news_data\\\\2_Dodgers unsure when Hyun-Jin Ryu will throw another bullpen session.txt', 'news_data\\\\2_Dodgers will take it slowly with pitcher Hyun-Jin Ryu, whose health could be a key to their season.txt', 'news_data\\\\2_Hyun-Jin Ryu downplays long break between bullpen sessions.txt', \"news_data\\\\2_Hyun-Jin Ryu's timetable starting to become clear.txt\", 'news_data\\\\2_Los Angeles Dodgers’ Hyun-Jin Ryu Experiencing Shoulder Discomfort.txt', 'news_data\\\\2_Ryu Hyun-jin appears before fans after 3-month hiatus for rehabilitation.txt', 'news_data\\\\2_Ryu Hyun-jin Rejoins Dodgers After Surgery.txt', 'news_data\\\\2_Ryu Hyun-jin suffers injury in groin, further delays return.txt', 'news_data\\\\3_Cleveland Indians interested in South Korean reliever Seung-hwan Oh.txt', 'news_data\\\\3_Free agent closer Seung-hwan Oh under investigation for gambling.txt', 'news_data\\\\3_Korean reliever Seung-hwan Oh has the best nickname for a closer.txt', 'news_data\\\\3_Lim Chang-yong, Oh Seung-hwan to be suspended from 50% of games even if they return.txt', 'news_data\\\\3_Oh Seung-hwan Could Lose Contract Over Gambling Scandal.txt', 'news_data\\\\3_Seung Hwan Oh Arrives Early To Cardinals Spring Training Camp.txt', 'news_data\\\\3_Seung-hwan Oh off to a great start.txt', 'news_data\\\\3_SEUNG-HWAN OH SHUTS DOWN TWINS IN FIRST SPRING ACTION.txt', 'news_data\\\\3_SEUNG-HWAN OH STRIKES OUT THE SIDE.txt', 'news_data\\\\3_SEUNG-HWAN OH TOSSES CLEAN INNING VERSUS BOSTON.txt', \"news_data\\\\4_Byung Ho Park went 1-for-4 with a solo homer in Saturday's 4-1 loss to the Tigers..txt\", 'news_data\\\\4_BYUNG-HO PARK SETTLING IN TO AMERICAN GAME.txt', \"news_data\\\\4_Byung-Ho Park Won't Fix The Minnesota Twins.txt\", \"news_data\\\\4_Byung-ho Park's homers are the best thing about the Twins so far.txt\", 'news_data\\\\4_Minnesota’s Park Byung-ho hits 7th homer of the season.txt', 'news_data\\\\4_Park Byung-ho hits large homer on ‘Park Byung-ho Day’.txt', 'news_data\\\\4_Park remains on bench as Twins face Gonzalez and the Nats.txt', \"news_data\\\\4_Twins' Park Byung-ho hits first big league triple.txt\", \"news_data\\\\4_Twins' slugger Byung Ho Park adapts to high heat.txt\", 'news_data\\\\4_Twins’ Byung Ho Park Still Getting Accustomed To American Life.txt', 'news_data\\\\5_ S. Korea look well-positioned to qualify for 2018 World Cup.txt', 'news_data\\\\5_Augsburg midfielder Koo Ja-cheol scores 3 hat tricks at home game.txt', 'news_data\\\\5_Augsburg vs Stuttgart Bundesliga Match Preview and Kick-Off Time.txt', 'news_data\\\\5_Follow the action live as Augsburg welcome the visit of Stuttgart on Saturday.txt', \"news_data\\\\5_Injured midfielder likely to miss nat'l team friendlies.txt\", 'news_data\\\\5_Koo Ja-cheol Nets a Hat Trick for Augsburg.txt', 'news_data\\\\5_Korean Footballers in Europe Struggle for Match Time.txt', 'news_data\\\\5_S. Korean MF Koo Ja-cheol suspended for next World Cup qualifier.txt', 'news_data\\\\5_South Korean Footballer Koo Ja Cheol Returns To Augsburg, Says He Has the ‘Feeling of Coming Home’.txt', \"news_data\\\\5_Stielike warns it won't be easy for Euro-stars.txt\", 'news_data\\\\6_AFC 2018 World Cup Qualifying South Korea vs Lebanon, Preview, Prediction & Predicted Lineup.txt', 'news_data\\\\6_Borussia Dortmund sign Korea defender Park Joo-ho from Mainz.txt', 'news_data\\\\6_Borussia Dortmund vs. Wolfsburg Team News, Preview, Live Stream, TV Info.txt', 'news_data\\\\6_BVB has initially without full-back Joo-Ho Park.txt', 'news_data\\\\6_International South Korean Joo Ho Park, is committed to Borussia Dortmund on Saturday..txt', 'news_data\\\\6_Joo-Ho Park poor for Borussia Dortmund in loss at Cologne.txt', \"news_data\\\\6_Mkhitaryan, Hummels perfect 10s in Dortmund's win at Gladbach.txt\", \"news_data\\\\6_Park Joo-ho delivers top performance in Dortmund's late Europa victory.txt\", 'news_data\\\\6_Son Heung-min, Park Joo-ho Set to Start for New Clubs.txt', 'news_data\\\\6_Thomas Tuchel mulls Park Joo-ho dilemma on Borussia Dortmund`s record run.txt', 'news_data\\\\7_Ki Sung-Yueng back in Swansea City fold as Garry Monk targets victory over benchmark club Everton.txt', 'news_data\\\\7_Ki Sung-yueng Scores 2nd Goal for Swansea in 4 Months.txt', 'news_data\\\\7_Ki Sung-yueng Stretchered Off Pitch with Head Injury.txt', 'news_data\\\\7_Premier League 2015-2016 Swansea City vs Manchester City, Preview, Prediction & Predicted Lineup.txt', 'news_data\\\\7_Sung-yueng In Team Of The Week.txt', 'news_data\\\\7_Swansea City midfielder Ki Sung-Yueng demands immediate improvement.txt', 'news_data\\\\7_Swansea City midfielder Ki Sung-Yueng says confidence will not be dented by Arsenal defeat.txt', 'news_data\\\\7_Swansea City midfielder Ki Sung-Yueng wary of Arsenal threat.txt', 'news_data\\\\7_Swansea City midfielder Ki Sung-Yueng will miss Crystal Palace clash.txt', 'news_data\\\\7_Swansea win the perfect tonic for weary Sunderland.txt', 'news_data\\\\8_Has Heung Min Son Done Enough to Justify 22m Transfer.txt', 'news_data\\\\8_Heung min Son Believes Injury Tainted Debut at Tottenham.txt', \"news_data\\\\8_Heung Min Son doubles Tottenham's lead over Chelsea.txt\", 'news_data\\\\8_Heung Min Son gives Tottenham a two-goal advantage vs Chelsea.txt', \"news_data\\\\8_Heung Min Son prefers Tottenham's busy fixture list to winter break.txt\", 'news_data\\\\8_South Korea are waiting to hear if Tottenham will clear Son Heung-min for the Olympics, according to the forward..txt', \"news_data\\\\8_South Korea coach has a warning for Tottenham Hotspur's Heung-min Son and fellow internationals, suggests they should consider exits.txt\", 'news_data\\\\8_Top five matchups in 2018 AFC World Cup final round qualification.txt', 'news_data\\\\8_Tottenham vs Southampton player ratings Heung-min Son shines but Ryan Mason disappoints.txt', \"news_data\\\\8_Who Should Be Tottenham Hotspur's No. 1 Summer Transfer Target.txt\"]\n"
     ]
    }
   ],
   "source": [
    "if __name__ == \"__main__\":\n",
    "    dir_name = \"news_data\"\n",
    "    file_list = get_file_list(dir_name)\n",
    "    file_list = [os.path.join(dir_name, file_name) for file_name in file_list]\n",
    "    \n",
    "print(file_list)"
   ]
  },
  {
   "cell_type": "code",
   "execution_count": 30,
   "metadata": {
    "collapsed": false
   },
   "outputs": [
    {
     "data": {
      "text/plain": [
       "['1_Dae-Ho Lee walk-off homer gives Mariners 4-2 win over Rangers.txt',\n",
       " '1_Korean First Baseman Dae-Ho Lee Becomes Free Agent, Interested In MLB Deal.txt',\n",
       " '1_Lee Dae-ho Announces MLB Aspirations.txt',\n",
       " '1_Lee Dae-ho to Start Spring Training in Arizona.txt',\n",
       " '1_Lee Dae-ho wins MVP in Japan Series.txt',\n",
       " \"1_Mariners' Lee Dae-ho belts a walk-off homer.txt\",\n",
       " '1_Mariners’ Lee Dae-ho gets 1st two-hit game, double.txt',\n",
       " '1_MLB Team Interested In Dae-Ho Lee.txt',\n",
       " \"1_Seattle Mariners' Newest Signing Dae-Ho Lee Could Become Fan Favorite.txt\",\n",
       " '1_SoftBank Hawks Hope to Renew Contract with Lee Dae-ho.txt',\n",
       " '2_Dodgers left with questions after latest Hyun-Jin Ryu setback.txt',\n",
       " '2_Dodgers left-hander Hyun-Jin Ryu expects to be ready for start of season.txt',\n",
       " '2_Dodgers unsure when Hyun-Jin Ryu will throw another bullpen session.txt',\n",
       " '2_Dodgers will take it slowly with pitcher Hyun-Jin Ryu, whose health could be a key to their season.txt',\n",
       " '2_Hyun-Jin Ryu downplays long break between bullpen sessions.txt',\n",
       " \"2_Hyun-Jin Ryu's timetable starting to become clear.txt\",\n",
       " '2_Los Angeles Dodgers’ Hyun-Jin Ryu Experiencing Shoulder Discomfort.txt',\n",
       " '2_Ryu Hyun-jin appears before fans after 3-month hiatus for rehabilitation.txt',\n",
       " '2_Ryu Hyun-jin Rejoins Dodgers After Surgery.txt',\n",
       " '2_Ryu Hyun-jin suffers injury in groin, further delays return.txt',\n",
       " '3_Cleveland Indians interested in South Korean reliever Seung-hwan Oh.txt',\n",
       " '3_Free agent closer Seung-hwan Oh under investigation for gambling.txt',\n",
       " '3_Korean reliever Seung-hwan Oh has the best nickname for a closer.txt',\n",
       " '3_Lim Chang-yong, Oh Seung-hwan to be suspended from 50% of games even if they return.txt',\n",
       " '3_Oh Seung-hwan Could Lose Contract Over Gambling Scandal.txt',\n",
       " '3_Seung Hwan Oh Arrives Early To Cardinals Spring Training Camp.txt',\n",
       " '3_Seung-hwan Oh off to a great start.txt',\n",
       " '3_SEUNG-HWAN OH SHUTS DOWN TWINS IN FIRST SPRING ACTION.txt',\n",
       " '3_SEUNG-HWAN OH STRIKES OUT THE SIDE.txt',\n",
       " '3_SEUNG-HWAN OH TOSSES CLEAN INNING VERSUS BOSTON.txt',\n",
       " \"4_Byung Ho Park went 1-for-4 with a solo homer in Saturday's 4-1 loss to the Tigers..txt\",\n",
       " '4_BYUNG-HO PARK SETTLING IN TO AMERICAN GAME.txt',\n",
       " \"4_Byung-Ho Park Won't Fix The Minnesota Twins.txt\",\n",
       " \"4_Byung-ho Park's homers are the best thing about the Twins so far.txt\",\n",
       " '4_Minnesota’s Park Byung-ho hits 7th homer of the season.txt',\n",
       " '4_Park Byung-ho hits large homer on ‘Park Byung-ho Day’.txt',\n",
       " '4_Park remains on bench as Twins face Gonzalez and the Nats.txt',\n",
       " \"4_Twins' Park Byung-ho hits first big league triple.txt\",\n",
       " \"4_Twins' slugger Byung Ho Park adapts to high heat.txt\",\n",
       " '4_Twins’ Byung Ho Park Still Getting Accustomed To American Life.txt',\n",
       " '5_ S. Korea look well-positioned to qualify for 2018 World Cup.txt',\n",
       " '5_Augsburg midfielder Koo Ja-cheol scores 3 hat tricks at home game.txt',\n",
       " '5_Augsburg vs Stuttgart Bundesliga Match Preview and Kick-Off Time.txt',\n",
       " '5_Follow the action live as Augsburg welcome the visit of Stuttgart on Saturday.txt',\n",
       " \"5_Injured midfielder likely to miss nat'l team friendlies.txt\",\n",
       " '5_Koo Ja-cheol Nets a Hat Trick for Augsburg.txt',\n",
       " '5_Korean Footballers in Europe Struggle for Match Time.txt',\n",
       " '5_S. Korean MF Koo Ja-cheol suspended for next World Cup qualifier.txt',\n",
       " '5_South Korean Footballer Koo Ja Cheol Returns To Augsburg, Says He Has the ‘Feeling of Coming Home’.txt',\n",
       " \"5_Stielike warns it won't be easy for Euro-stars.txt\",\n",
       " '6_AFC 2018 World Cup Qualifying South Korea vs Lebanon, Preview, Prediction & Predicted Lineup.txt',\n",
       " '6_Borussia Dortmund sign Korea defender Park Joo-ho from Mainz.txt',\n",
       " '6_Borussia Dortmund vs. Wolfsburg Team News, Preview, Live Stream, TV Info.txt',\n",
       " '6_BVB has initially without full-back Joo-Ho Park.txt',\n",
       " '6_International South Korean Joo Ho Park, is committed to Borussia Dortmund on Saturday..txt',\n",
       " '6_Joo-Ho Park poor for Borussia Dortmund in loss at Cologne.txt',\n",
       " \"6_Mkhitaryan, Hummels perfect 10s in Dortmund's win at Gladbach.txt\",\n",
       " \"6_Park Joo-ho delivers top performance in Dortmund's late Europa victory.txt\",\n",
       " '6_Son Heung-min, Park Joo-ho Set to Start for New Clubs.txt',\n",
       " '6_Thomas Tuchel mulls Park Joo-ho dilemma on Borussia Dortmund`s record run.txt',\n",
       " '7_Ki Sung-Yueng back in Swansea City fold as Garry Monk targets victory over benchmark club Everton.txt',\n",
       " '7_Ki Sung-yueng Scores 2nd Goal for Swansea in 4 Months.txt',\n",
       " '7_Ki Sung-yueng Stretchered Off Pitch with Head Injury.txt',\n",
       " '7_Premier League 2015-2016 Swansea City vs Manchester City, Preview, Prediction & Predicted Lineup.txt',\n",
       " '7_Sung-yueng In Team Of The Week.txt',\n",
       " '7_Swansea City midfielder Ki Sung-Yueng demands immediate improvement.txt',\n",
       " '7_Swansea City midfielder Ki Sung-Yueng says confidence will not be dented by Arsenal defeat.txt',\n",
       " '7_Swansea City midfielder Ki Sung-Yueng wary of Arsenal threat.txt',\n",
       " '7_Swansea City midfielder Ki Sung-Yueng will miss Crystal Palace clash.txt',\n",
       " '7_Swansea win the perfect tonic for weary Sunderland.txt',\n",
       " '8_Has Heung Min Son Done Enough to Justify 22m Transfer.txt',\n",
       " '8_Heung min Son Believes Injury Tainted Debut at Tottenham.txt',\n",
       " \"8_Heung Min Son doubles Tottenham's lead over Chelsea.txt\",\n",
       " '8_Heung Min Son gives Tottenham a two-goal advantage vs Chelsea.txt',\n",
       " \"8_Heung Min Son prefers Tottenham's busy fixture list to winter break.txt\",\n",
       " '8_South Korea are waiting to hear if Tottenham will clear Son Heung-min for the Olympics, according to the forward..txt',\n",
       " \"8_South Korea coach has a warning for Tottenham Hotspur's Heung-min Son and fellow internationals, suggests they should consider exits.txt\",\n",
       " '8_Top five matchups in 2018 AFC World Cup final round qualification.txt',\n",
       " '8_Tottenham vs Southampton player ratings Heung-min Son shines but Ryan Mason disappoints.txt',\n",
       " \"8_Who Should Be Tottenham Hotspur's No. 1 Summer Transfer Target.txt\"]"
      ]
     },
     "execution_count": 30,
     "metadata": {},
     "output_type": "execute_result"
    }
   ],
   "source": [
    "get_file_list(\"news_data\")"
   ]
  },
  {
   "cell_type": "code",
   "execution_count": 32,
   "metadata": {
    "collapsed": false
   },
   "outputs": [
    {
     "data": {
      "text/plain": [
       "80"
      ]
     },
     "execution_count": 32,
     "metadata": {},
     "output_type": "execute_result"
    }
   ],
   "source": [
    "len(file_list)"
   ]
  },
  {
   "cell_type": "markdown",
   "metadata": {},
   "source": [
    "#### 파일별로 내용읽기"
   ]
  },
  {
   "cell_type": "code",
   "execution_count": 34,
   "metadata": {
    "collapsed": true
   },
   "outputs": [],
   "source": [
    "def get_conetents(file_list):\n",
    "    y_class = []\n",
    "    X_text = []\n",
    "    class_dict = {\n",
    "        1: \"0\", 2: \"0\", 3:\"0\", 4:\"0\", 5:\"1\", 6:\"1\", 7:\"1\", 8:\"1\"}\n",
    "\n",
    "    for file_name in file_list:\n",
    "        try:\n",
    "            f = open(file_name, \"r\", encoding=\"cp949\")\n",
    "            category = int(file_name.split(os.sep)[1].split(\"_\")[0])\n",
    "            y_class.append(class_dict[category])\n",
    "            X_text.append(f.read())\n",
    "            f.close()\n",
    "        except UnicodeDecodeError as e:\n",
    "            print(e)\n",
    "            print(file_name)\n",
    "    return X_text, y_class"
   ]
  },
  {
   "cell_type": "code",
   "execution_count": 35,
   "metadata": {
    "collapsed": false
   },
   "outputs": [],
   "source": [
    "if __name__ == \"__main__\":\n",
    "    dir_name = \"news_data\"\n",
    "    file_list = get_file_list(dir_name)\n",
    "    file_list = [os.path.join(dir_name, file_name) for file_name in file_list]\n",
    "\n",
    "    X_text, y_class = get_conetents(file_list)"
   ]
  },
  {
   "cell_type": "code",
   "execution_count": 36,
   "metadata": {
    "collapsed": false,
    "scrolled": true
   },
   "outputs": [
    {
     "name": "stdout",
     "output_type": "stream",
     "text": [
      "['It was not the shot heard around the world, it was not a playoff clinching hit or a season turning moment as far as we can tell. What we do know for certain is that Seattle Mariner first baseman Dae-Ho Lee\\'s walk-off homer two-run homer with two outs in the bottom of the 10th inning Wednesday afternoon snapped a five game home losing streak and gave the M\\'s (3-6) a 4-2 win over the Texas Rangers (5-5) for their first win at home.\\n\\nThe walk-off wonder strike by the 6-foot-4, 250-pound Korean national was a gem of a gift to the 15, 075 Mariner faithful who showed up to cheer their team despite watching one of the worst home opening series by Mariners. The M\\'s team batting average during the home stand was a dismal .170 average with a home run percentage of 0.8 and an ERA of 4.50.\\n\\n\"We really, really needed it,\" manager Scott Servais said of the win and a players-only meeting that was held after an 8-0 loss to Texas on Tuesday. \"It was an important game. The guys got together after the game( Tuesday night) and talked about some things and they really wanted to get out and get it done today.\"\\n\\nRobinson Cano broke out of his homestand slump with a fifth-inning home run off of Rangers starter A.J. Griffin to give the Mariners a 2-1 lead. Cano was 2-for-21 on the six-game homestand before that long ball.\\n\\nAs has been the case during the home stand the Mariners bullpen surrendered the lead in the eight when Delino Deshields hit a leadoff home run against Mariner reliever Joel Peralta to tie the game at 2-all before Lee\\'s heroics.\\n\\nSeattle starter Taijuan Walker had a decent start pitching six innings, giving up five hits, one earned run, struck out four batter while walked two. Steve Cishek (1-1) pitched two scoreless innings and was credit with the win.\\n\\nSeattle will use Thursday as a travel day to New York, where they will take on the Yankees for a three game series. Right-hander Nathan Karns gets the start in Friday\\'s series opener at 4:05 p.m. PT on Jackie Robinson Day. Texas returns home for a three game series with the Baltimore Orioles starting on Thursday night.', 'Dae-ho Lee will look to make the jump from the Japanese ranks to the big leagues.\\n\\nKorean first baseman Dae-ho Lee will be looking to move on from the Japanese ranks. According to a report from Jee-ho Yoo of Yonhap News, he has declined his player option for the 2016 season with the Fukuoka SoftBank Hawks of the Nippon Professional Baseball league in Japan. He has decided to become an international free agent in hopes of landing a major-league contract.\\nThe 33-year-old first baseman had played in the Korean Baseball Organization in Korea for over a decade before making the move to west to Japan. Ever since 2012, Lee had been playing in Japan, playing for both the Orix Buffaloes and the Hawks.\\nSince he is becoming an unrestricted international free agent, Lee will not warrant a posting fee. That will likely drop the overall asking price and the process will be easier for both sides. “All baseball players dream of playing in the majors, and I’d like to pursue that dream,” Lee explained in his press conference. “If I can give 100 percent, like I’ve done throughout my career, I don’t think it will be impossible.”\\nIn 141 games played this season for the Fukuoka SoftBank Hawks, Lee posted a .282/.368/.524 slash line over 584 plate appearances, along with 31 home runs and 98 runs batted in. Over his fifteen-year career in both Korea and Japan, he is the proud owner of a .303/.387/.514 slash line over 7103 plate appearances, along with 323 home runs and 1157 runs batted in, in 1720 games played.', 'Lee Dae-ho, a Korean slugger currently playing with the SoftBank Hawks in Japan, has announced plans to pursue a career in Major League Baseball in the U.S.\\n\\nLee has earned recognition in Nippon Professional Baseball and was named MVP of the Japan Series this year. \\n\\n\"I\\'ve achieved my goals for this year. One was helping my team win the Japan Series and the other was becoming MVP,\" Lee said at a press event on Tuesday after returning home last weekend. \"It is now time to pursue my childhood dream of playing in the MLB.\" \\n\\nMeanwhile, another Korean player, Park Byung-ho of the Nexen Heroes, is waiting for bids from MLB teams after posting was made early this week.\\n\\nExpectations for the two players are high after Kang Jung-ho successfully transferred from the Nexen Heroes to the Pittsburgh Pirates last year.', 'Lee Dae-ho left for Arizona on Tuesday where the Seattle Mariners have spring training.\\n\\n\"Lee planned to leave for the U.S. after obtaining a work visa which takes about a month but changed his plans at the request of the team to join with teammates as early as possible,\" said his agency Montis Sports Management Group.\\n\\nLee is expected to start training this weekend.', 'Korean slugger Lee Dae-ho of the Fukuoka Softbank Hawks received the MVP award in the Japan Series of the Nippon Professional Baseball (NPB) league for his outstanding performance in leading his team to its second consecutive title Thursday.\\n\\nWith a two-run home run in the fourth inning, the slugger, 33, helped the Hawks to a 5-0 win over the Tokyo Yakult Swallows at the Jingu Stadium in Tokyo and lifted the Hawks to a 4-1 series win. It marked the seventh Japan Series title win for the Fukuoka-based team.\\n\\nThe two-run shot Lee blasted off Swallows starter Masanori Ishikawa was a decisive one, giving the Hawks an early 2-0 lead. The Hawks added two more runs in the top of the fifth and another in the ninth.\\n\\nDuring the series, Lee collected eight hits in 16 at-bats, including two home runs and eight RBIs.\\n\\n\"I am very pleased to win the series two consecutive years,\" Lee was quoted as saying after the game by Japanese media. \"Now, I can sleep in peace.\"\\n\\nLee attributed his MVP honor to his teammates, saying, \"The hitters in front of me did their jobs, getting on base, and I just brought them home. I am totally indebted to them.\" When asked how he will spend the prize money of 5 million yen ($41,350), Lee said he would take his teammates to dinner.\\n\\nThe Korean slugger not only became the first Korean MVP, but he is also the first foreign winner since the Orix BlueWave\\'s Troy Neel in 1996.\\n\\nThe former Lotte Giants player of the Korean Baseball Organization (KBO) had played in Korea for 11 seasons, recording a batting average of .309 with 225 home runs. He had his breakthrough season in 2006, capturing the Triple Crown, hitting .336 with 26 home runs and 88 RBIs.\\n\\nHe joined the Hawks from the 2014 season after spending two years with the Osaka-based Orix Buffaloes in 2012 and 2013. In the regular season this year, he batted .282 with 144 hits, including 31 home runs and 98 RBIs.', 'One bat was enough to decide the game for him. Korean major leaguer Lee Dae-ho of the Seattle Mariners closed a game by hitting his first come-from-behind home run since his debut in the Big League.\\n \\nOn Wednesday, Lee appeared in the batting box with a runner on first and launched a two-run blast in the bottom of the 10th inning against the Texas Rangers at Safeco Field in Seattle to lift the Mariners to a 4-2 victory. The Korean slugger readily hit a 97-mph fastball from left-hander Jake Diekman (29) and sent it over the left field wall, getting revenge for the previous faceoff with the same pitcher on Monday where the batter barely managed to hit a ground ball.      \\n \\nRobinson Cano (34) and other teammates all gathered around the home plate to celebrate Lee. Fans joined the celebration frantically, drawling his name \"Dae-ho\" just like his local fans from the Lotte Giants used to do. “Someone had to be a hero to put an end to the recent losing streaks, and I happened to be the hero. I swung lightly, but I was lucky enough to hit a high pitch,” said the South Korean during an interview after the game.    \\n \\nThanks to the victory, Lee Dae-ho became the first designated hitter to have belted a walk-off homer in his debut season since the foundation of the Seattle Mariners in 1977. Lee also became the second oldest rookie to hit a deciding home run following Luke Easter, the then 35-year-old rookie of Cleveland in 1950.   \\n \\nLee has set the record to land deciding hits in all three professional baseball leagues in Korea, Japan, and the U.S. The South Korean slugger pulled off three homers out of his four walk-off hits in Korea, and he hit two walk-off hits in Japan without a homer. This marks the fourth time that a Korean major league player has hit a walk-off home run, following Choi Hee-seop (2005, LA Dodgers) and Choo Shin-soo (2011, Cleveland and 2013, Cincinnati).  ', 'By The Korea Times Los Angeles staff\\n\\nLast year’s Japan Series MVP Lee Dae-ho improved his chance of making the Seattle Mariners’ roster with his first two-hit game of the spring Tuesday. One of them was also his first double.\\n\\nThe 33-year-old Korean slugger broke out of a mini 1 for 10 slump by going 2 for 3 against the Los Angeles Angels in Cactus League action in Arizona. With only 18 at-bats under his belt going into the game, it didn’t take much to make his numbers look good right away. After two hits in his first two at-bats, his batting average had reached .300 for the spring.\\n\\nLee’s first hit came in the very first inning, as he stepped into the batter’s box as the fifth hitter (DH) with two on board against lefty Andrew Heaney and delivered a clutch two-out line drive single to left to give the Mariners a 1-0 lead.\\n\\nHe stepped into the batter’s box with two outs again in the third inning, but had to wait until the fourth to get his second hit of the day, as the first base runner got picked off to end the inning.\\n\\nThe Angels changed the pitcher to right-hander Joe Smith, and Lee greeted him with his first double to leadoff the fourth. He would later come around to score on Daniel Robertson’s two-out double.\\n\\nLee grounded out to pitcher Al Alburquerque in the sixth before being replaced by another designated hitter candidate Jesus Montero.\\n\\nLee is now 6 for 21 (.286) with one double, one home run, five runs and four RBIs.\\n\\nAngels’ Korean first baseman Choi Ji-man went 1 for 4. His batting average stands at .258.', \"Korean first baseman Dae-ho Lee is getting some interest from a Major League Baseball team. He had been training with his former team the Lotte Giants in Arizona, but canceled plans according to Jee-ho Yoo of Korea's Yonhap News Agency. He indicated the trip has been postponed to meet an interested MLB team. Lee's former club the Fukuoka SoftBank Hawks of the Nippon Professional Baseball (NPB) are set to start Spring Training in a couple of weeks, and wish to retain the slugger.\\n\\nLee 6-4 290, listed as a first baseman, but would be more of a designated hitter in MLB. Last season, Lee smashed 31 home runs, knocking in 98 runs with a slash line of .282/.368/.524. Lee is just seeking a one-year deal according to the report, and could be of interest to the Houston Astros. Star prospect A.J. Reed will likely get some seasoning against advanced pitchers at AAA. A one-year deal for them would be an ideal set up. The Astros only have weak hitting Jonathan Singleton at first base to start the 2016 season. He could fit with any needing a right hand hitter to platoon at first base or designated hitter.\", 'The Seattle Mariners have had an extremely busy winter, signing breakout and bounce-back candidates galore. It seems that for all the moves the Mariners have made, they still are not done. On Wednesday, the Mariners finalized an agreement with Korean star Dae-Ho Lee on a one-year minor league deal.\\n\\nThe deal might not be as exciting as a Chris Davis signing or even a Byung-Ho Park signing (which I am still baffled at why the Mariners didn’t try to sign Park), but first baseman Lee has the potential to truly break out in MLB in 2016. Lee is by no means a prospect at the age of 33, but the potential to be an impact player and even take the first base job for the next few years is there.\\n\\n\\nLee is an interesting signing for Jerry Dipoto, as he doesn’t exactly fit into what the GM has looked for this offseason. At 6-foot-4, 280 pounds, he doesn’t exactly scream athletic specimen, but he makes up for it with his discipline at the plate. He has hit over a .300 batting average in seven of his last 10 seasons, split between KBO and NPB (South Korea and Japan). His career batting line between the two leagues is .303/.387/.514, which is sure to take the significant hit all Japanese and Korean players have seen when entering MLB.\\n\\nLee is by no means guaranteed a spot on the major league roster, but he definitely shows the potential to either back up at first base or take a DH type role with the team. Lee has decent defense at first base, but with his size he is not bound to impress with his athletic ability on the field. The mix of mediocre defense with an amazing presence at the plate would seem like a nice DH option for the Mariners, but Lee has to prove that he can accomplish in the U.S. what he did overseas. Also, with the crowded outfield the Mariners have, Nelson Cruz is likely to make the transition to DH this season (although Cruz would wish otherwise).\\n\\nLee is a two-time NPB champion (2014-15) and a three-time NPB All-Star (2012-14) in just four seasons in the NPB (2012-15). While playing in the KBO, he was voted the MVP of the league in 2010. Although Lee is more of a power hitter (even with his contact numbers), he is hoping that his success overseas will translate favorably in MLB. This is despite the perceived notion that all Asian players have a drastic decrease in power when entering MLB.\\n\\nThe plateau for Lee’s skill set in MLB would compare to David Ortiz at this point in his career. Ortiz in his prime was considered the cornerstone of the Boston Red Sox’ offense during the 2000s. Ortiz still has the skill to play on a major league roster in a prominent role, but he is definitely on the decline, announcing his retirement after 2016 earlier in the offseason. Lee’s size and plate discipline resemble Ortiz closely though, as they both like to crowd the plate, shrinking the strike zone for opposing pitchers.\\n\\nLee will have to prove himself in order to make the big league roster, but it was reported that he has $4 million in incentives if he can do so. While it is highly unlikely that Lee will make a major impact in the start of the season, he does have a chance to take the platoon spot at first base from Jesus Montero. Montero is out of minor league options though, creating a bit of a problem if Lee did make the 25-man roster.\\n\\nConsidering it is a largely incentive-based contract, the Mariners got a huge steal with Lee. If he doesn’t produce, it will cost the Mariners next to nothing. If he does perform well, then Lee will earn the money he rightfully deserves. Adam Lind needs a right-handed platoon partner, based on his split numbers. Lee could easily step into that role and become a fan favorite in Seattle.', \"The Fukuoka SoftBank Hawks expressed hopes of renewing a contract with slugger Lee Dae-ho, who was the Most Valuable Player in the Nippon Professional Baseball Japan Series last year.\\n\\nAfter the end of last season, Lee declared his wish to play in Major League Baseball, but he has not yet found a team.\\n\\nJapanese media reported on Tuesday that the club's chairman Sadaharu Oh mentioned the possibility of signing a contract with Lee in February.\\n\\nThe team had previously said the deadline for talks with Lee was before spring camp begins.\", 'LOS ANGELES -- The Los Angeles Dodgers no longer need to worry about left-hander Hyun-Jin Ryu opting out of his contract after next season. But they might need to start wondering if he’ll ever pitch for them again.\\n\\nDodgers manager Dave Roberts revealed before Saturday’s game against the visiting San Francisco Giants that Ryu had another physical setback, this time a groin strain that forced him to cancel his bullpen session. Ryu hasn’t pitched in a regular-season game since Oct. 6, 2014, a 3-1 loss to the St. Louis Cardinals in Game 3 of the National League Division Series. He dealt with on-and-off soreness in his throwing shoulder his first two seasons with the Dodgers, and the issue became especially problematic when he reported to spring training in 2015. He eventually underwent surgery to repair a torn labrum on May 21.\\n\\n\\nHyun-Jin Ryu\\'s health appears to be an issue again for the Dodgers. AP Photo/Mark J. Terrill\\nRyu began his throwing program Oct. 6, a year to the day after his last start for the Dodgers, but was still treated cautiously when spring training opened in late February. He was eventually shut down for a week due to soreness in the shoulder, then restarted his conditioning, still well behind the other pitchers.\\n\\nHe threw a 20-pitch simulated game last weekend and reportedly felt great, but then the news of his latest setback came to light Saturday.\\n\\n“We’re going to take a couple days to kind of let this calm down and then get him back on the mound,” Roberts said. “I think the whole time we thought we were going to have him back sooner, but then there’s a setback in the middle of spring and then with this. Technically it’s a setback, and I don’t know how severe the injury is.\"\\n\\nThe Dodgers\\' pitching staff has been bolstered by strong starts from rookies Kenta Maeda and Ross Stripling, who have combined to allow three earned runs and 15 hits in 25⅓ innings, but with Zack Greinke, last season\\'s MLB ERA champion, now pitching for the Arizona Diamondbacks, sizable holes remain in the rotation that Ryu could certainly fill.\\n\\n\"We need him back, but we need him back healthy,” Roberts said.\\n\\nRyu, who signed a six-year, $36 million contract prior to the 2013 season, was solid his first two seasons with the Dodgers. He posted a 14-8 mark and 3.00 ERA in 192 innings his first year and came back with a 14-7 record and 3.38 ERA in 152 innings in 2014, both years working as the No. 3 starter behind Clayton Kershaw and Greinke, who have combined for four Cy Young Awards. He was well on pace to reach 750 innings in the first five years of his contract and earn an opt-out clause after next season, when he’ll be 30 years old and still in the prime of his career.\\n\\nNow the Dodgers must continue down a path that has become all too familiar with Ryu, a road that seems to get longer and more circuitous by the day.', 'The Dodgers don\\'t know quite what to expect from Hyun-Jin Ryu this season, but the left-hander revealed Monday what he expects of himself.\\n\\nAs he prepared to catch a flight to Los Angeles, Ryu told reporters at Incheon International Airport in South Korea that he fully expects to be a part of the Dodgers rotation come opening day.\\n\\nRyu had shoulder surgery on his left labrum in May, and at least historically the return from such a surgery is something less than automatic. But his surgery did not include rotator cuff repair, dramatically increasing his chances for returning to form.\\n\\n\"My rehab has been going well and I\\'ve been taking each step without a problem,\" Ryu said, according to a report by the Yonhap News Agency. \"I think I should be able to get in good enough shape to be ready for spring training.\"', 'Hyun-Jin Ryu remains shut down as he works his way back from shoulder surgery.\\n\\nOn Friday, Dodgers Manager Dave Roberts said he expected Ryu to throw a bullpen session this weekend. But Saturday morning, Roberts indicated Ryu was still being held back. Roberts insisted “it’s definitely not a setback,” but part of the team’s long-term strategy.\\n\\n“There is no date [for Ryu to throw his next bullpen session],” Roberts said. “But the staff had a built-in, back-off period, where they can back off and then pick it up again. But there’s no date when he’s going to start throwing again.”\\n\\nWhen camp opened, the Dodgers said they expected Ryu to pitch in a Cactus League game. Ryu himself revealed his goals were to join the team in May, make 20 starts and log 150 innings. Those milestones become less and less likely as he remains idle.\\n\\nRyu experienced soreness in his left arm after throwing a bullpen session on Feb. 26. He has not thrown since. At some point in the future, Roberts explained, Ryu will resume his throwing program.', 'Forty-four days separate Hyun-Jin Ryu from the regular season, and for a man recovering from shoulder surgery, each day is fraught with peril.\\n\\nOn Thursday, as he watched Ryu complete a 35-pitch, \"low-intensity\" bullpen session, Dodgers Manager Dave Roberts wondered how Ryu would feel 24 hours later. Ryu alleviated those concerns on Friday when he relayed a lack of pain and the normal amount of soreness.\\n\\nTo approach a low-stakes affair like a light throwing session with such attention reveals the caution with which the Dodgers will handle Ryu this spring. The team intends to pitch him in Cactus League games and hopes he will break camp as a member of the starting rotation. But neither Roberts nor president of baseball operations Andrew Friedman could offer a timeline for Ryu\\'s return to normalcy.\\n\\n\"Emotionally, we all want him to be ready opening day,\" Friedman said during a lengthy session with reporters as the team\\'s pitchers and catchers reported to Camelback Ranch. \"He does. We do. It\\'s just, it\\'s important for us to do it the right way, and do it in in a way that when he comes back, he\\'s back for good.\"', 'GLENDALE, Ariz. ? Despite what could be as much as a week between bullpen sessions, recovering Los Angeles Dodgers pitcher Hyun-Jin Ryu insisted Wednesday that he is not experiencing any kind of setback.\\n\\nRyu, who still is on the mend after shoulder surgery in May, last threw a bullpen session at Dodgers camp on Friday, his second bullpen of the spring. And he said he might not throw another one for another two days, minimum.\\n\\n“I’m just following all the steps, all the pace-by-pace and whatever they have planned,” Ryu said through an interpreter. “After the second bullpen session, this was the plan to rest, so I am just going along with that and I feel great.”\\n\\nRyu’s spring schedule already was at a more controlled pace than the rest of his healthy teammates. He isn’t expected back into the major league rotation until May, giving him a full year to recovery from his surgery.\\n\\n“There is definitely no pain,” he said. “Obviously after the bullpens, you have typical muscle soreness.”\\n\\nThe 26-year old is no rookie when it comes to rehabbing from surgery. He underwent a Tommy John procedure in 2004, while he was still in high school.\\n\\nAs for his current extended break between throwing sessions, Ryu characterized it as something that was expected.\\n\\n“I’m very happy and satisfied with the timetable they have given me,” he said. “They have given me time to rest and they have planned all this out. Whatever they had given I’m just pleased with that.\\n\\n“Even given the Tommy John surgery that I had before, there will be good times and bad times. You just have to ride it out.”', 'GLENDALE, Ariz. -- While the Los Angeles Dodgers are wrapping up spring training this week, Hyun-Jin Ryu is just starting his.\\n\\nManager Dave Roberts said Ryu will throw a final bullpen session Wednesday and then start facing hitters in live batting practice by the weekend.\\nThe left-hander, who had shoulder surgery last year, has been in camp ever since the Dodgers reported in February, but progressed slowly over the past month, even taking an extended break to combat soreness.\\n\\nAsked if Ryu is essentially on a spring training timetable now, when pitchers would transition to live BP once position players arrived in camp, Roberts said, “That’s fair.”\\n\\nA normal spring lasts six weeks, meaning that Ryu is about five weeks away from completing a typical preseason progression of bullpens, live BP and games every five days, while building a pitch count in each start.\\n\\nIt suggests that Ryu would be ready to pitch in games, without restrictions, by the second week of May.\\n\\nLeft unsaid is whether or not Ryu will pitch in minor league games after his spring training progression is complete, or if he would join the Dodgers then. He had originally been expected to return to the team in May, but his extended break at the start of March hinted at a June return.\\n\\nRyu is one of two Dodgers starting pitchers expected to return to the club before the All-Star break. Brandon McCarthy, who had Tommy John surgery last April, has an ambitious goal of making at least two starts for the Dodgers before the traditional mid-season break.', 'Starter Brett Anderson was revealed Thursday to be set to undergo back surgery and possibly miss half the season, one day after starter Hyun-Jin Ryu began experiencing discomfort in his surgically-repaired left shoulder.\\n\\nIs the Dodgers starting rotation in trouble heading into the 2016 season?\\n\\nWhile manager Dave Roberts said that Ryu\\'s discomfort wasn\\'t a setback and that his extra few days of rest is a precautionary measure, it\\'s still not a great sign for the left-hander, who didn\\'t pitch for the entire 2015 season. He also missed a number of starts in 2014 due to injury, so he\\'s taken the mound just 26 times in the past two years. \\n\\n\\nHe also dealt with what Roberts characterized as \"normal soreness\" during a bullpen session just over a week ago. The first-year manager said that Ryu is about two weeks behind the rest of the pitching staff.\\n\\nRyu said there\\'s \"definitely no pain\" and rather just \"typical soreness,\" but the left-hander underwent his shoulder procedure last May, so this could potentially be problematic, or at least further delay his 2016 debut. After all, the Korean admitted after his surgery that he was aware of the labrum tear in his shoulder ever since he underwent an MRI about two years prior, so it\\'s safe to say that the shoulder was more damaged since he pitched for that long while injured. \\n\\nWhile the Dodgers certainly prepared for the worst-case scenario in terms of their entire pitching staff by re-signing Anderson and adding Scott Kazmir and Kenta Maeda in free agency, another prolonged absence from Ryu is going to cost them dearly. The 28-year-old, despite making only 56 starts in two MLB seasons, was awfully impressive over that span, going 28-15 with a 3.17 ERA, 1.20 WHIP and 293 strikeouts in 344 innings. \\n\\n\\nAside from Kershaw, he\\'s arguably the next best pitcher/left-hander on the entire team.\\n\\nNow that Anderson and Brandon McCarthy will more than likely miss at least half the season, the Dodgers will rely on a number of relatively unproven arms in Maeda, Alex Wood, Mike Bolsinger, Zach Lee, Chris Anderson and Ross Stripling to potentially make an impact in the starting rotation.\\n\\nThis is the last thing that the club needed after losing Zack Greinke to the Arizona Diamondbacks, but there\\'s still plenty of time to assess the long-term health of Ryu as well as the potential of those looking to help out the MLB roster heading into 2016.', 'Ryu Hyun-jin (29), the Los Angeles Dodgers pitcher who is taking rehabilitation training after undergoing shoulder surgery, appeared before his home fans on Tuesday. Ryu joined his team at the team’s opening game at its home turf of the Dodger Stadium in Los Angeles. He returned to the team three months after having rehabilitation training in Glendale, Arizona from January.\\n“I am very happy to be back in Los Angeles. My rehabilitation training is proceeding smoothly. My shoulder is in good condition, and preparation is proceeding well,” he said on his second live pitching (pitching training by placing a batter) conducted on Tuesday, displaying self-confidence. “I am expected to do another live pitching training session, before taking the mound at an exercise game.” The number of pitches he throws at live pitching sessions is also gradually increasing.\\nHis team did not release Ryu’s detailed schedule going forward. However, considering that Ryu mentioned an exercise game, watchers predict that he could return to games before early June, a timeline U.S. media had forecast. Ryu, who was seen having his mustache grown wild because he could not have his hair cut during rehabilitation training, headed to a barbershop after the media interview.', 'Los Angeles Dodgers pitcher Ryu Hyun-jin left a training camp in Glendale, Arizona on Tuesday and rejoined the team. \\n\\n\"I returned to Los Angeles for the first time in three months,\" he said. \\n\\nRyu had surgery on his left shoulder last season and started the new season on the disabled list, staying in the training camp to focus on rehabilitation. \\n\\nIf everything goes well as planned, he will be able to make a return to the big league in mid-May or June.', 'Los Angeles Dodgers pitcher Ryu Hyun-jin (29), who is taking rehabilitation training after surgery, might have a setback in his schedule of returning to the mound. \"I think the whole time we thought we were going to have him back sooner, but there was a setback early in spring, middle of spring,” Dodgers manager Dave Roberts said.\\nIt is the first time that Ryu has complained of pain in his body other than the shoulder that he underwent surgery in May last year. Watchers say it is rather fortunate that his pain is not in his shoulder. Ryu wished to make the roster for the season’s opening game, but is undergoing a longer rehabilitation process due to his shoulder pain in February.\\n“We need him back, but we need him back healthy,” Roberts said. \"He\\'s still doing things to keep his arm in shape, but we\\'re going to take a couple of days to let this calm down before we get him back on the mound.\"', 'CLEVELAND, Ohio ? The Indians made an aggressive bid to win the negotiating rights to South Korean first baseman Byung-ho Park last week, but lost out to the Twins. ESPN reported the Twins\\' winning bid was $12.85 million, but they must sign the right-handed power hitter within 30 days.\\n\\nThe miss on Park did not knock the Indians out of the Korean market. They have interest in right-hander Seung-hwan Oh, who is scheduled to visit the United States this week to talk to several big-league clubs. Oh, 33, is a set-up man/closer who has had a lot of success pitching professionally in Korea and Japan.\\n\\nOh, nicknamed \"The Final Boss,\\' has spent the last two years pitching for the Hanshin Tigers in Japan. Before that he pitched nine years in Korea. This past season in Japan, Oh went 2-3 with a 2.73 ERA and 41 saves. He struck out 66 and walked 16 in 69 1/3 innings.\\n\\nOh, 33, is 32-30 with a 1.81 ERA in 571 games in Korea and Japan. He\\'s saved 357 games, while averaging 10.7 strikeouts and 2.1 walks per nine innings.\\n\\nChris Antonetti, Indians president of baseball operations, said Tuesday that the Indians were primarily focusing on improving the offense this off-season. That is especially true following the news that Michael Brantley could miss part of April following surgery on his right shoulder.\\n\\nThe bullpen, however, could use some fresh arms. The Tribe\\'s pen posted the second-best ERA in the AL this year at 3.12, but going down the stretch it was clear that manager Terry Francona needed another option besides Bryan Shaw and closer Cody Allen.\\n\\nOh, unlike Park, is a free agent and does not have to go through the posting process. Korean outfielder Ah-seop Son is expected to be posted in the near future. The Indians have scouted Son, but it\\'s unclear if they\\'ll make a bid on him.\\n\\n', 'Korean-born free agent closer Seung-hwan Oh is under investigation for gambling by Korean authorities, according to multiple news outlets in Korea.\\n\\nFresh off two years in Japan\\'s NPB, in which he averaged 40 saves per season for the Hanshin Tigers, Oh has been hoping to make the leap into Major League Baseball at age 33. In 646.1 innings, Oh owns a career 1.81 ERA with a 10.7 K/9 and 2.1 BB/9.\\n\\nOh\\'s name was implicated in foreign-gambling during an investigation of his former teammate Chang-yong Lim of the KBO\\'s Samsung Lions. Ahead of the KBO\\'s championship series in October, the team suspended three players following claims of overseas gambling, including Lim. Without these three players, the Samsung Lions went on to lose the Korean Series to the Doosan Bears.\\n\\nAccording to testimony, Lim utilized a relationship with a local gang member to secure VIP gambling experiences in Macau, as well as the Phillipines.\\n\\nIt is not clear that any concrete evidence has linked Oh to the gambling operation, although news of Oh\\'s possible involvement arose only after prosecutors at the Seoul Central District Prosecutors\\' Office reportedly secured a list of people who frequented the casinos in Macau.\\n\\nThe next step for the prosecution is to investigate whether Oh and Lim acted together, although a date for Oh\\'s summons is not yet set. Oh\\'s agent stated via press release:\\n\\n\"Oh is at a critical point of signing a new contract with a Nippon Professional Baseball (NPB) or an MLB team and he wants to clear suspicions as soon as possible. Should Oh face a summons, he will make clear statements and fully cooperate with the prosecution\\'s investigation.\"\\n\\n[Korean Times]\\n\\nOh was originally scheduled to appear at the Winter Meetings last week in Nashville, but did not make the journey, presumably out of respect for the investigation.\\n\\nShould the investigation clear his name, Oh will be free to sign with any team as an international free agent. His former team, the Hanshin Tigers, had previously expressed interest in re-signing the closer.\\n\\nFor a full write up on Seung-hwan Oh, including his incredible nickname \"The Final Boss,\" visit our free-agent profile.', 'Some baseball nicknames are perfect. The Sultan of Swat, Dr. K and the Iron Man perfectly describe Babe Ruth, Dwight Gooden and Cal Ripken. Ruth hit a ton of home runs, Gooden notched a lot of strikeouts and Ripken never missed a game.\\nOn top of being fitting, those are all some pretty badass nicknames. Imagine being so good at confusing hitters that people called you a doctor of strikeouts. That\\'s pretty awesome. \\n\\n[Related: Bryce Harper, Josh Donaldson among finalists for MLB postseason awards]\\n\\nIf things shake out as expected this winter, we might have another candidate for coolest nickname in the majors. Korean closer Seung-hwan Oh wants to play in the majors, and is expected to meet with teams this winter.\\n\\nThe 33-year-old has compiled some impressive stats in both the Korea Baseball Organization and Nippon Professional Baseaball. Our own Jeff Passan called him the \"Mariano Rivera of Korea\" in his free-agent rankings. \\n\\nIf that wasn\\'t enough, the longtime closer is nicknamed \"The Final Boss,\" according to MLB Trade Rumors. That has to be one of the best nicknames around, and it\\'s particularly fitting for a closer. \\n\\nBased on his numbers from the KBO and the NPB, we would expect major-league teams to show plenty of interest in Oh. In nine seasons in Korea and two in Japan, Oh has compiled a 1.81 ERA. He\\'s coming off a season with the Hanshin Tigers in which he had a 2.76 ERA and 41 saves. He struck out 66 batters in 69 1/3 innings.\\n\\nProvided a team is willing to bite on those impressive credentials, it appears \"The Final Boss\" will bring his talent to Major League Baseball next year.\\n\\nThe whole thing reminds us of a video game. You fight so hard over the course of the game to beat various enemies. The earlier enemies and bosses are easy enough, but then you reach the final inning ... or level in this scenario. At the end of that level lurks \"The Final Boss.\" He\\'s tougher than most, but if you can manage to beat him, you\\'ve won the game. \\n\\n[Related: Owners will discuss enhancing protective measures for fans at ballparks]\\n\\nIt\\'s really the perfect nickname for a closer, and it makes us want to root for Oh making it in the majors. Closers get to have all the fun as it is: They get their own music, cool video board animations and fantastic nicknames. Just think of the type of show an MLB team could create for a player nicknamed \"The Final Boss.\" ', 'Lim Chang-yong (40) and Oh Seung-hwan (34), who were indicted without arrest by court at a fine of 7 million won for suspected illegal gambling charges have been handed punishment that suspends them from 50 percent of all games? by the Korea Baseball Organization on Friday.\\nLim, who was excluded from a list of candidate players at the Samsung Lions last year, and Oh, who failed to renew his contract with the Hanshin Tigers of Japanese pro baseball, are currently free agents without affiliations. For this reason, KBO picked their ?return to the KBO league? as the timing from which their punishment will take effect. As a result, if the two players join Korean baseball teams within this season, they will not be allowed to play as a player in not only the primary league but also the secondary league in 72 games from the time they register as players with KBO. Each team is set to play a total of 144 games during the regular season this year.\\nAs the severity of punishment for the two players has been announced, attention is now focusing on their course of actions going forward. Notably, unlike Oh Seung-hwan, who is preparing to move to the U.S. Major League Baseball, whether Lim, who still boasts of robust capacity as a closing pitcher, will return to the mound or not has become a ?hot potato.? A source at KBO said, ?Public opinion is not so positive. Teams will find it difficult to recruit (Lim Chang-yong) even by damaging their own image.?\\nThe decision by KBO will likely serve as a yardstick for gauging the severity of punishment for Ahn Ji-man and Yoon Seong-hwan from Samsung, who are still under police investigation for the same charges. Yang Hae-young, secretary general of KBO said, ?We cannot comment because investigation is still underway (on Ahn Ji-man and Yoon Seong-hwan). However, if they are given legal punishment similar to that for Lim Chang-yong and Oh Seung-hwan, they will be handed a similar degree of penalty by KBO as well.?', \"Baseball player Oh Seung-hwan risks losing his Japanese contract if he is prosecuted for illegal gambling overseas. \\n\\nHanshin Tigers said Thursday it would terminate the contract with the player if he is charged. Oh is still being investigated, and there is a possibility that he will be let off the hook.\\n\\nHanshin is negotiating with Oh to renew his contract, but has now reportedly started looking for a replacement.\\n\\nLike Korea, Japan is unusually strict in dealing with gambling among athletes, and the fatal blow seems to have been reports that a Korean crime organization is involved in the scandal.\\n\\nOh's chances in Korea look even less rosy. His former team Samsung Lions has already fired teammate Lim Chang-yong, who is also accused of gambling in Macau.\\n\\nBut the U.S. is still an option. Tsao Chinhui of the Taiwanese baseball league, who was fired over a betting scandal, later joined a minor league team in California.\", 'St. Louis Cardinals newest international contract, signing South Korean pitcher Seung Hwan Oh to a one year deal at $5 MM, with a team option in 2017. There was no posting fee due to Oh being a free agent. That was January 11, 2016. \\n\\nAfter the signing, Oh had to return to his native country to face charges of gambling, an entertainment which South Korea holds strict laws against for native South Koreans. There is only one domestic casino; and, large betting amounts are not allowed. However, there are 16 casino\\'s for foreigners only. Oh, along with former Chicago Cubs pitcher Lim Chang-yong and Oh\\'s former teammate, were charged under South Korean law. Oh was fined 10 million for betting heavily, a fine equal to $8,300 in the United States. Per the article from FoxSports.com - \"The Korean Baseball Organization earlier hit both players with half-season bans after prosecutors charged them for betting around 40 million won ($33,000) each at a casino in Macau in 2014.\" The ban imposed was for games played in South Korea only. Thus, Oh traveled to Japan to continue his career.\\n\\nAlong with taking care of his court fine, he awaited approval of his work visa, to return to the States. Finally, this past mid-week with visa in hand, OH and his agent along with a friend, arrived at Roger Dean Stadium yesterday. He joined in the informal workouts with the rest of the Cardinals early arrivals. That was after he had stepped off his flight of 14 1/2 hours. \\n\\nAfter his workout, he was asked about his familiarity being in the States. He stated that it was familiar simply because it was baseball. The threesome were going to scout living quarters after his workout and I\\'m sure with the assistance of the Cardinals organization. \\n\\nOh is expected to be in the bullpen for long relief, also, to help relieve some pressure off Kevin Siegrist and Seth Maness, both being heavily relied upon in the 2015 season. In the Cardinals plan, he will be the set-up man for Cardinals closer Trevor Rosenthal. If a situation should arise, he will be called upon to close. The 33 year old Oh has \"498 career games in South Korea and Japan, Oh is 32-20 with a 1.81 ERA with 772 strikeouts in 646 1/3 innings. He also was a member of the Gold medal-winning South Korean Olympics team in 2008 and represented the country in the World Baseball Classic in 2006, 2009 and 2013.\" (FoxSports.com)\\n\\nWelcome aboard, Seung Hwan Oh - yet another strong arm for the Cardinals. I don\\'t believe, if I were the opposition, I would take 33 year old Oh for granted either. ', \"Heading into this season, everybody knew that the Cardinals would have a very good bullpen. With returning faces like Kevin Seigrist, Seth Maness, Trevor Rosenthal, and Jonathan Broxton, most experts knew that there are very few teams who can compete with the Cardinals in terms of bullpen production.\\n\\n\\nHowever, surprisingly, or not that surprising to Korean baseball fans, in the first month of the season, Seung-hwan Oh has emerged as one of the most reliable pitchers in this bullpen behind Rosenthal and Seigrist.\\n\\nIn 9 & 2/3 innings this year, which leads pitchers in the bullpen, Oh is 1-0 with a 1.86 ERA and 16 strikeouts. More impressively, he has a 0.93 WHIP.\\n\\nOne of the best traits for a quality relief pitcher is that he doesn't let the ball get put in play a lot and simply strikes out the batter, alleviating the pressure from the defense behind him. With the Cardinals having an especially weak defense behind him, what Oh is doing is even more impressive.\\nOh's strikeout percentage is probably the most fascinating. Having faced 37 batters this year, he has 16 strikeouts, giving him a 43% strikeout rate.\\n\\nWith the exception of his blemish in that marathon Cubs game after the long rain delay in which he gave up two runs (both runs came after Matt Adams missed a diving ground ball), Oh has been perfect on the season. He is also pitching in high pressure situations. In the nine games he pitched this year, six of them were in a game decided by 3 or less runs.\\n\\nOh adds his value to the bullpen as a very flexible pitcher who Manager Mike Matheny can count on in many different situations. Recently, in a game against the Cincinnati Reds, Oh pitched for 2 innings and didn't show any signs of fatigue, showing that he can eat innings up for the bullpen if need be. He has also pitched in the 8th inning role holding a lead for Rosenthal.\\n\\nOf course, the season is still young and we don't have enough statistics to truly tell how a pitcher will be in this league, especially one who has pitched in a different country for his entire career. However, with that being said, Oh has looked terrific. If he keeps up this level of success, General Manger John Mozeliak hit a homerun with this offseason signing.\", 'Cardinals set-up man Seung-Hwan Oh shut the Twins down in one inning on Monday, allowing no hits and striking out one - fellow countryman Byung-Ho Park.\\n\\nFantasy Impact: It was a nice start for Oh who should be a lock for the Cardinals setup role to closer Trevor Rosenthal. Rosenthal is a solid closer but is not elite, and Oh would likely be the first to take over for him should he struggle in 2016.', 'Cardinals set-up man Seung-Hwan Oh had an excellent outing on Tuesday, striking out the side in the sixth inning.\\n\\nFantasy Impact: Oh is yet to allow a run out of the Cardinals bullpen this season, and has struck out five of the eight batters he has faced. As the game was tied when he pitched, he received no hold.', 'Cardinals set-up man Seung-Hwan Oh tossed a scoreless, hitless inning with one strikeout versus the Boston Red Sox on Monday.\\n\\nFantasy Impact: Oh has been excellent this spring, much better than the bullpen cast around him this season. In a league which counts holds and saves, he may be one of the most valuable RP without a role closing this Spring.', \"The Korean-born slugger was the sole source of offense for the beleaguered Minnesota Twins squad Saturday, blasting his second homer in the last three games. Park leads the team in the long ball category, but is struggling at the plate overall right along with the rest of his teammates. He's slashing .227/.288/.561 over 66 at-bats in his first season stateside.\", \"Through 25 games in 2016, Twins' offseason signee Byung-ho Park has hit .253 with seven home runs and 12 RBI, getting on-base at a .326 rate. His .921 OPS is second-best on the Twins.\\n\\nFantasy Impact: This is about what we expected from Park, a slight decrease in his overall numbers in the KBO, but still a solid contributor in the MLB with plenty of pop. He has struck out 27 times in 79 at-bats, which is something he will have to improve upon to succeed in the MLB.\", 'It was announced today by Daniel Kim of KBS Sports that the Minnesota Twins had placed the winning bid of $12.85 million to negotiate with power-hitting Korean first baseman Byung-Ho Park, who hit .343 with 53 home runs and 146 RBI playing for the Nexen Heroes last season. However, though the 29-year-old has talent, he won’t solve the Twins’ greater problems and, assuming that a deal can be struck between both parties in the next 30 days, will be a mere band-aid solution.\\n\\nFrom a money standpoint, submitting a bid for Park isn’t a bad decision on Minnesota’s part by any stretch of the imagination. Without factoring contracts that have yet to be determined via arbitration, the team’s payroll for next season is currently at $73 million, per Spotrac. It was at $106 million in 2015, well below the luxury tax threshold, and there is little to suggest that there will be a significant rise in it come 2016. In the case of Park, if no deal is struck, Minnesota gets it’s $12.85 million refunded and Park heads back to Nexen for next season. No harm, no foul. Long story short, the team can afford him.\\n\\nBut though Park could indeed be of a great help to a Twins’ team that went 83-79 in 2015, each win costing just under $1.3 million, he wouldn’t solve Minnesota’s problems overnight. The Twins tied for 12th in MLB with 696 runs scored, but ranked 26th with a team batting average of just .247 and 28th in on-base percentage (OBP) at just .305. Minnesota also ranked 18th with a team slugging percentage of .399 and 16th with 156 home runs.\\n\\nMuch of those numbers above can be attributed to Target Field, the Twins’ $545 million ($589 million in 2015) stadium that opened in 2010, putting an end to nearly three decades of Twins baseball at the Hubert H. Humphrey Metrodome. Consider this. In 2009, the Twins’ final year at the Metrodome, the team ranked third in batting average, 13th in home runs, fifth in OBP and ninth in slugging percentage en route to the AL Central Division crown. The following year, though the team made the playoffs again, Minnesota dipped to 19th in home runs, but stayed third in batting average and improved to second in OBP and seventh in slugging. Though improved, the dip in power was indicative that Target Field was not at all a hitter’s park the same way the Metrodome was, with only five players hitting double figures in home runs compared to six in 2009.\\n\\nWhich brings the conversation to the next point: despite Park’s talent, first base is currently occupied in Minnesota by three-time batting champion and former AL MVP Joe Mauer. Going back to 2009, local hero Mauer was the player fans came to see in Minnesota. That year, despite missing nearly a month of action to start the season, he led MLB with a .365 batting average while also slugging 28 home runs with 96 RBI as he manned the catcher’s spot. Teammate Justin Morneau handled first base and hit .274 with 30 home runs and 100 RBI, and it was expected that the two would continue to put up top production in the new stadium.', \"There have been a number of things that been underwhelming about the start of 2016 for the Minnesota Twins ? the 0-9 start, Miguel Sano's .216 batting average and all things Byron Buxton.\\nBut one thing that hasn't underwhelmed is Korean rookie Byung-ho Park's ability to hit massive home runs. Park ? a 29-year-old who hit 50+ the past two seasons in Korea ? hasn't had the smoothest transition into MLB, which isn't all that uncommon. He's still hitting just .233. But things have been better lately. He had four hits in the last two games, including a homer in each game.\\n\\n[Join a Yahoo Daily Fantasy Baseball contest now]\\n\\nYou can see if Park can hit another on Thursday when the Twins play the Milwaukee Brewers. Gametime is 1:40 p.m. ET. It's the MLB Free Game of the Day here on Yahoo Sports and you can stream it live (and for free!) on Yahoo's Sports Home, MLB index and video home.\\n\\nAs for Park, four of his 10 hits this season have been homers, and they've all been pretty majestic blasts. His first homer of the season was measured at 466 feet by ESPN's Hit Tracker Online (the second longest of the season thus far). MLB's Statcast system had it at 451. Either way, it shows that when Park connects, watch out.\\n\\nAnother wonderful element of this story is how excited people in Korea get about Park's success. Just listen to the Korean play-by-play calls of his homers. They're fantastic. That kind of excitement doesn't need translation.\\n\\nByung Ho #Park's another moon shot (Korean call) #MNTwins pic.twitter.com/BIGvSAjT1b\\n? Joseph Kim (@blackwings2011) April 19, 2016\\nByung Ho #Park's 1st Target Field homer ,462 feet (Korean call) #ParkBang #MNTwins pic.twitter.com/c8CB0Ohnni\\n? Joseph Kim (@blackwings2011) April 16, 2016\\nMay Byung-ho Park keep hitting dingers. And may Korean announcers keep going nuts when he does.\", 'Minnesota Twins baseman Park Byung-ho hit his seventh homer of the season. Park took the batter’s box as his team’s seventh and designated batter in a game against the Huston Rockets at Minute Maid Park in Houston, Texas on Tuesday local time, when he hit a solo homer with a flying distance of 397 feet (about 121 meters) to the second-floor spectator stand in the top of the sixth inning.\\nSince his Major League debut, it was the second time after he hit a homer through rightward pushy swing at the game against Milwaukee on April 19. Unlike most other sluggers who tend to swing inwardly, Park hit 49, or 29 percent of the 220 homers that he hit in the Korean pro league, through rightward pushy swings.\\nWith the homer, Park has solidified not only his No. 1 spot in homers in his team but also the top place in homers among the rookie players in the American League. The second-ranked player in homers among the rookie players in the American League is Tylor White (five).\\n“The more I take the batter’s box in games and I check pitchers’ pitches, the more lesson I learn,\" Park said. \"I gain self-confidence all the more when I take the batter’s box.”', 'Minnesota Twins\\' Korean slugger Park Byung-ho had his third homer of the season in a home game against The Milwaukee Brewers of the Major League Baseball, which took place at the Minneapolis Target Field in Minnesota on Monday local time.\\nIt was an exciting homer he celebrated \"Park Byung-ho Day,\" which he added two days after hitting an ultra-long-distance homer with a flying distance of 140.8 meters that he garnered in the game against the Los Angeles Angels on Sunday.\\nAs the sixth batter and designated hitter, Park took the batter’s box as the first batter in the bottom of the fourth inning, with the score tying 3-3. He hit a 119-meter solo homer that struck the top section of the advertising board in the right-side spectators’ stand off the opponent team’s starting pitcher Chase Anderson. When Park hit the homer, the cheering song that his previous affiliation, the Nexen Heroes of the Korean pro baseball, would use, started streaming.\\nIt is the first time that Park hit a homer through rightward pushy swing since his debut in the Major League. When he hit two previous homers, he swung on sliders, but he swung on a 90-mile fastball on the day.\\nAfter a double play and homer in the second and fourth innings, respectively, Park had a hit in the bottom of the fifth inning to post multiple hits for the first time since his big league debut. He also elevated his batting average to the .2 level (.205) for this season. The game was declared as \"called game\" due to rain in the top of the seventh inning. Minnesota won 7-4.\\nThe day was designated as \"Park Byung-ho Balcony Day\" by Minnesota. To entertain fans who rooted for Park, his team installed \"Park Byung-ho Balcony\" or designated seats for cheering him on the day. Fans who were sittng in the seats were granted a cap marked with \"Minnesota Twins\" in Korean alphabet as a gift. The team also sold Korean beer and kimchi balls made of kimchi. Park Byung-ho Balcony, which was put in place on the second floor of the spectators’ stand around the third base area, was so popular that tickets for the section were all sold out.\\nPark Byung-ho also received in person the opening pitching thrown by Shin Hak-cheol, Korean American and senior vice chairman of multinational company 3M. “Many Korean Americans (living in Minnesota) came to see the game, and it would have been embarrassing if I performed poorly,\" Park said after the game. \"It was fortunate that I performed well and our team won the game. I am so grateful to the team for giving a chance to a new face.”\\nMeanwhile, Kang Jung-ho (29) of the Pittsburgh Orioles played in a real game as a member of Triple A for the first time since suffering an injury in September last year. In a game against the Toledo Mud Hens, Detroit\\'s Triple-A affiliate, Kang started as third batter and third baseman of Pittsburgh’s Triple A team, Indianapolis, posted no hit, one walk, and one run from three times at bat on the day.', 'Byung Ho Park is on the bench for a third consecutive game as the Twins face lefthander Gio Gonzalez and the Washington Nationals. Park seemed like a good bet to play against a lefty, but manager Paul Molitor went with Joe Mauer at first base. Mauer is a career .294 hitter against Gonzalez with two home runs. Mauer also is a sizzling .429 (6-for-14) against lefties this season.\\n\\nBut if Park can\\'t play now, when can he? The Korean Baseball Organization uses the designated hitter, so this is another adjustment for a slugger who had three home runs in his previous four games before interleague play slowed his roll.\\n\\nThe Twins are wearing purple wristbands tonight in remembrance of departed Prince. The club contacted the league office and received permission to wear the wristbands. The club will show \"Purple Rain\" at Target Field Station (next to Target Field) at 8 p.m. (6:30 p.m. pre-party). \\nAnd the club will have tributes for the departed Purple One throughout Monday\\'s game at Target Field. For instance: Every player will have a Prince walkup song when he bats. Brian Dozier had a list of Prince songs and was going up to players today, asking them to pick a song. I\\'m upset that \"Uptown\" isn\\'t one of the choices.\\n\\nDo you realize how hard it is to put together a top-10 list of Prince songs? Too much competition.\\n\\nAs expected, there\\'s nothing wrong with Dozier and Eduardo Escobar. Escobar was caught on camera swiping away Dozier\\'s hand moments after the final out was made in the Twins\\' victory over Milwaukee. It led to speculation that there was tension between the two. but nothing could be further from the truth. \"We\\'re brothers,\\'\\' Escobar said.\\n\\nFormer Twin Ben Revere is on the disabled list with a strained oblique muscle. Jacque Jones, a founding member of the Soul Patrol, is an assistant hitting coach for the Nats.', \"SEOUL, May 3 (Yonhap) -- Park Byung-ho of the Minnesota Twins hit the first triple of his major league career Monday against the Houston Astros.\\n\\nPark touched the reigning American League Cy Young Award winner Dallas Keuchel for a two-run triple in the top of the fifth, making it 5-1 Twins at Minute Maid Park in Houston.\\n\\nWith men at first and second with one out, Park sent an 85 mph fastball over center fielder Colby Rasmus, bringing both runners home.\\n\\nThe three-bagger chased Keuchel from the game. It was Park's second hit in 18 at-bats with runners in scoring positions.\\n\\nPark, who had a single off Keuchel in the second, finished the evening 2-for-3 with two RBIs and a run scored, raising his average to .250. The Twins went on to win 6-2.\\n\\nIn the National League, Oh Seung-hwan of the St. Louis Cardinals tossed one perfect inning against the Philadelphia Phillies at home.\\n\\nThe South Korean right-hander took over from starter Adam Wainwright in the seventh and needed just 11 pitches to retire the side in order.\\n\\nOh got back-to-back groundouts against David Lough and Emmanuel Burriss, and retired Peter Bourjos on a flyout to center. His ERA now sits at 1.84.\", 'Byung Ho Park hit a home run against the Brewers last week in the series opener.\\nByung Ho Park watched a Cody Anderson four-seamer blaze past at 94 mph during the second inning Tuesday night, and got a read on its speed. After watching a curveball spin too low, he waited for the 1-1 pitch. Another fastball, virtually identical to the first, and Park was ready: He whipped his bat into the pitch and drove it deep to right-center field, arriving at second base with a leadoff double.\\n\\nA few minutes later, Park scored on a Kurt Suzuki single to give the Twins a 2-1 lead. It was a good sequence for the offense-challenged Twins, but also represented a minor milestone for the 29-year-old Korean: his first major league hit off an extreme-velocity pitch, something that’s becoming more common every year in Major League Baseball.\\n\\nMost scouting reports on Park, as he left South Korea to sign with the Twins last winter, noted his extraordinary power, his impressive bat speed ? and his inexperience against pitchers who throw in the mid-90s and above. Few pitchers in the Korea Baseball Organization, where Park hit 104 homers over the past two seasons, can hurl a fastball more than 90 mph.\\n\\nSo how is the transition to MLB levels of speed going? Well, it’s been a predictably slow start, but the Twins are heartened by their rookie’s progress.\\n\\n“I don’t know if I’d comment specifically on how he’s handling hard stuff ? it’s just that I see steady improvement, whether it’s on fastballs or breaking balls,” manager Paul Molitor said. “We’ve seen him hammer breaking-ball mistakes, but he hit a fastball away for a no-doubter [home run] to right field [on April 18]. He’s pulled some good fastballs.”\\n\\nPark has left little doubt that he can crush slower-speed breaking balls that hang in the strike zone. The South Korean leads the Twins with five home runs, including a couple that traveled more than 440 feet, and three of them came on sliders or curves traveling less than 80 mph. Wednesday’s cannon shot that pulled the Twins within a run of the Indians was off an 84-mph cutter. Only that opposite-field blast off Chase Anderson, the homer that particularly impressed Molitor, came on a fastball, timed at 90 mph.\\n\\n“Not necessarily am I trying to hit home runs off a hard fastball. It’s all about timing,” Park said through an interpreter. “Once you reach it, you can’t control where it goes. So I work on my timing as much as I can against the 95 mph fastballs. I would say I feel comfortable now.”\\n\\nProbably even better after Tuesday’s double. According to MLB’s pitchf/x data, Park has faced 60 pitches of extreme velocity (93 mph and above) this season. Of those, he has taken 16 for balls, 11 for strikes, and fouled off 17. He has swung and missed at only six. But of the 10 hard fastballs he has put into play, only that double off Anderson fell in for a hit.\\n\\nBy contrast, teammate Brian Dozier, even with a batting average of only .207, leads the majors in hits against 93 mph-plus fastballs, with nine. Miguel Sano owns seven, Eduardo Escobar six, and every Twins position player had at least one before Park. But four of Park’s 14 total hits have come on four-seam or two-seam fastballs timed at 90 or above.\\n\\n“I think everyone is kind of learning he’s a little bit of a guess guy. If he’s looking to hit a good fastball, he’s got the bat speed to do it,” Molitor said. “He’s jumped on breaking balls when he’s gotten mistakes, too.”\\n\\nPark agrees with his manager’s observation.\\n\\n“I wouldn’t say I’m a fastball hitter or a breaking-ball hitter, but more of my home runs [in South Korea] came on fastballs,” Park said. “Not all, but some I was sitting on a breaking ball because of the situation and the pitcher. That has happened here, too.”', 'The Twins have had their eye on the South Korean slugger since high school, and judging by his recent 462-foot blast to center field, their instincts were right. After a slow start, Park seems to be adapting to American baseball, and its faster pitching.\\n\\nLongtime friend J.D. Kim is Park’s translator.\\n\\n“I’m not going to lie, it’s not easy making those transitions seamless,” Park said, according to translator Kim. “And I didn’t expect it to be easy. Like you said, it’s a big transition. It’s a great feeling and really relieving to know that your coaching staff and your teammates are supporting you, regardless of how well or poorly you’re doing.”\\n\\n\\nOff the field, Park’s been busy getting his wife and toddler son settled in the Twin Cities, checking out the sites and figuring out how to get around town.\\n\\nHe’s getting to know his teammates too, clubhouse antics and all.\\n\\n“I can definitely sense that everybody in this clubhouse is trying not to make me feel alone here,” Park said via Kim. “They’re trying to make jokes around me, trying to make conversation. And when we’re on the road, they ask me if I want to go out to dinner, get something to eat, so I really appreciate that.”\\n\\nOne night at spring training, some of the guys even had him over to watch an episode of the Bachelor ? something Park rolls his eyes at and says he’ll never understand.', 'SEOUL, April 12 (Yonhap) -- Now that South Korea have found out who their opponents will be in the final Asian qualifying round for the 2018 FIFA World Cup, here comes the real task: finishing inside the top two in their group to grab a ticket to Russia.\\n\\nIn the draw for the final round in Kuala Lumpur, Malaysia, on Tuesday, South Korea were paired with Iran, Uzbekistan, China, Qatar and Syria in Group A.\\n\\nIt\\'s perhaps not the best case scenario that fans had hoped, but by avoiding a slew of tough Middle Eastern nations, South Korea seem to be well-positioned to qualify for their ninth consecutive World Cup.\\n\\nFor the final round, twelve nations were drawn into two groups of six teams to play home-and-away under the round-robin format. The top two countries from each group will directly qualify for the 2018 World Cup in Russia, while the third-place teams from the two groups will have to go through playoffs to book their spot at the tournament.\\n\\nSouth Korea will obviously try to qualify as among the top two teams in the group, for finishing third will mean some pressure-packed matches down the road.\\n\\nThe two No. 3 seeds will have to go through a two-legged playoff round, with the winner going on to meet the fourth-place team from the fifth qualifying round in the Confederation of North, Central American and Caribbean Association Football (CONCACAF). The two-legged inter-confederation playoff is also home-and-away and will be played in November 2017.\\n\\nThough they receive one of the two top seeds for the draw, South Korea are still considered favorites to punch their ticket to the World Cup along with Iran out of Group A, based on their head-to-head records against other teams and their performances in the previous round.\\n\\nSouth Korea have marched into the final round as the Group G winner with a flawless record of eight straight wins, which also includes a 3-0 forfeit victory over Kuwait.\\n\\nSouth Korea, led by head coach Uli Stielike, are the only Asian Football Confederation (AFC) member to win all second round matches without surrendering a goal. They scored 24 goals and conceded none in the seven matches played, not counting the forfeited match versus Kuwait.\\n\\nAmong the opponents in Group A in the final round, Iran could present the biggest challenge for South Korea. The four-time World Cup participant ranked first in Group D in the previous round with six wins and two draws.\\n\\nSouth Korea have posted nine wins, seven draws and 12 losses against Iran, and have suffered 1-0 losses in each of their last three meetings. Their last encounter was in November 2014 in Tehran where South Korea fell 1-0 to the hosts.\\n\\nIn particular, South Korea have never won on Iranian soil, with two losses and four draws.\\n\\n\"It\\'s time for us to come back home with a good result in Tehran,\" Stielike said on Tuesday.\\n\\nIran also have several players who are playing or have played in Europe. Reza Ghoochannejhad of Charton Athletic and Sardar Azmoun of Rostov are considered the two dangerous forwards on whom South Korea should keep their eyes.\\n\\nSouth Korea have winning records against all the other nations in the group, raising their possibility to finish inside the top two.\\n\\nUzbekistan, ranked 66th, topped Group H in the previous round with seven wins and a loss. Their only blemish was a 4-2 loss to North Korea in Pyongyang.\\n\\nSouth Korea have collected nine wins, three draws and one loss against Uzbekistan. Their only defeat dates back to 1994. And South Korea also have never lost to Uzbekistan in the final World cup qualifying round, with four wins and two draws.\\n\\nUzbekistan have players who are familiar to the South Korean football fans. Veteran midfielder Server Djeparov, the 2008 and 2011 Asian Footballer of the Year, played for three different South Korean clubs before returning to his homeland club this year, while forward Alexander Geynrikh previously played with Suwon Samsung Bluewings here.\\n\\nThree other teams are expected to pose little threat to South Korea.\\n\\nQatar, ranked 83rd, joined the final round as the Group C winner with seven wins and a loss. The Taeguk Warriors have four wins, two draws and a loss against the hosts for the 2022 FIFA World Cup and have not lost since 1988.\\n\\nStielike should be familiar with Qatari players as he coached Qatari clubs for nearly seven years before taking over South Korea in September 2014.\\n\\nChina, ranked 81st, are looking for their first World Cup appearance since 2002. In the second round, they finished second in Group C behind Qatar with five wins, two draws and a loss.\\n\\nSouth Koreans have been also dominant against the Chinese, losing only once in their 30 meetings while collecting 17 wins and 12 draws. Their latest meeting was in August last year at the East Asian Football Federation (EAFF) East Asian Cup, where South Korea blanked China 2-0.\\n\\nSyria are 110th on the FIFA rankings, second lowest in the final round ahead of only Thailand. They were the runner-up in Group E behind Japan after marking six wins and two losses.\\n\\nSouth Korea have played Syria only six times and they have three wins, two draws and a loss. They last squared off against each other in 2010, when South Korea won 1-0.\\n\\nSouth Korea should seek to score as many goals as they can against Syria, which let in 11 goals in the second round, the most among nations qualified for the final round.\\n\\nThe tight match schedule could present more challenges to Stielike\\'s side than actual opponents.\\n\\nSouth Korea first host China on Sept. 1 before traveling to Syria five days later. They will then face Qatar at home on Oct. 6 and go to Iran five days later to play what could be the most difficult match in the final round.\\n\\n\"We need to collect points before going to Iran,\" Stielike said. \"It\\'s important for us to not have big pressure before playing the match against Iran.\"\\n\\n   South Korea will wrap up the first half of the final round by hosting Uzbekistan on Nov. 15. The second half will start on March 23, 2017, when they travel to China. South Korea\\'s last match is at Uzbekistan on Sept. 5 next year.\\n\\nTuning up for the final round, South Korea will take on Spain on June 1 in Salzburg, Austria, and face the Czech Republic on June 5 in Prague.\\n\\n\"We have been waiting to have matches against high-ranked European teams,\" he said. \"It\\'s important for us to show that our performances in last 15 months are not flukes by collecting good results against Spain and the Czech Republic.\"\\n\\n   Stielike is mostly concerned about players based in Europe who are struggling to get playing time with their clubs.\\n\\nNational team captain and core midfielder Ki Sung-yueng played only three matches last month and has yet to feature in a single game this month for his English club Swansea City. Tottenham Hotspur forward Son Heung-min has contributed little to his second-place club in the English Premier League.\\n\\nBut their situation may be better than players like Lee Chung-yong, who has failed to feature for Crystal Palace since a match against Watford on Feb. 14.\\n\\nTwo left backs in the German Bundesliga have been also silent. Kim Jin-su of Hoffenheim hasn\\'t played a match since Feb. 1 and Park Joo-ho of Borussia Dortmund was last seen on the pitch on Jan. 24.\\n\\nIn addition, FC Augsburg forward Ji Dong-won has been out of action since Feb. 22 after picking up a right thigh injury. But his teammates Koo Ja-cheol and Hong Jeong-ho have been playing well of late. Elsewhere, striker Suk Hyun-joon has been regularly playing for his Portuguese club FC Porto.\\n\\n\"Some players may be on the move during the summer transfer window in July and August,\" he said. \"What\\'s important is that they need to be back on the pitch and play matches regularly.\"', 'Koo scored three hat tricks against Leverkusen at a home game on Saturday. He scored the opening goal at fifth minute in the first half, before scoring another at 44th minute in the first, and the third at 12th minute in the second. It is the first time that Koo achieved hat tricks as a professional player who moved to Germany in the 2010-2011 season after joining the Jeju United of the K-League in 2007. He is also the second Korean to secure a hat trick in the Bundesliga after Son Heung-min who played for Bayer Leverkusen back in 2013.\\nKoo also had the joy of posting his individual record of overall goals scored in a regular season with seven goals. His previous record was five goals that he posted in the 2011-2012 season at Augsburg and the last season at Mainz.\\nAs Augsburg has nine matches to play in the regular season, Koo has a strong chance to record double-digit goals. Offensive midfielder Koo is playing at a more front position than before as frontline strikers have suffered injuries in succession.\\nIt is the first time for Augsburg to secure hat tricks since its promotion to the main league in the 2011-2012 season.\\n\"WhoScored.com,\" the European soccer statistics site, has given Koo 9.4 points, the highest score points among the players in the two teams on the day. Except for Koo, no other players even won a score at the eight point level.\\nAugsburg, however, failed to keep its lead, ending the game tying 3-3. “I feel shame that my hat tricks were not sufficient to enable our team to secure three score points. Since our team did not win the match, I cannot afford to celebrate my goals,” Koo said at an interview after the match, expressing regret over the game’s outcome.', 'Augsburg are currently fourth from bottom with a points total of 30 thanks to a record of seven wins and nine draws, they are only three points clear of the drop zone.\\n\\nThey managed to snap a run of six matches without a victory when they defeated Werder Bremen 2-1 last Saturday with Alfreo Finnbogason and Jeong-Ho-Hong getting on the score sheet.\\n\\nStuttgart, on the other hand, are 12th on the league standings and need the points themselves because they not quite safe yet.\\n\\nTheir last win in the Bundesliga took place on March 5 when they ran out 5-1 winners against Hoffenheim with Georg Niedermeier grabbing a brace of goals.\\n\\nSince that win they have drawn two and lost two and come into this weekend’s clash on the back of a 3-1 home defeat at the hands of league leaders Bayern Munich.\\n\\nThese two have already met this season with Augsburg running out 4-0 winners at the Mercedes-Benz-Arena with Alexander Esswein, Jan-Ingwer Callsen-Bracker and Ja-Cheol Koo getting on the score sheet along with an own-goal from Timo Baumgartl.\\n\\nAugsburg versus Stuttgart takes place at the WWK Arena on Saturday, April 16 with a kick-off time of 1430 BST. ', 'Augsburg find themselves in a relegation battle as they go into the final few weeks of the season, currently in 15th position. They go into their game with Stuttgart with just 1 win in their last 6 games, but that win came in their most recent game, a 2-1 win away at Werder Bremen. They will want to build on that result this weekend against Stuttgart. Midfielder Ja-Cheol Koo leads their scoring with 8 league goals, and will hope to get on the scoresheet again this weekend.\\n\\nStuttgart will be trying to stay away from the relegation fight this weekend, sitting 12th in the table. They head to Augsburg on the back of just 1 win in their last 6 games in the league, with their most recent game being a 3-1 defeat at home to leaders Bayern Munich. They will be looking to get back on track this weekend, and will be looking to Daniel Didavi to fire them to victory. The German midfielder leads their scoring with 11 league goals this season.\\n\\n', 'SEOUL, May 10 (Yonhap) -- South Korean midfielder Koo Ja-cheol is likely to miss national team friendly matches in June due to a toe injury, his Seoul agency said Tuesday.\\n\\nKoo, who plays for FC Augsburg in the Bundesliga, was replaced by Raul Bobadilla in the 32nd minute during his team\\'s league match against Schalke 04 at Veltins-Arena in Gelsenkirchen, Germany, on Saturday after Schalke\\'s Pierre-Emile Hojbjerg stepped on his right foot.\\n\\nThe medical examination later showed the 27-year-old had a small crack on his right little toe, according to Koo\\'s agent Choi Wol-gyu.\\n\\n\"(Koo) needs to rest for four to six weeks,\" Choi told Yonhap News Agency via phone. \"Koo lamented that he is likely to miss the national team friendly matches in June.\"\\n\\n   South Korea will take on Spain on June 1 in Salzburg, Austria, and face the Czech Republic on June 5 in Prague. Head coach Uli Stielike previously said he wants to form the strongest team possible with players in top form.\\n\\nHowever, Choi said that Koo will be available for South Korea when the final Asian qualifying round for the 2018 FIFA World Cup begins in September. He added that the former Wolfsburg and Mainz midfielder has just injured a toe, not an ankle, which had been bothering Koo in recent years.\\n\\nKoo has scored eight goals in 27 matches for Augsburg this season, setting a career-high for a single Bundesliga season. He had seven goals last season with Mainz.', \"Koo Ja-cheol scored the first hat trick of his professional career in Augsburg's home match against Bayer Leverkusen on Saturday.\\n\\nKoo's fifth, sixth and seventh goals of the season took him to a new personal best for a Bundesliga season. Koo, whose career in Germany started with Wolfsburg in 2010, had never previously scored more than five goals in a season.\\n\\nKoo is the second Korean to score a hat track in a Bundesliga match, after former Leverkusen player Son Heung-min, who did it twice before transferring to Tottenham Hotspur in the English Premier League. Korean Bundesliga legend Cha Bum-kun never scored a hat trick while playing in Germany.\\n\\nKoo's first goal came just five minutes into the game, when he netted a rebound after Alexander Esswein's shot hit the post. In the 44th minute, he scored off another goalpost rebound, this time off a shot by Alfreð Finnbogason. Still looking lively in the second half, Koo's 57th-minute volley off Finnbogason's chest found the back of the net to complete the hat trick.\\n\\nAugsburg threw away their 3-0 lead, however, allowing Leverkusen to score twice in the second half and surrendering a penalty just before the full time whistle to end the game in a 3-3 draw.\", 'Many of the top Korean footballers playing in Europe have been sidelined in recent matches, causing concerns ahead of September\\'s final Asian qualification round for the 2018 World Cup in Russia, as they are key players in the Korean national team.\\n\\nNational team manager Uli Stielike recently told reporters it would be difficult to include players who have not had time on the pitch for over six months on the team\\'s roster. \\n\\nLee Chung-yong of Crystal Palace and Ki Sung-yueng of Swansea City in the English Premier League made just one appearance each in April.\\n\\nIn a recent interview with a Korean media outlet, Lee complained about being overlooked by Crystal Palace manager Alan Pardew since recovering from a knee injury. \"I don\\'t have any reason to stay here next season,\" he said.\\n\\nMidfielder Ki, named Swansea\\'s player of the year last season after scoring eight goals, was brought on briefly as a sub in last week\\'s game against Leicester City, but has otherwise rarely left the bench of late. Francesco Guidolin, the team\\'s new manager, has shown a preference for defensive midfielders over attacking midfielders like Ki.\\n\\n\\nSon Heung-min of Tottenham Hotspur appeared in four matches in April but started in only one of them, seemingly overlooked in favor of his main rivals in midfield, Dele Alli and Erik Lamela. Alli and Lamela have made big contributions to the team\\'s current second-place position in the league, scoring 11 and 10 goals respectively.\\n\\n\\nIn the Bundesliga, Park Joo-ho of Dortmund and Kim Jin-su of Hoffenheim have both been sidelined since February. Striker Suk Hyun-jun has struggled to find form since joining prestigious Portuguese club FC Porto in January, managing just one goal in his last 10 matches.\\n\\n\\nKoo Ja-cheol of Bundesliga side Augsburg is the only Korean player currently shining in a European league. Starting in all four matches in April, Koo has made a strong impact in each. Teammates Hong Jeong-ho and Ji Dong-won have been used as substitutes.', 'SEOUL, Nov. 13 (Yonhap) ? When South Korea try to extend their winning streak in the regional World Cup qualification against Laos next Tuesday, they will have to do so without midfielder Koo Ja-cheol.\\n\\nKoo has been ruled ineligible for the upcoming Group G match in the second round of the Asian qualification for the 2018 FIFA World Cup, after picking up his second yellow card in as many qualifiers against Myanmar Thursday. He will instead rejoin his Bundesliga club, FC Augsburg.\\n\\nKoo headed in South Korea’s second goal in their 4-0 win at Suwon World Cup Stadium in Suwon, Gyeonggi Province.\\n\\nThe Korea Football Association (KFA) said no replacement will be named for the midfielder, who has scored 16 times in 51 international matches.\\n\\nEven without Koo, the 48th-ranked South Korea should have little trouble against Laos, ranked 176th. In their previous meeting in September, South Korea routed Laos 8-0, with winger Son Heung-min scoring a hat trick.\\n\\nSouth Korea remain atop the group with a perfect 5-0-0 record, having scored 18 goals and allowed none. For the year, South Korea have won 15, drawn three and lost only one ? to Australia at the AFC Asian Cup final in January.\\n\\nA victory over Laos will give South Korea their most victories in a calendar year since 1980.', 'South Korea\\'s Koo Ja Cheol said it felt good to be back home with the Augsburg, as he signed a two-year deal on Tuesday. Koo last played for the Mainz after joining the team in 2014. The 26-year-old first played for the Bavarian while on loan from Wolfsburg in season 2012-13.\\n\\n\\n\\n\"I\\'ve always felt comfortable at Augsburg and now have the feeling of coming home,\" Koo said, as reported Yahoo! Sports on Wednesday. \"It\\'s great that it worked out at such short notice.\"\\n\\n\"Now I am looking forward to being back at the club and I want to help the team achieve their goals in the Bundesliga, cup and Europa League,\" he added.\\n\\nKoo left a good impression in Augsburg after scoring eight goals in more than 30 games during season 2012-13, which was why the team was also pleased to have him back.\\n\\n\"We were in regular contact with Koo Ja Cheol after his departure and we took the chance to have him back as soon as it emerged,\" Stefan Reuter - Augsburg\\'s director of sport - said. \"He knows the club, the environment as well as the team and coach, so he won\\'t need much time to settle back in here.\"\\n\\nReuter went on, \"From a sporting perspective, he will help us in attack to get more width on our game.\"\\n\\nWith Koo now playing for Augsburg, he is expected to perform better since he has recovered from the injury that has affected his performance during his stay with the Mainz and Wolfsburg.\\n\\nKoo was the former captain of South Korea football team during the 2104 World Cup. He first entered the German league in 2011 after signing a three-and-a-half deal with the Wolfsburg. Koo will join the rest of Augsburg team on Thursday for their Russia 2018 qualifiers.\\n\\n\\n ', 'The dust has settled on the draw for the 2018 World Cup for South Korea. Coach Uli Stielike knows exactly which teams they will face ― China, Iran, Qatar, Uzbekistan and Syria ― and when: it all starts on September 1, 2016, and ends September 5, 2017. Now he has to start thinking about his team.\\n\\nHis mission is simple: to finish in the top two in the group and as this is the World Cup, the boss will want to field his strongest team in every game. Some of the team\\'s best are in Europe.\\n\\nThere is the English Premier League trio of captain Ki Sung-yueng at Swansea City, Lee Chung-yong at Crystal Palace and Son Heung-min at Tottenham Hotpsur. There are more in Germany: Park Joo-ho at Borussia Dortmund, Hong Jeong-ho, Koo Ja-cheol and Ji Dong-won at Augsburg and Kim Jin-soo with Hoffenheim.\\n\\nMost of those would expect to be selected for the national team if fit but the coach has warned the Euro-stars that it won\\'t be so easy. He has told them that only those who play regularly for their clubs will be considered.\\n\\nAt the moment, that applies to few. None of the English-based stars are doing so. Ki was Swansea\\'s player of the season last time but injuries and the club\\'s struggles have seen him lose his regular-starter status. Son at Spurs is usually on the bench while Lee at Palace often struggles to get that close to the field.\\n\\nIn Germany, only Koo and Hong play often, with Ji injured and the two left backs, Park and Kim, not having played for a couple of months.\\n\\nObviously, players who aren\\'t regularly on the field can lose their form and sharpness. The ideal situation is for the overseas stars to play every week at a high level. It is better to be playing in the K-League than benched in the Premier League. Stielike is hopeful that some will move teams after the European season ends.\\n\\n\"I am curious how they will turn out in transfers this summer,\" he told reporters at Incheon International Airport after returning from the draw. \"I have some expectations that those players (who are not playing regularly) may have more opportunities in new teams. It is very important for them to play regularly.\\n\\n\"I think calling up players who have not played as regular members for about six months to the World Cup squad wouldn\\'t be appropriate.\"\\n\\nThe problem is an old one and every coach for South Korea has said a similar thing since Koreans started going to Europe in any kind of number. The promise or threat goes that players who rarely play in England or Germany will not play for Korea. It sounds reasonable, but when it comes down to it, no coach follows it up. If Stielike does, he will be the first.\\n\\nHe is also being a little disingenuous. Not only can the coach decide what constitutes regular, but he will be naming his roster for the first two games, against China at home and Qatar away, in mid-August when the European season is just starting. Nobody will have played.\\n\\nSix months after the start of the new season, when his deadline is looming, half the qualification games will already have been played. If results are good, nobody will care and there will no calls to change a winning Korean team. If results are poor, there will be pressure to change anyway.\\n\\nEven so, it is hard to imagine Ki, the captain and heartbeat of the team, or Son, its biggest star, being left out of any roster because they have not been playing regularly. It is unlikely to happen, appropriate or not. ', \"The Taegeuk Warriors defeated Les Cedres, 3-0, during their first meeting in the tournament on Sep. 8th of last year at the Saida International Stadium in Sidon, Lebanon and they hope to duplicate their feat this time week right at their home stadium.\\nSouth Korea blasted lowly team Laos, 5-0, at the New Laos National Stadium in Vientiane, Laos during the previous matchday, as reported by Four Four Two.\\nTeam captain Ki Sung-yueng and forward Son Heung-min pulled off one brace each, at the third and 33rd minutes for Ki and 35th and 67th for Son respectively, while striker Suk Hyun-jun added another one at the 43rd to complete the five-goal haul of head coach Uli Stielike's side.\\nThe Reds are simply unbeatable during the whole group stage of the said qualifying competitions as they are parading world class talents Ki of Swansea City, Suk of FC Porto, Lee Chung-yong of Crystal Palace, Park Joo-ho of Borussia Dortmund, and Kim Jin-su of Hoffenheim.\\nSon, currently suited up for Tottenham in the Premier League, is not available in this match with Lebanon for undisclosed reasons.\\nMeanwhile, Lebanon also routed Laos, 7-0, at their home stadium in Sidon on Nov. 12th of last year to snag their third win of the qualifiers, via Soccerway.\\nForward Hassan Chaito scored a double at the 36th and 90th+3 minutes while his teammates Youssef Mohamad, Roda Antar, Ali Hamam, Hassan Maatouk, and Joan Oumari each scored a single goal at the 27th, 34th, 42nd, 59th, and 90th minutes respectively to complete the impressive seven-goal performance.\\nThe predicted result is a 5-1 blowout for South Korea.\\nSouth Korea starting lineup (3-5-2 formation): Jung; Kwak, Kim Y.G., Park J.H.; Ki, Koo, Nam, Han, Lee C.Y.; Lee J.H., Suk\\nLebanon starting lineup (4-3-3 formation): Khalil; Mohamad, Oumari, Hamam, Ismail; Antar, Chaito, A. Haidar; Maatouk, M. Haidar, Shamsin\\n\\n\\nRead more: http://en.yibada.com/articles/111178/20160323/afc-2018-world-cup-qualifying-south-korea-vs-lebanon-preview.htm#ixzz48QmvASLi\", 'Borussia Dortmund have signed South Korean full-back Park Joo-ho from Mainz on a three-year contract, the Westphalian club announced on their website on Saturday.\\n\\nPark, 28, who was signed by current Dortmund coach Thomas Tuchel while he was in charge at Mainz in 2013, has made 44 Bundesliga appearances and been capped 26 times by his country.\\n\\nView image on Twitter\\n\\nThe former Basel defender\\'s arrival increases the likelihood of Germany international Kevin Grosskreutz leaving Dortmund this summer.\\n\\n\"Joo-Ho Park is a perfect addition to our squad at left-back,\\'\\' said Dortmund\\'s director of sport Michael Zorc.\\n\\nPark goes straight into the Dortmund squad to face Hertha Berlin on Sunday.', \"Borussia Dortmund host Wolfsburg on Matchday 32 of the 2015/16 Bundesliga season on Saturday.\\n\\nSince the hosts have long clinched a second-place finish and the Wolves only have an outside chance at playing in Europe next season?they're six points behind seventh place, currently held by Schalke, which will be enough to qualify for the UEFA Europa League qualifiers this season, because Bayern Munich and Dortmund play each other in the DFB-Pokal final?the intrigue of this meeting has to come from somewhere other than the league table.\\n\\nSure enough, it was a busy week for the Black and Yellows, who announced on their website on Thursday that team captain Mats Hummels has officially requested a transfer to Bayern. Saturday's match will offer fans a first opportunity to let their feelings be known.\\n\\nAs for Wolfsburg, a thoroughly disappointing season is coming to a close. Despite reaching the quarter-finals of the UEFA Champions League and playing Real Madrid tough, the Wolves can't be happy with their campaign. As Bundesliga runners-up last year and winners of the cup?beating Dortmund in the final?expectations for this campaign were high but never met.\\n\\nHead coach Dieter Hecking could be fighting for his job in the last few matches and tried to rally the troops in his press conference on Thursday:\\n\\nDortmund won the first meeting in November in dramatic fashion thanks to a last-minute winner from Shinji Kagawa, but they haven't performed the double over Wolfsburg since the 2011/12 season.\", 'Bundesliga club Borussia Dortmund will be without Park in upcoming games on his full-back Joo-Ho. \"Overload reaction of the tibia after severe contusion\" loud diagnosis, Borussia divided on the Saturday before the Bundesliga game with VfB Stuttgart.\\n\\nAccording to estimates by BVB team doctor Markus Braun but the season must for the soccer player from South Korea is not necessarily complete.\\n\\nBVB muss vorerst auf Außenverteidiger Joo-Ho Park verzichten | WAZ.de - Lesen Sie mehr auf:\\nhttp://www.derwesten.de/sport/fussball/bvb/bvb-muss-vorerst-auf-aussenverteidiger-joo-ho-park-verzichten-id11761175.html#plx1956768657', 'The Borussia Dortmund confirmed the transfer of Joo Ho Park from Mainz. South Korean signed a three-year contract with the Ruhr club after spending the traditional medical visit.\\n\\nPark Joo Ho arrives from Mainz after several satisfactory campaigns. At BvB, he finds especially Thomas Tuchel, who directed him in his former club and is very familiar with its characteristics.\\n\\nAn interesting reinforcement for the yellow and black, so with a large volume of game to multiply the races.\\n\\nIf the transfer amount was not disclosed, the sporting director, Michael Zorc, welcomed the arrival. \"Joo Ho Park is a left back who can be a perfect addition to our team\" , has been -he commented.', \"The winter break came nine minutes too late for Borussia Dortmund, who lost their last match of 2015, 2-1, to Cologne after holding a lead for 64 minutes. The loss cannot diminish the great first half of Dortmund's season, but the scoreline reflected the run of play.\\n\\nBVB looked to be in full control of the match as Sokratis Papastathopoulos' header put them ahead after 17 minutes. The Black and Yellows took too much comfort in the lead and conceded control of the match entirely in the second half.\\n\\nDortmund manager Thomas Tuchel had to admit after the match that his side lacked the resources to fend off a fierce Cologne side, one that sniffed victory in the final 10 minutes against a fatigued Dortmund. Saturday's match was the 30th of the season already for Tuchel's men.\\n\\nThey will still enter 2016 at least nine points above the Bundesliga's Champions League play-off spot, which cannot be lauded enough, but the match against Cologne has once again shown that they don't have what it takes to keep up with league leaders FC Bayern. The promise of a somewhat close title race in 2016 was ended on the last match day of 2015.\", \"Borussia Dortmund started 2016 on the right foot against their direct rivals for a Champions League spot, Borussia Monchengladbach. The thoroughly deserved 3-1 win gives Dortmund a 12-point margin over Andre Schubert's team, who were in fourth place before the match-day.\\n\\nDortmund manager Thomas Tuchel can be satisfied with his team's performance in a tricky match on the road on Saturday night. BVB played breathtaking football after a stuttering start to the game, as initially, the final touch in attack was lacking.\\n\\nThe Black and Yellows were the most impressive team on the first Bundesliga match-day of the new year, as their promising start shows that there is yet more to come from the Westphalians. Whether it will be enough to give league leaders FC Bayern Munich a run for their money remains to be seen, but the eight-point gap to third-place Hertha allows Dortmund look up the table for now.\", 'Borussia Dortmund keep their perfect record alive to start the 2015-16 season -- but just barely. It took a winner in the third minute of stoppage time by Park Joo-ho to prevent BVB from drawing their opening match of the Europa League against FK Krasnodar.\\n\\nPavel Mamayev\\'s goal put the Russians in front 12 minutes into the match to debunk what Dortmund boss Thomas Tuchel had preached before the match: \"I expect us to be awake from the very first minute. I hope that we don\\'t need another wake-up call.\" But his starting 11 needed quite a while to gel against an assured Krasnodar outfit. Park, Adnan Januzaj, Gonzalo Castro and Roman Weidenfeller rotated into the field to give Julian Weigl and Shinji Kagawa a deserved break.\\n\\nIn the post-match news conference, Tuchel sounded a bit different than beforehand: \"It took a long time to find [our way] into the match. Our passing and body language looked sloppy and we had to get used to new personnel and positions.\"\\n\\nThe fact that Dortmund didn\\'t look as sharp as usual is also a testament to FK Krasnodar, who impressed with pressing resistance and a lot of calmness on the ball. But in the end the Black and Yellows made their superiority count and relied on a late winner to keep the three vital points at the Westfalenstadion.', \"Son Heung-min made his first appearance in front of his new fans at White Hart Lane, the home of Tottenham Hotspur, in London on Saturday.\\n\\nSon moved from Bayer Leverkusen in Germany's Bundesliga to Tottenham in the English Premier League for a transfer fee of 30 million euros, the highest for an Asian player in history. \\n\\nTottenham announced on its website on Friday that they have signed Son to a five-year deal which stretches to 2020. Pictures and video of Son training were also added.\\n\\nMeanwhile, Son's teammate on the Korean national team Park Joo-ho signed with Borussia Dortmund until June 2018, according to the team's website on Saturday.\\n\\nPark, who started to play in Europe in 2011 with FC Basel in Switzerland, moved to Bundesliga in 2013 as he joined Mainz 05. Thomas Tuchel, then-manager of Mainz who signed Park, is now the manager of Dortmund. \\n\\nGermany's football magazine Kicker estimated Park's transfer fee at 3 million euros.\\n\\nSon and Park will play in the second round of the Asian qualifiers for the 2018 World Cup in Russia. Son is scheduled to appear in a home match against Laos in Hwaseong, Gyeonggi Province on Thursday and Park in an away match against Lebanon on Sept. 8.\\n\\nSon will arrive in Korea on Monday and Park will join the team in Lebanon.\\n\\nSon's debut with Tottenham is expected to be against Sunderland on Sept. 13, and Park's debut with Dortmund against Hanover on Sept. 12.\", 'Dortmund`s run includes winning all four Bundesliga matches so far this season with Tuchel`s new team enjoying the best start to a campaign in the club`s history.\\n\\nThey start the weekend on top of the Bundesliga on goal difference from champions Bayern Munich and fresh from beating Russian side FC Krasnodar 2-1 in their opening Europa League group game on Thursday.\\n\\nDortmund came from behind to win that game thanks to a dramatic headed winner in the 93rd minute by Park, who was outstanding on his debut for the club.\\n\\n\\n\"He scored a super important goal for us and was already suffering from cramp when he made his way into the area for the winning goal -- that testifies to a good fighting heart,\" enthused Tuchel.\\n\\nPark followed Tuchel`s path in joining from Mainz last month, but despite his match-winning form, the South Korean is not guaranteed to start against Leverkusen as he waits to make his Bundesliga debut for Dortmund.\\n\\nThe return of Germany winger Marco Reus after a toe injury threatens to relegate Park to the bench, while Marcel Schmelzer, whose place Park could take at left-back, is in great form, but even he is in awe of the South Korean.\\n\\n\"It`s getting scary. Everything he tries comes off, perhaps he should start playing the lottery...\" quipped Schmelzer.\\n\\nAll joking aside, Leverkusen present a significant test of Dortmund`s mettle despite starting the weekend 13th in the table.\\n\\nBorussia`s Westfalenstadion is an 80,359-capacity sell-out and a victory would back up talk of Dortmund giving Bayern a genuine challenge for the title.\\n\\n\"We are favourites and a win over Leverkusen would be important as it would leave them nine points behind us,\" said midfielder Gonzalo Castro, who joined Dortmund from Leverkusen in the summer.\\n\\nLeverkusen, who responded after back-to-back league defeats to Bayern and Darmstadt with a 4-1 win over BATE of Belarus in the Champions League on Wednesday, are waiting on the fitness of captain Lars Bender after he suffered a badly bruised knee in that victory.', 'KI Sung-Yueng is back in Wales after the birth of his daughter and will be involved as Swansea City bid to lay down a marker against Everton tomorrow.\\n\\nKi flew home to South Korea straight after last Saturday’s loss at Watford for the arrival of his first child.\\n\\nSwansea boss Garry Monk says the midfielder walked back on to the training ground with a smile on his face yesterday ? and will have no problems including him this weekend.\\n\\n“Ki is back and he is a dad now,” Monk said.\\n\\n\\n\\nRead more: http://www.southwales-eveningpost.co.uk/Ki-Sung-Yueng-Swansea-City-fold-Garry-Monk/story-27818980-detail/story.html#ixzz48QqiHqJ1 \\nFollow us: @SWEveningPost on Twitter | SWEveningPost on Facebook\\nRead more at http://www.southwales-eveningpost.co.uk/Ki-Sung-Yueng-Swansea-City-fold-Garry-Monk/story-27818980-detail/story.html#BWBAE7Sp3edodb51.99', \"Ki Sung-yueng scored his second goal of the season for his team Swansea City on Sunday in his first start since a match against Aston Villa in March. \\n\\nKi's 51st-minute volley, Swansea's third goal of the match, contributed to the team's victory in an away game against West Ham United. \\n\\nKi scored his first goal of the season in a match against West Bromwich in December last year. \\n\\nHe has rarely left the bench of late, as manager Francesco Guidolin has shown a preference for defensive midfielders over attacking midfielders like Ki. \\n\\nKi made a strong impact throughout the match and Swansea City pulled off a 4-1 win.\\n\\nKi will not be able to play for the Korean national team in friendlies against Spain on June 1 and the Czech Republic on June 5 as he will soon enter an Army boot camp for a month of military training. He was exempted from full military service after the national team won the bronze medal at the London Olympic Games.\", 'Ki Sung-yueng of Swansea City in the English Premier League fell due to a head injury in an away match against West Bromwich Albion on Tuesday. \\n\\nKi knocked heads with Stephane Sessegnon in the 42nd minute while trying to block a shot. He was stretchered off the pitch on a ventilator.', \"Although it is actually a no-bearing game for Swansea City as they are at the 11th spot of the league table, 12 points safe off the relegation zone and 16 points below any berths of continental tournaments, they will still try to extend their two-game winning run to three as they face the mercurial Citizens in the season finale.\\nIn their penultimate match this term, the Swans routed contending squad West Ham United, 4-1, at the Upton Park last Saturday, as reported by BBC Sport.\\nSwansea actually netted all the points in the contest as the lone goal for the Hammers came from an own goal by Swans defender Stephen Kingsley at the 68th minute when the visitors had already built a 3-0 lead at that time.\\nWayne Routledge opened the scoring for manager Francesco Guidolin's squad at the 25th followed by Andre Ayew six minute later to give Swansea a 2-0 advantage at the half.\\nSix minutes into the restart, South Korean midfielder Ki Sung-yueng scored the Swans' third goal before the own goal by Kingsley. Star striker Bafetimbi Gomis sealed the victory in stoppage time to complete the visitors' four-goal haul against a top six opponent.\\nMeanwhile, Manchester City settled to a 2-2 draw with fellow contender Arsenal FC at their own Etihad Stadium last Sunday, as per SkySports.\\nOpposing strikers Sergio Aguero and Olivier Giroud traded goals in the first ten minutes of the game to make it a 1-1 count before stars Kevin De Bruyne and Alexis Sanchez scored a goal each in the second half as the teams salvage the draw and share a point in the overall standings.\\nThe tie is City's third winless performance in their last four assignments as they dropped to fourth place in the league table, three points behind the Gunners. They lead cross-city rivals Manchester United by only two points in the overall standings, which means this finale match versus Swansea is a crucial one for Manuel Pellegrini's side.\\nThe predicted result is a tough 2-1 decision for Manchester City.\\nSwansea City starting lineup (4-3-3 formation): Fabianski; Naughton, Fernandez, Amat, Kingsley; Fer, Cork, Ki; Barrow, Ayew, Routledge\\n\\n\\nRead more: http://en.yibada.com/articles/122806/20160512/premier-league-2015-2016-swansea-city-vs-manchester-preview-prediction.htm#ixzz48QoVYryM\", \"Swansea City are represented in the latest Premier League team of the week that has been selected by BBC pundit Garth Crooks.\\n\\nActually Garth is now down as a 'Football Analyst' these days, a posh term for a pundit then!\\n\\nThe performance by Ki Sung-yueng in the four one victory over West Ham at the weekend at Upton Park was enough to earn them a place in the side alongside the other, in the opinion of the former Spurs striker anyway, most impressive performers in the topflight over the latest weekend.\\n\\nI think we'll already know ourselves, and not just based on the latest performance, why Crooks, we'll also not argue with it, selected Sung-yueng as part of his team but explaining his choice he told the BBC.\\n\\n'Where did Swansea's 4-1 win at West Ham come from? I thought Swansea had packed sun cream and flip flops as they had their minds set on warmer climes. It couldn't have been further from the truth. They were without Ashley Williams and Gylfi Sigurdsson so it was left to Ki Sung-yueng to mastermind Swansea's revival. The South Korean was involved in Swansea's first goal and scored their third. In fact, the finish was superb and put the game beyond West Ham who looked shell-shocked. Can anyone tell me what is going on at Swansea? I haven't a clue whether manager Francesco Guidolin is staying or going. What I do know is Swansea look like a team again so the sooner they settle the concerns surrounding the manager's future, the better.'\\n\\nIt's always good to see the club represented in this way, and well played to Sung-yueng for his recognition, but the most important thing about the weekend was of course the three points.\\n\\nFull Team:\\n\\nArtur Boruc (Bournemouth), Antonio Valencia (Manchester United), Wes Morgan (Leicester City), Virgil van Dijk (Southampton), Ryan Bertrand (Southampton), Ki Sung-Yueng (Swansea City), N'Golo Kante (Leicester City), Steven Davis (Southampton), Wahbi Khazri (Sunderland), Jermaine Defoe (Sunderland), Sergio Aguero (Manchester City).\\n\\nRead more: http://www.swansea.vitalfootball.co.uk/article.asp?a=446198#ixzz48QoIs9Gi\", \"KI Sung-Yueng insists Swansea City have no time to lose in their bid to pull away from Premier League relegation danger.\\n\\nLast weekend's results saw Swansea's situation worsen and they now sit just a single goal above the drop zone.\\n\\nDespite an encouraging performance at Manchester City that ended in 2-1 defeat only after Yaya Toure's deflected injury-time goal, Swansea again picked up no points.\\n\\nThe loss followed a week in which Garry Monk was sacked as manager and made it just one win from the last 13 games.\\n\\n\\n\\nRead more: http://www.southwales-eveningpost.co.uk/Swansea-City-midfielder-Ki-Sung-Yueng-demands/story-28363644-detail/story.html#ixzz48QqJUmPT \\nFollow us: @SWEveningPost on Twitter | SWEveningPost on Facebook\", \"KI Sung-Yueng insists confidence will not be dented despite Saturday's 3-0 home defeat to Arsenal.\\n\\nGarry Monk's men suffered their second and heaviest Liberty reverse of the season as goals from Olivier Giroud, Laurent Koscielny and Joel Campbell settled matters in Landore.\\n\\nBut Swansea were unlucky to end with that result after performing well against Arsene Wenger's men.\\n\\nThe hosts bettered the first half and might have gone ahead had Bafetimbi Gomis netted when one-on-one with Petr Cech.\\n\\n\\n\\nRead more: http://www.southwales-eveningpost.co.uk/Swansea-City-midfielder-Ki-Sung-Yueng-says/story-28094371-detail/story.html#ixzz48QqsaH3T \\nFollow us: @SWEveningPost on Twitter | SWEveningPost on Facebook\", \"KI Sung-Yueng has warned Swansea City to be wary of Arsenal's threat because one more defeat could end their title ambitions.\\n\\nSwansea head to the Emirates tomorrow aiming to claim something from a difficult game against the high-flying Gunners.\\n\\nArsenal are in Premier League championship contention, though defeat to Manchester United last weekend has dented their hopes.\\n\\nAnd Ki believes that loss has made Arsene Wenger's men all the more dangerous.\\n\\n\\n\\nRead more: http://www.southwales-eveningpost.co.uk/Swansea-City-midfielder-Ki-Sung-Yueng-wary/story-28830025-detail/story.html#ixzz48Qq8EOYl \\nFollow us: @SWEveningPost on Twitter | SWEveningPost on Facebook\", \"KI Sung-Yueng will miss Swansea City's home match with Crystal Palace on Saturday after being ruled out for a week with concussion.\\n\\nThe South Korean midfielder was stretchered off just before half-time of Tuesday night's draw with West Brom following a clash with Stephane Sessegnon.\\n\\nIt left Ki sprawled on the pitch for several minutes before being carried off by medical staff.\\n\\nBut the problem is not as serious as first feared.\\n\\n\\n\\nRead more: http://www.southwales-eveningpost.co.uk/Swansea-City-midfielder-Ki-Sung-Yueng-miss/story-28670822-detail/story.html#ixzz48Qp94G00 \\nFollow us: @SWEveningPost on Twitter | SWEveningPost on Facebook\", 'Sunderland face their second away game in the space of 72 hours tomorrow lunchtime, when the Black Cats look to build on back-to-back Premier League wins over fellow strugglers Aston Villa and Swansea, by adding to their points tally at fourth placed Spurs.\\n\\nAllardyce’s men travelled to London yesterday after a recovery session at their base in Cardiff and will participate in light training at QPR today, before the players face a video analysis session on the Spurs squad.\\n\\nBut while Sunderland’s medical team have been understandably cautious over fatigue levels, Allardyce believes the players will feel much fresher after the 4-2 victory at Swansea moved the Black Cats to within a point of the safety mark.\\n\\nAllardyce said: “Placebo-wise, we feel good now.\\n\\n“We don’t feel as tired after we’ve won, as we would have done if we’d lost.\\n\\n“We’ve got a bit of training today at QPR and the rest of it will be visually and tactically to look at on their iPads.\\n\\n“We’ve got some very tired legs that have to reinvigorate themselves.\\n\\n“But hopefully with that placebo affect, the brain will be telling them that they’re okay.”\\n\\nThe win at Swansea was Sunderland’s second in the space of a fortnight against one of their relegation rivals after the 3-1 victory over Aston Villa earlier this month.\\n\\nThat platform has eased the pressure on a trip to White Hart Lane, where Allardyce admits anything would be a “bonus” for third bottom Sunderland.\\n\\n“If we win at Tottenham, it wouldn’t be as big as winning at Swansea,” he said.\\n\\n“The games against the teams in and around you are the ones that are the real six pointers.\\n\\n“Any point against Tottenham is a bonus. It’s the icing on the cake.\\n\\n“Swansea and Villa were the big ones and we’re showing some mettle now because people tell me last season that the team went under in these games.\\n\\n“We’ve done back to back wins to close the gap.\\n\\n“If we can manage a few draws, then we can chip away at the points total further.”\\n\\nSpurs boss Mauricio Pochettino has the luxury of being able to shuffle his pack, with a deep squad that has coped with the demands of the Europa League this season.\\n\\nHowever, Spurs have showed themselves to be vulnerable on their own patch over recent weeks.\\n\\nSpurs suffered a late 1-0 defeat against second placed Leicester on Wednesday night, while second bottom Newcastle triumphed at White Hart Lane last month.\\n\\n“Tottenham now, with the squad they’ve got, are looking very healthy and productive, no matter what competition they play in,” added Allardyce.\\n\\n“They seem to have, for me, 23-24 very good players who can go in the team, come out and go back in again.\\n\\n“And they still seem to produce results in all competitions.\\n\\n“Whatever team faces us tomorrow, it’ll be very difficult to beat.\\n\\n“Our hope comes from Newcastle beating them recently on their own ground.\\n\\n“Occasionally, they’ve shown at home that they’ve been caught out.\\n\\n“I managed to catch them out there a couple of times at West Ham, as Newcastle did.\\n\\n“Let’s hope we can do something like that tomorrow.”\\n\\n\\n\\nRead more: http://www.sunderlandecho.com/sport/football/sunderland-afc/swansea-win-the-perfect-tonic-for-weary-sunderland-1-7675917#ixzz48Qs2OGwh', 'Heung-Min Son\\'s late cameo in Tottenham Hotspur\\'s 3-0 win over Manchester United on Sunday was, in microcosm, an apt representation of his season.\\n\\nAn almost successful dribble through the Red Devils defence was followed by tidy work maintaining possession soon after. He then smartly slowed things down in second-half stoppage time as Tottenham saw out their victory.A valuable and admirable contribution, but arguably not quite vital to a season in which?like that result?it is others who have led the way. Moving forwards, Son still has work to do justifying the ￡22 million transfer fee paid for him.\\n\\nThis is partly on the 23-year-old himself. But also partly on head coach Mauricio Pochettino still figuring out how and when he can best deploy the attacker.\\n\\nWhere both have got it right in 2015-16 can inform how they look to get more out of the player next season.\\n\\nFor Son himself, he can particularly pinpoint his productive initial spell in the Tottenham team. A timely interjection in the story of the north Londoners\\' season that balances out some of his leaner periods.\\n\\nAfter a winless August Spurs were in need of a lift, especially from an attacking perspective.Son played his part here in his debut away at Sunderland. Although withdrawn shortly after the hour mark, his direct and lively work helped establish the positive momentum that would ultimately help his team to a 1-0 win.\\n\\nThe next few weeks saw even more tangible examples of this. His scoring efforts were especially important given striker Harry Kane\\'s finishing troubles at the time.\\n\\nSon\\'s brace in the 3-1 win over Qarabag helped get Spurs\\' Europa League campaign off to a positive start. Then, a thrilling and explosive match-winning goal three days later against Crystal Palace further invigorated the confidence sparked by their preceding league win.\\n\\nA solid showing in the subsequent 4-1 defeat of Manchester City underlined the early impressions of an adaptable and versatile performer well suited to Pochettino\\'s attack-minded system. One imaginative and energetic while able to adhere to more disciplined requirements (by comparison there were times during those Palace and City games fellow new signing Clinton Njie was clearly reprimanded by Pochettino for not participating in pressing the opposition).\"Son is a player that we followed a long time,\" Pochettino said after the Palace win, praising how \"he is a player who can play with Harry [Kane], No. 9, No. 10, seven, 11, all different positions.\"\\n\\nThe injury Son suffered against Man City, keeping him out until November, undoubtedly disrupted his flow.\\n\\nBy the time he returned, others like Kane, Dele Alli and Erik Lamela were in welcome grooves shaping this impressive Spurs side\\'s play. It was harder for the South Korea international to make an impact when he was less required to do so. Correspondingly, Pochettino began toiling in his attempts to accommodate him on a consistently successful basis.\\n\\nThat indecisiveness has perhaps contributed to recent performances lacking direction and purpose.\\n\\nIndeed, Pochettino might have got a little more out of Son by re-emphasising his importance to the team with recognition of him as the go-to alternative to Kane.The vitality and confidence he displayed in his forward role against Qarabag has been occasionally utilised since?notably in combative efforts against Monaco in Europe and Leicester City in the FA Cup (scoring a fine goal in the latter). But more recently away against Fiorentina and Borussia Dortmund, the Argentinian handed the attack-leading responsibility to Nacer Chadli.\\n\\nOn paper using the Belgian\\'s greater physical stature made sense. But Son\\'s go up-top in the return leg against Dortmund showed where his greater energy may have been better suited against the sturdy Germans at least. Little came off for him until his consolation goal in the defeat, but he had given them much more to think about.\\n\\nWith that said, in other instances the player himself has lacked the urgency that characterised those good early impressions last autumn.\\n\\nSon did not capitalise on his recent starting opportunity against Liverpool, a bright opening giving way to sloppier involvement thereafter. His being replaced by the fit-again, more hard-working Erik Lamela for the Manchester United game was no surprise.As seen with his social media work for the club (see above), Son has taken to life at Tottenham and in England. Those around him have obviously warmed to a seemingly infectious personality too.\\n\\nHeading into next season, Son and Pochettino must work on maximising the similar enthusiasm that defines his best work on the pitch. Be it in establishing a more clearly defined role or better preparing him to augment others wherever he is required to.\\n\\nGet closer to that consistency and Son will be able to prove he was not just a luxury purchase, but one intrinsic to the development of this exciting Tottenham team.', 'An injury to his foot in September’s 4-1 victory over Manchester City ruled Son out for the subsequent six matches however. His hot start was cut short, and in his place Erik Lamela solidified his spot and Dele Alli began his ascent.\\n\\nWhen he did come back, he found his chances at a starting berth diminished significantly. But for stints in which he was brought in to give Lamela a much needed rest, Mauricio Pochettino elected to stay with the hot hands.\\n\\nThough Alli’s suspension has granted Son a nice end-of-season streak of starts ? during which he’s scored twice in as many games ? it’s difficult to look back on this season as anything but a disappointment.Son recently revealed the fact that he shares this sentiment in an article with Ham & High.\\n\\n“This season I think [I’ve been] a little bit unlucky. I started well, got injured and then getting fit took a long time. I’m still getting [back to] 100 per cent. But I’m very happy because I enjoyed this year in Tottenham.”\\n\\nThe transfer fee Son commanded in his August move to Tottenham from Bayer Leverkusen amounted to as much as ￡23 million, making him the third most expensive transfer in the club’s history after Lamela and Roberto Soldado. Expectations were, needless to say, very high.\\n\\nAt 23-years-old, though, Son still has plenty of time to make his case at Tottenham. The club’s qualification for the group stage of next season’s Champions League will presumably mean a more heavily rotated squad, something that Son will inevitably benefit from.\\n\\nThe Champions League is familiar ground for Son. During his time with Leverkusen, he made sixteen total appearances in Europe’s premier international club competition, scoring three goals and setting up three assists. He’s thus well aware of the challenge and opportunity Tottenham have ahead of them.\\n\\n“It’s not an easy competition and we have to look forward, we have to work very hard,” he said. “There are many good teams, [some of the best] in the world. We have to be very focused and be very ready for the Champions League next season.”\\n\\nTottenham will also be occupied with a hopeful title hunt next season as they attempt to build on the surprise success of the current season. While it doesn’t appear as if Lamela or Alli are going anywhere, it’s easy to imagine Son getting more minutes as Pochettino attempts to keep as many balls in the air as possible.', 'Tottenham Hotspur now have a 2-0 lead over Chelsea at Stamford Bridge as halftime approaches. Christian Eriksen again played a huge role in the build-up of the goal. This time he threaded a pass through to Heung-Min Son, who calmly beat Begovic to the near-post. This is going a lot more swimmingly than anyone thought it would have.', 'Heung-Min Son came into this game with the unenviable task of filling Dele Alli’s shoes. Alli is out for the rest of the season after he was hit with a three-game ban for punching Claudio Yacob. Up until this point, Son has three goals on the year, but his impact has mostly been as a super sub. So when he got the call to start, it was up to him to impress his manager Mauricio Pochettino.\\n\\nAfter England and Spurs star Harry Kane put Tottenham up 1-0, Son did just that and scored to give his team a two-goal advantage.Next season will be Tottenham’s first in the Champions League since 2011 and, while Son started a lot of games in the Europa League, Son will be eager to show that he belongs in the Champions League as well. Needless to say, this goal puts him in Pochettino’s good graces.\\n\\nTottenham’s rise as a title contender has been one of the bigger surprises this season ? obviously not as big as Leicester ? and their midfield depth has been a big part of it. If Tottenham keep their core players from this year and are able to upgrade through the transfer market, they’ll be a team to watch out for next year.', 'LONDON -- Tottenham forward Heung-Min Son has no problem playing every three to four days and says he loves the hectic English schedule.\\n\\nSon spent his entire professional career in Germany before joining Spurs from Bayer Leverkusen in the summer, but he prefers the gruelling Premier League and European fixture list to the Bundesliga\\'s winter break.\\n\\nGerman clubs have six weeks off from mid-December until the end of January, while the festive schedule is the busiest time of year for English clubs, typically playing three games in six days.\\n\\nSome Premier League players might therefore be feeling a little jaded at this time of year but not so for Son, who is in no doubt as to his preference.\\n\\n\"I am very happy,\" the forward told reporters. \"In Germany we have two weeks holiday and then we have pre-season again, and maybe one month when we don\\'t play. It\\'s very wrong for me.\\n\\n\"For me now it\\'s very good because every three to four days we have a game. I love to play football. It\\'s my first time here but it\\'s nice to be here -- to play Boxing Days. It\\'s very nice,\" he told reporters.\\n\\nThough Spurs\\' schedule has been eased by Sunday\\'s 1-0 FA Cup defeat to Crystal Palace, and arguably the North Londoners will be better off focussing on Europe and their Premier League title challenge.\\n\\nSon, however, says the Spurs squad were left \"angry\" by their fifth-round exit but insisted the focus is now on their two remaining competitions.\\n\\n\"It\\'s now finished. We have to concentrate on the Europa League. \"We can\\'t play every game, or every tournament like the FA Cup, the Europa League and Premier League. Now we can concentrate on the Europa League and Premier League.\\n\\n\"Because we lost I am angry, we are angry, but this is football. We have to understand.\"\\n\\nHowever, the South Korea international conceded that Spurs\\' exit may help the squad in the long run.\\n\\nWhen asked if fewer games could prove beneficial to Spurs, he replied: \"Yeah, I think so because it\\'s now going towards the end of the season and all the players may be tired. Now it\\'s very important -- we have two tournaments to play.\\n\\n\"We are not happy because we are out of the FA Cup. We have to understand that we can now concentrate on the Premier League and Europa League.\"\\n\\nSpurs dominated possession and had the better chances against the Eagles but were undone by Martin Kelly\\'s sucker-punch during first half stoppage time.\\n\\nDele Alli, Harry Kane, Joshua Onomah and Christian Eriksen all went close to finding an equaliser which would have set-up a replay at Selhurst Park, causing more scheduling woes for Spurs and the FA.Son, however, believes the squad would have coped with an extra match, adding: \"If we scored in the last minute, it\\'s a replay but I think we have the quality for FA Cup.\\n\\n\"We would really be tired but why not? Spurs have little time to dwell on the defeat, with Fiorentina the visitors to White Hart Lane on Thursday for the Europa League round-of-32 second leg.\\n\\nThe first leg in Florence finished 1-1, leaving Spurs favourites to finish the job at home, but Son believes they will have to be at their best to beat the Italians, who are currently third in the Serie A.\\n\\n\"I\\'m very excited but we have to win this game. We have four days until we play -- we can relax and recover. We have to be really focussed and we have to win this game. We\\'re ready, I hope we win against Fiorentina. They are a very good team and we need to be very focussed.\"\\n\\nSon was named man-of-the-match by broadcasters against Palace but the 23-year-old says Spurs fans have still not seen the best of him.\\n\\n\"I come a little bit after injury. Now I feel better than before. I know I can play much better, I can score more also! I have to try with the team. I will do everything for the team. That\\'s it.\"', 'Son Heung-min says he is waiting to be cleared by Tottenham to realise his dream of representing South Korea at the Olympic Games this year.\\nOnly three players over the age of 23 can be selected by nations for the Olympics and, with Son turning 24 in July, Korea need Spurs\\' permission to allow him to play in Rio de Janeiro.\\nHead coach Uli Stielike claimed in March that Son had not been selected for the national team during the international window as compromise for allowing him to feature in Brazil.\\nHowever, allowing Son to play would disrupt his involvement for the start of the next Premier League season, but the former Bayer Leverkusen forward is hopeful of representing his country.\\n\"We\\'re still waiting for the decision so I can\\'t say anything,\" he is quoted as saying by ESPN.\\n\"Why not [play]? It\\'s a very nice tournament and competition and every player wants to go to play there. \\n\"I\\'ve played in the World Cup and Asian Cup and I haven\\'t played in the Olympics. We\\'ll see what happens.\"', 'Tottenham Hotspur snapped up talented South Korean international Heung-min Son in the summer from German side Bayer Leverkusen.\\n\\nThe player cost, according to the Guardian, a sizeable sum in the region of ￡22 million and arrived with plenty of promise.\\n\\nHowever, despite showing real glimpses of his undoubted quality, Son has often found himself on the bench this season and has also had to battle with injury at time.\\n\\nNow he has had a stark warning from his international boss that he needs to be a regular to play for his country.Speaking to the Korea Times Dutchman Uli Stielike had this to say about the South Korea star ? and others who were not regular first-team starters:\\n\\n\"I am curious how they will turn out in transfers this summer.\\n\\n\"I have some expectations that those players (who are not playing regularly) may have more opportunities in new teams. It is very important for them to play regularly.\\n\\n\"I think calling up players who have not played as regular members for about six months to the World Cup squad wouldn\\'t be appropriate.\"\\n\\nSon certainly has some need to be concerned.\\n\\nHe has played just 920 minutes in the Premier League this season. Compared to his peers at Spurs that does not read well. Erik Lamela has played 1939 minutes whilst Christian Eriksen and Dele Alli have played 2491 and 2308 respectively.So the Korean needs to establish himself as more of a regular fixture at Tottenham if he is to secure himself a place in the national team in the years to come.\\n\\nIf not, it seems Stielike would like him to consider a Tottenham exit.', \"Now that the draw for the 2018 AFC World Cup final qualifying round is out, it is time to take a closer look into which of the region's top players will be up against one another as the games play out.\\n\\nThere will be some fascinating matchups over the coming months, as the best teams on the continent fight it out over the course of 10 games.\\n\\nOnly four Asian nations will be guaranteed World Cup spots, with another two facing more playoffs for a chance to make it to Russia 2018.\\n\\nThe matches begin in September and will conclude in November 2017.What a battle this could be between the Australian goalscoring talisman and Japan's classy centre-back. Cahill has enjoyed playing against the Samurai Blue ever since that sunny afternoon in June 2006 when he came off the bench in Kaiserslautern with the Socceroos trailing 1-0. The rest, and his two goals in the last six minutes, is history.\\n\\nThe former Everton man has caused problems in the past with his aerial ability but Yoshida has been enjoying himself in the Premier League with Southampton over the years.\\n\\nBut his debut in the English game was a tough one. Yoshida was at the back when Arsenal won 6-1. He has adapted well to the physical demands of the Premier League to become a fixture in the Saints' backline.\\n\\nYoshida will be relishing the chance to face Japan's old nemesis. The two meetings are likely to mark the last time that Cahill takes the field against the Samurai Blue. He will want to sign off in a blaze of glory.\\n\\nJapan's top centre-back will want to stop him. Cahill remains the AFC player that Japanese fans fear the most.This qualification campaign will be a major one for the UAE playmaker. 'Amoory' was a standout player at the 2015 AFC Asian Cup and has been one of the most exciting that the continent has produced in a long time.\\n\\nRightly or wrongly, he is not about to be heading to the big leagues of Europe but fans around Asia will get another chance to see his talents. The Al Ain man pulls the attacking strings for the UAE, buzzing around behind the team's dangerous strikers.\\n\\nAbdulrahman likes to roam free and will be a handful for the War Elephants defence and midfield, including Sarach.\\n\\nThe Muangthong favourite is developing into a disciplined midfielder. His performance against Iraq in March in the all-important draw to clinch top spot in the second round group was top notch. Sarach sat in front of the backline and broke down Iraqi attacks to help his team maintain possession in the pressure encounter.\\n\\nThe 23-year-old could be about to face his toughest test in the shape of the UAE's bushy-haired magician.If 'Sonaldo' can find his form for his country then South Korea will be confident of a ninth successive appearance on the global stage. The Spurs attacker is yet to achieve his full potential with his country but is surely not far away.\\n\\nHe has also yet to do the same for Tottenham Hotspur since his big-money move last summer from Bayer Leverkusen. But there is one benefit from his failure to become a regular starter as his jet-fuelled heels will be fresh and ready to run at the Chinese back four.\\n\\nZhang Linpeng is regarded as one of Asia's best defenders, probably why Chelsea made a bid, rejected by Asian champions Guangzhou Evergrande, last summer.\\n\\nThe athletic 26-year-old can play at right-back or in the middle but, wherever he is, he'll have his hands full with the South Korean express.\\n\\nIf China and Zhang can stop Son, then Team Dragon will fancy their chances of shocking their more accomplished neighbours.If Leicester City win the Premier League, the visit of Japan to Bangkok in September will be an even bigger deal, thanks to the presence of Shinji Okazaki.\\n\\nThe Japanese striker has been a vital part in the success of the Siamese Foxes and is sure to get a warm welcome in the City of Angels. With 48 goals in 100 appearances, Okazaki has an excellent scoring record and, even without his Southeast Asian connections, will be the man to watch for Thailand.\\n\\nGoalkeeper Kawin will have his work cut out between the sticks. The 26-year-old has been one of the leading goalkeepers in the region for years, even if his dream of playing in the big leagues of Europe has yet to come true.\\n\\nThe next best thing may be testing himself against the striker from the English champions in a vital World Cup qualifier in Bangkok.\\n\\nOf course, Kawin and Thailand will also be kept busy in November and December when they defend their AFF Suzuki Cup crown.Nasser Al Shamrani was the 2014 Asian Player of the Year but has not been a feature of the Saudi Arabia football team under Bert Van Marwijk. But it would be interesting, to say the least, if he was recalled for the clashes against Australia.\\n\\nThe Saudi striker was banned for six games for spitting at the Aussie defender as Al Hilal lost the 2014 Asian Champions League final to Western Sydney Wanderers where Spiranovic was a defensive rock.\\n\\nA reunion would add a certain frisson to the tie. But even if Al Shamrani does not get a call-up, there will still be plenty for Spriranovic and his fellow Socceroos to deal with. Mohammad Al Sahlawi is the top scorer on the road to Russia so far, with 14 goals in the second round.\\n\\nFormer Bundesliga defender Spiranovic, who's now a teammate of Tim Cahill at Chinese club Hangzhou Greentown, is sure to have his hands full. He is likely to be partnered at the back by Trent Sainsbury who provided a stingy defence at last year's Asian Cup, with only one goal conceded in the knockout stages.\", \"Tottenham missed the chance to all-but wrap up second place after they slipped to a 2-1 defeat to Southampton at White Hart Lane this afternoon.\\n\\nMauricio Pochettino's side started strongly in glorious sunshine and went in front before the game was 20 minutes old courtesy of Heung-min Son's fourth goal of the season.\\n\\nThe South Korean picked up the ball from deep and exchanged passes with Erik Lamela before rounding Fraser Forster and firing home into an unguarded net.\\n\\nThe visitors slowly worked their way back into the game and while Spurs enjoyed dominance in possession, the Saints were a constant threat on the counter attack and drew level on the half hour mark.Shane Long out muscled Toby Alderweireld and fizzed a ball across the face of goal, which Steven Davis met at the near post.\\n\\nHugo Lloris was unable to stop the Northern Irishman's effort, despite getting a strong hand to the ball.\\n\\nCriticising the goalkeeper could appear harsh but a player of his calibre should have kept the strike out.Harry Kane missed a superb chance on the stroke of half time when he opted to shoot from a tight angle rather than square to Erik Lamela and the two sides went in level.\\n\\nSpurs were made to rue the missed opportunity when Davis exchanged passes with Shane Long and drilled a low effort in the bottom corner on 72 minutes.Heavy legs were present on both sides during the closing stages, with the searing heat clearly playing a part, and Spurs were unable to find an equaliser, which means the fight for second place will go to the last day.\\n\\nRonald Koeman's side, meanwhile, can continue to dream of a Europa League place after leapfrogging West Ham into sixth place.\", 'Tottenham Hotspur have one match left this season, with the task of securing second place in the Premier League still at hand. Yet after the disappointment of missing out on the title, the present understandably holds less fascination.\\n\\nThe future of this team and what it could achieve with head coach Mauricio Pochettino is quickly taking precedence, and with it speculation over who will be chief among their transfer targets this summer.Speaking after Tottenham\\'s 2-1 loss with Southampton, Pochettino sensibly pointed out that improving his team is not just about new signings.\\n\\n\"I have a very clear [idea] the areas we need to improve and how,\" the Argentinian said. \"Doesn’t mean that we need to add players, means that we need to improve. The same players that we have need to move on and improve. Some players in different situations?tactical, mentality and different things.\\n\\n\"But the most important thing is we know how.\"\\n\\nWhile he\\'s understandably keen to reiterate the worth of those already at the club, bringing in new players is as much a part of improving them as anything else. Keeping current first-teamers on their toes with competition for places, as well as lightening the workload for some.\\n\\nPochettino\\'s intentions for his central midfield will be interesting to see.In the resurgent Mousa Demble, refocused Eric Dier and?a little further forward?the precocious Dele Alli, he has three of the division\\'s best performers in this position in 2015-16. Numbers wise Spurs look fine, too, with the department full but feeling less bloated than a year ago, when Etienne Capoue and Benjamin Stambouli were marginalised and Paulinho was also on his way out.\\n\\nNonetheless, Pochettino has already proved he is not a manager to rest on his laurels. The downgrading of Nabil Bentaleb\\'s and Ryan Mason\\'s statuses this season have been examples to his whole squad of the need for continued progression and a good helping of fortune.\\n\\nSpurs are in decent shape at full-back, with the improved Danny Rose and Kyle Walker supported by Ben Davies and Kieran Trippier. The latter two are likely to be better for their experiences this season, while USA international DeAndre Yedlin will be back from his loan at Sunderland?though he may find he is best served with a move elsewhere.\\n\\nCentral defence falls more into the aforementioned criteria of needing to augment, motivate and aid the current group with a new addition.\\n\\n']\n"
     ]
    }
   ],
   "source": [
    "print(X_text)"
   ]
  },
  {
   "cell_type": "code",
   "execution_count": 37,
   "metadata": {
    "collapsed": false
   },
   "outputs": [
    {
     "name": "stdout",
     "output_type": "stream",
     "text": [
      "['0', '0', '0', '0', '0', '0', '0', '0', '0', '0', '0', '0', '0', '0', '0', '0', '0', '0', '0', '0', '0', '0', '0', '0', '0', '0', '0', '0', '0', '0', '0', '0', '0', '0', '0', '0', '0', '0', '0', '0', '1', '1', '1', '1', '1', '1', '1', '1', '1', '1', '1', '1', '1', '1', '1', '1', '1', '1', '1', '1', '1', '1', '1', '1', '1', '1', '1', '1', '1', '1', '1', '1', '1', '1', '1', '1', '1', '1', '1', '1']\n"
     ]
    }
   ],
   "source": [
    "print(y_class)"
   ]
  },
  {
   "cell_type": "markdown",
   "metadata": {},
   "source": [
    "#### Corpus 만들기 + 단어별 index 생성하기"
   ]
  },
  {
   "cell_type": "code",
   "execution_count": 40,
   "metadata": {
    "collapsed": true
   },
   "outputs": [],
   "source": [
    "#의미없는 문장부호 등은 제거하기\n",
    "def get_cleaned_text(text):\n",
    "    import re\n",
    "    text = re.sub('\\W+','', text.lower() )\n",
    "    return text"
   ]
  },
  {
   "cell_type": "code",
   "execution_count": 42,
   "metadata": {
    "collapsed": false
   },
   "outputs": [
    {
     "data": {
      "text/plain": [
       "'im'"
      ]
     },
     "execution_count": 42,
     "metadata": {},
     "output_type": "execute_result"
    }
   ],
   "source": [
    "get_cleaned_text(\"I'm\")"
   ]
  },
  {
   "cell_type": "code",
   "execution_count": 41,
   "metadata": {
    "collapsed": true
   },
   "outputs": [],
   "source": [
    "def get_corpus_dict(text):\n",
    "    text = [sentence.split() for sentence in text]\n",
    "    clenad_words = [get_cleaned_text(word) for words in text for word in words]\n",
    "\n",
    "    from collections import OrderedDict\n",
    "    corpus_dict = OrderedDict()\n",
    "    for i, v in enumerate(set(clenad_words)):\n",
    "        corpus_dict[v] = i\n",
    "    return corpus_dict"
   ]
  },
  {
   "cell_type": "code",
   "execution_count": 45,
   "metadata": {
    "collapsed": false
   },
   "outputs": [
    {
     "name": "stdout",
     "output_type": "stream",
     "text": [
      "Number of words : 4024\n",
      "OrderedDict([('', 0), ('adapting', 1), ('snap', 2), ('along', 3), ('operations', 4), ('ops', 5), ('theyre', 6), ('lauded', 7), ('familiar', 8), ('dont', 9), ('what', 10), ('tottenhams', 11), ('week', 12), ('september', 13), ('petr', 14), ('boxing', 15), ('calm', 16), ('correspondingly', 17), ('almost', 18), ('book', 19), ('general', 20), ('searing', 21), ('pellegrinis', 22), ('nodoubter', 23), ('chinese', 24), ('9', 25), ('ideal', 26), ('blasting', 27), ('kbo', 28), ('589', 29), ('marks', 30), ('that', 31), ('vfb', 32), ('data', 33), ('545', 34), ('impressive', 35), ('arent', 36), ('entered', 37), ('außenverteidiger', 38), ('tigers', 39), ('highest', 40), ('bushyhaired', 41), ('hanover', 42), ('ago', 43), ('midaugust', 44), ('surprising', 45), ('currently', 46), ('2010', 47), ('case', 48), ('chance', 49), ('action', 50), ('attempts', 51), ('httpwwwsouthwaleseveningpostcoukswanseacitymidfielderkisungyuengmissstory28670822detailstoryhtmlixzz48qp94g00', 52), ('slowerspeed', 53), ('discuss', 54), ('seeking', 55), ('samurai', 56), ('maximising', 57), ('fair', 58), ('minutesheavy', 59), ('for', 60), ('surrendered', 61), ('etihad', 62), ('defeated', 63), ('hitting', 64), ('refunded', 65), ('wahbi', 66), ('exception', 67), ('problematic', 68), ('57thminute', 69), ('fourthplace', 70), ('four', 71), ('tax', 72), ('basel', 73), ('heartened', 74), ('keen', 75), ('havent', 76), ('shellshocked', 77), ('caused', 78), ('papastathopoulos', 79), ('belgians', 80), ('12th', 81), ('when', 82), ('might', 83), ('rp', 84), ('watch', 85), ('reporters', 86), ('phone', 87), ('spurs', 88), ('relax', 89), ('maintain', 90), ('mlb', 91), ('outing', 92), ('wild', 93), ('eduardo', 94), ('thing', 95), ('candidates', 96), ('357', 97), ('olympics', 98), ('shame', 99), ('spring', 100), ('rights', 101), ('unlucky', 102), ('highflying', 103), ('comparison', 104), ('monaco', 105), ('sharp', 106), ('apt', 107), ('14', 108), ('suggest', 109), ('guidolin', 110), ('kane', 111), ('notably', 112), ('davis', 113), ('characterized', 114), ('away', 115), ('crosscity', 116), ('landore', 117), ('neighboursif', 118), ('elevated', 119), ('heroes', 120), ('foundation', 121), ('pointers', 122), ('51stminute', 123), ('ambitious', 124), ('perhaps', 125), ('assistance', 126), ('the', 127), ('decision', 128), ('advantage', 129), ('capacity', 130), ('extremely', 131), ('refocused', 132), ('quite', 133), ('or', 134), ('drastic', 135), ('mistakes', 136), ('usa', 137), ('indianapolis', 138), ('conference', 139), ('ji', 140), ('sons', 141), ('results', 142), ('troubles', 143), ('resume', 144), ('lars', 145), ('news', 146), ('relayed', 147), ('advertising', 148), ('mercurial', 149), ('esswein', 150), ('lefty', 151), ('accommodate', 152), ('consider', 153), ('wearing', 154), ('small', 155), ('happens', 156), ('world', 157), ('worstcase', 158), ('293', 159), ('surprisingly', 160), ('top10', 161), ('needing', 162), ('teammates', 163), ('braun', 164), ('debunk', 165), ('australia', 166), ('either', 167), ('yahoos', 168), ('solo', 169), ('fc', 170), ('recalled', 171), ('observation', 172), ('gyeonggi', 173), ('tuchels', 174), ('thinking', 175), ('enough', 176), ('feel', 177), ('72', 178), ('frontline', 179), ('arsenals', 180), ('washington', 181), ('retain', 182), ('lone', 183), ('hang', 184), ('honor', 185), ('threebagger', 186), ('dramatically', 187), ('squad', 188), ('paulinho', 189), ('nobody', 190), ('fason', 191), ('surely', 192), ('cubs', 193), ('factoring', 194), ('buffaloes', 195), ('playmaker', 196), ('enhancing', 197), ('theyll', 198), ('include', 199), ('coach', 200), ('hand', 201), ('center', 202), ('notice', 203), ('mohamad', 204), ('jake', 205), ('zach', 206), ('jackie', 207), ('prestigious', 208), ('span', 209), ('lamela', 210), ('double', 211), ('showing', 212), ('alive', 213), ('7103', 214), ('accomplished', 215), ('build', 216), ('405', 217), ('visiting', 218), ('lowstakes', 219), ('records', 220), ('enthusiasm', 221), ('was', 222), ('direction', 223), ('month', 224), ('statcast', 225), ('every', 226), ('incredible', 227), ('plan', 228), ('unlikely', 229), ('mancloser', 230), ('grounded', 231), ('saturdays', 232), ('ballparks', 233), ('2020', 234), ('icing', 235), ('27', 236), ('sincenotably', 237), ('going', 238), ('longtime', 239), ('appearance', 240), ('emmanuel', 241), ('sense', 242), ('air', 243), ('throwing', 244), ('33rd', 245), ('jh', 246), ('shrinking', 247), ('site', 248), ('traded', 249), ('praising', 250), ('preached', 251), ('packed', 252), ('fifteenyear', 253), ('winter', 254), ('encouraging', 255), ('travel', 256), ('helped', 257), ('easily', 258), ('five', 259), ('waiting', 260), ('blasts', 261), ('improvement', 262), ('29yearold', 263), ('yahoo', 264), ('16th', 265), ('possible', 266), ('strongest', 267), ('deal', 268), ('contending', 269), ('listed', 270), ('clubhouse', 271), ('hasnt', 272), ('georg', 273), ('consolation', 274), ('orioles', 275), ('reason', 276), ('finish', 277), ('toiling', 278), ('offseason', 279), ('seattle', 280), ('square', 281), ('very', 282), ('regret', 283), ('swansea', 284), ('runnerup', 285), ('resistance', 286), ('long', 287), ('new', 288), ('facebook', 289), ('loves', 290), ('25⅓', 291), ('snapped', 292), ('strained', 293), ('source', 294), ('devils', 295), ('spitting', 296), ('have', 297), ('seemed', 298), ('zone', 299), ('music', 300), ('kanes', 301), ('beat', 302), ('purchase', 303), ('otherwise', 304), ('down', 305), ('velocity', 306), ('be', 307), ('fight', 308), ('matheny', 309), ('253', 310), ('nashville', 311), ('starters', 312), ('tidy', 313), ('hens', 314), ('system', 315), ('drove', 316), ('agreement', 317), ('doubledigit', 318), ('adaptable', 319), ('heat', 320), ('yakult', 321), ('defend', 322), ('slow', 323), ('8379', 324), ('serie', 325), ('better', 326), ('breathtaking', 327), ('eight', 328), ('daeho', 329), ('sent', 330), ('wear', 331), ('shows', 332), ('initial', 333), ('bid', 334), ('big', 335), ('informal', 336), ('pitched', 337), ('personality', 338), ('towards', 339), ('107', 340), ('developing', 341), ('wazde', 342), ('rejected', 343), ('inside', 344), ('rehabbing', 345), ('274', 346), ('premier', 347), ('oneonone', 348), ('keep', 349), ('fraser', 350), ('cities', 351), ('does', 352), ('grateful', 353), ('quipped', 354), ('trio', 355), ('needed', 356), ('historically', 357), ('thomas', 358), ('accused', 359), ('calmness', 360), ('responded', 361), ('barrow', 362), ('hectic', 363), ('chances', 364), ('wwk', 365), ('longterm', 366), ('we', 367), ('grosskreutz', 368), ('88', 369), ('outlet', 370), ('2104', 371), ('solid', 372), ('successive', 373), ('rightcenter', 374), ('yoon', 375), ('lowest', 376), ('avoiding', 377), ('hassan', 378), ('rehab', 379), ('such', 380), ('43', 381), ('eye', 382), ('german', 383), ('adam', 384), ('countryman', 385), ('kim', 386), ('prague', 387), ('manchester', 388), ('httpwwwsouthwaleseveningpostcoukswanseacitymidfielderkisungyuengwarystory28830025detailstoryhtmlixzz48qq8eoyl', 389), ('potentially', 390), ('relieve', 391), ('breakthrough', 392), ('cologne', 393), ('confusing', 394), ('tickets', 395), ('weve', 396), ('arsene', 397), ('played', 398), ('reemphasising', 399), ('kimchi', 400), ('yaya', 401), ('crown', 402), ('citizens', 403), ('unbeatable', 404), ('21', 405), ('platform', 406), ('compete', 407), ('demands', 408), ('1', 409), ('time', 410), ('must', 411), ('bayern', 412), ('equal', 413), ('dropped', 414), ('firstyear', 415), ('phillipines', 416), ('starting', 417), ('dortmunds', 418), ('sellout', 419), ('ascent', 420), ('adams', 421), ('30', 422), ('read', 423), ('westphalians', 424), ('quarterfinals', 425), ('twitter', 426), ('chicago', 427), ('pulls', 428), ('scorer', 429), ('retirement', 430), ('breakingball', 431), ('joining', 432), ('without', 433), ('certain', 434), ('dearly', 435), ('entering', 436), ('torn', 437), ('anderson', 438), ('now', 439), ('dominant', 440), ('uli', 441), ('occupied', 442), ('sides', 443), ('those', 444), ('ton', 445), ('professionally', 446), ('bender', 447), ('11th', 448), ('dave', 449), ('summons', 450), ('crush', 451), ('expects', 452), ('backline', 453), ('worth', 454), ('schmelzer', 455), ('as', 456), ('magicianif', 457), ('him', 458), ('handling', 459), ('snag', 460), ('agrees', 461), ('depth', 462), ('danny', 463), ('many', 464), ('expressed', 465), ('2491', 466), ('confident', 467), ('280', 468), ('rbi', 469), ('hyunjin', 470), ('broke', 471), ('recording', 472), ('knew', 473), ('short', 474), ('chris', 475), ('before', 476), ('cut', 477), ('seasontheyre', 478), ('shinsoo', 479), ('up', 480), ('too', 481), ('pick', 482), ('said', 483), ('homeandaway', 484), ('photomark', 485), ('everton', 486), ('another', 487), ('nine', 488), ('hit', 489), ('6', 490), ('15th', 491), ('smith', 492), ('can', 493), ('debut', 494), ('81st', 495), ('quarters', 496), ('red', 497), ('austria', 498), ('hair', 499), ('allow', 500), ('callup', 501), ('tommy', 502), ('mercedesbenzarena', 503), ('inwardly', 504), ('main', 505), ('obtaining', 506), ('regular', 507), ('oldest', 508), ('suspends', 509), ('smashed', 510), ('afternoon', 511), ('contact', 512), ('decline', 513), ('handed', 514), ('talisman', 515), ('cancel', 516), ('30th', 517), ('onandoff', 518), ('germanys', 519), ('request', 520), ('saves', 521), ('oumari', 522), ('hakcheol', 523), ('per', 524), ('rotator', 525), ('angeles', 526), ('sign', 527), ('luke', 528), ('june', 529), ('mentality', 530), ('allstar', 531), ('sport', 532), ('also', 533), ('fifthinning', 534), ('days', 535), ('idea', 536), ('lebanon', 537), ('bst', 538), ('rio', 539), ('specimen', 540), ('easier', 541), ('closely', 542), ('thenmanager', 543), ('32nd', 544), ('plans', 545), ('combat', 546), ('they', 547), ('stadium', 548), ('calmly', 549), ('impress', 550), ('busy', 551), ('swat', 552), ('louis', 553), ('233', 554), ('finnbogason', 555), ('combative', 556), ('pull', 557), ('asked', 558), ('kind', 559), ('puts', 560), ('397', 561), ('sigurdsson', 562), ('41350', 563), ('started', 564), ('reverse', 565), ('bayer', 566), ('berths', 567), ('put', 568), ('hecking', 569), ('kang', 570), ('did', 571), ('shut', 572), ('moments', 573), ('especially', 574), ('uptop', 575), ('catchers', 576), ('205', 577), ('relied', 578), ('guaranteed', 579), ('scandal', 580), ('super', 581), ('leadoff', 582), ('300', 583), ('soil', 584), ('bids', 585), ('streaming', 586), ('success', 587), ('levels', 588), ('eastern', 589), ('tired', 590), ('hugo', 591), ('forwardthe', 592), ('cost', 593), ('drilled', 594), ('spot', 595), ('talents', 596), ('camp', 597), ('francona', 598), ('ali', 599), ('enjoying', 600), ('admitted', 601), ('cheering', 602), ('fourseam', 603), ('seunghwan', 604), ('public', 605), ('2002', 606), ('parading', 607), ('hosts', 608), ('appropriate', 609), ('186', 610), ('greinke', 611), ('reed', 612), ('harm', 613), ('heeseop', 614), ('reach', 615), ('79', 616), ('parkbang', 617), ('arriving', 618), ('alex', 619), ('requirements', 620), ('gonzalez', 621), ('transitions', 622), ('sixyear', 623), ('ive', 624), ('rookie', 625), ('signs', 626), ('whom', 627), ('lamented', 628), ('lastminute', 629), ('sooner', 630), ('typical', 631), ('july', 632), ('scoresheet', 633), ('indicated', 634), ('productive', 635), ('occasionally', 636), ('strikes', 637), ('fortunate', 638), ('cruz', 639), ('leagues', 640), ('doubt', 641), ('none', 642), ('came', 643), ('momentum', 644), ('regardless', 645), ('actual', 646), ('struggles', 647), ('finale', 648), ('process', 649), ('precocious', 650), ('kyle', 651), ('largely', 652), ('barely', 653), ('win', 654), ('stephen', 655), ('threatens', 656), ('plenty', 657), ('d', 658), ('proceeding', 659), ('everything', 660), ('pyongyang', 661), ('on', 662), ('managed', 663), ('assess', 664), ('cornerstone', 665), ('approach', 666), ('duplicate', 667), ('matchwinning', 668), ('227288561', 669), ('48', 670), ('104', 671), ('fitting', 672), ('hosting', 673), ('friendly', 674), ('linked', 675), ('officially', 676), ('27yearold', 677), ('thought', 678), ('whip', 679), ('eagles', 680), ('upton', 681), ('facing', 682), ('stateside', 683), ('bigleague', 684), ('lefties', 685), ('baseman', 686), ('nicknamed', 687), ('representing', 688), ('like', 689), ('best', 690), ('sparked', 691), ('balcony', 692), ('westfalenstadion', 693), ('weigl', 694), ('tehran', 695), ('deadline', 696), ('benefit', 697), ('montis', 698), ('yesterday', 699), ('truly', 700), ('reached', 701), ('290', 702), ('secretary', 703), ('draw', 704), ('previous', 705), ('ones', 706), ('supporting', 707), ('performances', 708), ('fortnight', 709), ('western', 710), ('ripken', 711), ('penalty', 712), ('nov', 713), ('via', 714), ('known', 715), ('scary', 716), ('tries', 717), ('germans', 718), ('selhurst', 719), ('clinching', 720), ('smoothest', 721), ('connections', 722), ('fouled', 723), ('61', 724), ('jeongho', 725), ('midseason', 726), ('minute', 727), ('under', 728), ('comes', 729), ('nam', 730), ('legs', 731), ('decided', 732), ('timeline', 733), ('failed', 734), ('utilised', 735), ('streak', 736), ('defines', 737), ('versus', 738), ('2', 739), ('competitions', 740), ('believes', 741), ('fascinating', 742), ('different', 743), ('20', 744), ('dismal', 745), ('decade', 746), ('you', 747), ('triplea', 748), ('football', 749), ('216', 750), ('lifted', 751), ('two', 752), ('mccarthy', 753), ('confirmed', 754), ('hard', 755), ('bettered', 756), ('someone', 757), ('performed', 758), ('alderweireld', 759), ('rightward', 760), ('thanks', 761), ('second', 762), ('ranked', 763), ('inning', 764), ('jeff', 765), ('explosive', 766), ('credentials', 767), ('worst', 768), ('prepared', 769), ('49', 770), ('injuries', 771), ('hour', 772), ('experienced', 773), ('worry', 774), ('slugger', 775), ('wish', 776), ('seung', 777), ('headed', 778), ('central', 779), ('argue', 780), ('morgan', 781), ('together', 782), ('wants', 783), ('hurl', 784), ('750', 785), ('110th', 786), ('jooho', 787), ('cast', 788), ('62', 789), ('646', 790), ('good', 791), ('timed', 792), ('losing', 793), ('states', 794), ('directed', 795), ('championship', 796), ('bloated', 797), ('fridays', 798), ('kwak', 799), ('how', 800), ('nationals', 801), ('drew', 802), ('giants', 803), ('houston', 804), ('7', 805), ('baseball', 806), ('273', 807), ('jumped', 808), ('successfully', 809), ('bigmoney', 810), ('sittng', 811), ('cats', 812), ('checking', 813), ('nobearing', 814), ('rightside', 815), ('gradually', 816), ('winless', 817), ('listen', 818), ('thigh', 819), ('aff', 820), ('fighting', 821), ('replied', 822), ('translation', 823), ('httpwwwswanseavitalfootballcoukarticleaspa446198ixzz48qois9gi', 824), ('national', 825), ('prior', 826), ('medical', 827), ('seeds', 828), ('closer', 829), ('striking', 830), ('development', 831), ('face', 832), ('rally', 833), ('medalwinning', 834), ('44th', 835), ('tricks', 836), ('underway', 837), ('reigning', 838), ('awfully', 839), ('topflight', 840), ('child', 841), ('progress', 842), ('drawn', 843), ('tomorrow', 844), ('iranian', 845), ('stretches', 846), ('superb', 847), ('goalscoring', 848), ('things', 849), ('janeiro', 850), ('wonderful', 851), ('transferring', 852), ('league', 853), ('anything', 854), ('prefers', 855), ('qatari', 856), ('343', 857), ('gooden', 858), ('julian', 859), ('eurostars', 860), ('claudio', 861), ('post', 862), ('off', 863), ('practice', 864), ('angry', 865), ('spots', 866), ('option', 867), ('myanmar', 868), ('pen', 869), ('2018', 870), ('displaying', 871), ('contrast', 872), ('infectious', 873), ('ronald', 874), ('jokes', 875), ('notched', 876), ('spain', 877), ('crime', 878), ('struggle', 879), ('stoppage', 880), ('performers', 881), ('briefly', 882), ('watching', 883), ('finalexpectations', 884), ('cramp', 885), ('brandon', 886), ('sunderlandthough', 887), ('contract', 888), ('group', 889), ('roberts', 890), ('japanese', 891), ('watford', 892), ('roll', 893), ('macau', 894), ('works', 895), ('phillies', 896), ('level', 897), ('resultit', 898), ('faces', 899), ('think', 900), ('collect', 901), ('accomplish', 902), ('rejoined', 903), ('part', 904), ('marking', 905), ('my', 906), ('huston', 907), ('curious', 908), ('surpriseas', 909), ('sixteen', 910), ('sox', 911), ('replay', 912), ('predict', 913), ('member', 914), ('past', 915), ('bundesliga', 916), ('buildup', 917), ('classy', 918), ('highly', 919), ('cupbeating', 920), ('arrive', 921), ('neel', 922), ('distance', 923), ('welcome', 924), ('dortmund', 925), ('transition', 926), ('fresher', 927), ('2324', 928), ('expectations', 929), ('ultralongdistance', 930), ('weeks', 931), ('huge', 932), ('wellpositioned', 933), ('uaes', 934), ('1977', 935), ('march', 936), ('mostthis', 937), ('170', 938), ('twelve', 939), ('believe', 940), ('attention', 941), ('out', 942), ('kis', 943), ('clear', 944), ('adjustment', 945), ('underwhelmed', 946), ('december', 947), ('participant', 948), ('dominance', 949), ('northern', 950), ('firstteamers', 951), ('surprises', 952), ('seoul', 953), ('interview', 954), ('impression', 955), ('rangers', 956), ('idle', 957), ('instead', 958), ('completing', 959), ('batter', 960), ('fancy', 961), ('production', 962), ('something', 963), ('respectively', 964), ('muscled', 965), ('confidence', 966), ('jinsoo', 967), ('affiliation', 968), ('stephane', 969), ('amoory', 970), ('uefa', 971), ('revenge', 972), ('saw', 973), ('stamford', 974), ('dangerous', 975), ('games', 976), ('meet', 977), ('injured', 978), ('tylor', 979), ('injurytime', 980), ('ain', 981), ('naming', 982), ('reiterate', 983), ('jinsu', 984), ('reaction', 985), ('stuff', 986), ('averaging', 987), ('make', 988), ('attributed', 989), ('heard', 990), ('newest', 991), ('106', 992), ('order', 993), ('province', 994), ('sunny', 995), ('seonghwan', 996), ('manofthematch', 997), ('kbs', 998), ('httpenyibadacomarticles11117820160323afc2018worldcupqualifyingsouthkoreavslebanonpreviewhtmixzz48qmvasli', 999), ('diamondbacks', 1000), ('lasts', 1001), ('favourite', 1002), ('toledo', 1003), ('12point', 1004), ('chaito', 1005), ('eyes', 1006), ('themselves', 1007), ('met', 1008), ('chadli', 1009), ('ki', 1010), ('russians', 1011), ('bringing', 1012), ('preference', 1013), ('reuter', 1014), ('oppositionson', 1015), ('announcers', 1016), ('ms', 1017), ('conceded', 1018), ('monday', 1019), ('energetic', 1020), ('multiple', 1021), ('personal', 1022), ('mariner', 1023), ('declined', 1024), ('celebrated', 1025), ('fill', 1026), ('rightly', 1027), ('opinion', 1028), ('options', 1029), ('missing', 1030), ('gain', 1031), ('sporting', 1032), ('meaning', 1033), ('gathered', 1034), ('each', 1035), ('wayne', 1036), ('hat', 1037), ('timo', 1038), ('byron', 1039), ('286', 1040), ('magazine', 1041), ('34', 1042), ('317', 1043), ('care', 1044), ('finally', 1045), ('visitors', 1046), ('conditioning', 1047), ('poorly', 1048), ('walkup', 1049), ('seems', 1050), ('encounter', 1051), ('relegation', 1052), ('wales', 1053), ('sliders', 1054), ('affect', 1055), ('curves', 1056), ('free', 1057), ('ninth', 1058), ('suffered', 1059), ('talked', 1060), ('365', 1061), ('26th', 1062), ('understand', 1063), ('race', 1064), ('others', 1065), ('rose', 1066), ('twogoal', 1067), ('belted', 1068), ('despite', 1069), ('exciting', 1070), ('mentioned', 1071), ('utilized', 1072), ('haeyoung', 1073), ('midmay', 1074), ('defence', 1075), ('midfielder', 1076), ('difference', 1077), ('placebo', 1078), ('break', 1079), ('england', 1080), ('three', 1081), ('at', 1082), ('realize', 1083), ('antonio', 1084), ('fifa', 1085), ('vientiane', 1086), ('lind', 1087), ('sarach', 1088), ('sun', 1089), ('progressed', 1090), ('jeju', 1091), ('giving', 1092), ('bosses', 1093), ('2017', 1094), ('impressions', 1095), ('heavily', 1096), ('heungmin', 1097), ('batting', 1098), ('reus', 1099), ('timely', 1100), ('journey', 1101), ('mix', 1102), ('meanwhile', 1103), ('201214', 1104), ('casino', 1105), ('roda', 1106), ('youssef', 1107), ('staff', 1108), ('uses', 1109), ('ankle', 1110), ('endofseason', 1111), ('places', 1112), ('28yearold', 1113), ('serve', 1114), ('restarted', 1115), ('betting', 1116), ('constitutes', 1117), ('466', 1118), ('era', 1119), ('stature', 1120), ('produced', 1121), ('tokyo', 1122), ('divided', 1123), ('25man', 1124), ('walkoff', 1125), ('doziers', 1126), ('pressure', 1127), ('mike', 1128), ('severe', 1129), ('wrapping', 1130), ('bryce', 1131), ('happen', 1132), ('approaches', 1133), ('primary', 1134), ('replaced', 1135), ('expressing', 1136), ('highranked', 1137), ('majors', 1138), ('strikers', 1139), ('focussing', 1140), ('positions', 1141), ('hummels', 1142), ('safety', 1143), ('benched', 1144), ('lions', 1145), ('anda', 1146), ('zack', 1147), ('during', 1148), ('hopeful', 1149), ('challenges', 1150), ('award', 1151), ('joy', 1152), ('focussed', 1153), ('homestand', 1154), ('leading', 1155), ('nearly', 1156), ('yonhap', 1157), ('awesome', 1158), ('capped', 1159), ('connects', 1160), ('japan', 1161), ('size', 1162), ('trade', 1163), ('mustache', 1164), ('rely', 1165), ('90', 1166), ('leaguer', 1167), ('brett', 1168), ('chase', 1169), ('fifth', 1170), ('restart', 1171), ('his', 1172), ('effect', 1173), ('company', 1174), ('somewhat', 1175), ('shuffle', 1176), ('indicted', 1177), ('sole', 1178), ('lately', 1179), ('tournament', 1180), ('lose', 1181), ('live', 1182), ('arrest', 1183), ('heroics', 1184), ('aid', 1185), ('allowed', 1186), ('buxton', 1187), ('josh', 1188), ('siamese', 1189), ('scenario', 1190), ('dele', 1191), ('continued', 1192), ('fourth', 1193), ('watched', 1194), ('258', 1195), ('speed', 1196), ('44', 1197), ('allen', 1198), ('rosenthal', 1199), ('25th', 1200), ('pushy', 1201), ('sept', 1202), ('saying', 1203), ('stints', 1204), ('favorites', 1205), ('whistle', 1206), ('eager', 1207), ('police', 1208), ('charge', 1209), ('lacked', 1210), ('making', 1211), ('liberty', 1212), ('isnt', 1213), ('2009', 1214), ('defensive', 1215), ('glorious', 1216), ('decrease', 1217), ('tonight', 1218), ('preceding', 1219), ('yeah', 1220), ('campbell', 1221), ('interesting', 1222), ('gametime', 1223), ('london', 1224), ('swallows', 1225), ('diekman', 1226), ('alexander', 1227), ('29', 1228), ('twoseam', 1229), ('confederation', 1230), ('20pitch', 1231), ('buzzing', 1232), ('able', 1233), ('battle', 1234), ('discomfort', 1235), ('just', 1236), ('allardyces', 1237), ('posted', 1238), ('luxury', 1239), ('threegame', 1240), ('itll', 1241), ('achieved', 1242), ('spotrac', 1243), ('groups', 1244), ('walked', 1245), ('prove', 1246), ('bvb', 1247), ('six', 1248), ('94', 1249), ('recruit', 1250), ('yedlin', 1251), ('crowded', 1252), ('affiliate', 1253), ('wins', 1254), ('europe', 1255), ('ruled', 1256), ('1430', 1257), ('want', 1258), ('assistant', 1259), ('201215', 1260), ('iron', 1261), ('heaviest', 1262), ('knee', 1263), ('gotten', 1264), ('dream', 1265), ('impossible', 1266), ('visit', 1267), ('taiwanese', 1268), ('matches', 1269), ('sidon', 1270), ('moving', 1271), ('timetable', 1272), ('montero', 1273), ('42', 1274), ('landing', 1275), ('check', 1276), ('bet', 1277), ('feeling', 1278), ('mariano', 1279), ('sixgame', 1280), ('seamless', 1281), ('own', 1282), ('situation', 1283), ('single', 1284), ('davies', 1285), ('particular', 1286), ('triple', 1287), ('calendar', 1288), ('worsen', 1289), ('garnered', 1290), ('seen', 1291), ('nats', 1292), ('drop', 1293), ('36th', 1294), ('sites', 1295), ('autumn', 1296), ('improved', 1297), ('64', 1298), ('graces', 1299), ('includes', 1300), ('control', 1301), ('nelson', 1302), ('interleague', 1303), ('valuable', 1304), ('11', 1305), ('dates', 1306), ('promising', 1307), ('56', 1308), ('investigated', 1309), ('kfa', 1310), ('language', 1311), ('dented', 1312), ('settle', 1313), ('allowing', 1314), ('gap', 1315), ('jetfuelled', 1316), ('aggressive', 1317), ('concentrate', 1318), ('krasnodar', 1319), ('halftime', 1320), ('school', 1321), ('bound', 1322), ('euros', 1323), ('eventually', 1324), ('95', 1325), ('intends', 1326), ('reliever', 1327), ('stepped', 1328), ('threshold', 1329), ('formation', 1330), ('host', 1331), ('bavarian', 1332), ('1720', 1333), ('sluggers', 1334), ('opposition', 1335), ('eightpoint', 1336), ('assured', 1337), ('yellows', 1338), ('camelback', 1339), ('theyve', 1340), ('mainz', 1341), ('sitting', 1342), ('jan', 1343), ('sure', 1344), ('90mile', 1345), ('571', 1346), ('fact', 1347), ('hoffenheim', 1348), ('dutchman', 1349), ('needless', 1350), ('pleased', 1351), ('bottom', 1352), ('earned', 1353), ('feared', 1354), ('sticks', 1355), ('scored', 1356), ('opting', 1357), ('bad', 1358), ('homerun', 1359), ('j', 1360), ('alphabet', 1361), ('al', 1362), ('auf', 1363), ('keeping', 1364), ('17', 1365), ('period', 1366), ('joel', 1367), ('oppositefield', 1368), ('circuitous', 1369), ('patrol', 1370), ('step', 1371), ('yoo', 1372), ('shares', 1373), ('secondranked', 1374), ('task', 1375), ('hes', 1376), ('victorya', 1377), ('khalil', 1378), ('succession', 1379), ('hope', 1380), ('lee', 1381), ('sydney', 1382), ('create', 1383), ('warning', 1384), ('ticket', 1385), ('coming', 1386), ('cody', 1387), ('augsburg', 1388), ('likelihood', 1389), ('table', 1390), ('tworun', 1391), ('pittsburgh', 1392), ('294', 1393), ('giroud', 1394), ('etienne', 1395), ('sokratis', 1396), ('20112012', 1397), ('olympic', 1398), ('helping', 1399), ('west', 1400), ('shamsin', 1401), ('mehr', 1402), ('laurels', 1403), ('mini', 1404), ('207', 1405), ('sanos', 1406), ('never', 1407), ('draws', 1408), ('embarrassing', 1409), ('instincts', 1410), ('septembers', 1411), ('terry', 1412), ('greater', 1413), ('perspective', 1414), ('belongs', 1415), ('relief', 1416), ('maintaining', 1417), ('grown', 1418), ('lively', 1419), ('attacker', 1420), ('upgrade', 1421), ('superiority', 1422), ('slew', 1423), ('from', 1424), ('restrictions', 1425), ('tuning', 1426), ('individual', 1427), ('involvement', 1428), ('spend', 1429), ('exit', 1430), ('provided', 1431), ('champion', 1432), ('regularly', 1433), ('he', 1434), ('revere', 1435), ('4', 1436), ('figures', 1437), ('victories', 1438), ('59th', 1439), ('seek', 1440), ('seem', 1441), ('amat', 1442), ('hammers', 1443), ('besides', 1444), ('fatigue', 1445), ('expected', 1446), ('collected', 1447), ('37', 1448), ('mamayevs', 1449), ('vitality', 1450), ('khazri', 1451), ('molitor', 1452), ('londoners', 1453), ('waits', 1454), ('according', 1455), ('produce', 1456), ('healthy', 1457), ('scout', 1458), ('qualify', 1459), ('slipped', 1460), ('jerry', 1461), ('promise', 1462), ('homers', 1463), ('reportedly', 1464), ('light', 1465), ('campaigns', 1466), ('harry', 1467), ('afford', 1468), ('heading', 1469), ('considering', 1470), ('aware', 1471), ('moon', 1472), ('mntwins', 1473), ('excitement', 1474), ('2022', 1475), ('managing', 1476), ('selected', 1477), ('toby', 1478), ('26year', 1479), ('liverpool', 1480), ('percentage', 1481), ('capoue', 1482), ('fortyfour', 1483), ('weidenfeller', 1484), ('roam', 1485), ('hot', 1486), ('35th', 1487), ('nothing', 1488), ('donaldson', 1489), ('tsao', 1490), ('routed', 1491), ('sit', 1492), ('specifically', 1493), ('both', 1494), ('250', 1495), ('virtually', 1496), ('glendale', 1497), ('holes', 1498), ('spectator', 1499), ('media', 1500), ('announcing', 1501), ('various', 1502), ('physical', 1503), ('glimpses', 1504), ('bounceback', 1505), ('leaner', 1506), ('examples', 1507), ('mediocre', 1508), ('count', 1509), ('cardinals', 1510), ('article', 1511), ('conclude', 1512), ('majorleague', 1513), ('regularseason', 1514), ('unlike', 1515), ('maid', 1516), ('awaited', 1517), ('friendlies', 1518), ('cork', 1519), ('lesen', 1520), ('placed', 1521), ('resemble', 1522), ('delino', 1523), ('k', 1524), ('minneapolis', 1525), ('first', 1526), ('tying', 1527), ('evening', 1528), ('italians', 1529), ('indians', 1530), ('berth', 1531), ('brazil', 1532), ('bolstered', 1533), ('samsung', 1534), ('choices', 1535), ('characteristics', 1536), ('ruhr', 1537), ('incentivebased', 1538), ('sixth', 1539), ('expect', 1540), ('willing', 1541), ('selfconfidence', 1542), ('inform', 1543), ('saints', 1544), ('dwell', 1545), ('madrid', 1546), ('remaining', 1547), ('defoe', 1548), ('201112', 1549), ('form', 1550), ('36', 1551), ('body', 1552), ('video', 1553), ('detroits', 1554), ('terrill', 1555), ('negotiating', 1556), ('soccer', 1557), ('alongside', 1558), ('notion', 1559), ('anyway', 1560), ('done', 1561), ('thursday', 1562), ('reports', 1563), ('ghoochannejhad', 1564), ('foxes', 1565), ('status', 1566), ('amounted', 1567), ('focused', 1568), ('67th', 1569), ('100', 1570), ('scouted', 1571), ('russia', 1572), ('corner', 1573), ('fk', 1574), ('performing', 1575), ('hawks', 1576), ('blanked', 1577), ('maatouk', 1578), ('kershaw', 1579), ('homeland', 1580), ('appreciate', 1581), ('trying', 1582), ('trippier', 1583), ('loud', 1584), ('arbitration', 1585), ('and', 1586), ('rock', 1587), ('74', 1588), ('pitchfx', 1589), ('remain', 1590), ('name', 1591), ('ortiz', 1592), ('k9', 1593), ('standpoint', 1594), ('malaysia', 1595), ('stielikes', 1596), ('transferred', 1597), ('ending', 1598), ('augsburgs', 1599), ('across', 1600), ('flukes', 1601), ('looming', 1602), ('van', 1603), ('recovering', 1604), ('hotpsur', 1605), ('ham', 1606), ('tournaments', 1607), ('space', 1608), ('hong', 1609), ('cheol', 1610), ('visually', 1611), ('imaginative', 1612), ('ryus', 1613), ('heads', 1614), ('offensive', 1615), ('improving', 1616), ('rarely', 1617), ('strongly', 1618), ('sahlawi', 1619), ('balances', 1620), ('neither', 1621), ('e', 1622), ('playoff', 1623), ('marcel', 1624), ('fully', 1625), ('contracts', 1626), ('repair', 1627), ('marathon', 1628), ('rate', 1629), ('peers', 1630), ('actions', 1631), ('309', 1632), ('cheer', 1633), ('element', 1634), ('head', 1635), ('whats', 1636), ('nearpost', 1637), ('dipoto', 1638), ('waited', 1639), ('justin', 1640), ('sano', 1641), ('having', 1642), ('burriss', 1643), ('veteran', 1644), ('young', 1645), ('arrivals', 1646), ('allbut', 1647), ('working', 1648), ('ahn', 1649), ('steve', 1650), ('bumkun', 1651), ('release', 1652), ('inevitably', 1653), ('courtesy', 1654), ('wengers', 1655), ('damaging', 1656), ('hubert', 1657), ('use', 1658), ('chairman', 1659), ('daughter', 1660), ('wood', 1661), ('entire', 1662), ('coped', 1663), ('dr', 1664), ('middecember', 1665), ('opener', 1666), ('decent', 1667), ('health', 1668), ('williams', 1669), ('follows', 1670), ('condition', 1671), ('cap', 1672), ('sungyueng', 1673), ('warrant', 1674), ('claim', 1675), ('thrown', 1676), ('winners', 1677), ('collecting', 1678), ('francisco', 1679), ('aside', 1680), ('sessions', 1681), ('become', 1682), ('really', 1683), ('following', 1684), ('defender', 1685), ('clue', 1686), ('darmstadt', 1687), ('triumphed', 1688), ('boss', 1689), ('take', 1690), ('addition', 1691), ('reds', 1692), ('runnersup', 1693), ('lane', 1694), ('fans', 1695), ('identical', 1696), ('ran', 1697), ('affair', 1698), ('throughout', 1699), ('bromwich', 1700), ('martin', 1701), ('november', 1702), ('whilst', 1703), ('minor', 1704), ('wrap', 1705), ('testament', 1706), ('point', 1707), ('emotionally', 1708), ('fit', 1709), ('high', 1710), ('sunshine', 1711), ('presumably', 1712), ('counting', 1713), ('perfect', 1714), ('stripling', 1715), ('workout', 1716), ('matter', 1717), ('which', 1718), ('pictwittercomc8cb0ohnni', 1719), ('plate', 1720), ('watchers', 1721), ('perfectly', 1722), ('interjection', 1723), ('nor', 1724), ('protective', 1725), ('119meter', 1726), ('rue', 1727), ('fascination', 1728), ('2011', 1729), ('gift', 1730), ('path', 1731), ('then', 1732), ('alfreo', 1733), ('region', 1734), ('suspected', 1735), ('nacer', 1736), ('yacob', 1737), ('smartly', 1738), ('shoot', 1739), ('qatar', 1740), ('1988', 1741), ('rise', 1742), ('sniffed', 1743), ('detailed', 1744), ('demble', 1745), ('43rd', 1746), ('through', 1747), ('volume', 1748), ('root', 1749), ('ryan', 1750), ('year', 1751), ('foxsportscom', 1752), ('broadcasters', 1753), ('arabia', 1754), ('feature', 1755), ('platoon', 1756), ('afc', 1757), ('present', 1758), ('southeast', 1759), ('problem', 1760), ('majestic', 1761), ('report', 1762), ('28th', 1763), ('block', 1764), ('miguel', 1765), ('safe', 1766), ('everybody', 1767), ('seven', 1768), ('type', 1769), ('defense', 1770), ('by', 1771), ('3230', 1772), ('show', 1773), ('probably', 1774), ('underwhelming', 1775), ('sergio', 1776), ('dijk', 1777), ('flawless', 1778), ('201415', 1779), ('cy', 1780), ('stayed', 1781), ('janingwer', 1782), ('went', 1783), ('haidar', 1784), ('433', 1785), ('comfortable', 1786), ('claimed', 1787), ('fresh', 1788), ('compared', 1789), ('securing', 1790), ('home', 1791), ('batted', 1792), ('hitters', 1793), ('2015', 1794), ('automatic', 1795), ('feb', 1796), ('called', 1797), ('challenge', 1798), ('salzburg', 1799), ('ultimately', 1800), ('participating', 1801), ('overload', 1802), ('makes', 1803), ('frequented', 1804), ('bonus', 1805), ('aerial', 1806), ('quoted', 1807), ('near', 1808), ('nuts', 1809), ('lay', 1810), ('okay', 1811), ('warmer', 1812), ('httpwwwderwestendesportfussballbvbbvbmussvorerstaufaussenverteidigerjoohoparkverzichtenid11761175htmlplx1956768657', 1813), ('european', 1814), ('aussie', 1815), ('ventilator', 1816), ('damaged', 1817), ('awake', 1818), ('robertsons', 1819), ('suspicions', 1820), ('gang', 1821), ('plays', 1822), ('appeared', 1823), ('domestic', 1824), ('stroke', 1825), ('pounds', 1826), ('elite', 1827), ('peril', 1828), ('iran', 1829), ('badly', 1830), ('attackminded', 1831), ('flight', 1832), ('hold', 1833), ('flew', 1834), ('humphrey', 1835), ('sounds', 1836), ('sanchez', 1837), ('harper', 1838), ('worked', 1839), ('begovic', 1840), ('recovered', 1841), ('kevin', 1842), ('cant', 1843), ('departed', 1844), ('630', 1845), ('extra', 1846), ('352', 1847), ('marker', 1848), ('songs', 1849), ('33000', 1850), ('club', 1851), ('hart', 1852), ('possession', 1853), ('gone', 1854), ('blue', 1855), ('yankees', 1856), ('53', 1857), ('indecisiveness', 1858), ('spriranovic', 1859), ('increasing', 1860), ('121', 1861), ('player', 1862), ('philadelphia', 1863), ('closers', 1864), ('englishbased', 1865), ('roundof32', 1866), ('streaks', 1867), ('entertain', 1868), ('foul', 1869), ('2017what', 1870), ('unproven', 1871), ('determined', 1872), ('contributed', 1873), ('daily', 1874), ('stats', 1875), ('dodger', 1876), ('casinos', 1877), ('represented', 1878), ('resources', 1879), ('clinch', 1880), ('fire', 1881), ('current', 1882), ('finalists', 1883), ('fraught', 1884), ('tough', 1885), ('banned', 1886), ('former', 1887), ('secondhalf', 1888), ('night', 1889), ('advantagenext', 1890), ('social', 1891), ('negotiate', 1892), ('allis', 1893), ('rosy', 1894), ('mauricio', 1895), ('future', 1896), ('500', 1897), ('qualifying', 1898), ('462foot', 1899), ('twoyear', 1900), ('disappointing', 1901), ('1408', 1902), ('goalkeeper', 1903), ('undone', 1904), ('18th', 1905), ('less', 1906), ('underwent', 1907), ('cautious', 1908), ('mostly', 1909), ('stambouli', 1910), ('shape', 1911), ('festive', 1912), ('mend', 1913), ('fernandez', 1914), ('impressively', 1915), ('pardew', 1916), ('monk', 1917), ('cent', 1918), ('cleared', 1919), ('firing', 1920), ('realise', 1921), ('headtohead', 1922), ('rotated', 1923), ('184', 1924), ('far', 1925), ('say', 1926), ('prolonged', 1927), ('fullback', 1928), ('look', 1929), ('history', 1930), ('already', 1931), ('estimated', 1932), ('goto', 1933), ('not', 1934), ('striker', 1935), ('hits', 1936), ('continue', 1937), ('launched', 1938), ('interested', 1939), ('arise', 1940), ('ahseop', 1941), ('hitless', 1942), ('signed', 1943), ('minutes', 1944), ('struggling', 1945), ('quickly', 1946), ('skill', 1947), ('much', 1948), ('sat', 1949), ('weekends', 1950), ('joined', 1951), ('lost', 1952), ('scouting', 1953), ('joan', 1954), ('performance', 1955), ('32', 1956), ('try', 1957), ('north', 1958), ('representation', 1959), ('trouble', 1960), ('yardstick', 1961), ('association', 1962), ('eased', 1963), ('swimmingly', 1964), ('kante', 1965), ('knock', 1966), ('preparing', 1967), ('claims', 1968), ('massive', 1969), ('interpreter', 1970), ('partner', 1971), ('heels', 1972), ('talks', 1973), ('relieving', 1974), ('will', 1975), ('paper', 1976), ('today', 1977), ('2308', 1978), ('south', 1979), ('doctor', 1980), ('go', 1981), ('schalkes', 1982), ('id', 1983), ('offensechallenged', 1984), ('needs', 1985), ('margin', 1986), ('friedman', 1987), ('oneyear', 1988), ('winner', 1989), ('insisted', 1990), ('ten', 1991), ('federation', 1992), ('pass', 1993), ('qpr', 1994), ('with', 1995), ('weak', 1996), ('diving', 1997), ('andre', 1998), ('organization', 1999), ('fizzed', 2000), ('roundrobin', 2001), ('guangzhou', 2002), ('clause', 2003), ('opened', 2004), ('upcoming', 2005), ('finding', 2006), ('muscle', 2007), ('48thranked', 2008), ('glory', 2009), ('jobs', 2010), ('manger', 2011), ('role', 2012), ('blasted', 2013), ('among', 2014), ('solution', 2015), ('threaded', 2016), ('20102011', 2017), ('constant', 2018), ('usual', 2019), ('track', 2020), ('yen', 2021), ('outfielder', 2022), ('after', 2023), ('exchanged', 2024), ('2012', 2025), ('saturday', 2026), ('gambling', 2027), ('didnt', 2028), ('rasmus', 2029), ('curveball', 2030), ('stretchered', 2031), ('baltimore', 2032), ('bronze', 2033), ('diminished', 2034), ('bourjos', 2035), ('baffled', 2036), ('relishing', 2037), ('fee', 2038), ('drawling', 2039), ('admit', 2040), ('strong', 2041), ('except', 2042), ('jd', 2043), ('prominent', 2044), ('postseason', 2045), ('c', 2046), ('baseaball', 2047), ('impressed', 2048), ('february', 2049), ('francesco', 2050), ('clutch', 2051), ('there', 2052), ('ja', 2053), ('beleaguered', 2054), ('pitching', 2055), ('141', 2056), ('manager', 2057), ('window', 2058), ('lineup', 2059), ('cameo', 2060), ('suzuki', 2061), ('leverkusen', 2062), ('move', 2063), ('08', 2064), ('hitter', 2065), ('held', 2066), ('between', 2067), ('transfers', 2068), ('money', 2069), ('still', 2070), ('controlled', 2071), ('jonathan', 2072), ('rookies', 2073), ('advanced', 2074), ('strike', 2075), ('office', 2076), ('dip', 2077), ('1996', 2078), ('michael', 2079), ('gm', 2080), ('fortune', 2081), ('8th', 2082), ('cool', 2083), ('diminish', 2084), ('incentives', 2085), ('2815', 2086), ('failure', 2087), ('uzbekistan', 2088), ('hilal', 2089), ('senior', 2090), ('complete', 2091), ('swiping', 2092), ('steven', 2093), ('while', 2094), ('picking', 2095), ('hotspurs', 2096), ('milestones', 2097), ('target', 2098), ('bafetimbi', 2099), ('undergoing', 2100), ('minds', 2101), ('grabbing', 2102), ('instance', 2103), ('6461', 2104), ('appearances', 2105), ('whether', 2106), ('miss', 2107), ('vorerst', 2108), ('considered', 2109), ('hours', 2110), ('73', 2111), ('rivera', 2112), ('should', 2113), ('likely', 2114), ('prime', 2115), ('disabled', 2116), ('minnesota', 2117), ('online', 2118), ('raising', 2119), ('fastballs', 2120), ('sep', 2121), ('bears', 2122), ('server', 2123), ('although', 2124), ('set', 2125), ('midweek', 2126), ('soccerway', 2127), ('16', 2128), ('ability', 2129), ('delay', 2130), ('closing', 2131), ('portuguese', 2132), ('mission', 2133), ('kanethe', 2134), ('antics', 2135), ('syria', 2136), ('onbase', 2137), ('basis', 2138), ('nathan', 2139), ('transfer', 2140), ('view', 2141), ('lloris', 2142), ('averaged', 2143), ('pittsburghs', 2144), ('enthused', 2145), ('athletic', 2146), ('gave', 2147), ('change', 2148), ('sum', 2149), ('captain', 2150), ('taijuan', 2151), ('bullpens', 2152), ('placebowise', 2153), ('severity', 2154), ('rebound', 2155), ('last', 2156), ('keuchel', 2157), ('only', 2158), ('ho', 2159), ('based', 2160), ('scream', 2161), ('slowly', 2162), ('register', 2163), ('robinson', 2164), ('section', 2165), ('tell', 2166), ('argentinian', 2167), ('dwight', 2168), ('building', 2169), ('parks', 2170), ('attacks', 2171), ('next', 2172), ('sufficient', 2173), ('your', 2174), ('badass', 2175), ('work', 2176), ('number', 2177), ('targets', 2178), ('operation', 2179), ('twice', 2180), ('withdrawn', 2181), ('masons', 2182), ('696', 2183), ('halfseason', 2184), ('fa', 2185), ('true', 2186), ('potato', 2187), ('saida', 2188), ('shocking', 2189), ('seemingly', 2190), ('aguero', 2191), ('start', 2192), ('in', 2193), ('19th', 2194), ('feat', 2195), ('standout', 2196), ('koreas', 2197), ('session', 2198), ('longest', 2199), ('recover', 2200), ('140', 2201), ('life', 2202), ('deandre', 2203), ('rest', 2204), ('resigning', 2205), ('opponents', 2206), ('breaking', 2207), ('forwards', 2208), ('pop', 2209), ('posh', 2210), ('criteria', 2211), ('predicted', 2212), ('33yearold', 2213), ('leftback', 2214), ('talk', 2215), ('aforementioned', 2216), ('rockets', 2217), ('greentown', 2218), ('mlbs', 2219), ('305', 2220), ('la', 2221), ('footballer', 2222), ('affiliations', 2223), ('drawing', 2224), ('wonder', 2225), ('possibly', 2226), ('garth', 2227), ('matters', 2228), ('pinpoint', 2229), ('times', 2230), ('military', 2231), ('chief', 2232), ('statements', 2233), ('fashion', 2234), ('job', 2235), ('dh', 2236), ('cautiously', 2237), ('agent', 2238), ('steps', 2239), ('byungho', 2240), ('compare', 2241), ('playbyplay', 2242), ('substitutes', 2243), ('alexis', 2244), ('flip', 2245), ('meeting', 2246), ('carried', 2247), ('ishikawa', 2248), ('marwijk', 2249), ('place', 2250), ('secondbest', 2251), ('matchups', 2252), ('opening', 2253), ('boruc', 2254), ('cano', 2255), ('wondering', 2256), ('who', 2257), ('spending', 2258), ('friend', 2259), ('suk', 2260), ('points', 2261), ('title', 2262), ('clubs', 2263), ('simulated', 2264), ('signing', 2265), ('moved', 2266), ('energy', 2267), ('secondary', 2268), ('enable', 2269), ('until', 2270), ('homer', 2271), ('bryan', 2272), ('suspension', 2273), ('admits', 2274), ('lottery', 2275), ('finishing', 2276), ('atop', 2277), ('website', 2278), ('satisfactory', 2279), ('fitness', 2280), ('right', 2281), ('milestone', 2282), ('theres', 2283), ('tuesday', 2284), ('muss', 2285), ('celebration', 2286), ('bertrand', 2287), ('1157', 2288), ('tribes', 2289), ('attempt', 2290), ('moves', 2291), ('measures', 2292), ('koemans', 2293), ('contest', 2294), ('kieran', 2295), ('fatigued', 2296), ('posting', 2297), ('jeonghohong', 2298), ('authorities', 2299), ('monchengladbach', 2300), ('angle', 2301), ('pt', 2302), ('give', 2303), ('gylfi', 2304), ('alleviating', 2305), ('opted', 2306), ('dominated', 2307), ('help', 2308), ('tend', 2309), ('procedure', 2310), ('concacaf', 2311), ('touch', 2312), ('peter', 2313), ('qualified', 2314), ('lacking', 2315), ('93rd', 2316), ('comment', 2317), ('successful', 2318), ('httpwwwsouthwaleseveningpostcoukswanseacitymidfielderkisungyuengdemandsstory28363644detailstoryhtmlixzz48qqjumpt', 2319), ('returning', 2320), ('lead', 2321), ('uptown', 2322), ('sadaharu', 2323), ('squared', 2324), ('i', 2325), ('moment', 2326), ('guys', 2327), ('reasonable', 2328), ('filling', 2329), ('jaded', 2330), ('holding', 2331), ('morning', 2332), ('bachelor', 2333), ('meters', 2334), ('matchday', 2335), ('70', 2336), ('around', 2337), ('placing', 2338), ('drive', 2339), ('becoming', 2340), ('fantastic', 2341), ('starts', 2342), ('payroll', 2343), ('outfit', 2344), ('192', 2345), ('citys', 2346), ('scoreless', 2347), ('sessegnon', 2348), ('09', 2349), ('lumpur', 2350), ('spiranovic', 2351), ('roster', 2352), ('manuel', 2353), ('pochettinos', 2354), ('base', 2355), ('clinched', 2356), ('fewer', 2357), ('white', 2358), ('charton', 2359), ('here', 2360), ('qarabag', 2361), ('tracker', 2362), ('add', 2363), ('asian', 2364), ('nations', 2365), ('npb', 2366), ('olivier', 2367), ('zhang', 2368), ('a', 2369), ('join', 2370), ('bremen', 2371), ('mm', 2372), ('6for14', 2373), ('understandably', 2374), ('plateau', 2375), ('slump', 2376), ('sizable', 2377), ('injury', 2378), ('dragon', 2379), ('reza', 2380), ('necessarily', 2381), ('softbank', 2382), ('weekend', 2383), ('obviously', 2384), ('index', 2385), ('reprimanded', 2386), ('potential', 2387), ('late', 2388), ('been', 2389), ('1285', 2390), ('into', 2391), ('thailand', 2392), ('twin', 2393), ('replacement', 2394), ('indebted', 2395), ('coaching', 2396), ('instances', 2397), ('cannon', 2398), ('position', 2399), ('abdulrahman', 2400), ('satisfied', 2401), ('jesus', 2402), ('implicated', 2403), ('ineligible', 2404), ('ban', 2405), ('these', 2406), ('threeandahalf', 2407), ('sturdy', 2408), ('law', 2409), ('enter', 2410), ('respectivelyso', 2411), ('progression', 2412), ('sunday', 2413), ('masanori', 2414), ('optout', 2415), ('swings', 2416), ('strugglers', 2417), ('struck', 2418), ('establishing', 2419), ('frantically', 2420), ('callsenbracker', 2421), ('unsaid', 2422), ('handful', 2423), ('do', 2424), ('though', 2425), ('station', 2426), ('bruised', 2427), ('competition', 2428), ('goal', 2429), ('koo', 2430), ('bournemouth', 2431), ('koreanborn', 2432), ('previously', 2433), ('threesome', 2434), ('assuming', 2435), ('creating', 2436), ('permission', 2437), ('mondays', 2438), ('extraordinary', 2439), ('shinji', 2440), ('pochettino', 2441), ('easy', 2442), ('cake', 2443), ('flow', 2444), ('soul', 2445), ('stretch', 2446), ('english', 2447), ('fiorentina', 2448), ('looking', 2449), ('experiences', 2450), ('sub', 2451), ('unguarded', 2452), ('simply', 2453), ('matt', 2454), ('likes', 2455), ('cream', 2456), ('httpwwwsouthwaleseveningpostcoukkisungyuengswanseacityfoldgarrymonkstory27818980detailstoryhtmlbwbae7sp3edodb5199', 2457), ('serious', 2458), ('biggest', 2459), ('asias', 2460), ('beneficial', 2461), ('it', 2462), ('smoothly', 2463), ('equaliser', 2464), ('am', 2465), ('interest', 2466), ('twogame', 2467), ('35pitch', 2468), ('pictures', 2469), ('periods', 2470), ('other', 2471), ('little', 2472), ('uncommon', 2473), ('express', 2474), ('borussias', 2475), ('shamrani', 2476), ('lurks', 2477), ('hwan', 2478), ('term', 2479), ('solve', 2480), ('wait', 2481), ('18', 2482), ('day', 2483), ('120', 2484), ('qualifiers', 2485), ('applies', 2486), ('regularstarter', 2487), ('warm', 2488), ('075', 2489), ('brantley', 2490), ('telling', 2491), ('war', 2492), ('david', 2493), ('friday', 2494), ('shake', 2495), ('led', 2496), ('vice', 2497), ('93', 2498), ('joo', 2499), ('04', 2500), ('playoffs', 2501), ('kleague', 2502), ('about', 2503), ('tried', 2504), ('statistics', 2505), ('timing', 2506), ('europa', 2507), ('blaze', 2508), ('had', 2509), ('means', 2510), ('taeguk', 2511), ('tuesdays', 2512), ('solidified', 2513), ('athletes', 2514), ('fourtime', 2515), ('stark', 2516), ('wednesdays', 2517), ('overall', 2518), ('particularly', 2519), ('yg', 2520), ('oh', 2521), ('85', 2522), ('wakeup', 2523), ('2for3', 2524), ('few', 2525), ('box', 2526), ('stars', 2527), ('303387514', 2528), ('perform', 2529), ('shot', 2530), ('agents', 2531), ('wherever', 2532), ('playersonly', 2533), ('format', 2534), ('against', 2535), ('goals', 2536), ('star', 2537), ('wont', 2538), ('dfbpokal', 2539), ('twotime', 2540), ('key', 2541), ('belarus', 2542), ('markshane', 2543), ('knocked', 2544), ('munich', 2545), ('smile', 2546), ('justifying', 2547), ('undoubted', 2548), ('groin', 2549), ('positive', 2550), ('respect', 2551), ('steady', 2552), ('learning', 2553), ('crack', 2554), ('stands', 2555), ('soon', 2556), ('taegeuk', 2557), ('ruth', 2558), ('purpose', 2559), ('aaa', 2560), ('wanderers', 2561), ('fine', 2562), ('forfeit', 2563), ('renewing', 2564), ('23', 2565), ('undoubtedly', 2566), ('required', 2567), ('recognition', 2568), ('recovery', 2569), ('rostov', 2570), ('received', 2571), ('found', 2572), ('rumors', 2573), ('california', 2574), ('sacked', 2575), ('judging', 2576), ('low', 2577), ('prevent', 2578), ('southampton', 2579), ('teams', 2580), ('exempted', 2581), ('ask', 2582), ('warriors', 2583), ('imagine', 2584), ('large', 2585), ('market', 2586), ('somewhere', 2587), ('greeted', 2588), ('settled', 2589), ('but', 2590), ('espn', 2591), ('dodgers', 2592), ('whole', 2593), ('why', 2594), ('koreans', 2595), ('straight', 2596), ('toddler', 2597), ('twolegged', 2598), ('close', 2599), ('numbers', 2600), ('brace', 2601), ('san', 2602), ('bullpen', 2603), ('2008', 2604), ('haul', 2605), ('dean', 2606), ('always', 2607), ('hoping', 2608), ('blemish', 2609), ('overnight', 2610), ('secured', 2611), ('attacking', 2612), ('outcome', 2613), ('finished', 2614), ('rivals', 2615), ('sonaldo', 2616), ('ready', 2617), ('childhood', 2618), ('maybe', 2619), ('milwaukee', 2620), ('34th', 2621), ('2007', 2622), ('counter', 2623), ('antar', 2624), ('same', 2625), ('laos', 2626), ('native', 2627), ('handle', 2628), ('belt', 2629), ('welcomed', 2630), ('eriksen', 2631), ('fear', 2632), ('versatile', 2633), ('98', 2634), ('goalkeepers', 2635), ('righthanded', 2636), ('cutter', 2637), ('stage', 2638), ('bat', 2639), ('mousa', 2640), ('situations', 2641), ('capitalise', 2642), ('seventh', 2643), ('suited', 2644), ('httpwwwsunderlandechocomsportfootballsunderlandafcswanseawintheperfecttonicforwearysunderland17675917ixzz48qs2ogwh', 2645), ('reflected', 2646), ('brothers', 2647), ('maeda', 2648), ('tottenham', 2649), ('issue', 2650), ('strings', 2651), ('tricky', 2652), ('okazaki', 2653), ('charged', 2654), ('retire', 2655), ('pressing', 2656), ('card', 2657), ('bluewaves', 2658), ('leg', 2659), ('stand', 2660), ('returned', 2661), ('than', 2662), ('66', 2663), ('hammer', 2664), ('related', 2665), ('surgery', 2666), ('borussia', 2667), ('within', 2668), ('hojbjerg', 2669), ('sheet', 2670), ('raul', 2671), ('nemesis', 2672), ('geynrikh', 2673), ('bright', 2674), ('wolgyu', 2675), ('split', 2676), ('evidence', 2677), ('passing', 2678), ('below', 2679), ('2014', 2680), ('emerged', 2681), ('villa', 2682), ('to', 2683), ('happened', 2684), ('united', 2685), ('find', 2686), ('preseason', 2687), ('further', 2688), ('hanshin', 2689), ('joe', 2690), ('blowout', 2691), ('finalthe', 2692), ('90th', 2693), ('president', 2694), ('owner', 2695), ('major', 2696), ('punching', 2697), ('hyunjoon', 2698), ('running', 2699), ('threat', 2700), ('peralta', 2701), ('vulnerable', 2702), ('angels', 2703), ('2016', 2704), ('traditional', 2705), ('earn', 2706), ('winning', 2707), ('familiarity', 2708), ('china', 2709), ('environment', 2710), ('slashing', 2711), ('metrodome', 2712), ('338', 2713), ('causing', 2714), ('regions', 2715), ('156', 2716), ('et', 2717), ('son', 2718), ('chest', 2719), ('couldnt', 2720), ('ayew', 2721), ('dier', 2722), ('interconfederation', 2723), ('members', 2724), ('yellow', 2725), ('setting', 2726), ('wall', 2727), ('everyone', 2728), ('oct', 2729), ('combined', 2730), ('gelsenkirchen', 2731), ('cishek', 2732), ('584', 2733), ('276', 2734), ('story', 2735), ('criticising', 2736), ('given', 2737), ('directly', 2738), ('safeco', 2739), ('83rd', 2740), ('therefore', 2741), ('notch', 2742), ('440', 2743), ('shin', 2744), ('swanseas', 2745), ('bentalebs', 2746), ('lim', 2747), ('harder', 2748), ('atbats', 2749), ('east', 2750), ('pavel', 2751), ('left', 2752), ('amount', 2753), ('mph', 2754), ('trip', 2755), ('korea', 2756), ('les', 2757), ('heaney', 2758), ('let', 2759), ('attack', 2760), ('sevengoal', 2761), ('wolfsburg', 2762), ('disrupted', 2763), ('hangzhou', 2764), ('brain', 2765), ('characterised', 2766), ('22', 2767), ('profile', 2768), ('reported', 2769), ('stated', 2770), ('dingers', 2771), ('guy', 2772), ('chungyong', 2773), ('69', 2774), ('hunt', 2775), ('tim', 2776), ('reunion', 2777), ('kagawa', 2778), ('disclosed', 2779), ('ashley', 2780), ('begins', 2781), ('available', 2782), ('wasnt', 2783), ('barbershop', 2784), ('leave', 2785), ('however', 2786), ('caribbean', 2787), ('marched', 2788), ('5', 2789), ('allimportant', 2790), ('sentiment', 2791), ('decades', 2792), ('pirates', 2793), ('trailing', 2794), ('paid', 2795), ('cleveland', 2796), ('arm', 2797), ('salvage', 2798), ('unenviable', 2799), ('them', 2800), ('deep', 2801), ('extremevelocity', 2802), ('troops', 2803), ('cuff', 2804), ('146', 2805), ('disciplined', 2806), ('october', 2807), ('york', 2808), ('ipads', 2809), ('bridge', 2810), ('jingu', 2811), ('crownnasser', 2812), ('lie', 2813), ('opposing', 2814), ('42nd', 2815), ('whose', 2816), ('castro', 2817), ('mettle', 2818), ('travelled', 2819), ('races', 2820), ('twins', 2821), ('talent', 2822), ('thereafter', 2823), ('qualification', 2824), ('germany', 2825), ('undergo', 2826), ('used', 2827), ('vip', 2828), ('class', 2829), ('fired', 2830), ('testifies', 2831), ('some', 2832), ('once', 2833), ('cardiff', 2834), ('total', 2835), ('elsewhere', 2836), ('struggled', 2837), ('putting', 2838), ('yoshida', 2839), ('frisson', 2840), ('recently', 2841), ('312', 2842), ('35yearold', 2843), ('spectators', 2844), ('alone', 2845), ('lotte', 2846), ('lowintensity', 2847), ('blow', 2848), ('spin', 2849), ('2006', 2850), ('griffin', 2851), ('kuala', 2852), ('normal', 2853), ('morneau', 2854), ('seats', 2855), ('guidolins', 2856), ('flops', 2857), ('responsibility', 2858), ('comefrombehind', 2859), ('postmatch', 2860), ('freeagent', 2861), ('division', 2862), ('gruelling', 2863), ('linpeng', 2864), ('capturing', 2865), ('overseas', 2866), ('hinted', 2867), ('498', 2868), ('whatever', 2869), ('wife', 2870), ('grooves', 2871), ('an', 2872), ('airport', 2873), ('scoring', 2874), ('midfield', 2875), ('httpwwwsouthwaleseveningpostcoukkisungyuengswanseacityfoldgarrymonkstory27818980detailstoryhtmlixzz48qqihqj1', 2876), ('1980', 2877), ('swans', 2878), ('bangkok', 2879), ('dallas', 2880), ('sports', 2881), ('foreign', 2882), ('great', 2883), ('cedres', 2884), ('favor', 2885), ('asking', 2886), ('sequence', 2887), ('exercise', 2888), ('translate', 2889), ('doosan', 2890), ('career', 2891), ('holds', 2892), ('multinational', 2893), ('unusually', 2894), ('genuine', 2895), ('half', 2896), ('due', 2897), ('arrived', 2898), ('manage', 2899), ('simple', 2900), ('westphalian', 2901), ('bate', 2902), ('certainly', 2903), ('bandaid', 2904), ('boot', 2905), ('bolsinger', 2906), ('stages', 2907), ('sold', 2908), ('minnesotas', 2909), ('leicester', 2910), ('nexen', 2911), ('early', 2912), ('began', 2913), ('pitcherlefthander', 2914), ('contribution', 2915), ('23yearsold', 2916), ('keeps', 2917), ('gonzalo', 2918), ('favourites', 2919), ('man', 2920), ('bats', 2921), ('spell', 2922), ('over', 2923), ('bans', 2924), ('city', 2925), ('stuttering', 2926), ('treated', 2927), ('would', 2928), ('whipped', 2929), ('urgency', 2930), ('describe', 2931), ('image', 2932), ('named', 2933), ('john', 2934), ('professional', 2935), ('chip', 2936), ('third', 2937), ('2all', 2938), ('concerns', 2939), ('23yearold', 2940), ('pundit', 2941), ('proud', 2942), ('strikeout', 2943), ('camera', 2944), ('bp', 2945), ('httpwwwsouthwaleseveningpostcoukswanseacitymidfielderkisungyuengsaysstory28094371detailstoryhtmlixzz48qqsah3t', 2946), ('well', 2947), ('faced', 2948), ('consecutive', 2949), ('motivate', 2950), ('planned', 2951), ('became', 2952), ('gomis', 2953), ('mastermind', 2954), ('ahead', 2955), ('schuberts', 2956), ('lift', 2957), ('any', 2958), ('balls', 2959), ('sealed', 2960), ('broxton', 2961), ('newcastle', 2962), ('saved', 2963), ('tangible', 2964), ('breakout', 2965), ('workload', 2966), ('robust', 2967), ('excellent', 2968), ('jones', 2969), ('calling', 2970), ('announced', 2971), ('measured', 2972), ('forfeited', 2973), ('hyunjun', 2974), ('fined', 2975), ('discipline', 2976), ('passes', 2977), ('examination', 2978), ('countries', 2979), ('because', 2980), ('nabil', 2981), ('31', 2982), ('66th', 2983), ('decisive', 2984), ('gio', 2985), ('ground', 2986), ('poor', 2987), ('hamam', 2988), ('fun', 2989), ('eric', 2990), ('berlin', 2991), ('unclear', 2992), ('starter', 2993), ('summerspeaking', 2994), ('turf', 2995), ('flexible', 2996), ('tension', 2997), ('width', 2998), ('hero', 2999), ('prosecutions', 3000), ('clash', 3001), ('footballers', 3002), ('penultimate', 3003), ('nippon', 3004), ('problems', 3005), ('toughest', 3006), ('catch', 3007), ('meetings', 3008), ('contacted', 3009), ('flyout', 3010), ('pro', 3011), ('inexperience', 3012), ('topped', 3013), ('nice', 3014), ('separate', 3015), ('80', 3016), ('terminate', 3017), ('tally', 3018), ('10th', 3019), ('augment', 3020), ('lefthander', 3021), ('vital', 3022), ('disappointment', 3023), ('score', 3024), ('florence', 3025), ('category', 3026), ('outside', 3027), ('nickname', 3028), ('celebrate', 3029), ('choo', 3030), ('delivered', 3031), ('looked', 3032), ('longer', 3033), ('conversation', 3034), ('walks', 3035), ('gauging', 3036), ('czech', 3037), ('hotspur', 3038), ('alternative', 3039), ('12', 3040), ('iraq', 3041), ('outfield', 3042), ('alburquerque', 3043), ('knockout', 3044), ('sizeable', 3045), ('insists', 3046), ('sultan', 3047), ('seasoning', 3048), ('dinner', 3049), ('brom', 3050), ('usually', 3051), ('presence', 3052), ('clayton', 3053), ('obp', 3054), ('more', 3055), ('wrong', 3056), ('mozeliak', 3057), ('jermaine', 3058), ('testing', 3059), ('fifthround', 3060), ('appears', 3061), ('shoulder', 3062), ('risks', 3063), ('extreme', 3064), ('paired', 3065), ('wednesday', 3066), ('pack', 3067), ('verzichten', 3068), ('ever', 3069), ('slowed', 3070), ('shane', 3071), ('41', 3072), ('fielder', 3073), ('cal', 3074), ('entertainment', 3075), ('secure', 3076), ('legend', 3077), ('tuchel', 3078), ('song', 3079), ('heart', 3080), ('60', 3081), ('kawin', 3082), ('contributions', 3083), ('impact', 3084), ('russian', 3085), ('critical', 3086), ('visa', 3087), ('measure', 3088), ('surrendering', 3089), ('final', 3090), ('koos', 3091), ('surrounding', 3092), ('fixture', 3093), ('ohs', 3094), ('sardar', 3095), ('supported', 3096), ('fer', 3097), ('slight', 3098), ('perceived', 3099), ('19', 3100), ('often', 3101), ('team', 3102), ('their', 3103), ('espns', 3104), ('singleton', 3105), ('climes', 3106), ('defeat', 3107), ('disrupt', 3108), ('kbos', 3109), ('touched', 3110), ('minimum', 3111), ('middle', 3112), ('tear', 3113), ('common', 3114), ('concrete', 3115), ('fiveyear', 3116), ('pointed', 3117), ('84mph', 3118), ('turn', 3119), ('st', 3120), ('bruyne', 3121), ('921', 3122), ('njie', 3123), ('2013', 3124), ('totally', 3125), ('toe', 3126), ('pitcher', 3127), ('full', 3128), ('precautionary', 3129), ('dealt', 3130), ('doing', 3131), ('result', 3132), ('sleep', 3133), ('schalke', 3134), ('designated', 3135), ('lengthy', 3136), ('sizzling', 3137), ('uae', 3138), ('elephants', 3139), ('cha', 3140), ('outlets', 3141), ('323', 3142), ('33', 3143), ('our', 3144), ('enemies', 3145), ('voted', 3146), ('translator', 3147), ('tossed', 3148), ('kickoff', 3149), ('stay', 3150), ('effort', 3151), ('warned', 3152), ('run', 3153), ('loss', 3154), ('danger', 3155), ('divisions', 3156), ('may', 3157), ('148', 3158), ('adding', 3159), ('caution', 3160), ('establish', 3161), ('eaff', 3162), ('americans', 3163), ('jeeho', 3164), ('920', 3165), ('rounding', 3166), ('write', 3167), ('arrives', 3168), ('road', 3169), ('acted', 3170), ('price', 3171), ('stuttgart', 3172), ('cahill', 3173), ('season', 3174), ('outstanding', 3175), ('righthander', 3176), ('owners', 3177), ('above', 3178), ('werder', 3179), ('busiest', 3180), ('247', 3181), ('3', 3182), ('affected', 3183), ('agency', 3184), ('april', 3185), ('built', 3186), ('iraqi', 3187), ('152', 3188), ('bb9', 3189), ('scheduled', 3190), ('indicative', 3191), ('rotation', 3192), ('latest', 3193), ('perspectiveson', 3194), ('remembrance', 3195), ('mere', 3196), ('real', 3197), ('age', 3198), ('stefan', 3199), ('429', 3200), ('pain', 3201), ('tie', 3202), ('lucky', 3203), ('speculation', 3204), ('dozier', 3205), ('bench', 3206), ('crucial', 3207), ('rooted', 3208), ('figuring', 3209), ('en', 3210), ('entirely', 3211), ('pursue', 3212), ('trevor', 3213), ('crooks', 3214), ('tight', 3215), ('troy', 3216), ('actually', 3217), ('reinforcement', 3218), ('bert', 3219), ('possibility', 3220), ('shaping', 3221), ('naughton', 3222), ('rather', 3223), ('55', 3224), ('its', 3225), ('socceroos', 3226), ('thirdplace', 3227), ('could', 3228), ('side', 3229), ('won', 3230), ('whichlike', 3231), ('program', 3232), ('wondered', 3233), ('knocking', 3234), ('difficult', 3235), ('choice', 3236), ('million', 3237), ('noted', 3238), ('park', 3239), ('amounts', 3240), ('schedule', 3241), ('australian', 3242), ('midfielders', 3243), ('if', 3244), ('getting', 3245), ('soldado', 3246), ('outharry', 3247), ('setup', 3248), ('10', 3249), ('standings', 3250), ('50', 3251), ('ben', 3252), ('bundesligas', 3253), ('28', 3254), ('05', 3255), ('assists', 3256), ('consistency', 3257), ('kaiserslautern', 3258), ('defenders', 3259), ('clashes', 3260), ('sensibly', 3261), ('finalized', 3262), ('teammate', 3263), ('26yearold', 3264), ('signings', 3265), ('toes', 3266), ('turning', 3267), ('boston', 3268), ('arguably', 3269), ('proved', 3270), ('silent', 3271), ('ap', 3272), ('arizona', 3273), ('astros', 3274), ('round', 3275), ('porto', 3276), ('sharpness', 3277), ('personnel', 3278), ('fitagain', 3279), ('credit', 3280), ('grab', 3281), ('guardian', 3282), ('roger', 3283), ('deflected', 3284), ('emirates', 3285), ('strategy', 3286), ('runner', 3287), ('150', 3288), ('mark', 3289), ('continental', 3290), ('invigorated', 3291), ('significantly', 3292), ('since', 3293), ('reveals', 3294), ('27th', 3295), ('feet', 3296), ('monks', 3297), ('walk', 3298), ('is', 3299), ('way', 3300), ('again', 3301), ('399', 3302), ('intrinsic', 3303), ('laurent', 3304), ('cup', 3305), ('investigate', 3306), ('1994', 3307), ('evergrande', 3308), ('labrum', 3309), ('management', 3310), ('local', 3311), ('core', 3312), ('reaching', 3313), ('ended', 3314), ('typically', 3315), ('talented', 3316), ('8', 3317), ('mats', 3318), ('soreness', 3319), ('easter', 3320), ('medal', 3321), ('changed', 3322), ('average', 3323), ('leaving', 3324), ('scheduling', 3325), ('han', 3326), ('anywhere', 3327), ('prospect', 3328), ('hwaseong', 3329), ('months', 3330), ('return', 3331), ('board', 3332), ('chased', 3333), ('explaining', 3334), ('ryu', 3335), ('slash', 3336), ('palace', 3337), ('kept', 3338), ('so', 3339), ('precedence', 3340), ('arms', 3341), ('guess', 3342), ('losses', 3343), ('anyone', 3344), ('ranks', 3345), ('462', 3346), ('extended', 3347), ('baumgartl', 3348), ('defeats', 3349), ('sie', 3350), ('dieter', 3351), ('allows', 3352), ('wanted', 3353), ('legal', 3354), ('093', 3355), ('tied', 3356), ('being', 3357), ('sunderlands', 3358), ('where', 3359), ('whoscoredcom', 3360), ('joking', 3361), ('net', 3362), ('years', 3363), ('leads', 3364), ('pitches', 3365), ('innings', 3366), ('favorably', 3367), ('land', 3368), ('importance', 3369), ('ball', 3370), ('focus', 3371), ('charges', 3372), ('flying', 3373), ('marco', 3374), ('azmoun', 3375), ('pose', 3376), ('feelings', 3377), ('mid90s', 3378), ('felt', 3379), ('upon', 3380), ('one', 3381), ('rankings', 3382), ('344', 3383), ('granted', 3384), ('terrific', 3385), ('brewers', 3386), ('marked', 3387), ('classic', 3388), ('microcosm', 3389), ('whos', 3390), ('happy', 3391), ('staying', 3392), ('alfreð', 3393), ('sweveningpost', 3394), ('explained', 3395), ('undisclosed', 3396), ('were', 3397), ('hertha', 3398), ('fatal', 3399), ('me', 3400), ('yet', 3401), ('patch', 3402), ('this', 3403), ('threw', 3404), ('leaders', 3405), ('deserved', 3406), ('clinton', 3407), ('defined', 3408), ('osakabased', 3409), ('toures', 3410), ('reinvigorate', 3411), ('dribble', 3412), ('yang', 3413), ('revival', 3414), ('bigger', 3415), ('shortly', 3416), ('europes', 3417), ('including', 3418), ('faithful', 3419), ('approval', 3420), ('adnan', 3421), ('brought', 3422), ('love', 3423), ('seasons', 3424), ('served', 3425), ('concussion', 3426), ('taking', 3427), ('analyst', 3428), ('benjamin', 3429), ('prince', 3430), ('handled', 3431), ('statuses', 3432), ('need', 3433), ('deshields', 3434), ('fend', 3435), ('followed', 3436), ('dad', 3437), ('careerhigh', 3438), ('24', 3439), ('eat', 3440), ('hands', 3441), ('regional', 3442), ('contention', 3443), ('important', 3444), ('players', 3445), ('gel', 3446), ('japans', 3447), ('disappointmentson', 3448), ('hoped', 3449), ('later', 3450), ('mauer', 3451), ('paul', 3452), ('declared', 3453), ('owngoal', 3454), ('intrigue', 3455), ('regarded', 3456), ('scoreline', 3457), ('asia', 3458), ('record', 3459), ('kicker', 3460), ('faceoff', 3461), ('situationstactical', 3462), ('favorite', 3463), ('stingy', 3464), ('veltinsarena', 3465), ('fierce', 3466), ('beforehand', 3467), ('cooperate', 3468), ('consistently', 3469), ('degree', 3470), ('arose', 3471), ('450', 3472), ('january', 3473), ('unrestricted', 3474), ('twohit', 3475), ('manned', 3476), ('201516', 3477), ('reminds', 3478), ('alleviated', 3479), ('garry', 3480), ('mphplus', 3481), ('lightening', 3482), ('ross', 3483), ('allardyce', 3484), ('sits', 3485), ('youre', 3486), ('pitchers', 3487), ('rehabilitation', 3488), ('disingenuous', 3489), ('focusing', 3490), ('wristbands', 3491), ('relatively', 3492), ('compiled', 3493), ('mariners', 3494), ('court', 3495), ('aiming', 3496), ('gets', 3497), ('missed', 3498), ('lees', 3499), ('8300', 3500), ('returns', 3501), ('rejoin', 3502), ('arena', 3503), ('made', 3504), ('adapted', 3505), ('ride', 3506), ('managers', 3507), ('antonetti', 3508), ('relationship', 3509), ('contusion', 3510), ('groundouts', 3511), ('champions', 3512), ('fabianski', 3513), ('spent', 3514), ('installed', 3515), ('shining', 3516), ('awe', 3517), ('decide', 3518), ('gold', 3519), ('lesson', 3520), ('chinhui', 3521), ('essweins', 3522), ('texas', 3523), ('back', 3524), ('power', 3525), ('builtin', 3526), ('13th', 3527), ('adhere', 3528), ('peace', 3529), ('wrongly', 3530), ('fourseamer', 3531), ('showed', 3532), ('several', 3533), ('fivegoal', 3534), ('jiman', 3535), ('revealed', 3536), ('valencia', 3537), ('purple', 3538), ('powerhitting', 3539), ('arrival', 3540), ('shown', 3541), ('partnered', 3542), ('american', 3543), ('los', 3544), ('steal', 3545), ('global', 3546), ('press', 3547), ('underlined', 3548), ('januzaj', 3549), ('bluewings', 3550), ('compromise', 3551), ('jacque', 3552), ('thoroughly', 3553), ('lunchtime', 3554), ('changyong', 3555), ('runs', 3556), ('readily', 3557), ('jump', 3558), ('batters', 3559), ('forecast', 3560), ('cech', 3561), ('complained', 3562), ('living', 3563), ('terms', 3564), ('3220', 3565), ('201213', 3566), ('workouts', 3567), ('woes', 3568), ('training', 3569), ('wished', 3570), ('aston', 3571), ('ranch', 3572), ('comfort', 3573), ('canceled', 3574), ('relegate', 3575), ('djeparov', 3576), ('departure', 3577), ('performer', 3578), ('excluded', 3579), ('qualifier', 3580), ('leapfrogging', 3581), ('thrilling', 3582), ('scott', 3583), ('wed', 3584), ('ourselves', 3585), ('dramatic', 3586), ('recent', 3587), ('goalpost', 3588), ('kurt', 3589), ('suspended', 3590), ('commented', 3591), ('get', 3592), ('see', 3593), ('babe', 3594), ('ariz', 3595), ('floor', 3596), ('trent', 3597), ('chelsea', 3598), ('else', 3599), ('offer', 3600), ('suwon', 3601), ('line', 3602), ('escobar', 3603), ('rightback', 3604), ('falls', 3605), ('episode', 3606), ('hell', 3607), ('log', 3608), ('albion', 3609), ('got', 3610), ('artur', 3611), ('told', 3612), ('runners', 3613), ('ends', 3614), ('popular', 3615), ('80359capacity', 3616), ('m', 3617), ('alli', 3618), ('1939', 3619), ('kenta', 3620), ('didavi', 3621), ('play', 3622), ('forced', 3623), ('routledge', 3624), ('sundays', 3625), ('throw', 3626), ('rbis', 3627), ('sounded', 3628), ('pretty', 3629), ('swing', 3630), ('incheon', 3631), ('header', 3632), ('prosecuted', 3633), ('coolest', 3634), ('96', 3635), ('expensive', 3636), ('similar', 3637), ('deciding', 3638), ('rolls', 3639), ('hook', 3640), ('tributes', 3641), ('event', 3642), ('bit', 3643), ('oblique', 3644), ('fastball', 3645), ('amazing', 3646), ('initially', 3647), ('experiencing', 3648), ('offense', 3649), ('97mph', 3650), ('lack', 3651), ('animations', 3652), ('adds', 3653), ('beating', 3654), ('army', 3655), ('partly', 3656), ('estimates', 3657), ('series', 3658), ('aj', 3659), ('tibia', 3660), ('analysis', 3661), ('pm', 3662), ('147', 3663), ('netted', 3664), ('sloppy', 3665), ('finds', 3666), ('httpenyibadacomarticles12280620160512premierleague20152016swanseacityvsmanchesterpreviewpredictionhtmixzz48qovyrym', 3667), ('gem', 3668), ('suckerpunch', 3669), ('siegrist', 3670), ('kuwait', 3671), ('mean', 3672), ('significant', 3673), ('resurgent', 3674), ('stream', 3675), ('threeyear', 3676), ('christian', 3677), ('field', 3678), ('kellys', 3679), ('signee', 3680), ('candidate', 3681), ('all', 3682), ('opponent', 3683), ('takes', 3684), ('hardworking', 3685), ('g', 3686), ('international', 3687), ('has', 3688), ('punch', 3689), ('bothering', 3690), ('strict', 3691), ('176th', 3692), ('switzerland', 3693), ('intentions', 3694), ('assignments', 3695), ('definitely', 3696), ('predictably', 3697), ('closed', 3698), ('alan', 3699), ('lowly', 3700), ('areas', 3701), ('fellow', 3702), ('submitting', 3703), ('punishment', 3704), ('behind', 3705), ('2for21', 3706), ('no', 3707), ('326', 3708), ('pressurepacked', 3709), ('displayed', 3710), ('upset', 3711), ('imagination', 3712), ('joseph', 3713), ('us', 3714), ('essentially', 3715), ('imposed', 3716), ('sainsbury', 3717), ('pitch', 3718), ('mud', 3719), ('rightfully', 3720), ('lough', 3721), ('lightly', 3722), ('suffering', 3723), ('orix', 3724), ('nonetheless', 3725), ('conducted', 3726), ('muangthong', 3727), ('skysports', 3728), ('even', 3729), ('deserves', 3730), ('top', 3731), ('forward', 3732), ('byung', 3733), ('kazmir', 3734), ('3m', 3735), ('taken', 3736), ('ismail', 3737), ('percent', 3738), ('test', 3739), ('using', 3740), ('220', 3741), ('mvp', 3742), ('stielike', 3743), ('game', 3744), ('warmed', 3745), ('dealing', 3746), ('wary', 3747), ('secondplace', 3748), ('attackleading', 3749), ('cincinnati', 3750), ('koscielny', 3751), ('person', 3752), ('backoff', 3753), ('choi', 3754), ('fukuokabased', 3755), ('course', 3756), ('fantasy', 3757), ('technically', 3758), ('2000s', 3759), ('heartbeat', 3760), ('mohammad', 3761), ('himself', 3762), ('goes', 3763), ('concerned', 3764), ('extend', 3765), ('fell', 3766), ('pierreemile', 3767), ('ngolo', 3768), ('town', 3769), ('deploy', 3770), ('stop', 3771), ('wolves', 3772), ('marginalised', 3773), ('maness', 3774), ('aboard', 3775), ('secondfloor', 3776), ('preparation', 3777), ('joshua', 3778), ('match', 3779), ('seth', 3780), ('onomah', 3781), ('traits', 3782), ('promotion', 3783), ('says', 3784), ('brings', 3785), ('colby', 3786), ('451', 3787), ('dipped', 3788), ('mound', 3789), ('holiday', 3790), ('caught', 3791), ('surgicallyrepaired', 3792), ('144', 3793), ('call', 3794), ('firstteam', 3795), ('testimony', 3796), ('appear', 3797), ('suggests', 3798), ('countryspeaking', 3799), ('erik', 3800), ('prosecutors', 3801), ('coached', 3802), ('im', 3803), ('crowd', 3804), ('earlier', 3805), ('virgil', 3806), ('country', 3807), ('efforts', 3808), ('multiply', 3809), ('seigrist', 3810), ('area', 3811), ('share', 3812), ('victory', 3813), ('roberto', 3814), ('passan', 3815), ('jacheol', 3816), ('saudi', 3817), ('involved', 3818), ('15', 3819), ('backs', 3820), ('cannot', 3821), ('opportunities', 3822), ('of', 3823), ('gives', 3824), ('calls', 3825), ('2004', 3826), ('succeed', 3827), ('zorc', 3828), ('dongwon', 3829), ('retired', 3830), ('niedermeier', 3831), ('opportunity', 3832), ('250pound', 3833), ('wise', 3834), ('thus', 3835), ('bring', 3836), ('achieve', 3837), ('282', 3838), ('date', 3839), ('nights', 3840), ('commanded', 3841), ('indeed', 3842), ('tougher', 3843), ('excited', 3844), ('crystal', 3845), ('least', 3846), ('13', 3847), ('continent', 3848), ('department', 3849), ('forster', 3850), ('shoes', 3851), ('225', 3852), ('receive', 3853), ('surprise', 3854), ('originally', 3855), ('director', 3856), ('fourgoal', 3857), ('karns', 3858), ('prosecution', 3859), ('336', 3860), ('awards', 3861), ('pacebypace', 3862), ('added', 3863), ('blast', 3864), ('gunners', 3865), ('foot', 3866), ('korean', 3867), ('51', 3868), ('lot', 3869), ('took', 3870), ('swung', 3871), ('exactly', 3872), ('wes', 3873), ('772', 3874), ('participate', 3875), ('playing', 3876), ('elected', 3877), ('latter', 3878), ('unable', 3879), ('truth', 3880), ('absence', 3881), ('leap', 3882), ('seein', 3883), ('ambitions', 3884), ('sunderland', 3885), ('contender', 3886), ('galore', 3887), ('ohio', 3888), ('list', 3889), ('foreigngambling', 3890), ('renew', 3891), ('fukuoka', 3892), ('august', 3893), ('rain', 3894), ('subsequent', 3895), ('reliable', 3896), ('overlooked', 3897), ('servais', 3898), ('diagnosis', 3899), ('andrew', 3900), ('increases', 3901), ('hopes', 3902), ('twoout', 3903), ('couple', 3904), ('threetime', 3905), ('hopefully', 3906), ('quality', 3907), ('bbc', 3908), ('district', 3909), ('walker', 3910), ('parties', 3911), ('blackwings2011', 3912), ('2005', 3913), ('youve', 3914), ('jung', 3915), ('requested', 3916), ('cactus', 3917), ('harsh', 3918), ('brian', 3919), ('bite', 3920), ('counts', 3921), ('25', 3922), ('beer', 3923), ('illegal', 3924), ('doesnt', 3925), ('181', 3926), ('setback', 3927), ('calibre', 3928), ('enjoyed', 3929), ('roman', 3930), ('winger', 3931), ('service', 3932), ('boasts', 3933), ('summer', 3934), ('daniel', 3935), ('throws', 3936), ('loan', 3937), ('end', 3938), ('1st', 3939), ('68th', 3940), ('investigation', 3941), ('costing', 3942), ('picked', 3943), ('experts', 3944), ('black', 3945), ('pace', 3946), ('sprawled', 3947), ('arsenal', 3948), ('improve', 3949), ('centreback', 3950), ('dust', 3951), ('men', 3952), ('1950', 3953), ('sidelined', 3954), ('irishmans', 3955), ('foreigners', 3956), ('traveling', 3957), ('pulled', 3958), ('h', 3959), ('reasons', 3960), ('26', 3961), ('contributor', 3962), ('are', 3963), ('wainwright', 3964), ('tactically', 3965), ('fan', 3966), ('value', 3967), ('markus', 3968), ('prize', 3969), ('bobadilla', 3970), ('backtoback', 3971), ('front', 3972), ('trick', 3973), ('direct', 3974), ('clearly', 3975), ('begin', 3976), ('strikeouts', 3977), ('come', 3978), ('preparty', 3979), ('admirable', 3980), ('normalcy', 3981), ('birth', 3982), ('sloppier', 3983), ('route', 3984), ('finnbogasons', 3985), ('40', 3986), ('founding', 3987), ('owns', 3988), ('traveled', 3989), ('de', 3990), ('nicknames', 3991), ('kingsley', 3992), ('old', 3993), ('282368524', 3994), ('slugging', 3995), ('learn', 3996), ('pictwittercombigvsajt1b', 3997), ('people', 3998), ('wouldnt', 3999), ('faster', 4000), ('jungho', 4001), ('republic', 4002), ('lets', 4003), ('volley', 4004), ('campaign', 4005), ('6foot4', 4006), ('remains', 4007), ('strain', 4008), ('laws', 4009), ('lock', 4010), ('thats', 4011), ('outs', 4012), ('mri', 4013), ('postponed', 4014), ('downgrading', 4015), ('most', 4016), ('shaw', 4017), ('90th3', 4018), ('follow', 4019), ('primarily', 4020), ('knows', 4021), ('beyond', 4022), ('know', 4023)])\n"
     ]
    }
   ],
   "source": [
    "if __name__ == \"__main__\":\n",
    "    dir_name = \"news_data\"\n",
    "    file_list = get_file_list(dir_name)\n",
    "    file_list = [os.path.join(dir_name, file_name) for file_name in file_list]\n",
    "\n",
    "    X_text, y_class = get_conetents(file_list)\n",
    "\n",
    "    corpus = get_corpus_dict(X_text)\n",
    "    print(\"Number of words : {0}\".format(len(corpus)))\n",
    "    \n",
    "print(corpus)"
   ]
  },
  {
   "cell_type": "markdown",
   "metadata": {},
   "source": [
    "#### 문서별로 Bag of words vector 생성"
   ]
  },
  {
   "cell_type": "code",
   "execution_count": 47,
   "metadata": {
    "collapsed": true
   },
   "outputs": [],
   "source": [
    "def get_count_vector(text, corpus):\n",
    "    text = [sentence.split() for sentence in text]\n",
    "    \n",
    "    word_number_list = [[corpus[get_cleaned_text(word)] for word in words] for words in text]\n",
    "    \n",
    "    X_vector = [[0 for _ in range(len(corpus))] for x in range(len(text))]\n",
    "\n",
    "    for i, text in enumerate(word_number_list):\n",
    "        for word_number in text:\n",
    "            X_vector[i][word_number] += 1\n",
    "    return X_vector"
   ]
  },
  {
   "cell_type": "code",
   "execution_count": 48,
   "metadata": {
    "collapsed": false
   },
   "outputs": [
    {
     "name": "stdout",
     "output_type": "stream",
     "text": [
      "[[2462, 222, 1934, 127, 2530, 990, 2337, 127, 157, 2462, 222, 1934, 2369, 1623, 720, 489, 134, 2369, 3174, 3267, 2326, 456, 1925, 456, 367, 493, 2166, 10, 367, 2424, 4023, 60, 434, 3299, 31, 280, 1023, 1526, 686, 329, 3499, 1125, 2271, 1391, 2271, 1995, 752, 4012, 2193, 127, 1352, 3823, 127, 3019, 764, 3066, 511, 292, 2369, 259, 3744, 1791, 793, 736, 1586, 2147, 127, 1017, 1551, 2369, 1274, 654, 2923, 127, 3523, 956, 3224, 60, 3103, 1526, 654, 1082, 1791, 127, 1125, 2225, 2075, 1771, 127, 4006, 3833, 3867, 825, 222, 2369, 3668, 3823, 2369, 1730, 2683, 127, 3819, 2489, 1023, 3419, 2257, 3532, 480, 2683, 1633, 3103, 3102, 1069, 883, 3381, 3823, 127, 768, 1791, 2253, 3658, 1771, 3494, 127, 1017, 3102, 1098, 3323, 1148, 127, 1791, 2660, 222, 2369, 745, 938, 3323, 1995, 2369, 1791, 3153, 1481, 3823, 2064, 1586, 2872, 1119, 3823, 3472, 367, 1683, 1683, 356, 2462, 2057, 3583, 3898, 483, 3823, 127, 654, 1586, 2369, 2533, 2246, 31, 222, 2066, 2023, 2872, 3016, 3154, 2683, 3523, 662, 2284, 2462, 222, 2872, 3444, 3744, 127, 2327, 3610, 782, 2023, 127, 3744, 2284, 1889, 1586, 1060, 2503, 2832, 849, 1586, 547, 1683, 3353, 2683, 3592, 942, 1586, 3592, 2462, 1561, 1977, 2164, 2255, 471, 942, 3823, 1172, 1154, 2376, 1995, 2369, 534, 1791, 3153, 863, 3823, 956, 2993, 3659, 2851, 2683, 2303, 127, 3494, 2369, 405, 2321, 2255, 222, 3706, 662, 127, 1280, 1154, 476, 31, 287, 3370, 456, 3688, 2389, 127, 48, 1148, 127, 1791, 2660, 127, 3494, 2603, 61, 127, 2321, 2193, 127, 328, 82, 1523, 3434, 489, 2369, 582, 1791, 3153, 2535, 1023, 1327, 1367, 2701, 2683, 3202, 127, 3744, 1082, 2938, 476, 3499, 1184, 280, 2993, 2151, 3910, 2509, 2369, 1667, 2192, 2055, 1248, 3366, 1092, 480, 259, 1936, 3381, 1353, 3153, 2418, 942, 71, 960, 2094, 1245, 752, 1650, 2732, 1305, 337, 752, 2347, 3366, 1586, 222, 3280, 1995, 127, 654, 280, 1975, 1658, 1562, 456, 2369, 256, 2483, 2683, 288, 2808, 3359, 547, 1975, 1690, 662, 127, 1856, 60, 2369, 1081, 3744, 3658, 3176, 2139, 3858, 3497, 127, 2192, 2193, 798, 3658, 1666, 1082, 217, 3662, 2302, 662, 207, 2164, 2483, 3523, 3501, 1791, 60, 2369, 1081, 3744, 3658, 1995, 127, 2032, 275, 417, 662, 1562, 1889], [329, 1381, 1975, 1929, 2683, 988, 127, 3558, 1424, 127, 891, 3345, 2683, 127, 335, 640, 3867, 1526, 686, 329, 1381, 1975, 307, 2449, 2683, 2063, 662, 1424, 127, 891, 3345, 1455, 2683, 2369, 1762, 1424, 3164, 1372, 3823, 1157, 146, 1434, 3688, 1024, 1172, 1862, 867, 60, 127, 2704, 3174, 1995, 127, 3892, 2382, 1576, 3823, 127, 3004, 2935, 806, 853, 2193, 1161, 1434, 3688, 732, 2683, 1682, 2872, 3687, 1057, 2238, 2193, 3902, 3823, 1275, 2369, 1513, 888, 127, 2213, 1526, 686, 2509, 398, 2193, 127, 3867, 806, 1999, 2193, 2756, 60, 2923, 2369, 746, 476, 1211, 127, 2063, 2683, 1400, 2683, 1161, 3069, 3293, 2025, 1381, 2509, 2389, 3876, 2193, 1161, 3876, 60, 1494, 127, 3724, 195, 1586, 127, 1576, 3293, 1434, 3299, 2340, 2872, 3474, 3687, 1057, 2238, 1381, 1975, 1934, 1674, 2369, 2297, 2038, 31, 1975, 2114, 1293, 127, 2518, 2886, 3171, 1586, 127, 649, 1975, 307, 541, 60, 1494, 443, 3682, 806, 3445, 1265, 3823, 3876, 2193, 127, 1138, 1586, 1983, 689, 2683, 3212, 31, 1265, 1381, 3395, 2193, 1172, 3547, 139, 3244, 2325, 493, 2303, 1570, 3738, 689, 624, 1561, 1699, 906, 2891, 2325, 9, 900, 2462, 1975, 307, 1266, 2193, 2056, 976, 398, 3403, 3174, 60, 127, 3892, 2382, 1576, 1381, 1238, 2369, 3994, 3336, 3602, 2923, 2733, 1720, 2105, 3, 1995, 2982, 1791, 3556, 1586, 2634, 3556, 1792, 2193, 2923, 1172, 253, 2891, 2193, 1494, 2756, 1586, 1161, 1434, 3299, 127, 2942, 2695, 3823, 2369, 2528, 3336, 3602, 2923, 214, 1720, 2105, 3, 1995, 3142, 1791, 3556, 1586, 2288, 3556, 1792, 2193, 2193, 1333, 976, 398], [1381, 329, 2369, 3867, 775, 46, 3876, 1995, 127, 2382, 1576, 2193, 1161, 3688, 2971, 545, 2683, 3212, 2369, 2891, 2193, 2696, 853, 806, 2193, 127, 3714, 1381, 3688, 1353, 2568, 2193, 3004, 2935, 806, 1586, 222, 2933, 3742, 3823, 127, 1161, 3658, 3403, 1751, 624, 1242, 906, 2536, 60, 3403, 1751, 3381, 222, 1399, 906, 3102, 654, 127, 1161, 3658, 1586, 127, 2471, 222, 2340, 3742, 1381, 483, 1082, 2369, 3547, 3642, 662, 2284, 2023, 2320, 1791, 2156, 2383, 2462, 3299, 439, 410, 2683, 3212, 906, 2618, 1265, 3823, 3876, 2193, 127, 91, 1103, 487, 3867, 1862, 3239, 2240, 3823, 127, 2911, 120, 3299, 260, 60, 585, 1424, 91, 2580, 2023, 2297, 222, 3504, 2912, 3403, 12, 929, 60, 127, 752, 3445, 3963, 1710, 2023, 570, 4001, 809, 1597, 1424, 127, 2911, 120, 2683, 127, 1392, 2793, 2156, 1751], [1381, 329, 2752, 60, 3273, 662, 2284, 3359, 127, 280, 3494, 297, 100, 3569, 1381, 2951, 2683, 2785, 60, 127, 3714, 2023, 506, 2369, 2176, 3087, 1718, 3684, 2503, 2369, 224, 2590, 3322, 1172, 545, 1082, 127, 520, 3823, 127, 3102, 2683, 2370, 1995, 163, 456, 2912, 456, 266, 483, 1172, 3184, 698, 2881, 3310, 889, 1381, 3299, 1446, 2683, 2192, 3569, 3403, 2383], [3867, 775, 1381, 329, 3823, 127, 3892, 2382, 1576, 2571, 127, 3742, 1151, 2193, 127, 1161, 3658, 3823, 127, 3004, 2935, 806, 2366, 853, 60, 1172, 3175, 1955, 2193, 1155, 1172, 3102, 2683, 3225, 762, 2949, 2262, 1562, 1995, 2369, 1391, 1791, 3153, 2193, 127, 1193, 764, 127, 775, 3143, 257, 127, 1576, 2683, 2369, 3251, 654, 2923, 127, 1122, 321, 1225, 1082, 127, 2811, 548, 2193, 1122, 1586, 751, 127, 1576, 2683, 2369, 3072, 3658, 654, 2462, 3387, 127, 2643, 1161, 3658, 2262, 654, 60, 127, 3755, 3102, 127, 1391, 2530, 1381, 2013, 863, 1225, 2993, 2414, 2248, 222, 2369, 2984, 3381, 1092, 127, 1576, 2872, 2912, 744, 2321, 127, 1576, 3863, 752, 3055, 3556, 2193, 127, 3731, 3823, 127, 1170, 1586, 487, 2193, 127, 1058, 1148, 127, 3658, 1381, 1447, 328, 1936, 2193, 2128, 2749, 3418, 752, 1791, 3556, 1586, 328, 3627, 2325, 2465, 282, 1351, 2683, 654, 127, 3658, 752, 2949, 3363, 1381, 222, 1807, 456, 1203, 2023, 127, 3744, 1771, 891, 1500, 439, 2325, 493, 3133, 2193, 3529, 1381, 989, 1172, 3742, 185, 2683, 1172, 163, 1203, 127, 1793, 2193, 3972, 3823, 3400, 571, 3103, 2010, 3245, 662, 2355, 1586, 2325, 1236, 3422, 2800, 1791, 2325, 2465, 3125, 2395, 2683, 2800, 82, 558, 800, 1434, 1975, 1429, 127, 3969, 2069, 3823, 2789, 3237, 2021, 563, 1381, 483, 1434, 2928, 1690, 1172, 163, 2683, 3049, 127, 3867, 775, 1934, 2158, 2952, 127, 1526, 3867, 3742, 2590, 1434, 3299, 533, 127, 1526, 2882, 1989, 3293, 127, 3724, 2658, 3216, 922, 2193, 2078, 127, 1887, 2846, 803, 1862, 3823, 127, 3867, 806, 1999, 28, 2509, 398, 2193, 2756, 60, 1305, 3424, 472, 2369, 1098, 3323, 3823, 1632, 1995, 3852, 1791, 3556, 1434, 2509, 1172, 392, 3174, 2193, 2850, 2865, 127, 1287, 402, 64, 3860, 1995, 3961, 1791, 3556, 1586, 369, 3627, 1434, 1951, 127, 1576, 1424, 127, 2680, 3174, 2023, 2258, 752, 3363, 1995, 127, 3409, 3724, 195, 2193, 2025, 1586, 3124, 2193, 127, 507, 3174, 3403, 1751, 1434, 1792, 3838, 1995, 3793, 1936, 3418, 2982, 1791, 3556, 1586, 2634, 3627], [3381, 2639, 222, 176, 2683, 3518, 127, 3744, 60, 458, 3867, 2696, 1167, 1381, 329, 3823, 127, 280, 3494, 3698, 2369, 3744, 1771, 64, 1172, 1526, 2859, 1791, 3153, 3293, 1172, 494, 2193, 127, 335, 853, 662, 3066, 1381, 1823, 2193, 127, 1098, 2526, 1995, 2369, 3287, 662, 1526, 1586, 1938, 2369, 1391, 3864, 2193, 127, 1352, 3823, 127, 3019, 764, 2535, 127, 3523, 956, 1082, 2739, 3678, 2193, 280, 2683, 2957, 127, 3494, 2683, 2369, 1274, 3813, 127, 3867, 775, 3557, 489, 2369, 3650, 3645, 1424, 3021, 205, 1226, 1228, 1586, 330, 2462, 2923, 127, 2752, 3678, 2727, 3245, 972, 60, 127, 705, 3461, 1995, 127, 2625, 3127, 662, 1019, 3359, 127, 960, 653, 663, 2683, 489, 2369, 2986, 3370, 2164, 2255, 1042, 1586, 2471, 163, 3682, 1034, 2337, 127, 1791, 1720, 2683, 3029, 1381, 1695, 1951, 127, 2286, 2420, 2039, 1172, 1591, 329, 1236, 689, 1172, 3311, 1695, 1424, 127, 2846, 803, 2827, 2683, 2424, 757, 2509, 2683, 307, 2369, 2999, 2683, 568, 2872, 3938, 2683, 127, 3587, 793, 1867, 1586, 2325, 2684, 2683, 307, 127, 2999, 2325, 3871, 3722, 2590, 2325, 222, 3203, 176, 2683, 489, 2369, 1710, 3718, 483, 127, 1979, 3867, 1148, 2872, 954, 2023, 127, 3744, 761, 2683, 127, 3813, 1381, 329, 2952, 127, 1526, 3135, 2065, 2683, 297, 1068, 2369, 1125, 2271, 2193, 1172, 494, 3174, 3293, 127, 121, 3823, 127, 280, 3494, 2193, 935, 1381, 533, 2952, 127, 762, 508, 625, 2683, 489, 2369, 3638, 1791, 3153, 1684, 528, 3320, 127, 1732, 2843, 625, 3823, 2796, 2193, 3953, 1381, 3688, 2125, 127, 3459, 2683, 3368, 3638, 1936, 2193, 3682, 1081, 2935, 806, 640, 2193, 2756, 1161, 1586, 127, 3714, 127, 1979, 3867, 775, 3958, 863, 1081, 1463, 942, 3823, 1172, 71, 1125, 1936, 2193, 2756, 1586, 1434, 489, 752, 1125, 1936, 2193, 1161, 433, 2369, 2271, 3403, 30, 127, 1193, 410, 31, 2369, 3867, 2696, 853, 1862, 3688, 489, 2369, 1125, 1791, 3153, 1684, 3754, 614, 3913, 2221, 2592, 1586, 3030, 479, 1729, 2796, 1586, 3124, 3750], [1771, 127, 2756, 2230, 3544, 526, 1108, 2156, 3363, 1161, 3658, 3742, 1381, 329, 1297, 1172, 49, 3823, 1211, 127, 280, 3494, 2352, 1995, 1172, 1526, 3475, 3744, 3823, 127, 100, 2284, 3381, 3823, 2800, 222, 533, 1172, 1526, 211, 127, 2213, 3867, 775, 471, 942, 3823, 2369, 1404, 409, 60, 3249, 2376, 1771, 238, 739, 60, 3182, 2535, 127, 3544, 526, 2703, 2193, 3917, 853, 50, 2193, 3273, 1995, 2158, 2482, 2749, 728, 1172, 2629, 238, 2391, 127, 3744, 2462, 2028, 1690, 1948, 2683, 988, 1172, 2600, 1929, 791, 2281, 115, 2023, 752, 1936, 2193, 1172, 1526, 752, 2749, 1172, 1098, 3323, 2509, 701, 583, 60, 127, 100, 3499, 1526, 489, 643, 2193, 127, 282, 1526, 764, 456, 1434, 1328, 2391, 127, 3559, 2526, 456, 127, 1170, 2065, 2236, 1995, 752, 662, 3332, 2535, 151, 3900, 2758, 1586, 3031, 2369, 2051, 3903, 3602, 2339, 1284, 2683, 2752, 2683, 2303, 127, 3494, 2369, 3249, 2321, 1434, 1328, 2391, 127, 3559, 2526, 1995, 752, 4012, 3301, 2193, 127, 2937, 764, 2590, 2509, 2683, 2481, 2270, 127, 1193, 2683, 3592, 1172, 762, 489, 3823, 127, 2483, 456, 127, 1526, 2355, 3287, 3610, 3943, 863, 2683, 3938, 127, 764, 127, 2703, 3322, 127, 3127, 2683, 3176, 2690, 492, 1586, 1381, 2588, 458, 1995, 1172, 1526, 211, 2683, 582, 127, 1193, 1434, 2928, 3450, 3978, 2337, 2683, 3024, 662, 3935, 1819, 3903, 211, 1381, 231, 942, 2683, 3127, 1362, 3043, 2193, 127, 1539, 476, 3357, 1135, 1771, 487, 3135, 2065, 3681, 2402, 1273, 1381, 3299, 439, 490, 60, 405, 1040, 1995, 3381, 211, 3381, 1791, 3153, 259, 3556, 1586, 71, 3627, 2703, 3867, 1526, 686, 3754, 3535, 1783, 409, 60, 1436, 1172, 1098, 3323, 2555, 1082, 1195], [3867, 1526, 686, 329, 1381, 3299, 3245, 2832, 2466, 1424, 2369, 2696, 853, 806, 3102, 1434, 2509, 2389, 3569, 1995, 1172, 1887, 3102, 127, 2846, 803, 2193, 3273, 2590, 3574, 545, 1455, 2683, 3164, 1372, 3823, 2197, 1157, 146, 3184, 1434, 634, 127, 2755, 3688, 2389, 4014, 2683, 977, 2872, 1939, 91, 3102, 3499, 1887, 1851, 127, 3892, 2382, 1576, 3823, 127, 3004, 2935, 806, 2366, 3963, 2125, 2683, 2192, 100, 3569, 2193, 2369, 3904, 3823, 931, 1586, 776, 2683, 182, 127, 775, 1381, 1298, 702, 270, 456, 2369, 1526, 686, 2590, 2928, 307, 3055, 3823, 2369, 3135, 2065, 2193, 91, 2156, 3174, 1381, 510, 2982, 1791, 3556, 3234, 2193, 2634, 3556, 1995, 2369, 3336, 3602, 3823, 3994, 1381, 3299, 1236, 55, 2369, 1988, 268, 1455, 2683, 127, 1762, 1586, 3228, 307, 3823, 2466, 2683, 127, 804, 3274, 2537, 3328, 3659, 612, 1975, 2114, 3592, 2832, 3048, 2535, 2074, 3487, 1082, 2560, 2369, 1988, 268, 60, 2800, 2928, 307, 2872, 26, 2125, 480, 127, 3274, 2158, 297, 1996, 64, 2072, 3105, 1082, 1526, 2355, 2683, 2192, 127, 2704, 3174, 1434, 3228, 1709, 1995, 2958, 162, 2369, 2281, 201, 2065, 2683, 1756, 1082, 1526, 2355, 134, 3135, 2065], [127, 280, 3494, 297, 2509, 2872, 131, 551, 254, 2265, 2965, 1586, 1505, 96, 3887, 2462, 1050, 31, 60, 3682, 127, 2291, 127, 3494, 297, 3504, 547, 2070, 3963, 1934, 1561, 662, 3066, 127, 3494, 3262, 2872, 317, 1995, 3867, 2537, 329, 1381, 662, 2369, 1988, 1704, 853, 268, 127, 268, 83, 1934, 307, 456, 1070, 456, 2369, 475, 113, 2265, 134, 3729, 2369, 2240, 3239, 2265, 1718, 2325, 2465, 2070, 2036, 1082, 2594, 127, 3494, 2028, 1957, 2683, 527, 3239, 2590, 1526, 686, 1381, 3688, 127, 2387, 2683, 700, 1079, 942, 2193, 91, 2193, 2704, 1381, 3299, 1771, 3707, 2510, 2369, 3328, 1082, 127, 3198, 3823, 3143, 2590, 127, 2387, 2683, 307, 2872, 3084, 1862, 1586, 3729, 1690, 127, 1526, 2355, 2235, 60, 127, 2172, 2525, 3363, 3299, 2052, 1381, 3299, 2872, 1222, 2265, 60, 1461, 1638, 456, 1434, 3925, 3872, 1709, 2391, 10, 127, 2080, 3688, 3032, 60, 3403, 279, 1082, 4006, 468, 1826, 1434, 3925, 3872, 2161, 2146, 540, 2590, 1434, 1803, 480, 60, 2462, 1995, 1172, 2976, 1082, 127, 1720, 1434, 3688, 489, 2923, 2369, 583, 1098, 3323, 2193, 1768, 3823, 1172, 2156, 3249, 3424, 2676, 2067, 28, 1586, 2366, 1979, 2756, 1586, 1161, 1172, 2891, 1098, 3602, 2067, 127, 752, 640, 3299, 2528, 1718, 3299, 1344, 2683, 1690, 127, 3673, 489, 3682, 891, 1586, 3867, 3445, 297, 1291, 82, 436, 91, 1381, 3299, 1771, 3707, 2510, 579, 2369, 595, 662, 127, 2696, 853, 2352, 2590, 1434, 3696, 332, 127, 2387, 2683, 167, 3524, 480, 1082, 1526, 2355, 134, 1690, 2369, 2236, 1769, 2012, 1995, 127, 3102, 1381, 3688, 1667, 1770, 1082, 1526, 2355, 2590, 1995, 1172, 1162, 1434, 3299, 1934, 1322, 2683, 550, 1995, 1172, 2146, 2129, 662, 127, 3678, 127, 1102, 3823, 1508, 1770, 1995, 2872, 3646, 3052, 1082, 127, 1720, 2928, 1441, 689, 2369, 3014, 2236, 867, 60, 127, 3494, 2590, 1381, 3688, 2683, 1246, 31, 1434, 493, 902, 2193, 127, 3714, 10, 1434, 571, 2866, 533, 1995, 127, 1252, 3042, 127, 3494, 297, 1302, 639, 3299, 2114, 2683, 988, 127, 926, 2683, 2236, 3403, 3174, 2124, 639, 2928, 776, 304, 1381, 3299, 2369, 2540, 2366, 1432, 1779, 1586, 2369, 3905, 2366, 531, 1104, 2193, 1236, 71, 3424, 2193, 127, 2366, 1260, 2094, 3876, 2193, 127, 28, 1434, 222, 3146, 127, 3742, 3823, 127, 853, 2193, 47, 2124, 1381, 3299, 3055, 3823, 2369, 3525, 2065, 3729, 1995, 1172, 512, 2600, 1434, 3299, 2608, 31, 1172, 587, 2866, 1975, 2889, 3367, 2193, 91, 3403, 3299, 1069, 127, 3099, 1559, 31, 3682, 2364, 3445, 297, 2369, 135, 1217, 2193, 3525, 82, 436, 91, 127, 2375, 60, 3499, 1947, 2125, 2193, 91, 2928, 2241, 2683, 2493, 1592, 1082, 3403, 1707, 2193, 1172, 2891, 1592, 2193, 1172, 2115, 222, 2109, 127, 665, 3823, 127, 3268, 497, 911, 3649, 1148, 127, 3759, 1592, 2070, 3688, 127, 1947, 2683, 3622, 662, 2369, 2696, 853, 2352, 2193, 2369, 2044, 2012, 2590, 1434, 3299, 3696, 662, 127, 513, 1501, 1172, 430, 2023, 2704, 3805, 2193, 127, 279, 3499, 1162, 1586, 1720, 2976, 1522, 1592, 542, 2425, 456, 547, 1494, 689, 2683, 3804, 127, 1720, 247, 127, 2075, 299, 60, 2814, 3487, 1381, 1975, 297, 2683, 1246, 3762, 2193, 993, 2683, 988, 127, 335, 853, 2352, 2590, 2462, 222, 2769, 31, 1434, 3688, 1436, 3237, 2193, 2085, 3244, 1434, 493, 2424, 3339, 2094, 2462, 3299, 919, 229, 31, 1381, 1975, 988, 2369, 2696, 3084, 2193, 127, 2192, 3823, 127, 3174, 1434, 352, 297, 2369, 49, 2683, 1690, 127, 1756, 595, 1082, 1526, 2355, 1424, 2402, 1273, 1273, 3299, 942, 3823, 1704, 853, 1029, 2425, 2436, 2369, 3643, 3823, 2369, 1760, 3244, 1381, 571, 988, 127, 1124, 2352, 1470, 2462, 3299, 2369, 652, 1538, 888, 127, 3494, 3610, 2369, 932, 3545, 1995, 1381, 3244, 1434, 3925, 1456, 2462, 1975, 593, 127, 3494, 2172, 2683, 1488, 3244, 1434, 352, 2529, 2947, 1732, 1381, 1975, 2706, 127, 2069, 1434, 3720, 3730, 384, 1087, 1985, 2369, 2636, 1756, 1971, 2160, 662, 1172, 2676, 2600, 1381, 3228, 258, 1371, 2391, 31, 2012, 1586, 1682, 2369, 3966, 3463, 2193, 280], [127, 3892, 2382, 1576, 465, 3902, 3823, 2564, 2369, 888, 1995, 775, 1381, 329, 2257, 222, 127, 4016, 1304, 1862, 2193, 127, 3004, 2935, 806, 1161, 3658, 2156, 1751, 2023, 127, 3938, 3823, 2156, 3174, 1381, 3453, 1172, 776, 2683, 3622, 2193, 2696, 853, 806, 2590, 1434, 3688, 1934, 3401, 2572, 2369, 3102, 891, 1500, 2769, 662, 2284, 31, 127, 2263, 1659, 2323, 2521, 1071, 127, 3220, 3823, 2265, 2369, 888, 1995, 1381, 2193, 2049, 127, 3102, 2509, 2433, 483, 127, 696, 60, 1973, 1995, 1381, 222, 476, 100, 597, 2781], [3544, 526, 0, 127, 3544, 526, 2592, 3707, 3033, 3433, 2683, 774, 2503, 3021, 470, 3335, 1357, 942, 3823, 1172, 888, 2023, 2172, 3174, 2590, 547, 83, 3433, 2683, 2192, 2256, 3244, 3607, 3069, 3718, 60, 2800, 3301, 2592, 2057, 449, 890, 3536, 476, 232, 3744, 2535, 127, 218, 2602, 1679, 803, 31, 3335, 2509, 487, 1503, 3927, 3403, 410, 2369, 2549, 4008, 31, 3623, 458, 2683, 516, 1172, 2603, 2198, 3335, 272, 337, 2193, 2369, 1514, 3744, 3293, 2729, 490, 2680, 2369, 2982, 3154, 2683, 127, 3120, 553, 1510, 2193, 3744, 3182, 3823, 127, 825, 853, 2862, 3658, 1434, 3130, 1995, 518, 3319, 2193, 1172, 244, 3062, 1172, 1526, 752, 3424, 1995, 127, 2592, 1586, 127, 2650, 2952, 574, 68, 82, 1434, 2769, 2683, 100, 3569, 2193, 1794, 1434, 1324, 1907, 2666, 2683, 1627, 2369, 437, 3309, 662, 3157, 405, 470, 1613, 1668, 3061, 2683, 307, 2872, 2650, 3301, 60, 127, 2592, 3272, 485, 1360, 1555, 3335, 2913, 1172, 244, 3232, 2729, 490, 2369, 1751, 2683, 127, 2483, 2023, 1172, 2156, 2192, 60, 127, 2592, 2590, 222, 2070, 2927, 2237, 82, 100, 3569, 2004, 2193, 2388, 2049, 1434, 222, 1324, 572, 305, 60, 2369, 12, 2897, 2683, 3319, 2193, 127, 3062, 1732, 1115, 1172, 1047, 2070, 2947, 3705, 127, 2471, 3487, 1434, 3404, 2369, 1231, 2264, 3744, 2156, 2383, 1586, 1464, 3379, 2883, 2590, 1732, 127, 146, 3823, 1172, 3193, 3927, 643, 2683, 1465, 2026, 3397, 238, 2683, 1690, 2369, 3904, 535, 2683, 559, 3823, 2759, 3403, 16, 305, 1586, 1732, 3592, 458, 3524, 662, 127, 3789, 890, 483, 2325, 900, 127, 2593, 410, 367, 678, 367, 3397, 238, 2683, 297, 458, 3524, 630, 2590, 1732, 2283, 2369, 3927, 2193, 127, 3112, 3823, 100, 1586, 1732, 1995, 3403, 3758, 3225, 2369, 3927, 1586, 2325, 9, 4023, 800, 1129, 127, 2378, 3299, 127, 2592, 2055, 1108, 3688, 2389, 1533, 1771, 2041, 2342, 1424, 2073, 3620, 2648, 1586, 3483, 1715, 2257, 297, 2730, 2683, 500, 1081, 1353, 3556, 1586, 3819, 1936, 2193, 291, 3366, 2590, 1995, 1147, 611, 2156, 3424, 91, 1119, 1432, 439, 2055, 60, 127, 3273, 1000, 2377, 1498, 1590, 2193, 127, 3192, 31, 3335, 3228, 2903, 1026, 367, 3433, 458, 3524, 2590, 367, 3433, 458, 3524, 1457, 890, 483, 3335, 2257, 1943, 2369, 623, 1551, 3237, 888, 826, 2683, 127, 3124, 3174, 222, 372, 1172, 1526, 752, 3424, 1995, 127, 2592, 1434, 1238, 2369, 3158, 3289, 1586, 583, 1119, 2193, 2345, 3366, 1172, 1526, 1751, 1586, 643, 3524, 1995, 2369, 3663, 3459, 1586, 2713, 1119, 2193, 3188, 3366, 2193, 2680, 1494, 3363, 1648, 456, 127, 3707, 3182, 2993, 3705, 3053, 1579, 1586, 611, 2257, 297, 2730, 60, 71, 1780, 1645, 3861, 1434, 222, 2947, 662, 3946, 2683, 615, 785, 3366, 2193, 127, 1526, 259, 3363, 3823, 1172, 888, 1586, 2706, 2872, 2415, 2003, 2023, 2172, 3174, 82, 3607, 307, 422, 3363, 3993, 1586, 2070, 2193, 127, 2115, 3823, 1172, 2891, 439, 127, 2592, 411, 1937, 305, 2369, 1731, 31, 3688, 1682, 3682, 481, 8, 1995, 3335, 2369, 3169, 31, 1050, 2683, 3592, 3033, 1586, 3055, 1369, 1771, 127, 2483], [127, 2592, 9, 4023, 133, 10, 2683, 1540, 1424, 470, 3335, 3403, 3174, 2590, 127, 3021, 3536, 1019, 10, 1434, 452, 3823, 3762, 456, 1434, 769, 2683, 3007, 2369, 1832, 2683, 3544, 526, 3335, 3612, 86, 1082, 3631, 3687, 2873, 2193, 1979, 2756, 31, 1434, 1625, 452, 2683, 307, 2369, 904, 3823, 127, 2592, 3192, 3978, 2253, 2483, 3335, 2509, 3062, 2666, 662, 1172, 2752, 3309, 2193, 3157, 1586, 1082, 3846, 357, 127, 3331, 1424, 380, 2369, 2666, 3299, 963, 1906, 2662, 1795, 2590, 1172, 2666, 571, 1934, 199, 525, 2804, 1627, 187, 1860, 1172, 364, 60, 2320, 2683, 1550, 906, 379, 3688, 2389, 238, 2947, 1586, 624, 2389, 3427, 1035, 1371, 433, 2369, 1760, 3335, 483, 1455, 2683, 2369, 1762, 1771, 127, 1157, 146, 3184, 2325, 900, 2325, 2113, 307, 1233, 2683, 3592, 2193, 791, 176, 1911, 2683, 307, 2617, 60, 100, 3569], [470, 3335, 4007, 572, 305, 456, 1434, 895, 1172, 3300, 3524, 1424, 3062, 2666, 662, 2494, 2592, 2057, 449, 890, 483, 1434, 1446, 3335, 2683, 3626, 2369, 2603, 2198, 3403, 2383, 2590, 2026, 2332, 890, 634, 3335, 222, 2070, 3357, 2066, 3524, 890, 1990, 3225, 3696, 1934, 2369, 3927, 2590, 904, 3823, 127, 2580, 366, 3286, 2052, 3299, 3707, 3839, 60, 3335, 2683, 3626, 1172, 2172, 2603, 2198, 890, 483, 2590, 127, 1108, 2509, 2369, 3526, 3753, 1366, 3359, 547, 493, 3524, 863, 1586, 1732, 482, 2462, 480, 3301, 2590, 2283, 3707, 3839, 82, 1376, 238, 2683, 2192, 244, 3301, 82, 597, 2004, 127, 2592, 483, 547, 1446, 3335, 2683, 3718, 2193, 2369, 3917, 853, 3744, 3335, 3762, 3536, 1172, 2536, 3397, 2683, 2370, 127, 3102, 2193, 3157, 988, 744, 2342, 1586, 3608, 3288, 3366, 444, 2097, 1682, 1906, 1586, 1906, 2114, 456, 1434, 4007, 957, 3335, 773, 3319, 2193, 1172, 2752, 2797, 2023, 244, 2369, 2603, 2198, 662, 1796, 3961, 1434, 3688, 1934, 1676, 3293, 1082, 2832, 1707, 2193, 127, 1896, 890, 3395, 3335, 1975, 144, 1172, 244, 3232], [1483, 535, 3015, 470, 3335, 1424, 127, 507, 3174, 1586, 60, 2369, 2920, 1604, 1424, 3062, 2666, 1035, 2483, 3299, 1884, 1995, 1828, 662, 1562, 456, 1434, 1194, 3335, 2091, 2369, 2468, 2847, 2603, 2198, 2592, 2057, 449, 890, 3233, 800, 3335, 2928, 177, 3439, 2110, 3450, 3335, 3479, 444, 2939, 662, 2494, 82, 1434, 147, 2369, 3651, 3823, 3201, 1586, 127, 2853, 2753, 3823, 3319, 2683, 666, 2369, 219, 1698, 689, 2369, 1465, 244, 2198, 1995, 380, 941, 3294, 127, 3160, 1995, 1718, 127, 2592, 1975, 2628, 3335, 3403, 100, 127, 3102, 1326, 2683, 3718, 458, 2193, 3917, 853, 976, 1586, 3902, 1434, 1975, 1079, 597, 456, 2369, 914, 3823, 127, 417, 3192, 2590, 1621, 890, 1724, 2694, 3823, 806, 4, 3900, 1987, 3228, 3600, 2369, 733, 60, 1613, 3331, 2683, 3981, 1708, 367, 3682, 1258, 458, 2683, 307, 2617, 2253, 2483, 1987, 483, 1148, 2369, 3136, 2198, 1995, 86, 456, 127, 2580, 3487, 1586, 576, 2769, 2683, 1339, 3572, 1434, 352, 367, 2424, 3225, 1236, 3225, 3444, 60, 3714, 2683, 2424, 2462, 127, 2281, 3300, 1586, 2424, 2462, 2193, 2193, 2369, 3300, 31, 82, 1434, 729, 3524, 1376, 3524, 60, 791], [1497, 3595, 0, 1069, 10, 3228, 307, 456, 1948, 456, 2369, 12, 2067, 2603, 1681, 1604, 3544, 526, 2592, 3127, 470, 3335, 1990, 3066, 31, 1434, 3299, 1934, 3648, 2958, 559, 3823, 3927, 3335, 2257, 2070, 3299, 662, 127, 1913, 2023, 3062, 2666, 2193, 3157, 2156, 3404, 2369, 2603, 2198, 1082, 2592, 597, 662, 2494, 1172, 762, 2603, 3823, 127, 100, 1586, 1434, 483, 1434, 83, 1934, 3626, 487, 3381, 60, 487, 752, 535, 3111, 3803, 1236, 1684, 3682, 127, 2239, 3682, 127, 3862, 1586, 2869, 547, 297, 2951, 3335, 483, 1747, 2872, 1970, 2023, 127, 762, 2603, 2198, 3403, 222, 127, 228, 2683, 2204, 3339, 2325, 2465, 1236, 238, 3, 1995, 31, 1586, 2325, 177, 2883, 1613, 100, 3241, 1931, 222, 1082, 2369, 3055, 2071, 3946, 2662, 127, 2204, 3823, 1172, 1457, 163, 1434, 1213, 1446, 3524, 2391, 127, 2696, 853, 3192, 2270, 3157, 1092, 458, 2369, 3128, 1751, 2683, 2569, 1424, 1172, 2666, 2052, 3299, 3696, 3707, 3201, 1434, 483, 2384, 2023, 127, 2152, 747, 297, 631, 2007, 3319, 127, 1479, 3993, 3299, 3707, 625, 82, 2462, 729, 2683, 345, 1424, 2666, 1434, 1907, 2369, 502, 2934, 2310, 2193, 3826, 2094, 1434, 222, 2070, 2193, 1710, 1321, 456, 60, 1172, 1882, 3347, 1079, 2067, 244, 1681, 3335, 114, 2462, 456, 963, 31, 222, 1446, 3803, 282, 3391, 1586, 2401, 1995, 127, 1272, 547, 297, 2737, 3400, 1434, 483, 547, 297, 2737, 3400, 410, 2683, 2204, 1586, 547, 297, 2951, 3682, 3403, 942, 2869, 547, 2509, 2737, 3803, 1236, 1351, 1995, 31, 3729, 2737, 127, 502, 2934, 2666, 31, 2325, 2509, 476, 2052, 1975, 307, 791, 2230, 1586, 1358, 2230, 747, 1236, 297, 2683, 3506, 2462, 942], [1497, 3595, 0, 2094, 127, 3544, 526, 2592, 3963, 1130, 480, 100, 3569, 3403, 12, 470, 3335, 3299, 1236, 417, 1172, 2057, 449, 890, 483, 3335, 1975, 3626, 2369, 3090, 2603, 2198, 3066, 1586, 1732, 2192, 682, 1793, 2193, 1182, 1098, 864, 1771, 127, 2383, 127, 3021, 2257, 2509, 3062, 2666, 2156, 1751, 3688, 2389, 2193, 597, 3069, 3293, 127, 2592, 2769, 2193, 2049, 2590, 1090, 2162, 2923, 127, 915, 224, 3729, 3427, 2872, 3347, 1079, 2683, 546, 3319, 558, 3244, 3335, 3299, 3715, 662, 2369, 100, 3569, 1272, 439, 82, 3487, 2928, 926, 2683, 1182, 2945, 2833, 2399, 3445, 2898, 2193, 597, 890, 483, 4011, 58, 2369, 2853, 100, 1001, 1248, 931, 1033, 31, 3335, 3299, 2503, 259, 931, 115, 1424, 959, 2369, 631, 2687, 2412, 3823, 2152, 1182, 2945, 1586, 976, 226, 259, 535, 2094, 2169, 2369, 3718, 1509, 2193, 1035, 2192, 2462, 3798, 31, 3335, 2928, 307, 2617, 2683, 3718, 2193, 976, 433, 1425, 1771, 127, 762, 12, 3823, 3157, 2752, 2422, 3299, 2106, 134, 1934, 3335, 1975, 3718, 2193, 1704, 853, 976, 2023, 1172, 100, 3569, 2412, 3299, 2091, 134, 3244, 1434, 2928, 2370, 127, 2592, 1732, 1434, 2509, 3855, 2389, 1446, 2683, 3331, 2683, 127, 3102, 2193, 3157, 2590, 1172, 3347, 1079, 1082, 127, 2192, 3823, 936, 2867, 1082, 2369, 529, 3331, 3335, 3299, 3381, 3823, 752, 2592, 417, 3487, 1446, 2683, 3331, 2683, 127, 1851, 476, 127, 531, 1079, 886, 753, 2257, 2509, 502, 2934, 2666, 2156, 3185, 3688, 2872, 124, 2429, 3823, 1211, 1082, 3846, 752, 2342, 60, 127, 2592, 476, 127, 2705, 726, 1079], [2993, 1168, 438, 222, 3536, 1562, 2683, 307, 2125, 2683, 2826, 3524, 2666, 1586, 2226, 2107, 2896, 127, 3174, 3381, 2483, 2023, 2993, 470, 3335, 2913, 3648, 1235, 2193, 1172, 3792, 2752, 3062, 3299, 127, 2592, 417, 3192, 2193, 1960, 1469, 2391, 127, 2704, 3174, 2094, 2057, 449, 890, 483, 31, 1613, 1235, 2783, 2369, 3927, 1586, 31, 1172, 1846, 2525, 535, 3823, 2204, 3299, 2369, 3129, 3088, 3225, 2070, 1934, 2369, 2883, 527, 60, 127, 3021, 2257, 2028, 3718, 60, 127, 1662, 1794, 3174, 1434, 533, 3498, 2369, 2177, 3823, 2342, 2193, 2680, 2897, 2683, 2378, 3339, 1376, 3736, 127, 3789, 1236, 3961, 2230, 2193, 127, 915, 752, 3363, 1434, 533, 3130, 1995, 10, 890, 114, 456, 2853, 3319, 1148, 2369, 2603, 2198, 1236, 2923, 2369, 12, 43, 127, 415, 2057, 483, 31, 3335, 3299, 2503, 752, 931, 3705, 127, 2204, 3823, 127, 2055, 1108, 3335, 483, 2283, 3696, 3707, 3201, 1586, 3223, 1236, 631, 3319, 2590, 127, 3021, 1907, 1172, 3062, 2310, 2156, 3157, 3339, 3403, 3228, 390, 307, 68, 134, 1082, 3846, 2688, 2130, 1172, 2704, 494, 2023, 3682, 127, 3867, 601, 2023, 1172, 2666, 31, 1434, 222, 1471, 3823, 127, 3309, 3113, 2193, 1172, 3062, 3069, 3293, 1434, 1907, 2872, 4013, 2503, 752, 3363, 826, 3339, 3225, 1766, 2683, 1926, 31, 127, 3062, 222, 3055, 1817, 3293, 1434, 337, 60, 31, 287, 2094, 978, 2094, 127, 2592, 2903, 769, 60, 127, 158, 1190, 2193, 3564, 3823, 3103, 1662, 2055, 1108, 1771, 2205, 438, 1586, 3159, 3583, 3734, 1586, 3620, 2648, 2193, 1057, 3184, 487, 1927, 3881, 1424, 3335, 3299, 238, 2683, 593, 2800, 435, 127, 1113, 1069, 1211, 2158, 1308, 2342, 2193, 752, 91, 3424, 222, 839, 35, 2923, 31, 209, 238, 2086, 1995, 2369, 1043, 1119, 2484, 679, 1586, 159, 3977, 2193, 3383, 3366, 1680, 1424, 1579, 1376, 3269, 127, 2172, 690, 2914, 662, 127, 1662, 3102, 439, 31, 438, 1586, 886, 753, 1975, 3055, 2662, 2114, 2107, 1082, 3846, 2896, 127, 3174, 127, 2592, 1975, 1165, 662, 2369, 2177, 3823, 3492, 1871, 3341, 2193, 2648, 619, 1661, 1128, 2906, 206, 1381, 475, 438, 1586, 3483, 1715, 2683, 390, 988, 2872, 3084, 2193, 127, 417, 3192, 3403, 3299, 127, 2156, 95, 31, 127, 1851, 356, 2023, 793, 1147, 611, 2683, 127, 3273, 1000, 2590, 2283, 2070, 657, 3823, 410, 2683, 664, 127, 366, 1668, 3823, 3335, 456, 2947, 456, 127, 2387, 3823, 444, 2449, 2683, 2308, 942, 127, 91, 2352, 1469, 2391, 2704], [3335, 470, 1228, 127, 3544, 526, 2592, 3127, 2257, 3299, 3427, 3488, 3569, 2023, 2100, 3062, 2666, 1823, 476, 1172, 1791, 1695, 662, 2284, 3335, 1951, 1172, 3102, 1082, 127, 2580, 2253, 3744, 1082, 3225, 1791, 2995, 3823, 127, 1876, 548, 2193, 3544, 526, 1434, 2661, 2683, 127, 3102, 1081, 3330, 2023, 1642, 3488, 3569, 2193, 1497, 3273, 1424, 3473, 2325, 2465, 282, 3391, 2683, 307, 3524, 2193, 3544, 526, 906, 3488, 3569, 3299, 659, 2463, 906, 3062, 3299, 2193, 791, 1671, 1586, 3777, 3299, 659, 2947, 1434, 483, 662, 1172, 762, 1182, 2055, 2055, 3569, 1771, 2338, 2369, 960, 3726, 662, 2284, 871, 1542, 2325, 2465, 1446, 2683, 2424, 487, 1182, 2055, 3569, 2198, 476, 3427, 127, 3789, 1082, 2872, 2888, 3744, 127, 2177, 3823, 3365, 1434, 3936, 1082, 1182, 2055, 1681, 3299, 533, 816, 1860, 1172, 3102, 571, 1934, 1652, 1613, 1744, 3241, 238, 3732, 2786, 1470, 31, 3335, 1071, 2872, 2888, 3744, 1721, 913, 31, 1434, 3228, 3331, 2683, 976, 476, 2912, 529, 2369, 733, 3714, 1500, 2509, 3560, 3335, 2257, 222, 1291, 1642, 1172, 1164, 1418, 93, 2980, 1434, 3228, 1934, 297, 1172, 499, 477, 1148, 3488, 3569, 778, 2683, 2369, 2784, 2023, 127, 1500, 954], [3544, 526, 2592, 3127, 3335, 470, 2752, 2369, 3569, 597, 2193, 1497, 3273, 662, 2284, 1586, 903, 127, 3102, 2325, 2661, 2683, 3544, 526, 60, 127, 1526, 410, 2193, 1081, 3330, 1434, 483, 3335, 2509, 2666, 662, 1172, 2752, 3062, 2156, 3174, 1586, 564, 127, 288, 3174, 662, 127, 2116, 3889, 3392, 2193, 127, 3569, 597, 2683, 3371, 662, 3488, 3244, 660, 3763, 2947, 456, 2951, 1434, 1975, 307, 1233, 2683, 988, 2369, 3331, 2683, 127, 335, 853, 2193, 1074, 134, 529], [3544, 526, 2592, 3127, 3335, 470, 1228, 2257, 3299, 3427, 3488, 3569, 2023, 2666, 83, 297, 2369, 3927, 2193, 1172, 3241, 3823, 2320, 2683, 127, 3789, 2325, 900, 127, 2593, 410, 367, 678, 367, 3397, 238, 2683, 297, 458, 3524, 630, 2590, 2052, 222, 2369, 3927, 2912, 2193, 100, 3112, 3823, 100, 2592, 2057, 449, 890, 483, 2462, 3299, 127, 1526, 410, 31, 3335, 3688, 3562, 3823, 3201, 2193, 1172, 1552, 2471, 2662, 127, 3062, 31, 1434, 1907, 2666, 2193, 3157, 2156, 1751, 1721, 1926, 2462, 3299, 3223, 638, 31, 1172, 3201, 3299, 1934, 2193, 1172, 3062, 3335, 3570, 2683, 988, 127, 2352, 60, 127, 3424, 2253, 3744, 2590, 3299, 2100, 2369, 3033, 3488, 649, 2897, 2683, 1172, 3062, 3201, 2193, 2049, 367, 3433, 458, 3524, 2590, 367, 3433, 458, 3524, 1457, 890, 483, 1376, 2070, 3131, 849, 2683, 349, 1172, 2797, 2193, 1911, 2590, 3397, 238, 2683, 1690, 2369, 3904, 3823, 535, 2683, 2759, 3403, 16, 305, 476, 367, 3592, 458, 3524, 662, 127, 3789], [2796, 3888, 0, 127, 1530, 3504, 2872, 1317, 334, 2683, 654, 127, 1556, 101, 2683, 1979, 3867, 1526, 686, 2240, 3239, 2156, 12, 2590, 1952, 942, 2683, 127, 2821, 2591, 2769, 127, 2821, 2707, 334, 222, 2390, 3237, 2590, 547, 411, 527, 127, 2636, 3525, 2065, 2668, 422, 535, 127, 2107, 662, 3239, 571, 1934, 1966, 127, 1530, 942, 3823, 127, 3867, 2586, 547, 297, 2466, 2193, 3176, 604, 2521, 2257, 3299, 3190, 2683, 1267, 127, 2685, 794, 3403, 12, 2683, 2215, 2683, 3533, 684, 2263, 2521, 3143, 3299, 2369, 3248, 230, 2257, 3688, 2509, 2369, 3869, 3823, 587, 2055, 446, 2193, 2756, 1586, 1161, 2521, 687, 127, 3090, 1689, 3688, 3514, 127, 2156, 752, 3363, 2055, 60, 127, 2689, 39, 2193, 1161, 476, 31, 1434, 337, 488, 3363, 2193, 2756, 3403, 915, 3174, 2193, 1161, 2521, 1783, 2565, 1995, 2369, 807, 1119, 1586, 3072, 521, 1434, 2418, 942, 2663, 1586, 1245, 2128, 2193, 2774, 3847, 3366, 2521, 3143, 3299, 1772, 1995, 2369, 3926, 1119, 2193, 1346, 976, 2193, 2756, 1586, 1161, 1376, 2963, 97, 976, 2094, 987, 340, 3977, 1586, 405, 3035, 524, 488, 3366, 475, 3508, 1530, 2694, 3823, 806, 4, 483, 2284, 31, 127, 1530, 3397, 4020, 3490, 662, 1616, 127, 3649, 3403, 279, 31, 3299, 574, 2186, 1684, 127, 146, 31, 2079, 2490, 3228, 2107, 904, 3823, 3185, 1684, 2666, 662, 1172, 2281, 3062, 127, 2603, 2786, 3228, 1658, 2832, 1788, 3341, 127, 2289, 869, 1238, 127, 2251, 1119, 2193, 127, 1362, 3403, 1751, 1082, 2842, 2590, 238, 305, 127, 2446, 2462, 222, 944, 31, 2057, 1412, 598, 356, 487, 867, 1444, 2272, 4017, 1586, 829, 1387, 1198, 2521, 1515, 3239, 3299, 2369, 1057, 2238, 1586, 352, 1934, 297, 2683, 1981, 1747, 127, 2297, 649, 3867, 2022, 1941, 2718, 3299, 1446, 2683, 307, 1238, 2193, 127, 1808, 1896, 127, 1530, 297, 1571, 2718, 2590, 3225, 2992, 3244, 198, 988, 2369, 334, 662, 458], [2432, 1057, 2238, 829, 604, 2521, 3299, 728, 3941, 60, 2027, 1771, 3867, 2299, 1455, 2683, 1021, 146, 3141, 2193, 2756, 1788, 863, 752, 3363, 2193, 3447, 2366, 2193, 1718, 1434, 2143, 3986, 521, 524, 3174, 60, 127, 2689, 39, 2521, 3688, 2389, 2608, 2683, 988, 127, 3882, 2391, 2696, 853, 806, 1082, 3198, 3143, 2193, 2104, 3366, 2521, 3988, 2369, 2891, 3926, 1119, 1995, 2369, 340, 1593, 1586, 405, 3189, 3094, 1591, 222, 2403, 2193, 3890, 1148, 2872, 3941, 3823, 1172, 1887, 3263, 3555, 2747, 3823, 127, 3109, 1534, 1145, 2955, 3823, 127, 3109, 796, 3658, 2193, 2807, 127, 3102, 3590, 1081, 3445, 1684, 1968, 3823, 2866, 2027, 3418, 2747, 433, 2406, 1081, 3445, 127, 1534, 1145, 1783, 662, 2683, 1181, 127, 3867, 3658, 2683, 127, 2890, 2122, 1455, 2683, 3796, 2747, 1072, 2369, 3509, 1995, 2369, 3311, 1821, 914, 2683, 3076, 2828, 2027, 2450, 2193, 894, 456, 2947, 456, 127, 416, 2462, 3299, 1934, 944, 31, 2958, 3115, 2677, 3688, 675, 2521, 2683, 127, 2027, 2179, 2124, 146, 3823, 3094, 266, 1428, 3471, 2158, 2023, 3801, 1082, 127, 953, 779, 3909, 3801, 2076, 1464, 2611, 2369, 3889, 3823, 3998, 2257, 1804, 127, 1877, 2193, 894, 127, 2172, 1371, 60, 127, 3859, 3299, 2683, 3306, 2106, 2521, 1586, 2747, 3170, 782, 2124, 2369, 3839, 60, 3094, 450, 3299, 1934, 3401, 2125, 3094, 2238, 2770, 714, 3547, 1652, 2521, 3299, 1082, 2369, 3086, 1707, 3823, 2265, 2369, 288, 888, 1995, 2369, 3004, 2935, 806, 2366, 134, 2872, 91, 3102, 1586, 1434, 783, 2683, 944, 1820, 456, 2556, 456, 266, 2113, 2521, 832, 2369, 450, 1434, 1975, 988, 944, 2233, 1586, 1625, 3468, 1995, 127, 3000, 3941, 3867, 2230, 2521, 222, 3855, 3190, 2683, 3797, 1082, 127, 254, 3008, 2156, 12, 2193, 311, 2590, 571, 1934, 988, 127, 1101, 1712, 942, 3823, 2551, 60, 127, 3941, 2113, 127, 3941, 944, 1172, 1591, 2521, 1975, 307, 1057, 2683, 527, 1995, 2958, 3102, 456, 2872, 3687, 1057, 2238, 1172, 1887, 3102, 127, 2689, 39, 2509, 2433, 465, 2466, 2193, 2205, 127, 829, 60, 2369, 3128, 3167, 480, 662, 604, 2521, 3418, 1172, 227, 3028, 127, 3090, 1689, 1267, 3144, 2861, 2768], [2832, 806, 3991, 3963, 1714, 127, 3047, 3823, 552, 1664, 1524, 1586, 127, 1261, 2920, 1722, 2931, 3594, 2558, 2168, 858, 1586, 3074, 711, 2558, 489, 2369, 445, 3823, 1791, 3556, 858, 876, 2369, 3869, 3823, 3977, 1586, 711, 1407, 3498, 2369, 3744, 662, 3731, 3823, 3357, 672, 444, 3963, 3682, 2832, 3629, 2175, 3991, 2584, 3357, 3339, 791, 1082, 394, 1793, 31, 3998, 1797, 747, 2369, 1980, 3823, 3977, 4011, 3629, 1158, 2665, 1131, 1838, 1188, 1489, 2014, 1883, 60, 91, 2045, 3861, 3244, 849, 2495, 942, 456, 1446, 3403, 254, 367, 83, 297, 487, 3681, 60, 3634, 3028, 2193, 127, 1138, 3867, 829, 604, 2521, 783, 2683, 3622, 2193, 127, 1138, 1586, 3299, 1446, 2683, 977, 1995, 2580, 3403, 254, 127, 2213, 3688, 3493, 2832, 35, 1875, 2193, 1494, 127, 2756, 806, 1999, 1586, 3004, 2935, 2047, 3144, 1282, 765, 3815, 1797, 458, 127, 1279, 2112, 3823, 2756, 2193, 1172, 2861, 3382, 3244, 31, 2783, 176, 127, 239, 829, 3299, 687, 127, 3090, 1689, 1455, 2683, 91, 1163, 2573, 31, 3688, 2683, 307, 3381, 3823, 127, 690, 3991, 2337, 1586, 3225, 2519, 672, 60, 2369, 829, 2160, 662, 1172, 2600, 1424, 127, 28, 1586, 127, 2366, 367, 2928, 1540, 1513, 2580, 2683, 1773, 657, 3823, 2466, 2193, 2521, 2193, 488, 3424, 2193, 2756, 1586, 752, 2193, 1161, 2521, 3688, 3493, 2369, 3926, 1119, 1376, 1386, 863, 2369, 3174, 1995, 127, 2689, 39, 2193, 1718, 1434, 2509, 2369, 2734, 1119, 1586, 3072, 521, 1434, 2418, 942, 2663, 3559, 2193, 2774, 3847, 3366, 1431, 2369, 3102, 3299, 1541, 2683, 3920, 662, 444, 35, 767, 2462, 3061, 127, 3090, 1689, 1975, 3836, 1172, 2822, 2683, 2696, 853, 806, 2172, 1751, 127, 2593, 95, 3478, 3714, 3823, 2369, 1553, 3744, 747, 308, 3339, 755, 2923, 127, 3756, 3823, 127, 3744, 2683, 302, 1502, 3145, 127, 3805, 3145, 1586, 1093, 3963, 2442, 176, 2590, 1732, 747, 615, 127, 3090, 764, 0, 134, 897, 2193, 3403, 1190, 1082, 127, 3938, 3823, 31, 897, 2477, 127, 3090, 1689, 1376, 3843, 2662, 4016, 2590, 3244, 747, 493, 2899, 2683, 302, 458, 3914, 3230, 127, 3744, 2665, 3177, 1975, 54, 197, 1725, 2292, 60, 1695, 1082, 233, 3225, 1683, 127, 1714, 3028, 60, 2369, 829, 1586, 2462, 1803, 3714, 1258, 2683, 1749, 60, 2521, 1211, 2462, 2193, 127, 1138, 1864, 3592, 2683, 297, 3682, 127, 2989, 456, 2462, 3299, 547, 3592, 3103, 1282, 300, 2083, 1553, 3332, 3652, 1586, 2341, 3991, 1236, 900, 3823, 127, 1769, 3823, 1773, 2872, 91, 3102, 3228, 1383, 60, 2369, 1862, 687, 127, 3090, 1689], [2747, 3555, 3986, 1586, 2521, 604, 1042, 2257, 3397, 1177, 433, 1183, 1771, 3495, 1082, 2369, 2562, 3823, 805, 3237, 3230, 60, 1735, 3924, 2027, 3372, 297, 2389, 514, 3704, 31, 509, 2800, 1424, 3251, 3738, 3823, 3682, 976, 1771, 127, 2756, 806, 1999, 662, 2494, 2747, 2257, 222, 3579, 1424, 2369, 3889, 3823, 3681, 3445, 1082, 127, 1534, 1145, 2156, 1751, 1586, 2521, 2257, 734, 2683, 3891, 1172, 888, 1995, 127, 2689, 39, 3823, 891, 3011, 806, 3963, 46, 1057, 2531, 433, 2223, 60, 3403, 276, 28, 3943, 3103, 3331, 2683, 127, 28, 853, 456, 127, 2506, 1424, 1718, 3103, 3704, 1975, 1690, 1173, 456, 2369, 3132, 3244, 127, 752, 3445, 2370, 3867, 806, 2580, 2668, 3403, 3174, 547, 1975, 1934, 307, 1186, 2683, 3622, 456, 2369, 1862, 2193, 1934, 2158, 127, 1134, 853, 2590, 533, 127, 2268, 853, 2193, 178, 976, 1424, 127, 410, 547, 2163, 456, 3445, 1995, 28, 1035, 3102, 3299, 2125, 2683, 3622, 2369, 2835, 3823, 3793, 976, 1148, 127, 507, 3174, 3403, 1751, 456, 127, 2154, 3823, 3704, 60, 127, 752, 3445, 3688, 2389, 2971, 941, 3299, 439, 3490, 662, 3103, 3756, 3823, 1631, 238, 3732, 112, 1515, 2521, 604, 2257, 3299, 1967, 2683, 2063, 2683, 127, 3714, 2696, 853, 806, 2106, 2747, 2257, 2070, 3933, 3823, 2967, 130, 456, 2369, 2131, 3127, 1975, 3331, 2683, 127, 3789, 134, 1934, 3688, 1682, 2369, 1486, 2187, 2369, 294, 1082, 28, 483, 605, 1028, 3299, 1934, 3339, 2550, 2580, 1975, 2686, 2462, 3235, 2683, 1250, 2747, 3555, 3729, 1771, 1656, 3103, 1282, 2932, 127, 128, 1771, 28, 1975, 2114, 1114, 456, 2369, 1961, 60, 3036, 127, 2154, 3823, 3704, 60, 1649, 3535, 1586, 375, 996, 1424, 1534, 2257, 3963, 2070, 728, 1208, 3941, 60, 127, 2625, 3372, 3413, 1073, 703, 20, 3823, 28, 483, 367, 3821, 2317, 2980, 3941, 3299, 2070, 837, 662, 1649, 3535, 1586, 375, 996, 2786, 3244, 547, 3963, 2737, 3354, 3704, 3637, 2683, 31, 60, 2747, 3555, 1586, 2521, 604, 547, 1975, 307, 514, 2369, 3637, 3470, 3823, 712, 1771, 28, 456, 2947], [806, 1862, 2521, 604, 3063, 793, 1172, 891, 888, 3244, 1434, 3299, 3633, 60, 3924, 2027, 2866, 2689, 39, 483, 1562, 2462, 2928, 3017, 127, 888, 1995, 127, 1862, 3244, 1434, 3299, 2654, 2521, 3299, 2070, 3357, 1309, 1586, 2052, 3299, 2369, 3220, 31, 1434, 1975, 307, 2759, 863, 127, 3640, 2689, 3299, 1556, 1995, 2521, 2683, 3891, 1172, 888, 2590, 3688, 439, 1464, 564, 2449, 60, 2369, 2394, 689, 2756, 1161, 3299, 2894, 3691, 2193, 3746, 1995, 2027, 2014, 2514, 1586, 127, 3399, 2848, 1050, 2683, 297, 2389, 1563, 31, 2369, 3867, 878, 1999, 3299, 3818, 2193, 127, 580, 3094, 364, 2193, 2756, 1929, 3729, 1906, 1894, 1172, 1887, 3102, 1534, 1145, 3688, 1931, 2830, 3263, 2747, 3555, 2257, 3299, 533, 359, 3823, 2027, 2193, 894, 2590, 127, 3714, 3299, 2070, 2872, 867, 1490, 3521, 3823, 127, 1268, 806, 853, 2257, 222, 2830, 2923, 2369, 1116, 580, 3450, 1951, 2369, 1704, 853, 3102, 2193, 2574], [3120, 553, 1510, 991, 3687, 888, 2265, 1979, 3867, 3127, 777, 2478, 2521, 2683, 2369, 3381, 1751, 268, 1082, 2789, 2372, 1995, 2369, 3102, 867, 2193, 1094, 2052, 222, 3707, 2297, 2038, 2897, 2683, 2521, 3357, 2369, 1057, 2238, 31, 222, 3473, 1305, 2704, 2023, 127, 2265, 2521, 2509, 2683, 3331, 2683, 1172, 2627, 3807, 2683, 832, 3372, 3823, 2027, 2872, 3075, 1718, 1979, 2756, 2892, 3691, 4009, 2535, 60, 2627, 1979, 2595, 2052, 3299, 2158, 3381, 1824, 1105, 1586, 2585, 1116, 3240, 3963, 1934, 1186, 2786, 2052, 3963, 2128, 1877, 60, 3956, 2158, 2521, 3, 1995, 1887, 427, 193, 3127, 2747, 3555, 1586, 3094, 1887, 3263, 3397, 2654, 728, 1979, 3867, 2409, 2521, 222, 2975, 3249, 3237, 60, 1116, 1096, 2369, 2562, 413, 2683, 3500, 2193, 127, 2685, 794, 524, 127, 1511, 1424, 1752, 0, 127, 3867, 806, 1999, 3805, 489, 1494, 3445, 1995, 2184, 2924, 2023, 3801, 2654, 2800, 60, 1116, 2337, 3986, 3237, 3230, 1850, 1035, 1082, 2369, 1105, 2193, 894, 2193, 2680, 127, 2405, 3716, 222, 60, 976, 398, 2193, 1979, 2756, 2158, 3835, 2521, 3989, 2683, 1161, 2683, 1937, 1172, 2891, 3, 1995, 3427, 1044, 3823, 1172, 3495, 2562, 1434, 1517, 3420, 3823, 1172, 2176, 3087, 2683, 3331, 2683, 127, 794, 1045, 3403, 915, 2126, 1995, 3087, 2193, 201, 2521, 1586, 1172, 2238, 3, 1995, 2369, 2259, 2898, 1082, 3283, 2606, 548, 699, 1434, 1951, 2193, 127, 336, 3567, 1995, 127, 2204, 3823, 127, 1510, 2912, 1646, 31, 222, 2023, 1434, 2509, 1328, 863, 1172, 1832, 3823, 108, 3040, 2110, 2023, 1172, 1716, 1434, 222, 558, 2503, 1172, 2708, 3357, 2193, 127, 794, 1434, 2770, 31, 2462, 222, 8, 2453, 2980, 2462, 222, 806, 127, 2434, 3397, 238, 2683, 1458, 3563, 496, 2023, 1172, 1716, 1586, 3803, 1344, 1995, 127, 126, 3823, 127, 1510, 1999, 2521, 3299, 1446, 2683, 307, 2193, 127, 2603, 60, 287, 1416, 533, 2683, 2308, 391, 2832, 1127, 863, 1842, 3670, 1586, 3780, 3774, 1494, 3357, 1096, 578, 3380, 2193, 127, 1794, 3174, 2193, 127, 1510, 228, 1434, 1975, 307, 127, 3248, 2920, 60, 1510, 829, 3213, 1199, 3244, 2369, 1283, 2113, 1940, 1434, 1975, 307, 1797, 3380, 2683, 2599, 127, 3143, 1751, 3993, 2521, 3688, 2868, 2891, 976, 2193, 1979, 2756, 1586, 1161, 2521, 3299, 3565, 1995, 2369, 3926, 1119, 1995, 3874, 3977, 2193, 790, 3847, 3366, 1434, 533, 222, 2369, 914, 3823, 127, 3519, 834, 1979, 3867, 98, 3102, 2193, 2604, 1586, 1878, 127, 3807, 2193, 127, 157, 806, 3388, 2193, 2850, 1214, 1586, 3124, 1752, 924, 3775, 777, 2478, 2521, 0, 3401, 487, 2041, 2797, 60, 127, 1510, 2325, 9, 940, 3244, 2325, 3397, 127, 1335, 2325, 2928, 1690, 3143, 1751, 3993, 2521, 60, 3384, 167], [1469, 2391, 3403, 3174, 1767, 473, 31, 127, 1510, 2928, 297, 2369, 282, 791, 2603, 1995, 2320, 899, 689, 1842, 3810, 3780, 3774, 3213, 1199, 1586, 2072, 2961, 4016, 3944, 473, 31, 2052, 3963, 282, 2525, 2580, 2257, 493, 407, 1995, 127, 1510, 2193, 3564, 3823, 2603, 962, 2786, 160, 134, 1934, 31, 45, 2683, 3867, 806, 1695, 2193, 127, 1526, 224, 3823, 127, 3174, 604, 2521, 3688, 2681, 456, 3381, 3823, 127, 4016, 3896, 3487, 2193, 3403, 2603, 3705, 1199, 1586, 3810, 2193, 25, 0, 2565, 3366, 3403, 1751, 1718, 3364, 3487, 2193, 127, 2603, 2521, 3299, 3249, 1995, 2369, 610, 1119, 1586, 2128, 3977, 3055, 1915, 1434, 3688, 2369, 3355, 679, 3381, 3823, 127, 690, 3782, 60, 2369, 3907, 1416, 3127, 3299, 31, 1434, 3925, 2759, 127, 3370, 3592, 568, 2193, 3622, 2369, 3869, 1586, 2453, 637, 942, 127, 960, 2305, 127, 1127, 1424, 127, 1770, 3705, 458, 1995, 127, 1510, 1642, 2872, 574, 1996, 1770, 3705, 458, 10, 2521, 3299, 3131, 3299, 3729, 3055, 35, 3094, 2943, 1481, 3299, 1774, 127, 4016, 742, 1642, 2948, 1448, 3559, 3403, 1751, 1434, 3688, 2128, 3977, 1092, 458, 2369, 381, 2943, 1629, 1995, 127, 67, 3823, 1172, 2609, 2193, 31, 1628, 193, 3744, 2023, 127, 287, 3894, 2130, 2193, 1718, 1434, 2147, 480, 752, 3556, 1494, 3556, 643, 2023, 2454, 421, 3498, 2369, 1997, 2986, 3370, 2521, 3688, 2389, 1714, 662, 127, 3174, 1434, 3299, 533, 2055, 2193, 1710, 1127, 2641, 2193, 127, 488, 976, 1434, 337, 3403, 1751, 1248, 3823, 2800, 3397, 2193, 2369, 3744, 732, 1771, 3182, 134, 1906, 3556, 2521, 3653, 1172, 3967, 2683, 127, 2603, 456, 2369, 282, 2996, 3127, 2257, 2057, 1128, 309, 493, 1509, 662, 2193, 464, 743, 2641, 2841, 2193, 2369, 3744, 2535, 127, 3750, 1692, 2521, 337, 60, 739, 3366, 1586, 2028, 1773, 2958, 626, 3823, 1445, 212, 31, 1434, 493, 3440, 3366, 480, 60, 127, 2603, 3244, 3433, 307, 1434, 3688, 533, 337, 2193, 127, 2082, 764, 2012, 2331, 2369, 2321, 60, 1199, 3823, 3756, 127, 3174, 3299, 2070, 1645, 1586, 367, 9, 297, 176, 2505, 2683, 700, 2166, 800, 2369, 3127, 1975, 307, 2193, 3403, 853, 574, 3381, 2257, 3688, 337, 2193, 2369, 743, 3807, 60, 1172, 1662, 2891, 2786, 1995, 31, 3357, 483, 2521, 3688, 3032, 3385, 3244, 1434, 2917, 480, 3403, 897, 3823, 587, 20, 2011, 2934, 3057, 489, 2369, 1359, 1995, 3403, 279, 2265], [1510, 3248, 2920, 604, 2521, 572, 127, 2821, 305, 2193, 3381, 764, 662, 1019, 1314, 3707, 1936, 1586, 830, 942, 3381, 0, 3702, 385, 2240, 3239, 3757, 3084, 2462, 222, 2369, 3014, 2192, 60, 2521, 2257, 2113, 307, 2369, 4010, 60, 127, 1510, 3248, 2012, 2683, 829, 3213, 1199, 1199, 3299, 2369, 372, 829, 2590, 3299, 1934, 1827, 1586, 2521, 2928, 2114, 307, 127, 1526, 2683, 1690, 2923, 60, 458, 2113, 1434, 879, 2193, 2704], [1510, 3248, 2920, 604, 2521, 2509, 2872, 2968, 92, 662, 2284, 830, 942, 127, 3229, 2193, 127, 1539, 764, 3757, 3084, 2521, 3299, 3401, 2683, 500, 2369, 3153, 942, 3823, 127, 1510, 2603, 3403, 3174, 1586, 3688, 2418, 942, 259, 3823, 127, 328, 3559, 1434, 3688, 2948, 456, 127, 3744, 222, 3356, 82, 1434, 337, 1434, 2571, 3707, 1833], [1510, 3248, 2920, 604, 2521, 3148, 2369, 2347, 1942, 764, 1995, 3381, 2943, 738, 127, 3268, 497, 911, 662, 1019, 3757, 3084, 2521, 3688, 2389, 2968, 3403, 100, 1948, 326, 2662, 127, 2603, 788, 2337, 458, 3403, 3174, 2193, 2369, 853, 1718, 3921, 2892, 1586, 521, 1434, 3157, 307, 3381, 3823, 127, 4016, 1304, 84, 433, 2369, 2012, 2131, 3403, 100], [127, 2432, 775, 222, 127, 1178, 294, 3823, 3649, 60, 127, 2054, 2117, 2821, 188, 2026, 27, 1172, 762, 2271, 2193, 127, 2156, 1081, 976, 3239, 3364, 127, 3102, 2193, 127, 287, 3370, 3026, 2590, 3299, 1945, 1082, 127, 1720, 2518, 2281, 3, 1995, 127, 2204, 3823, 1172, 163, 1376, 2711, 669, 2923, 2663, 2749, 2193, 1172, 1526, 3174, 683], [1747, 3922, 976, 2193, 2704, 2821, 279, 3680, 2240, 3239, 3688, 489, 310, 1995, 1768, 1791, 3556, 1586, 3040, 469, 3245, 2137, 1082, 2369, 3708, 1629, 1172, 3122, 5, 3299, 2251, 662, 127, 2821, 3757, 3084, 3403, 3299, 2503, 10, 367, 1446, 1424, 3239, 2369, 3098, 1217, 2193, 1172, 2518, 2600, 2193, 127, 28, 2590, 2070, 2369, 372, 3962, 2193, 127, 91, 1995, 657, 3823, 2209, 1434, 3688, 2418, 942, 236, 2230, 2193, 616, 2749, 1718, 3299, 963, 1434, 1975, 297, 2683, 3949, 3380, 2683, 3827, 2193, 127, 91], [2462, 222, 2971, 1977, 1771, 3935, 386, 3823, 998, 2881, 31, 127, 2117, 2821, 2509, 1521, 127, 2707, 334, 3823, 2390, 3237, 2683, 1892, 1995, 3539, 3867, 1526, 686, 2240, 3239, 2257, 489, 857, 1995, 1857, 1791, 3556, 1586, 2805, 469, 3876, 60, 127, 2911, 120, 2156, 3174, 2786, 2425, 127, 263, 3688, 2822, 1434, 2538, 2480, 127, 2821, 1413, 3005, 1586, 2435, 31, 2369, 268, 493, 307, 2418, 2067, 1494, 3911, 2193, 127, 2172, 422, 535, 1975, 307, 2369, 3196, 2904, 2015, 1424, 2369, 2069, 1594, 3703, 2369, 334, 60, 3239, 1213, 2369, 1358, 128, 662, 2909, 904, 1771, 2958, 2446, 3823, 127, 3712, 433, 194, 1626, 31, 297, 3401, 2683, 307, 1872, 714, 1585, 127, 2580, 2343, 60, 2172, 3174, 3299, 46, 1082, 2111, 3237, 524, 1243, 2462, 222, 1082, 992, 3237, 2193, 1794, 2947, 2679, 127, 1239, 72, 1329, 1586, 2052, 3299, 2472, 2683, 109, 31, 2052, 1975, 307, 2369, 3673, 1742, 2193, 2462, 3978, 2704, 2193, 127, 48, 3823, 3239, 3244, 3707, 268, 3299, 2418, 2117, 3497, 3225, 2390, 3237, 65, 1586, 3239, 1614, 3524, 2683, 2911, 60, 2172, 3174, 3707, 613, 3707, 1869, 287, 2735, 474, 127, 3102, 493, 1468, 458, 2590, 2425, 3239, 3228, 3842, 307, 3823, 2369, 2883, 2308, 2683, 2369, 2821, 3102, 31, 1783, 324, 2193, 1794, 1035, 654, 3942, 1236, 728, 3847, 3237, 1434, 3999, 2480, 2909, 3005, 2610, 127, 2821, 3356, 60, 81, 2193, 91, 1995, 2183, 3556, 1356, 2590, 763, 1062, 1995, 2369, 3102, 1098, 3323, 3823, 1236, 3181, 1586, 1763, 2193, 2137, 1481, 3054, 1082, 1236, 2220, 2117, 533, 763, 1905, 1995, 2369, 3102, 3995, 1481, 3823, 3302, 1586, 265, 1995, 2716, 1791, 3556, 1948, 3823, 444, 2600, 3178, 493, 307, 989, 2683, 2098, 3678, 127, 2821, 34, 3237, 29, 3237, 2193, 1794, 548, 31, 2004, 2193, 47, 2838, 2872, 3938, 2683, 1156, 1081, 2792, 3823, 2821, 806, 1082, 127, 1657, 3959, 1835, 2712, 153, 3403, 2193, 1214, 127, 2821, 3090, 1751, 1082, 127, 2712, 127, 3102, 763, 2937, 2193, 1098, 3323, 3527, 2193, 1791, 3556, 1170, 2193, 3054, 1586, 1058, 2193, 3995, 1481, 3210, 3984, 2683, 127, 1362, 779, 2862, 402, 127, 1684, 1751, 2425, 127, 3102, 3504, 127, 2501, 3301, 2117, 3788, 2683, 2194, 2193, 1791, 3556, 2590, 1781, 2937, 2193, 1098, 3323, 1586, 1297, 2683, 762, 2193, 3054, 1586, 2643, 2193, 3995, 2425, 1297, 127, 2077, 2193, 3525, 222, 3191, 31, 2098, 3678, 222, 1934, 1082, 3682, 2369, 1793, 3239, 127, 2625, 3300, 127, 2712, 222, 1995, 2158, 259, 3445, 64, 211, 1437, 2193, 1791, 3556, 1789, 2683, 1248, 2193, 1214, 1718, 3785, 127, 3034, 2683, 127, 2172, 1707, 1069, 2170, 2822, 1526, 2355, 3299, 46, 442, 2193, 2117, 1771, 3905, 1098, 1432, 1586, 1887, 1362, 3742, 2690, 3451, 238, 3524, 2683, 1214, 3311, 2999, 3451, 222, 127, 1862, 1695, 643, 2683, 3593, 2193, 2117, 31, 1751, 1069, 1030, 1156, 2369, 224, 3823, 50, 2683, 2192, 127, 3174, 1434, 2496, 91, 1995, 2369, 1061, 1098, 3323, 2094, 533, 3995, 3254, 1791, 3556, 1995, 3635, 469, 456, 1434, 3476, 127, 576, 595, 3263, 1640, 2854, 3431, 1526, 2355, 1586, 489, 346, 1995, 422, 1791, 3556, 1586, 1570, 469, 1586, 2462, 222, 1446, 31, 127, 752, 2928, 1937, 2683, 568, 480, 3731, 962, 2193, 127, 288, 548], [2052, 297, 2389, 2369, 2177, 3823, 849, 31, 2389, 1775, 2503, 127, 2192, 3823, 2704, 60, 127, 2117, 2821, 0, 127, 2349, 2192, 1765, 1406, 750, 1098, 3323, 1586, 3682, 849, 1039, 1187, 2590, 3381, 95, 31, 272, 946, 3299, 3867, 625, 2240, 2170, 2129, 2683, 489, 1969, 1791, 3556, 3239, 0, 2369, 263, 2257, 489, 3251, 127, 915, 752, 3424, 2193, 2756, 0, 272, 2509, 127, 721, 926, 2391, 91, 1718, 1213, 3682, 31, 2473, 1376, 2070, 64, 1236, 554, 2590, 849, 297, 2389, 326, 1179, 1434, 2509, 71, 1936, 2193, 127, 2156, 752, 976, 3418, 2369, 2271, 2193, 1035, 3744, 2370, 2369, 264, 1874, 3757, 806, 2294, 439, 747, 493, 3593, 3244, 3239, 493, 489, 487, 662, 1562, 82, 127, 2821, 3622, 127, 2620, 3386, 1223, 3299, 2201, 3662, 2717, 3225, 127, 91, 1057, 3744, 3823, 127, 2483, 2360, 662, 264, 2881, 1586, 747, 493, 3675, 2462, 1182, 1586, 60, 1057, 662, 168, 2881, 1791, 91, 2385, 1586, 1553, 1791, 456, 60, 3239, 71, 3823, 1172, 3249, 1936, 3403, 3174, 297, 2389, 1463, 1586, 1340, 3682, 2389, 3629, 1761, 261, 1172, 1526, 2271, 3823, 127, 3174, 222, 2972, 1082, 1118, 3296, 1771, 3104, 489, 2362, 2118, 127, 762, 2199, 3823, 127, 3174, 3835, 1925, 2219, 225, 315, 2509, 2462, 1082, 3787, 167, 3300, 2462, 332, 31, 82, 3239, 1160, 85, 942, 487, 851, 1634, 3823, 3403, 2735, 3299, 800, 3844, 3998, 2193, 2756, 3592, 2503, 2170, 587, 1236, 818, 2683, 127, 3867, 2242, 3825, 3823, 1172, 1463, 6, 2341, 31, 559, 3823, 1474, 3925, 3433, 823, 3733, 2159, 2170, 487, 1472, 2530, 3867, 3794, 1473, 3997, 0, 3713, 386, 3912, 3185, 3100, 2704, 3733, 2159, 2170, 3939, 2098, 3678, 2271, 3346, 3296, 3867, 3794, 617, 1473, 1719, 0, 3713, 386, 3912, 3185, 2128, 2704, 3157, 2240, 3239, 349, 64, 2771, 1586, 3157, 3867, 1016, 349, 238, 1809, 82, 1434, 352], [2117, 2821, 686, 3239, 2240, 489, 1172, 2643, 2271, 3823, 127, 3174, 3239, 3870, 127, 3559, 2526, 456, 1172, 2580, 2643, 1586, 3135, 960, 2193, 2369, 3744, 2535, 127, 907, 2217, 1082, 727, 1516, 3239, 2193, 804, 3523, 662, 2284, 3311, 410, 82, 1434, 489, 2369, 169, 2271, 1995, 2369, 3373, 923, 3823, 561, 3296, 2503, 1861, 2334, 2683, 127, 3776, 1499, 2660, 2193, 127, 3731, 3823, 127, 1539, 764, 3293, 1172, 2696, 853, 494, 2462, 222, 127, 762, 410, 2023, 1434, 489, 2369, 2271, 1747, 760, 1201, 3630, 1082, 127, 3744, 2535, 2620, 662, 3185, 3100, 1515, 4016, 2471, 1334, 2257, 2309, 2683, 3630, 504, 3239, 489, 770, 134, 1228, 3738, 3823, 127, 3741, 1463, 31, 1434, 489, 2193, 127, 3867, 3011, 853, 1747, 760, 1201, 2416, 1995, 127, 2271, 3239, 3688, 2513, 1934, 2158, 1172, 3707, 409, 595, 2193, 1463, 2193, 1172, 3102, 2590, 533, 127, 3731, 2250, 2193, 1463, 2014, 127, 625, 3445, 2193, 127, 3543, 853, 127, 1374, 1862, 2193, 1463, 2014, 127, 625, 3445, 2193, 127, 3543, 853, 3299, 979, 2358, 259, 127, 3055, 2325, 1690, 127, 3559, 2526, 2193, 976, 1586, 2325, 1276, 3487, 3365, 127, 3055, 3520, 2325, 3996, 3239, 483, 2325, 1031, 1542, 3682, 127, 3055, 82, 2325, 1690, 127, 3559, 2526], [2117, 2821, 3867, 775, 3239, 2240, 2509, 1172, 2937, 2271, 3823, 127, 3174, 2193, 2369, 1791, 3744, 2535, 127, 2620, 3386, 3823, 127, 2696, 853, 806, 1718, 3870, 2250, 1082, 127, 1525, 2098, 3678, 2193, 2117, 662, 1019, 3311, 410, 2462, 222, 2872, 1070, 2271, 1434, 1025, 3239, 2240, 2483, 1718, 1434, 3863, 752, 535, 2023, 64, 2872, 930, 2271, 1995, 2369, 3373, 923, 3823, 1902, 2334, 31, 1434, 1290, 2193, 127, 3744, 2535, 127, 3544, 526, 2703, 662, 2413, 456, 127, 1539, 960, 1586, 3135, 2065, 3239, 3870, 127, 3559, 2526, 456, 127, 1526, 960, 2193, 127, 1352, 3823, 127, 1193, 764, 1995, 127, 3024, 1527, 3143, 1434, 489, 2369, 1726, 169, 2271, 31, 2418, 127, 3731, 2165, 3823, 127, 148, 3332, 2193, 127, 815, 2844, 2660, 863, 127, 3683, 2580, 417, 3127, 1169, 438, 82, 3239, 489, 127, 2271, 127, 602, 3079, 31, 1172, 705, 968, 127, 2911, 120, 3823, 127, 3867, 3011, 806, 2928, 1658, 564, 586, 2462, 3299, 127, 1526, 410, 31, 3239, 489, 2369, 2271, 1747, 760, 1201, 3630, 3293, 1172, 494, 2193, 127, 2696, 853, 82, 1434, 489, 752, 705, 1463, 1434, 3871, 662, 1054, 2590, 1434, 3871, 662, 2369, 1345, 3645, 662, 127, 2483, 2023, 2369, 211, 3622, 1586, 2271, 2193, 127, 762, 1586, 1193, 3366, 964, 3239, 2509, 2369, 489, 2193, 127, 1352, 3823, 127, 1170, 764, 2683, 862, 1021, 1936, 60, 127, 1526, 410, 3293, 1172, 335, 853, 494, 1434, 533, 119, 1172, 1098, 3323, 2683, 127, 739, 897, 577, 60, 3403, 3174, 127, 3744, 222, 3453, 456, 1797, 3744, 2897, 2683, 3894, 2193, 127, 3731, 3823, 127, 2643, 764, 2117, 3230, 1588, 127, 2483, 222, 3135, 456, 3239, 2240, 692, 2483, 1771, 2117, 2683, 1868, 1695, 2257, 3208, 60, 3239, 1172, 3102, 3515, 3239, 2240, 692, 134, 3135, 2855, 60, 602, 458, 662, 127, 2483, 1695, 2257, 3397, 811, 2193, 127, 2855, 3397, 3384, 2369, 1672, 3387, 1995, 2117, 2821, 2193, 3867, 1361, 456, 2369, 1730, 127, 3102, 533, 2908, 3867, 3923, 1586, 400, 2959, 3504, 3823, 400, 3239, 2240, 692, 1718, 222, 568, 2193, 2250, 662, 127, 762, 3596, 3823, 127, 2844, 2660, 2337, 127, 2937, 2355, 3811, 222, 3339, 3615, 31, 395, 60, 127, 2165, 3397, 3682, 2908, 942, 3239, 2240, 533, 2571, 2193, 3752, 127, 2253, 2055, 1676, 1771, 2744, 523, 3867, 3543, 1586, 2090, 2497, 1659, 3823, 2893, 1174, 3735, 464, 3867, 3163, 3563, 2193, 2117, 643, 2683, 3593, 127, 3744, 1586, 2462, 2928, 297, 2389, 1409, 3244, 2325, 758, 1048, 3239, 483, 2023, 127, 3744, 2462, 222, 638, 31, 2325, 758, 2947, 1586, 3144, 3102, 3230, 127, 3744, 2325, 2465, 3339, 353, 2683, 127, 3102, 60, 1092, 2369, 49, 2683, 2369, 288, 832, 1103, 570, 4001, 1228, 3823, 127, 1392, 275, 398, 2193, 2369, 3197, 3744, 456, 2369, 914, 3823, 1287, 2369, 60, 127, 1526, 410, 3293, 3723, 2872, 2378, 2193, 13, 2156, 1751, 2193, 2369, 3744, 2535, 127, 1003, 3719, 314, 1554, 748, 1253, 570, 564, 456, 2937, 960, 1586, 2937, 686, 3823, 2144, 1287, 2369, 3102, 138, 1238, 3707, 489, 3381, 3298, 1586, 3381, 3153, 1424, 1081, 2230, 1082, 2639, 662, 127, 2483], [3733, 2159, 3239, 3299, 662, 127, 3206, 60, 2369, 2937, 2949, 3744, 456, 127, 2821, 832, 3021, 2985, 621, 1586, 127, 181, 801, 3239, 298, 689, 2369, 791, 1277, 2683, 3622, 2535, 2369, 151, 2590, 2057, 3452, 1452, 1783, 1995, 2690, 3451, 1082, 1526, 2355, 3451, 3299, 2369, 2891, 1393, 2065, 2535, 621, 1995, 752, 1791, 3556, 3451, 533, 3299, 2369, 3137, 3200, 2373, 2535, 685, 3403, 3174, 2590, 3244, 3239, 1843, 3622, 439, 82, 493, 1434, 127, 3867, 806, 1999, 1109, 127, 3135, 2065, 3339, 3403, 3299, 487, 945, 60, 2369, 775, 2257, 2509, 1081, 1791, 3556, 2193, 1172, 705, 71, 976, 476, 1303, 3622, 3070, 1172, 893, 127, 2821, 3963, 154, 3538, 3491, 1218, 2193, 3195, 3823, 1844, 3430, 127, 1851, 3009, 127, 853, 2076, 1586, 2571, 2437, 2683, 331, 127, 3491, 127, 1851, 1975, 1773, 3538, 3894, 1082, 2098, 3678, 2426, 2172, 2683, 2098, 3678, 1082, 3317, 3662, 1845, 3662, 3979, 1586, 127, 1851, 1975, 297, 3641, 60, 127, 1844, 3538, 3381, 1699, 2438, 3744, 1082, 2098, 3678, 60, 2103, 226, 1862, 1975, 297, 2369, 3430, 1049, 3079, 82, 1434, 2921, 3919, 3205, 2509, 2369, 3889, 3823, 3430, 1849, 1586, 222, 238, 480, 2683, 3445, 1977, 2886, 2800, 2683, 482, 2369, 3079, 3803, 3711, 31, 2322, 1213, 3381, 3823, 127, 1535, 2424, 747, 1083, 800, 755, 2462, 3299, 2683, 568, 782, 2369, 161, 3889, 3823, 3430, 1849, 481, 1948, 2428, 456, 1446, 2283, 1488, 3056, 1995, 3205, 1586, 94, 3603, 3603, 222, 3791, 662, 2944, 2092, 115, 1126, 201, 573, 2023, 127, 3090, 942, 222, 3504, 2193, 127, 2821, 3813, 2923, 2620, 2462, 2496, 2683, 3204, 31, 2052, 222, 2997, 2067, 127, 752, 2590, 1488, 3228, 307, 2688, 1424, 127, 3880, 3397, 2647, 3603, 483, 1887, 2393, 3252, 1435, 3299, 662, 127, 2116, 3889, 1995, 2369, 293, 3644, 2007, 3552, 2969, 2369, 3987, 914, 3823, 127, 2445, 1370, 3299, 2872, 1259, 64, 200, 60, 127, 1292], [953, 3157, 3182, 1157, 0, 3239, 2240, 3823, 127, 2117, 2821, 489, 127, 1526, 1287, 3823, 1172, 2696, 853, 2891, 1019, 2535, 127, 804, 3274, 3239, 3110, 127, 838, 3543, 853, 1780, 1645, 1151, 1989, 2880, 2157, 60, 2369, 1391, 1287, 2193, 127, 3731, 3823, 127, 1170, 1211, 2462, 3868, 2821, 1082, 727, 1516, 3239, 2193, 804, 1995, 3952, 1082, 1526, 1586, 762, 1995, 3381, 942, 3239, 330, 2872, 2522, 2754, 3645, 2923, 202, 3073, 3786, 2029, 1012, 1494, 3613, 1791, 127, 186, 3333, 2157, 1424, 127, 3744, 2462, 222, 2170, 762, 489, 2193, 2482, 2749, 1995, 3613, 2193, 2874, 1141, 3239, 2257, 2509, 2369, 1284, 863, 2157, 2193, 127, 762, 2614, 127, 1528, 2524, 1995, 752, 3627, 1586, 2369, 3153, 1356, 2119, 1172, 3323, 2683, 1495, 127, 2821, 1783, 662, 2683, 654, 789, 2193, 127, 825, 853, 2521, 604, 3823, 127, 3120, 553, 1510, 3148, 3381, 1714, 764, 2535, 127, 1863, 896, 1082, 1791, 127, 1979, 3867, 3176, 3870, 2923, 1424, 2993, 384, 3964, 2193, 127, 2643, 1586, 356, 1236, 1305, 3365, 2683, 2655, 127, 3229, 2193, 993, 2521, 3610, 3971, 3511, 2535, 2493, 3721, 1586, 241, 1643, 1586, 3830, 2313, 2035, 662, 2369, 3010, 2683, 202, 1172, 1119, 439, 3485, 1082, 1924], [3733, 2159, 3239, 489, 2369, 1791, 3153, 2535, 127, 3386, 2156, 12, 2193, 127, 3658, 1666, 3733, 2159, 3239, 1194, 2369, 1387, 438, 3531, 2508, 915, 1082, 1249, 2754, 1148, 127, 762, 764, 2284, 1889, 1586, 3610, 2369, 423, 662, 3225, 1196, 2023, 883, 2369, 2030, 2849, 481, 2577, 1434, 1639, 60, 127, 1305, 3718, 487, 3645, 1496, 1696, 2683, 127, 1526, 1586, 3239, 222, 2617, 1434, 2929, 1172, 2639, 2391, 127, 3718, 1586, 316, 2462, 2801, 2683, 374, 3678, 618, 1082, 762, 2355, 1995, 2369, 582, 211, 2369, 2525, 1944, 3450, 3239, 1356, 662, 2369, 3589, 2061, 1284, 2683, 2303, 127, 2821, 2369, 405, 2321, 2462, 222, 2369, 791, 2887, 60, 127, 1984, 2821, 2590, 533, 1878, 2369, 1704, 2282, 60, 127, 263, 3867, 1172, 1526, 2696, 853, 489, 863, 2872, 2802, 3718, 963, 4011, 2340, 3055, 3114, 226, 1751, 2193, 2696, 853, 806, 4016, 1953, 1563, 662, 3239, 456, 1434, 2752, 1979, 2756, 2683, 527, 1995, 127, 2821, 2156, 254, 3238, 1172, 2439, 3525, 1172, 35, 2639, 1196, 0, 1586, 1172, 3012, 2535, 3487, 2257, 3626, 2193, 127, 3378, 1586, 3178, 2525, 3487, 2193, 127, 2756, 806, 1999, 3359, 3239, 489, 671, 1463, 2923, 127, 915, 752, 3424, 493, 784, 2369, 3645, 3055, 2662, 1166, 2754, 3339, 800, 3299, 127, 926, 2683, 91, 588, 3823, 1196, 238, 2947, 3225, 2389, 2369, 3697, 323, 2192, 2590, 127, 2821, 3963, 74, 1771, 3103, 2073, 842, 2325, 9, 4023, 3244, 1983, 2317, 1493, 662, 800, 1376, 459, 755, 986, 0, 3225, 1236, 31, 2325, 3593, 2552, 262, 2106, 3225, 662, 2120, 134, 2207, 2959, 2057, 3452, 1452, 483, 396, 1291, 458, 2664, 431, 136, 2590, 1434, 489, 2369, 3645, 115, 60, 2369, 23, 1791, 3153, 2683, 2281, 3678, 662, 3185, 2482, 1376, 3958, 2832, 791, 2120, 3239, 3688, 2752, 2472, 641, 31, 1434, 493, 451, 53, 2207, 2959, 31, 184, 2193, 127, 2075, 299, 127, 1979, 3867, 3364, 127, 2821, 1995, 259, 1791, 3556, 3418, 2369, 3904, 31, 3989, 3055, 2662, 2743, 3296, 1586, 1081, 3823, 2800, 643, 662, 1054, 134, 1056, 3957, 1906, 2662, 3016, 2754, 2517, 2398, 2530, 31, 3958, 127, 2821, 2668, 2369, 3153, 3823, 127, 1530, 222, 863, 2872, 3118, 2637, 2158, 31, 1368, 3864, 863, 1169, 438, 127, 2271, 31, 2519, 2048, 1452, 643, 662, 2369, 3645, 792, 1082, 1166, 2754, 1934, 2381, 2465, 2325, 1582, 2683, 489, 1791, 3556, 863, 2369, 755, 3645, 3225, 3682, 2503, 2506, 3239, 483, 1747, 2872, 1970, 2833, 747, 615, 2462, 747, 1843, 1301, 3359, 2462, 3763, 3339, 2325, 2176, 662, 906, 2506, 456, 1948, 456, 2325, 493, 2535, 127, 1325, 2754, 2120, 2325, 2928, 1926, 2325, 177, 1786, 439, 1774, 3729, 326, 2023, 2512, 211, 1455, 2683, 2219, 1589, 33, 3239, 3688, 2948, 3081, 3365, 3823, 3064, 306, 2498, 2754, 1586, 3178, 3403, 3174, 3823, 444, 1434, 3688, 3736, 2128, 60, 2959, 1305, 60, 637, 1586, 723, 863, 1365, 1434, 3688, 3871, 1586, 3498, 1082, 2158, 1248, 2590, 3823, 127, 3249, 755, 2120, 1434, 3688, 568, 2391, 3622, 2158, 31, 211, 863, 438, 3766, 2193, 60, 2369, 489, 1771, 872, 3263, 3919, 3205, 3729, 1995, 2369, 1098, 3323, 3823, 2158, 1405, 3364, 127, 1138, 2193, 1936, 2535, 2498, 3481, 2120, 1995, 488, 1765, 1641, 3988, 1768, 94, 3603, 1248, 1586, 226, 2821, 2399, 1862, 2509, 1082, 3846, 3381, 476, 3239, 2590, 71, 3823, 2170, 108, 2835, 1936, 297, 3978, 662, 603, 134, 1229, 2120, 792, 1082, 1166, 134, 3178, 2325, 900, 2728, 3299, 559, 3823, 2553, 1376, 2369, 2472, 3643, 3823, 2369, 3342, 2772, 3244, 1376, 2449, 2683, 489, 2369, 791, 3645, 1376, 3610, 127, 2639, 1196, 2683, 2424, 2462, 1452, 483, 1376, 808, 662, 2207, 2959, 82, 1376, 1264, 136, 481, 3239, 461, 1995, 1172, 3507, 172, 2325, 3999, 1926, 3803, 2369, 3645, 2065, 134, 2369, 431, 2065, 2590, 3055, 3823, 906, 1791, 3556, 2193, 1979, 2756, 643, 662, 2120, 3239, 483, 1934, 3682, 2590, 2832, 2325, 222, 1342, 662, 2369, 2207, 3370, 2980, 3823, 127, 1283, 1586, 127, 3127, 31, 3688, 2684, 2360, 481], [127, 2821, 297, 2509, 3103, 382, 662, 127, 1979, 3867, 775, 3293, 1710, 1321, 1586, 2576, 1771, 1172, 3587, 1899, 3864, 2683, 202, 3678, 3103, 1410, 3397, 2281, 2023, 2369, 323, 2192, 3239, 1050, 2683, 307, 1, 2683, 3543, 806, 1586, 3225, 4000, 2055, 239, 2259, 2043, 386, 3299, 2170, 3147, 3803, 1934, 238, 2683, 2813, 3225, 1934, 2442, 1211, 444, 622, 1281, 3239, 483, 1455, 2683, 3147, 386, 1586, 2325, 2028, 1540, 2462, 2683, 307, 2442, 689, 747, 483, 3225, 2369, 335, 926, 3225, 2369, 2883, 1278, 1586, 1683, 1974, 2683, 4023, 31, 2174, 2396, 1108, 1586, 2174, 163, 3963, 707, 747, 645, 3823, 800, 2947, 134, 1048, 3486, 3131, 863, 127, 3678, 2170, 2389, 551, 3245, 1172, 2870, 1586, 2597, 2718, 2589, 2193, 127, 2393, 351, 813, 942, 127, 1295, 1586, 3209, 942, 800, 2683, 3592, 2337, 3769, 1376, 3245, 2683, 4023, 1172, 163, 481, 271, 2135, 1586, 3682, 2325, 493, 3696, 242, 31, 1767, 2193, 3403, 271, 3299, 1582, 1934, 2683, 988, 3400, 177, 2845, 2360, 3239, 483, 714, 386, 6, 1582, 2683, 988, 875, 2337, 3400, 1582, 2683, 988, 3034, 1586, 82, 3397, 662, 127, 3169, 547, 2582, 3400, 3244, 2325, 1258, 2683, 1981, 942, 2683, 3049, 3592, 963, 2683, 3440, 3339, 2325, 1683, 1581, 31, 3381, 1889, 1082, 100, 3569, 2832, 3823, 127, 2327, 3729, 2509, 458, 2923, 2683, 85, 2872, 3606, 3823, 127, 2333, 0, 963, 3239, 3639, 1172, 1006, 1082, 1586, 3784, 3607, 1407, 1063], [953, 3185, 3040, 1157, 0, 439, 31, 1979, 2756, 297, 2572, 942, 2257, 3103, 2206, 1975, 307, 2193, 127, 3090, 2364, 1898, 3275, 60, 127, 870, 1085, 157, 3305, 2360, 729, 127, 3197, 1375, 2276, 344, 127, 3731, 752, 2193, 3103, 889, 2683, 3281, 2369, 1385, 2683, 1572, 2193, 127, 704, 60, 127, 3090, 3275, 2193, 2852, 2350, 1595, 662, 2284, 1979, 2756, 3397, 3065, 1995, 1829, 2088, 2709, 1740, 1586, 2136, 2193, 889, 2369, 3225, 125, 1934, 127, 690, 48, 1190, 31, 1695, 2509, 3449, 2590, 1771, 377, 2369, 1423, 3823, 1885, 3112, 589, 2365, 1979, 2756, 1441, 2683, 307, 933, 2683, 1459, 60, 3103, 1058, 2949, 157, 3305, 60, 127, 3090, 3275, 939, 2365, 3397, 843, 2391, 752, 1244, 3823, 1248, 2580, 2683, 3622, 484, 728, 127, 2001, 2534, 127, 3731, 752, 2979, 1424, 1035, 889, 1975, 2738, 1459, 60, 127, 870, 157, 3305, 2193, 1572, 2094, 127, 3227, 2580, 1424, 127, 752, 1244, 1975, 297, 2683, 1981, 1747, 2501, 2683, 19, 3103, 595, 1082, 127, 1180, 1979, 2756, 1975, 2384, 1957, 2683, 1459, 456, 2014, 127, 3731, 752, 2580, 2193, 127, 889, 60, 2276, 2937, 1975, 3672, 2832, 3709, 1269, 305, 127, 3169, 127, 752, 3707, 3182, 828, 1975, 297, 2683, 1981, 1747, 2369, 2598, 1623, 3275, 1995, 127, 1989, 238, 662, 2683, 977, 127, 70, 3102, 1424, 127, 1170, 1898, 3275, 2193, 127, 1230, 3823, 1958, 779, 3543, 1586, 2787, 1962, 749, 2311, 127, 2598, 2723, 1623, 3299, 533, 484, 1586, 1975, 307, 398, 2193, 1702, 1094, 2425, 547, 3853, 3381, 3823, 127, 752, 3731, 828, 60, 127, 704, 1979, 2756, 3963, 2070, 2109, 1205, 2683, 3689, 3103, 1385, 2683, 127, 157, 3305, 3, 1995, 1829, 942, 3823, 889, 2369, 2160, 662, 3103, 1922, 220, 2535, 2471, 2580, 1586, 3103, 708, 2193, 127, 705, 3275, 1979, 2756, 297, 2788, 2391, 127, 3090, 3275, 456, 127, 889, 3686, 1989, 1995, 2369, 1778, 3459, 3823, 328, 2596, 1254, 1718, 533, 1300, 2369, 422, 2563, 3813, 2923, 3671, 1979, 2756, 2496, 1771, 1635, 200, 441, 3743, 3963, 127, 2158, 2364, 749, 1230, 1757, 914, 2683, 654, 3682, 762, 3275, 1269, 433, 3089, 2369, 2429, 547, 1356, 3439, 2536, 1586, 1018, 642, 2193, 127, 1768, 1269, 398, 1934, 1713, 127, 2973, 3779, 738, 3671, 2014, 127, 2206, 2193, 889, 2369, 2193, 127, 3090, 3275, 1829, 3228, 1758, 127, 2459, 1798, 60, 1979, 2756, 127, 2515, 157, 3305, 948, 763, 1526, 2193, 889, 658, 2193, 127, 705, 3275, 1995, 1248, 1254, 1586, 752, 1408, 1979, 2756, 297, 1238, 488, 1254, 1768, 1408, 1586, 3040, 3343, 2535, 1829, 1586, 297, 1059, 3249, 3343, 2193, 1035, 3823, 3103, 2156, 1081, 3008, 3103, 2156, 1051, 222, 2193, 1702, 2680, 2193, 695, 3359, 1979, 2756, 3766, 3249, 2683, 127, 608, 2193, 1286, 1979, 2756, 297, 1407, 3230, 662, 845, 584, 1995, 752, 3343, 1586, 71, 1408, 3225, 410, 60, 3714, 2683, 3978, 3524, 1791, 1995, 2369, 791, 3132, 2193, 695, 3743, 483, 662, 2284, 1829, 533, 297, 3533, 3445, 2257, 3963, 3876, 134, 297, 398, 2193, 1255, 2380, 1564, 3823, 2359, 2146, 1586, 3095, 3375, 3823, 2570, 3963, 2109, 127, 752, 975, 2208, 662, 627, 1979, 2756, 2113, 349, 3103, 1006, 1979, 2756, 297, 2707, 220, 2535, 3682, 127, 2471, 2365, 2193, 127, 889, 2119, 3103, 3220, 2683, 277, 344, 127, 3731, 752, 2088, 763, 2983, 3013, 889, 3959, 2193, 127, 705, 3275, 1995, 1768, 1254, 1586, 2369, 3154, 3103, 2158, 2609, 222, 2369, 1274, 3154, 2683, 1958, 2756, 2193, 661, 1979, 2756, 297, 1447, 488, 1254, 1081, 1408, 1586, 3381, 3154, 2535, 2088, 3103, 2158, 3107, 1306, 3524, 2683, 3307, 1586, 1979, 2756, 533, 297, 1407, 1952, 2683, 2088, 2193, 127, 3090, 157, 3305, 1898, 3275, 1995, 71, 1254, 1586, 752, 1408, 2088, 297, 3445, 2257, 3963, 8, 2683, 127, 1979, 3867, 749, 1695, 1644, 1076, 2123, 3576, 127, 2604, 1586, 1729, 2364, 2222, 3823, 127, 1751, 398, 60, 1081, 743, 1979, 3867, 2263, 476, 2320, 2683, 1172, 1580, 1851, 3403, 1751, 2094, 3732, 1227, 2673, 2433, 398, 1995, 3601, 1534, 3550, 2360, 1081, 2471, 2580, 3963, 1446, 2683, 3376, 2472, 2700, 2683, 1979, 2756, 1740, 763, 2740, 1951, 127, 3090, 3275, 456, 127, 889, 2046, 1989, 1995, 1768, 1254, 1586, 2369, 3154, 127, 2511, 2583, 297, 71, 1254, 752, 1408, 1586, 2369, 3154, 2535, 127, 608, 60, 127, 1475, 1085, 157, 3305, 1586, 297, 1934, 1952, 3293, 1741, 3743, 2113, 307, 8, 1995, 856, 3445, 456, 1434, 3802, 856, 2263, 60, 1156, 1768, 3363, 476, 3427, 2923, 1979, 2756, 2193, 13, 2680, 2709, 763, 495, 3963, 2449, 60, 3103, 1526, 157, 3305, 240, 3293, 606, 2193, 127, 762, 3275, 547, 2614, 762, 2193, 889, 2046, 3705, 1740, 1995, 259, 1254, 752, 1408, 1586, 2369, 3154, 1979, 2595, 297, 2389, 533, 440, 2535, 127, 24, 793, 2158, 2833, 2193, 3103, 422, 3008, 2094, 1678, 1365, 1254, 1586, 3040, 1408, 3103, 3193, 2246, 222, 2193, 3893, 2156, 1751, 1082, 127, 2750, 2364, 749, 1992, 3162, 2750, 2364, 3305, 3359, 1979, 2756, 1577, 2709, 744, 2136, 3963, 786, 662, 127, 1085, 3382, 762, 376, 2193, 127, 3090, 3275, 2955, 3823, 2158, 2392, 547, 3397, 127, 285, 2193, 889, 1622, 3705, 1161, 2023, 905, 1248, 1254, 1586, 752, 3343, 1979, 2756, 297, 398, 2136, 2158, 1248, 2230, 1586, 547, 297, 1081, 1254, 752, 1408, 1586, 2369, 3154, 547, 2156, 2324, 863, 2535, 1035, 2471, 2193, 47, 82, 1979, 2756, 3230, 3249, 1979, 2756, 2113, 1440, 2683, 3024, 456, 464, 2536, 456, 547, 493, 2535, 2136, 1718, 2759, 2193, 1305, 2536, 2193, 127, 762, 3275, 127, 4016, 2014, 2365, 2314, 60, 127, 3090, 3275, 127, 3215, 3779, 3241, 3228, 1758, 3055, 1150, 2683, 1596, 3229, 2662, 646, 2206, 1979, 2756, 1526, 1331, 2709, 662, 1202, 409, 476, 3957, 2683, 2136, 259, 535, 3450, 547, 1975, 1732, 832, 1740, 1082, 1791, 662, 2729, 490, 1586, 1981, 2683, 1829, 259, 535, 3450, 2683, 3622, 10, 3228, 307, 127, 4016, 3235, 3779, 2193, 127, 3090, 3275, 367, 3433, 2683, 901, 2261, 476, 238, 2683, 1829, 3743, 483, 3225, 3444, 60, 3714, 2683, 1934, 297, 335, 1127, 476, 3876, 127, 3779, 2535, 1829, 1979, 2756, 1975, 1705, 480, 127, 1526, 2896, 3823, 127, 3090, 3275, 1771, 673, 2088, 662, 713, 3819, 127, 762, 2896, 1975, 2192, 662, 936, 2565, 1094, 82, 547, 256, 2683, 2709, 1979, 2197, 2156, 3779, 3299, 1082, 2088, 662, 1202, 2789, 2172, 1751, 1426, 480, 60, 127, 3090, 3275, 1979, 2756, 1975, 1690, 662, 877, 662, 529, 409, 2193, 1799, 498, 1586, 832, 127, 3037, 4002, 662, 529, 2789, 2193, 387, 367, 297, 2389, 260, 2683, 297, 1269, 2535, 1137, 1814, 2580, 1434, 483, 3225, 3444, 60, 3714, 2683, 1773, 31, 3144, 708, 2193, 2156, 3819, 3330, 3963, 1934, 1601, 1771, 1678, 791, 142, 2535, 877, 1586, 127, 3037, 4002, 3743, 3299, 1909, 3764, 2503, 3445, 2160, 2193, 1255, 2257, 3963, 1945, 2683, 3592, 3876, 410, 1995, 3103, 2263, 825, 3102, 2150, 1586, 3312, 1076, 1010, 1673, 398, 2158, 1081, 1269, 2156, 224, 1586, 3688, 3401, 2683, 1755, 2193, 2369, 1284, 3744, 3403, 224, 60, 1172, 2447, 1851, 284, 2925, 2649, 3038, 3732, 2718, 1097, 3688, 1873, 2472, 2683, 1172, 3748, 1851, 2193, 127, 2447, 347, 853, 2590, 3103, 1283, 3157, 307, 326, 2662, 3445, 689, 1381, 2773, 2257, 3688, 734, 2683, 1755, 60, 3845, 3337, 3293, 2369, 3779, 2535, 892, 662, 1796, 108, 752, 2752, 3820, 2193, 127, 383, 916, 297, 2389, 533, 3271, 386, 984, 3823, 1348, 272, 398, 2369, 3779, 3293, 1796, 409, 1586, 3239, 787, 3823, 2667, 925, 222, 2156, 1291, 662, 127, 3718, 662, 1343, 3439, 2193, 1691, 170, 1388, 3732, 140, 3829, 3688, 2389, 942, 3823, 50, 3293, 1796, 2767, 2023, 2095, 480, 2369, 2281, 819, 2378, 2590, 1172, 163, 2430, 3816, 1586, 1609, 725, 297, 2389, 3876, 2947, 3823, 2388, 2836, 1935, 2260, 2698, 3688, 2389, 1433, 3876, 60, 1172, 2132, 1851, 170, 3276, 2832, 3445, 3157, 307, 662, 127, 2063, 1148, 127, 3934, 2140, 2058, 2193, 632, 1586, 3893, 1434, 483, 1636, 3444, 3299, 31, 547, 3433, 2683, 307, 3524, 662, 127, 3718, 1586, 3622, 1269, 1433], [2430, 1356, 1081, 1037, 836, 2535, 2062, 1082, 2369, 1791, 3744, 662, 2026, 1434, 1356, 127, 2253, 2429, 1082, 1170, 727, 2193, 127, 1526, 2896, 476, 2874, 487, 1082, 835, 727, 2193, 127, 1526, 1586, 127, 2937, 1082, 81, 727, 2193, 127, 762, 2462, 3299, 127, 1526, 410, 31, 2430, 1242, 1037, 836, 456, 2369, 2935, 1862, 2257, 2266, 2683, 2825, 2193, 127, 2017, 3174, 2023, 432, 127, 1091, 2685, 3823, 127, 2502, 2193, 2622, 1434, 3299, 533, 127, 762, 3867, 2683, 3076, 2369, 1037, 3973, 2193, 127, 916, 2023, 2718, 1097, 2257, 398, 60, 566, 2062, 3524, 2193, 3124, 2430, 533, 2509, 127, 1152, 3823, 2297, 1172, 1427, 3459, 3823, 2518, 2536, 1356, 2193, 2369, 507, 3174, 1995, 1768, 2536, 1172, 705, 3459, 222, 259, 2536, 31, 1434, 1238, 2193, 127, 1397, 3174, 1082, 1388, 1586, 127, 2156, 3174, 1082, 1341, 456, 1388, 3688, 488, 1269, 2683, 3622, 2193, 127, 507, 3174, 2430, 3688, 2369, 2041, 49, 2683, 3459, 318, 2536, 1615, 1076, 2430, 3299, 3876, 1082, 2369, 3055, 3972, 2399, 2662, 476, 456, 179, 1139, 297, 1059, 771, 2193, 1379, 2462, 3299, 127, 1526, 410, 60, 1388, 2683, 3076, 1037, 836, 3293, 3225, 3783, 2683, 127, 505, 853, 2193, 127, 1397, 3174, 3360, 127, 1814, 1557, 2505, 248, 3688, 2737, 2430, 1249, 2261, 127, 40, 3024, 2261, 2014, 127, 3445, 2193, 127, 752, 2580, 662, 127, 2483, 2042, 60, 2430, 3707, 2471, 3445, 3729, 3230, 2369, 3024, 1082, 127, 328, 1707, 897, 1388, 2786, 734, 2683, 349, 3225, 2321, 1598, 127, 3744, 1527, 3143, 2325, 177, 99, 31, 906, 1037, 836, 3397, 1934, 2173, 2683, 2269, 3144, 3102, 2683, 3076, 1081, 3024, 2261, 3293, 3144, 3102, 571, 1934, 654, 127, 3779, 2325, 3821, 1468, 2683, 3029, 906, 2536, 2430, 483, 1082, 2872, 954, 2023, 127, 3779, 1136, 283, 2923, 127, 976, 2613], [1388, 3963, 46, 1193, 1424, 1352, 1995, 2369, 2261, 2835, 3823, 422, 761, 2683, 2369, 3459, 3823, 1768, 1254, 1586, 488, 1408, 547, 3963, 2158, 1081, 2261, 944, 3823, 127, 1293, 299, 547, 663, 2683, 2, 2369, 3153, 3823, 1248, 1269, 433, 2369, 3813, 82, 547, 63, 3179, 2371, 405, 2156, 2026, 1995, 1733, 555, 1586, 2298, 3245, 662, 127, 3024, 2670, 3172, 662, 127, 2471, 201, 3963, 81, 662, 127, 853, 3250, 1586, 3433, 127, 2261, 1007, 2980, 547, 1934, 133, 1766, 3401, 3103, 2156, 654, 2193, 127, 916, 3870, 2250, 662, 936, 2789, 82, 547, 1697, 942, 3868, 1677, 2535, 1348, 1995, 273, 3831, 2102, 2369, 2601, 3823, 2536, 3293, 31, 654, 547, 297, 843, 752, 1586, 1952, 752, 1586, 3978, 2391, 3403, 1950, 3001, 662, 127, 3524, 3823, 2369, 2982, 1791, 3107, 1082, 127, 3441, 3823, 853, 3405, 412, 2545, 2406, 752, 297, 1931, 1008, 3403, 3174, 1995, 1388, 2699, 942, 3986, 1677, 1082, 127, 503, 1995, 1227, 150, 1782, 2421, 1586, 3816, 2430, 3245, 662, 127, 3024, 2670, 3, 1995, 2872, 3454, 1424, 1038, 3348, 1388, 738, 3172, 3684, 2250, 1082, 127, 365, 3503, 662, 2026, 3185, 2128, 1995, 2369, 3149, 410, 3823, 1257, 538], [1388, 2686, 1007, 2193, 2369, 1052, 1234, 456, 547, 1981, 2391, 127, 3090, 2525, 931, 3823, 127, 3174, 46, 2193, 491, 2399, 547, 1981, 2391, 3103, 3744, 1995, 3172, 1995, 1236, 409, 654, 2193, 3103, 2156, 490, 976, 2590, 31, 654, 643, 2193, 3103, 4016, 3587, 3744, 2369, 405, 654, 115, 1082, 3179, 2371, 547, 1975, 1258, 2683, 216, 662, 31, 3132, 3403, 2383, 2535, 3172, 1076, 3816, 2430, 3364, 3103, 2874, 1995, 3317, 853, 2536, 1586, 1975, 1380, 2683, 3592, 662, 127, 633, 3301, 3403, 2383, 3172, 1975, 307, 1582, 2683, 3150, 115, 1424, 127, 1052, 308, 3403, 2383, 1342, 81, 2193, 127, 1390, 547, 1635, 2683, 1388, 662, 127, 3524, 3823, 1236, 409, 654, 2193, 3103, 2156, 490, 976, 2193, 127, 853, 1995, 3103, 4016, 3587, 3744, 3357, 2369, 2982, 3107, 1082, 1791, 2683, 3405, 412, 2545, 547, 1975, 307, 2449, 2683, 3592, 3524, 662, 2020, 3403, 2383, 1586, 1975, 307, 2449, 2683, 3935, 3621, 2683, 1881, 2800, 2683, 3813, 127, 383, 1076, 3364, 3103, 2874, 1995, 1305, 853, 2536, 3403, 3174], [953, 3157, 3249, 1157, 0, 1979, 3867, 1076, 2430, 3816, 3299, 2114, 2683, 2107, 825, 3102, 674, 1269, 2193, 529, 2897, 2683, 2369, 3126, 2378, 1172, 953, 3184, 483, 2284, 2430, 2257, 1822, 60, 170, 1388, 2193, 127, 916, 222, 1135, 1771, 2671, 3970, 2193, 127, 544, 727, 1148, 1172, 2580, 853, 3779, 2535, 3134, 2500, 1082, 3465, 2193, 2731, 2825, 662, 2026, 2023, 1982, 3767, 2669, 1328, 662, 1172, 2281, 3866, 127, 827, 2978, 3450, 3532, 127, 677, 2509, 2369, 155, 2554, 662, 1172, 2281, 2472, 3126, 1455, 2683, 3091, 2238, 3754, 2675, 2430, 1985, 2683, 2204, 60, 71, 2683, 1248, 931, 3754, 3612, 1157, 146, 3184, 714, 87, 2430, 628, 31, 1434, 3299, 2114, 2683, 2107, 127, 825, 3102, 674, 1269, 2193, 529, 1979, 2756, 1975, 1690, 662, 877, 662, 529, 409, 2193, 1799, 498, 1586, 832, 127, 3037, 4002, 662, 529, 2789, 2193, 387, 1635, 200, 441, 3743, 2433, 483, 1434, 783, 2683, 1550, 127, 267, 3102, 266, 1995, 3445, 2193, 3731, 1550, 2786, 3754, 483, 31, 2430, 1975, 307, 2782, 60, 1979, 2756, 82, 127, 3090, 2364, 1898, 3275, 60, 127, 870, 1085, 157, 3305, 2781, 2193, 13, 1434, 3863, 31, 127, 1887, 2762, 1586, 1341, 1076, 3688, 1236, 978, 2369, 3126, 1934, 2872, 1110, 1718, 2509, 2389, 3690, 2430, 2193, 3587, 3363, 2430, 3688, 1356, 328, 2536, 2193, 236, 1269, 60, 1388, 3403, 3174, 2726, 2369, 3438, 60, 2369, 1284, 916, 3174, 1434, 2509, 1768, 2536, 2156, 3174, 1995, 1341], [2430, 3816, 1356, 127, 1526, 1037, 3973, 3823, 1172, 2935, 2891, 2193, 1599, 1791, 3779, 2535, 566, 2062, 662, 2026, 3091, 1170, 1539, 1586, 2643, 2536, 3823, 127, 3174, 3870, 458, 2683, 2369, 288, 1022, 690, 60, 2369, 916, 3174, 2430, 2816, 2891, 2193, 2825, 564, 1995, 2762, 2193, 47, 2509, 1407, 2433, 1356, 3055, 2662, 259, 2536, 2193, 2369, 3174, 2430, 3299, 127, 762, 3867, 2683, 3024, 2369, 1037, 2020, 2193, 2369, 916, 3779, 2023, 1887, 2062, 1862, 2718, 1097, 2257, 571, 2462, 2180, 476, 852, 2683, 2649, 3038, 2193, 127, 2447, 347, 853, 3867, 916, 3077, 3140, 1651, 1407, 1356, 2369, 1037, 3973, 2094, 3876, 2193, 2825, 3091, 1526, 2429, 643, 1236, 259, 1944, 2391, 127, 3744, 82, 1434, 3664, 2369, 2155, 2023, 1227, 3522, 2530, 489, 127, 862, 2193, 127, 835, 727, 1434, 1356, 863, 487, 3588, 2155, 3403, 410, 863, 2369, 2530, 1771, 3393, 555, 2070, 2449, 1419, 2193, 127, 762, 2896, 3091, 69, 4004, 863, 3985, 2719, 2572, 127, 3524, 3823, 127, 3362, 2683, 2091, 127, 1037, 3973, 1388, 3404, 115, 3103, 422, 2321, 2786, 1314, 2062, 2683, 3024, 2180, 2193, 127, 762, 2896, 1586, 3089, 2369, 712, 1236, 476, 127, 3128, 410, 1206, 2683, 3938, 127, 3744, 2193, 2369, 3143, 704], [464, 3823, 127, 3731, 3867, 3002, 3876, 2193, 1255, 297, 2389, 3954, 2193, 3587, 1269, 2714, 2939, 2955, 3823, 1411, 3090, 2364, 2824, 3275, 60, 127, 870, 157, 3305, 2193, 1572, 456, 547, 3963, 2541, 3445, 2193, 127, 3867, 825, 3102, 825, 3102, 2057, 441, 3743, 2841, 3612, 86, 2462, 2928, 307, 3235, 2683, 199, 3445, 2257, 297, 1934, 2509, 410, 662, 127, 3718, 60, 2923, 1248, 3330, 662, 127, 2580, 2352, 1381, 2773, 3823, 3845, 3337, 1586, 1010, 1673, 3823, 284, 2925, 2193, 127, 2447, 347, 853, 3504, 1236, 3381, 240, 1035, 2193, 3185, 2193, 2369, 3587, 954, 1995, 2369, 3867, 1500, 370, 1381, 3562, 2503, 3357, 3897, 1771, 3845, 3337, 2057, 3699, 1916, 3293, 1604, 1424, 2369, 1263, 2378, 2325, 9, 297, 2958, 276, 2683, 3150, 2360, 2172, 3174, 1434, 483, 1076, 1010, 2933, 2745, 1862, 3823, 127, 1751, 2156, 3174, 2023, 2874, 328, 2536, 222, 3422, 662, 882, 456, 2369, 2451, 2193, 2156, 931, 3744, 2535, 2910, 2925, 2590, 3688, 304, 1617, 2752, 127, 3206, 3823, 2388, 2050, 110, 127, 2580, 288, 2057, 3688, 3541, 2369, 1013, 60, 1215, 3243, 2923, 2612, 3243, 689, 1010, 2718, 1097, 3823, 2649, 3038, 1823, 2193, 71, 1269, 2193, 3185, 2590, 564, 2193, 2158, 3381, 3823, 2800, 2190, 3897, 2193, 2885, 3823, 1172, 505, 2615, 2193, 2875, 1191, 3618, 1586, 3800, 210, 3618, 1586, 210, 297, 3504, 335, 3083, 2683, 127, 2580, 1882, 3748, 2399, 2193, 127, 853, 2874, 1305, 1586, 3249, 2536, 964, 2193, 127, 916, 3239, 787, 3823, 925, 1586, 386, 984, 3823, 1348, 297, 1494, 2389, 3954, 3293, 2049, 1935, 2260, 2974, 3688, 2837, 2683, 2686, 1550, 3293, 432, 208, 2132, 1851, 170, 3276, 2193, 3473, 1476, 1236, 3381, 2429, 2193, 1172, 2156, 3249, 1269, 2430, 3816, 3823, 916, 3229, 1388, 3299, 127, 2158, 3867, 1862, 46, 3516, 2193, 2369, 1814, 853, 417, 2193, 3682, 71, 1269, 2193, 3185, 2430, 3688, 3504, 2369, 2041, 3084, 2193, 1035, 163, 1609, 725, 1586, 140, 3829, 297, 2389, 2827, 456, 2243], [953, 713, 3847, 1157, 0, 82, 1979, 2756, 1957, 2683, 3765, 3103, 2707, 736, 2193, 127, 3442, 157, 3305, 2824, 2535, 2626, 2172, 2284, 547, 1975, 297, 2683, 2424, 3339, 433, 1076, 2430, 3816, 2430, 3688, 2389, 1256, 2404, 60, 127, 2005, 889, 3686, 3779, 2193, 127, 762, 3275, 3823, 127, 2364, 2824, 60, 127, 870, 1085, 157, 3305, 2023, 2095, 480, 1172, 762, 2725, 2657, 2193, 456, 464, 2485, 2535, 868, 1562, 1434, 1975, 958, 3502, 1172, 916, 1851, 170, 1388, 2430, 778, 2193, 1979, 2197, 762, 2429, 2193, 3103, 3986, 654, 1082, 3601, 157, 3305, 548, 2193, 3601, 173, 994, 127, 2756, 749, 1962, 1310, 483, 3707, 2394, 1975, 307, 2933, 60, 127, 1076, 2257, 3688, 1356, 2128, 2230, 2193, 3868, 3687, 1269, 3729, 433, 2430, 127, 2008, 1979, 2756, 2113, 297, 2472, 1960, 2535, 2626, 763, 3692, 2193, 3103, 705, 2246, 2193, 13, 1979, 2756, 1491, 2626, 3016, 1995, 3931, 2718, 1097, 2874, 2369, 1037, 3973, 1979, 2756, 1590, 2277, 127, 889, 1995, 2369, 1714, 1897, 3459, 1642, 1356, 2482, 2536, 1586, 1186, 642, 60, 127, 1751, 1979, 2756, 297, 3230, 3819, 843, 1081, 1586, 1952, 2158, 3381, 0, 2683, 166, 1082, 127, 1757, 2364, 3305, 3090, 2193, 3473, 2369, 3813, 2923, 2626, 1975, 2303, 1979, 2756, 3103, 4016, 1438, 2193, 2369, 1288, 1751, 3293, 2877], [1979, 2197, 2430, 2053, 1610, 483, 2462, 3379, 791, 2683, 307, 3524, 1791, 1995, 127, 1388, 456, 1434, 1943, 2369, 1900, 268, 662, 2284, 2430, 2156, 398, 60, 127, 1341, 2023, 432, 127, 3102, 2193, 2680, 127, 3264, 1526, 398, 60, 127, 1332, 2094, 662, 3937, 1424, 2762, 2193, 3174, 3566, 624, 2607, 3379, 1786, 1082, 1388, 1586, 439, 297, 127, 1278, 3823, 1386, 1791, 2430, 483, 456, 2769, 264, 2881, 662, 3066, 3225, 2883, 31, 2462, 1839, 942, 1082, 380, 474, 203, 439, 2325, 2465, 2449, 3732, 2683, 3357, 3524, 1082, 127, 1851, 1586, 2325, 1258, 2683, 2308, 127, 3102, 3837, 3103, 2536, 2193, 127, 916, 3305, 1586, 2507, 853, 1434, 3863, 2430, 2752, 2369, 791, 955, 2193, 1388, 2023, 2874, 328, 2536, 2193, 3055, 2662, 422, 976, 1148, 3174, 3566, 1718, 222, 2594, 127, 3102, 222, 533, 1351, 2683, 297, 458, 3524, 367, 3397, 2193, 507, 512, 1995, 2430, 2053, 1610, 2023, 1172, 3577, 1586, 367, 3870, 127, 49, 2683, 297, 458, 3524, 456, 2556, 456, 2462, 2681, 3199, 1014, 0, 1599, 3856, 3823, 532, 0, 483, 1434, 4021, 127, 1851, 127, 2710, 456, 2947, 456, 127, 3102, 1586, 200, 3339, 1434, 2538, 3433, 1948, 410, 2683, 1313, 3524, 2193, 2360, 1014, 1783, 662, 1424, 2369, 1032, 1414, 1434, 1975, 2308, 3714, 2193, 2760, 2683, 3592, 3055, 2998, 662, 3144, 3744, 1995, 2430, 439, 3876, 60, 1388, 1434, 3299, 1446, 2683, 2529, 326, 3293, 1434, 3688, 1841, 1424, 127, 2378, 31, 3688, 3183, 1172, 1955, 1148, 1172, 3150, 1995, 127, 1341, 1586, 2762, 2430, 222, 127, 1887, 2150, 3823, 1979, 2756, 749, 3102, 1148, 127, 371, 157, 3305, 1434, 1526, 37, 127, 383, 853, 2193, 1729, 2023, 2265, 2369, 2407, 268, 1995, 127, 2762, 2430, 1975, 2370, 127, 2204, 3823, 1388, 3102, 662, 1562, 60, 3103, 1572, 870, 2485], [127, 3951, 3688, 2589, 662, 127, 704, 60, 127, 870, 157, 3305, 60, 1979, 2756, 200, 441, 3743, 4021, 3872, 1718, 2580, 547, 1975, 832, 0, 2709, 1829, 1740, 2088, 1586, 2136, 0, 1586, 82, 2462, 3682, 2342, 662, 13, 409, 2704, 1586, 3614, 13, 2789, 1094, 439, 1434, 3688, 2683, 2192, 175, 2503, 1172, 3102, 1172, 2133, 3299, 2900, 2683, 277, 2193, 127, 3731, 752, 2193, 127, 889, 1586, 456, 3403, 3299, 127, 157, 3305, 127, 1689, 1975, 1258, 2683, 3678, 1172, 267, 3102, 2193, 226, 3744, 2832, 3823, 127, 2580, 690, 3963, 2193, 1255, 2052, 3299, 127, 2447, 347, 853, 355, 3823, 2150, 1010, 1673, 1082, 284, 2925, 1381, 2773, 1082, 3845, 3337, 1586, 2718, 1097, 1082, 2649, 1605, 2052, 3963, 3055, 2193, 2825, 3239, 787, 1082, 2667, 925, 1609, 725, 2430, 3816, 1586, 140, 3829, 1082, 1388, 1586, 386, 967, 1995, 1348, 4016, 3823, 444, 2928, 1540, 2683, 307, 1477, 60, 127, 825, 3102, 3244, 1709, 2590, 127, 200, 3688, 3152, 127, 860, 31, 2462, 2538, 307, 3339, 2442, 1434, 3688, 3612, 2800, 31, 2158, 444, 2257, 3622, 1433, 60, 3103, 2263, 1975, 307, 2109, 1082, 127, 2326, 31, 2486, 2683, 2525, 642, 3823, 127, 1865, 2527, 3963, 3131, 3339, 1010, 222, 2745, 1862, 3823, 127, 3174, 2156, 410, 2590, 771, 1586, 127, 2263, 647, 297, 1291, 458, 1181, 1172, 2487, 1566, 2718, 1082, 88, 3299, 3051, 662, 127, 3206, 2094, 1381, 1082, 3337, 3101, 647, 2683, 3592, 31, 2599, 2683, 127, 3678, 2193, 2825, 2158, 2430, 1586, 1609, 3622, 3101, 1995, 140, 978, 1586, 127, 752, 2752, 3820, 3239, 1586, 386, 1934, 1642, 398, 60, 2369, 3904, 3823, 3330, 2384, 3445, 2257, 36, 1433, 662, 127, 3678, 493, 1181, 3103, 1550, 1586, 3277, 127, 26, 1283, 3299, 60, 127, 2866, 2527, 2683, 3622, 226, 12, 1082, 2369, 1710, 897, 2462, 3299, 326, 2683, 307, 3876, 2193, 127, 2502, 2662, 1144, 2193, 127, 347, 853, 3743, 3299, 1149, 31, 2832, 1975, 2063, 2580, 2023, 127, 1814, 3174, 3614, 2325, 2465, 908, 800, 547, 1975, 3119, 942, 2193, 2068, 3403, 3934, 1434, 3612, 86, 1082, 3631, 3687, 2873, 2023, 2320, 1424, 127, 704, 2325, 297, 2832, 929, 31, 444, 3445, 2257, 3963, 1934, 3876, 1433, 3157, 297, 3055, 3822, 2193, 288, 2580, 2462, 3299, 282, 3444, 60, 2800, 2683, 3622, 1433, 2325, 900, 2970, 480, 3445, 2257, 297, 1934, 398, 456, 507, 2724, 60, 2503, 1248, 3330, 2683, 127, 157, 3305, 188, 3999, 307, 609, 127, 1760, 3299, 2872, 3993, 3381, 1586, 226, 200, 60, 1979, 2756, 3688, 483, 2369, 3637, 95, 3293, 2595, 564, 238, 2683, 1255, 2193, 2958, 559, 3823, 2177, 127, 1462, 134, 2700, 3763, 31, 3445, 2257, 1617, 3622, 2193, 1080, 134, 2825, 1975, 1934, 3622, 60, 2756, 2462, 1836, 2328, 2590, 82, 2462, 729, 305, 2683, 2462, 3707, 200, 1670, 2462, 480, 3244, 3743, 352, 1434, 1975, 307, 127, 1526, 1434, 3299, 533, 3357, 2369, 2472, 3489, 1934, 2158, 493, 127, 200, 3518, 10, 1117, 507, 2590, 1434, 1975, 307, 982, 1172, 2352, 60, 127, 1526, 752, 976, 2535, 2709, 1082, 1791, 1586, 1740, 115, 2193, 44, 82, 127, 1814, 3174, 3299, 1236, 417, 190, 1975, 297, 398, 1248, 3330, 2023, 127, 2192, 3823, 127, 288, 3174, 82, 1172, 696, 3299, 1602, 2896, 127, 2824, 976, 1975, 1931, 297, 2389, 398, 3244, 142, 3963, 791, 190, 1975, 1044, 1586, 2052, 1975, 3707, 3825, 2683, 2148, 2369, 2707, 3867, 3102, 3244, 142, 3963, 2987, 2052, 1975, 307, 1127, 2683, 2148, 1560, 3729, 3339, 2462, 3299, 755, 2683, 2584, 1010, 127, 2150, 1586, 3760, 3823, 127, 3102, 134, 2718, 3225, 2459, 2537, 3357, 2752, 942, 3823, 2958, 2352, 2980, 547, 297, 1934, 2389, 3876, 1433, 2462, 3299, 229, 2683, 1132, 609, 134, 1934], [127, 2557, 2583, 63, 2757, 2884, 422, 1148, 3103, 1526, 2246, 2193, 127, 1180, 662, 2121, 2082, 3823, 2156, 1751, 1082, 127, 2188, 3687, 548, 2193, 1270, 537, 1586, 547, 1380, 2683, 667, 3103, 2195, 3403, 410, 12, 2281, 1082, 3103, 1791, 548, 1979, 2756, 2013, 3700, 3102, 2626, 3251, 1082, 127, 288, 2626, 825, 548, 2193, 1086, 2626, 1148, 127, 705, 2335, 456, 2769, 1771, 71, 71, 752, 3102, 2150, 1010, 1673, 1586, 3732, 2718, 1097, 3958, 863, 3381, 2601, 1035, 1082, 127, 2937, 1586, 245, 1944, 60, 1010, 1586, 1487, 1586, 1569, 60, 2718, 964, 2094, 1935, 2260, 2974, 3863, 487, 3381, 1082, 127, 1746, 2683, 2091, 127, 3534, 2605, 3823, 1635, 200, 441, 1596, 3229, 127, 1692, 3963, 2453, 404, 1148, 127, 2593, 889, 2638, 3823, 127, 483, 1898, 740, 456, 547, 3963, 607, 157, 2829, 596, 1010, 3823, 284, 2925, 2260, 3823, 170, 3276, 1381, 2773, 3823, 3845, 3337, 3239, 787, 3823, 2667, 925, 1586, 386, 984, 3823, 1348, 2718, 46, 2644, 480, 60, 2649, 2193, 127, 347, 853, 3299, 1934, 2782, 2193, 3403, 3779, 1995, 537, 60, 3396, 3960, 1103, 537, 533, 1491, 2626, 2336, 1082, 3103, 1791, 548, 2193, 1270, 662, 713, 81, 3823, 2156, 1751, 2683, 460, 3103, 2937, 654, 3823, 127, 2485, 714, 2127, 3732, 378, 1005, 1356, 2369, 211, 1082, 127, 1294, 1586, 4018, 1944, 2094, 1172, 163, 1107, 204, 1106, 2624, 599, 2988, 378, 1578, 1586, 1954, 522, 1035, 1356, 2369, 1284, 2429, 1082, 127, 3295, 2621, 2815, 1439, 1586, 2693, 1944, 964, 2683, 2091, 127, 35, 2761, 1955, 127, 2212, 3132, 3299, 2369, 3868, 2691, 60, 1979, 2756, 1979, 2756, 417, 2059, 1847, 1330, 3915, 799, 386, 2520, 3239, 246, 1010, 2430, 730, 3326, 1381, 1780, 1381, 246, 2260, 537, 417, 2059, 1785, 1330, 1378, 204, 522, 2988, 3737, 2624, 1005, 2369, 1784, 1578, 3617, 1784, 1401, 423, 3055, 999], [2667, 925, 297, 1943, 1979, 3867, 1928, 3239, 787, 1424, 1341, 662, 2369, 3676, 888, 127, 2901, 1851, 2971, 662, 3103, 2278, 662, 2026, 3239, 3254, 2257, 222, 1943, 1771, 1882, 925, 200, 358, 3078, 2094, 1434, 222, 2193, 1209, 1082, 1341, 2193, 3124, 3688, 3504, 1197, 916, 2105, 1586, 2389, 1159, 3961, 2230, 1771, 1172, 3807, 2141, 2932, 662, 426, 127, 1887, 73, 3259, 3540, 3901, 127, 1389, 3823, 2825, 3687, 1842, 368, 3324, 925, 3403, 3934, 787, 3239, 3299, 2369, 1714, 1691, 2683, 3144, 188, 1082, 2214, 483, 418, 3856, 3823, 532, 2079, 3828, 3239, 3763, 2596, 2391, 127, 925, 188, 2683, 832, 3398, 2991, 662, 2413], [2667, 925, 1331, 2762, 662, 2335, 1956, 3823, 127, 3477, 916, 3174, 662, 2026, 3293, 127, 608, 297, 287, 2356, 2369, 3748, 277, 1586, 127, 3772, 2158, 297, 2872, 3027, 49, 1082, 3876, 2193, 1255, 2172, 478, 1248, 2261, 3705, 2643, 2250, 46, 2066, 1771, 3134, 1718, 1975, 307, 176, 2683, 1459, 60, 127, 971, 2507, 853, 2485, 3403, 3174, 2980, 412, 2545, 1586, 925, 3622, 1035, 2471, 2193, 127, 2539, 2692, 3455, 3823, 3403, 2246, 3688, 2683, 3978, 1424, 2587, 2471, 2662, 127, 853, 1390, 1344, 176, 2462, 222, 2369, 551, 12, 60, 127, 3945, 1586, 1338, 2257, 2971, 662, 3103, 2278, 662, 1562, 31, 3102, 2150, 3318, 1142, 3688, 676, 3916, 2369, 2140, 2683, 412, 232, 3779, 1975, 3600, 1695, 2369, 1526, 3832, 2683, 2759, 3103, 3377, 307, 715, 456, 60, 2762, 2369, 3553, 1901, 3174, 3299, 1386, 2683, 2369, 2599, 1069, 3313, 127, 425, 3823, 127, 971, 3512, 853, 1586, 3876, 3197, 1546, 1885, 127, 3772, 1843, 307, 3391, 1995, 3103, 4005, 456, 916, 1693, 2156, 1751, 1586, 1677, 3823, 127, 920, 925, 2193, 127, 884, 60, 3403, 4005, 3397, 1710, 2590, 1407, 1008, 1635, 200, 3351, 569, 3228, 307, 821, 60, 1172, 2235, 2193, 127, 2156, 2525, 1269, 1586, 2504, 2683, 833, 127, 2803, 2193, 1172, 3547, 139, 662, 1562, 925, 3230, 127, 1526, 2246, 2193, 1702, 2193, 3586, 2234, 761, 2683, 2369, 629, 1989, 1424, 2440, 2778, 2590, 547, 76, 758, 127, 211, 2923, 2762, 3293, 127, 1549, 3174], [916, 1851, 2667, 925, 1975, 307, 433, 3239, 2193, 2005, 976, 662, 1172, 1928, 787, 1802, 985, 3823, 127, 3660, 2023, 1129, 3510, 1584, 3899, 2667, 1123, 662, 127, 2026, 476, 127, 916, 3744, 1995, 32, 3172, 1455, 2683, 3657, 1771, 1247, 3102, 1980, 3968, 164, 2590, 127, 3174, 411, 60, 127, 1557, 1862, 1424, 1979, 2756, 3299, 1934, 2381, 2091, 1247, 2285, 2108, 1363, 38, 787, 3239, 3068, 0, 342, 0, 1520, 3350, 1402, 1363, 1813], [127, 2667, 925, 754, 127, 2140, 3823, 2499, 2159, 3239, 1424, 1341, 1979, 3867, 1943, 2369, 3676, 888, 1995, 127, 1537, 1851, 2023, 2258, 127, 2705, 827, 1267, 3239, 2499, 2159, 3168, 1424, 1341, 2023, 3533, 2279, 1466, 1082, 1247, 1434, 3666, 574, 358, 3078, 2257, 795, 458, 2193, 1172, 1887, 1851, 1586, 3299, 282, 8, 1995, 3225, 1536, 2872, 1222, 3218, 60, 127, 2725, 1586, 3945, 3339, 1995, 2369, 2585, 1748, 3823, 3744, 2683, 3809, 127, 2820, 3244, 127, 2140, 2753, 222, 1934, 2779, 127, 1032, 3856, 2079, 3828, 2630, 127, 3540, 2499, 2159, 3239, 3299, 2369, 2752, 3524, 2257, 493, 307, 2369, 1714, 1691, 2683, 3144, 3102, 0, 3688, 2389, 1434, 3591], [127, 254, 1079, 643, 488, 1944, 481, 2388, 60, 2667, 925, 2257, 1952, 3103, 2156, 3779, 3823, 1794, 405, 2683, 393, 2023, 2331, 2369, 2321, 60, 1298, 1944, 127, 3154, 3821, 2084, 127, 2883, 1526, 2896, 3823, 418, 3174, 2590, 127, 3457, 2646, 127, 3153, 3823, 3622, 1247, 3032, 2683, 307, 2193, 3128, 1301, 3823, 127, 3779, 456, 1396, 79, 3632, 568, 2800, 2955, 2023, 1365, 1944, 127, 3945, 1586, 1338, 3870, 481, 1948, 3573, 2193, 127, 2321, 1586, 1018, 1301, 3823, 127, 3779, 3211, 2193, 127, 762, 2896, 925, 2057, 358, 3078, 2509, 2683, 2040, 2023, 127, 3779, 31, 1172, 3229, 1210, 127, 1879, 2683, 3435, 863, 2369, 3466, 393, 3229, 3381, 31, 1743, 3813, 2193, 127, 3090, 3249, 1944, 2535, 2369, 2296, 925, 232, 3779, 222, 127, 517, 3823, 127, 3174, 1931, 60, 174, 3952, 547, 1975, 2070, 2410, 2704, 1082, 3846, 488, 2261, 3178, 127, 3253, 3512, 853, 1623, 595, 1718, 3821, 307, 7, 176, 2590, 127, 3779, 2535, 393, 3688, 2833, 3301, 3541, 31, 547, 9, 297, 10, 2462, 3684, 2683, 349, 480, 1995, 853, 3405, 170, 412, 127, 1462, 3823, 2369, 1175, 2599, 2262, 1064, 2193, 2704, 222, 3314, 662, 127, 2156, 3779, 2483, 3823, 1794], [2667, 925, 564, 2704, 662, 127, 2281, 3866, 2535, 3103, 3974, 2615, 60, 2369, 3512, 853, 595, 2667, 2300, 127, 3553, 3406, 2982, 654, 3824, 925, 2369, 1004, 1986, 2923, 1998, 2956, 3102, 2257, 3397, 2193, 1193, 2250, 476, 127, 2335, 925, 2057, 358, 3078, 493, 307, 2401, 1995, 1172, 2580, 1955, 2193, 2369, 2652, 3779, 662, 127, 3169, 662, 2026, 1889, 1247, 398, 327, 749, 2023, 2369, 2926, 2192, 2683, 127, 3744, 456, 3647, 127, 3090, 2312, 2193, 2760, 222, 2315, 127, 3945, 1586, 1338, 3397, 127, 4016, 35, 3102, 662, 127, 1526, 916, 2335, 3823, 127, 288, 1751, 456, 3103, 1307, 2192, 332, 31, 2052, 3299, 3401, 3055, 2683, 3978, 1424, 127, 424, 2106, 2462, 1975, 307, 176, 2683, 2303, 853, 3405, 170, 412, 2545, 2369, 3153, 60, 3103, 2069, 4007, 2683, 307, 1291, 2590, 127, 1336, 1315, 2683, 3227, 3398, 3352, 925, 1929, 480, 127, 1390, 60, 439], [2667, 925, 349, 3103, 1714, 3459, 213, 2683, 2192, 127, 3477, 3174, 0, 2590, 1236, 653, 2462, 3870, 2369, 1989, 2193, 127, 2937, 727, 3823, 880, 410, 1771, 3239, 787, 2683, 2578, 1247, 1424, 2224, 3103, 2253, 3779, 3823, 127, 2507, 853, 2535, 1574, 1319, 2751, 1449, 2429, 568, 127, 1011, 2193, 3972, 3040, 1944, 2391, 127, 3779, 2683, 165, 10, 925, 1689, 358, 3078, 2509, 251, 476, 127, 3779, 2325, 1540, 3714, 2683, 307, 1818, 1424, 127, 282, 1526, 727, 2325, 1380, 31, 367, 9, 3433, 487, 2523, 3794, 2590, 1172, 417, 1305, 356, 133, 2369, 2094, 2683, 3446, 2535, 2872, 1337, 1319, 2344, 3239, 3421, 3549, 2918, 2817, 1586, 3930, 1484, 1923, 2391, 127, 3678, 2683, 2303, 859, 694, 1586, 2440, 2778, 2369, 3406, 1079, 2193, 127, 2860, 146, 139, 3078, 3628, 2369, 3643, 743, 2662, 3467, 2462, 3870, 2369, 287, 410, 2683, 2686, 3144, 3300, 2391, 127, 3779, 3144, 2678, 1586, 1552, 1311, 3032, 3665, 1586, 367, 2509, 2683, 3592, 2827, 2683, 288, 3278, 1586, 1141, 127, 1347, 31, 925, 2028, 1929, 456, 106, 456, 2019, 3299, 533, 2369, 1706, 2683, 1574, 1319, 2257, 2048, 1995, 2656, 286, 1586, 2369, 3869, 3823, 360, 662, 127, 3370, 2590, 2193, 127, 3938, 127, 3945, 1586, 1338, 3504, 3103, 1422, 1509, 1586, 578, 662, 2369, 2388, 1989, 2683, 349, 127, 1081, 3022, 2261, 1082, 127, 693], [2718, 1097, 3504, 1172, 1526, 240, 2193, 3972, 3823, 1172, 288, 1695, 1082, 2358, 1852, 1694, 127, 1791, 3823, 2649, 3038, 2193, 1224, 662, 2026, 2718, 2266, 1424, 566, 2062, 2193, 519, 916, 2683, 2649, 2193, 127, 2447, 347, 853, 60, 2369, 2140, 2038, 3823, 422, 3237, 1323, 127, 40, 60, 2872, 2364, 1862, 2193, 1930, 2649, 2971, 662, 3225, 2278, 662, 2494, 31, 547, 297, 1943, 2718, 2683, 2369, 3116, 268, 1718, 846, 2683, 234, 2469, 1586, 1553, 3823, 2718, 3569, 3397, 533, 3863, 1103, 141, 3263, 662, 127, 3867, 825, 3102, 3239, 787, 1943, 1995, 2667, 925, 2270, 529, 870, 1455, 2683, 127, 2580, 2278, 662, 2026, 3239, 2257, 564, 2683, 3622, 2193, 1255, 2193, 1729, 1995, 170, 73, 2193, 3693, 2266, 2683, 916, 2193, 3124, 456, 1434, 1951, 1341, 3255, 358, 3078, 543, 3823, 1341, 2257, 1943, 3239, 3299, 439, 127, 2057, 3823, 925, 519, 749, 1041, 3460, 1932, 2170, 2140, 2038, 1082, 3182, 3237, 1323, 2718, 1586, 3239, 1975, 3622, 2193, 127, 762, 3275, 3823, 127, 2364, 2485, 60, 127, 870, 157, 3305, 2193, 1572, 2718, 3299, 3190, 2683, 3797, 2193, 2369, 1791, 3779, 2535, 2626, 2193, 3329, 173, 994, 662, 1562, 1586, 3239, 2193, 2872, 115, 3779, 2535, 537, 662, 1202, 3317, 2718, 1975, 921, 2193, 2756, 662, 1019, 1586, 3239, 1975, 2370, 127, 3102, 2193, 537, 141, 494, 1995, 2649, 3299, 1446, 2683, 307, 2535, 3885, 662, 1202, 3847, 1586, 2170, 494, 1995, 925, 2535, 42, 662, 1202, 3040], [418, 3153, 1300, 2707, 3682, 71, 916, 1269, 3339, 1925, 3403, 3174, 1995, 174, 288, 3102, 600, 127, 690, 2192, 2683, 2369, 4005, 2193, 127, 2263, 1930, 547, 2192, 127, 2383, 662, 3731, 3823, 127, 916, 662, 2429, 1077, 1424, 3512, 412, 2545, 1586, 1788, 1424, 3654, 3085, 3229, 170, 1319, 405, 2193, 3103, 2253, 2507, 853, 889, 3744, 662, 1562, 925, 643, 1424, 3705, 2683, 654, 31, 3744, 761, 2683, 2369, 3586, 778, 1989, 2193, 127, 2316, 727, 1771, 3239, 2257, 222, 3175, 662, 1172, 494, 60, 127, 1851, 1434, 1356, 2369, 581, 3444, 2429, 60, 3714, 1586, 222, 1931, 3723, 1424, 885, 82, 1434, 3504, 1172, 3300, 2391, 127, 3811, 60, 127, 2707, 2429, 0, 31, 2831, 2683, 2369, 791, 821, 3080, 2145, 3078, 3239, 3436, 174, 1731, 2193, 432, 1424, 1341, 2156, 224, 2590, 1069, 1172, 668, 1550, 127, 1979, 3867, 3299, 1934, 579, 2683, 2192, 2535, 2062, 456, 1434, 1454, 2683, 988, 1172, 916, 494, 60, 925, 127, 3331, 3823, 2825, 3931, 3374, 1099, 2023, 2369, 3126, 2378, 656, 2683, 3575, 3239, 2683, 127, 3206, 2094, 1624, 455, 2816, 2250, 3239, 3228, 1690, 1082, 2214, 3299, 2193, 2883, 1550, 2590, 3729, 1434, 3299, 2193, 3517, 3823, 127, 1979, 3867, 3225, 3245, 716, 660, 1434, 717, 729, 863, 125, 1434, 2113, 2192, 3876, 127, 2275, 354, 455, 3682, 3361, 1680, 2062, 1758, 2369, 3673, 3739, 3823, 418, 2818, 1069, 417, 127, 2383, 3527, 2193, 127, 1390, 2475, 693, 3299, 2872, 3616, 419, 1586, 2369, 3813, 2928, 3524, 480, 2215, 3823, 925, 1092, 412, 2369, 2895, 1798, 60, 127, 2262, 367, 3963, 2919, 1586, 2369, 654, 2923, 2062, 2928, 307, 3444, 456, 2462, 2928, 2785, 2800, 488, 2261, 3705, 3714, 483, 1076, 2918, 2817, 2257, 1951, 925, 1424, 2062, 2193, 127, 3934, 2062, 2257, 361, 2023, 3971, 853, 3349, 2683, 412, 1586, 1687, 1995, 2369, 3072, 654, 2923, 2902, 3823, 2542, 2193, 127, 3512, 853, 662, 3066, 3963, 260, 662, 127, 2280, 3823, 2150, 145, 447, 2023, 1434, 1059, 2369, 1830, 2427, 1263, 2193, 31, 3813], [1010, 1673, 3299, 3524, 2193, 1053, 2023, 127, 3982, 3823, 1172, 1660, 1586, 1975, 307, 3818, 456, 284, 2925, 334, 2683, 1810, 305, 2369, 1848, 2535, 486, 844, 1010, 1834, 1791, 2683, 1979, 2756, 2596, 2023, 2156, 232, 3154, 1082, 892, 60, 127, 3540, 3823, 1172, 1526, 841, 284, 1689, 3480, 1917, 3784, 127, 1076, 1245, 3524, 662, 2683, 127, 3569, 2986, 1995, 2369, 2546, 662, 1172, 832, 699, 0, 1586, 1975, 297, 3707, 3005, 3418, 458, 3403, 2383, 1010, 3299, 3524, 1586, 1434, 3299, 2369, 3437, 439, 1917, 483, 423, 3055, 2876, 4019, 3714, 3394, 662, 426, 0, 3394, 662, 289, 423, 3055, 1082, 2457], [1010, 1673, 1356, 1172, 762, 2429, 3823, 127, 3174, 60, 1172, 3102, 284, 2925, 662, 2413, 2193, 1172, 1526, 2192, 3293, 2369, 3779, 2535, 3571, 2682, 2193, 936, 943, 123, 4004, 2745, 2937, 2429, 3823, 127, 3779, 1873, 2683, 127, 2580, 3813, 2193, 2872, 115, 3744, 2535, 1400, 1606, 2685, 1010, 1356, 1172, 1526, 2429, 3823, 127, 3174, 2193, 2369, 3779, 2535, 1400, 1700, 2193, 947, 2156, 1751, 1434, 3688, 1617, 2752, 127, 3206, 3823, 2388, 456, 2057, 2050, 110, 3688, 3541, 2369, 1013, 60, 1215, 3243, 2923, 2612, 3243, 689, 1010, 1010, 3504, 2369, 2041, 3084, 1699, 127, 3779, 1586, 284, 2925, 3958, 863, 2369, 3072, 654, 1010, 1975, 1934, 307, 1233, 2683, 3622, 60, 127, 3867, 825, 3102, 2193, 1518, 2535, 877, 662, 529, 409, 1586, 127, 3037, 4002, 662, 529, 2789, 456, 1434, 1975, 2556, 2410, 2872, 3655, 2905, 597, 60, 2369, 224, 3823, 2231, 3569, 1434, 222, 2581, 1424, 3128, 2231, 3932, 2023, 127, 825, 3102, 3230, 127, 2033, 3321, 1082, 127, 1224, 1398, 976], [1010, 1673, 3823, 284, 2925, 2193, 127, 2447, 347, 853, 3766, 2897, 2683, 2369, 1635, 2378, 2193, 2872, 115, 3779, 2535, 1400, 1700, 3609, 662, 2284, 1010, 2544, 1614, 1995, 969, 2348, 2193, 127, 2815, 727, 2094, 1582, 2683, 1764, 2369, 2530, 1434, 222, 2031, 863, 127, 3718, 662, 2369, 1816], [2124, 2462, 3299, 3217, 2369, 814, 3744, 60, 284, 2925, 456, 547, 3963, 1082, 127, 448, 595, 3823, 127, 853, 1390, 3040, 2261, 1766, 863, 127, 1052, 299, 1586, 2128, 2261, 2679, 2958, 567, 3823, 3290, 1607, 547, 1975, 2070, 1957, 2683, 3765, 3103, 2467, 2707, 3153, 2683, 1081, 456, 547, 832, 127, 149, 403, 2193, 127, 3174, 648, 2193, 3103, 3003, 3779, 3403, 2479, 127, 2878, 1491, 269, 188, 1400, 1606, 2685, 3072, 1082, 127, 681, 3239, 2156, 2026, 456, 2769, 1771, 3908, 532, 284, 3217, 3664, 3682, 127, 2261, 2193, 127, 2294, 456, 127, 183, 2429, 60, 127, 1443, 643, 1424, 2872, 1282, 2429, 1771, 2878, 1685, 655, 3992, 1082, 127, 3940, 727, 82, 127, 1046, 2509, 1931, 3186, 2369, 422, 2321, 1082, 31, 410, 1036, 3624, 2004, 127, 2874, 60, 2057, 2050, 2856, 188, 1082, 127, 1200, 3436, 1771, 1998, 2721, 1248, 727, 3450, 2683, 2303, 284, 2369, 744, 129, 1082, 127, 2896, 1248, 1944, 2391, 127, 1171, 1979, 3867, 1076, 1010, 1673, 1356, 127, 2878, 2937, 2429, 476, 127, 1282, 2429, 1771, 3992, 2537, 1935, 2099, 2953, 2960, 127, 3813, 2193, 880, 410, 2683, 2091, 127, 1046, 3857, 2605, 2535, 2369, 3731, 1248, 3683, 1103, 388, 2925, 2589, 2683, 2369, 2767, 704, 1995, 3702, 3886, 3948, 170, 1082, 3103, 1282, 62, 548, 2156, 2413, 456, 524, 3728, 2814, 1139, 1776, 2191, 1586, 2367, 1394, 249, 2536, 2193, 127, 1526, 1991, 1944, 3823, 127, 3744, 2683, 988, 2462, 2369, 1305, 1509, 476, 2527, 1842, 3990, 3121, 1586, 2244, 1837, 1356, 2369, 2429, 1035, 2193, 127, 762, 2896, 456, 127, 2580, 2798, 127, 704, 1586, 3812, 2369, 1707, 2193, 127, 2518, 3250, 127, 3202, 3299, 2346, 2937, 817, 1955, 2193, 3103, 2156, 71, 3695, 456, 547, 414, 2683, 1193, 2250, 2193, 127, 853, 1390, 1081, 2261, 3705, 127, 3865, 547, 2321, 116, 2615, 388, 2685, 1771, 2158, 752, 2261, 2193, 127, 2518, 3250, 1718, 2510, 3403, 648, 3779, 738, 284, 3299, 2369, 3207, 3381, 60, 2353, 22, 3229, 127, 2212, 3132, 3299, 2369, 1885, 405, 128, 60, 388, 2925, 284, 2925, 417, 2059, 1785, 1330, 3513, 3222, 1914, 1442, 3992, 3097, 1519, 1010, 362, 2721, 3624, 423, 3055, 3667], [284, 2925, 3963, 1878, 2193, 127, 3193, 347, 853, 3102, 3823, 127, 12, 31, 3688, 2389, 1477, 1771, 3908, 2941, 2227, 3214, 3217, 2227, 3299, 439, 305, 456, 2369, 749, 3428, 2406, 535, 2369, 2210, 2479, 60, 2369, 2941, 1732, 127, 1955, 1771, 1010, 1673, 2193, 127, 71, 3381, 3813, 2923, 1400, 1606, 1082, 127, 2383, 1082, 681, 3239, 222, 176, 2683, 2706, 2800, 2369, 2250, 2193, 127, 3229, 1558, 127, 2471, 2193, 127, 1028, 3823, 127, 1887, 88, 1935, 1560, 4016, 35, 881, 2193, 127, 840, 2923, 127, 3193, 2383, 2325, 900, 2947, 1931, 4023, 3585, 1586, 1934, 1236, 2160, 662, 127, 3193, 1955, 2594, 3214, 2947, 533, 1934, 780, 1995, 2462, 1477, 1673, 456, 904, 3823, 1172, 3102, 2590, 3334, 1172, 3236, 1434, 3612, 127, 3908, 3359, 571, 2745, 3072, 654, 1082, 1400, 1606, 3978, 1424, 2325, 678, 284, 2509, 252, 1089, 2456, 1586, 2245, 2857, 456, 547, 2509, 3103, 2101, 2125, 662, 1812, 3106, 2462, 2720, 297, 2389, 2688, 1424, 127, 3880, 547, 3397, 433, 2780, 1669, 1586, 2304, 562, 3339, 2462, 222, 2752, 2683, 1010, 1673, 2683, 2954, 2745, 3414, 127, 1979, 3867, 222, 3818, 2193, 2745, 1526, 2429, 1586, 1356, 3103, 2937, 2193, 1347, 127, 277, 222, 847, 1586, 568, 127, 3744, 4022, 1400, 1606, 2257, 3032, 77, 493, 3344, 2166, 3400, 10, 3299, 238, 662, 1082, 284, 2325, 76, 2369, 1686, 2106, 2057, 2050, 110, 3299, 3392, 134, 238, 10, 2325, 2424, 4023, 3299, 284, 1929, 689, 2369, 3102, 3301, 3339, 127, 630, 547, 1313, 127, 2939, 3092, 127, 3507, 1896, 127, 326, 3225, 2607, 791, 2683, 3593, 127, 1851, 1878, 2193, 3403, 3300, 1586, 2947, 398, 2683, 1673, 60, 1172, 2568, 2590, 127, 4016, 3444, 95, 2503, 127, 2383, 222, 3823, 3756, 127, 1081, 2261, 3128, 3102, 3611, 2254, 2431, 1084, 3537, 388, 2685, 3873, 781, 2910, 2925, 3806, 1603, 1777, 2579, 1750, 2287, 2579, 1010, 1673, 284, 2925, 3768, 1965, 2910, 2925, 2093, 113, 2579, 66, 1451, 3885, 3058, 1548, 3885, 1776, 2191, 388, 2925, 423, 3055, 824], [1010, 1673, 3046, 284, 2925, 297, 3707, 410, 2683, 1181, 2193, 3103, 334, 2683, 557, 115, 1424, 347, 853, 1052, 3155, 2156, 1950, 142, 973, 2745, 1283, 1289, 1586, 547, 439, 1492, 1236, 2369, 1284, 2429, 3178, 127, 1293, 299, 1069, 2872, 255, 1955, 1082, 388, 2925, 31, 3314, 2193, 405, 3107, 2158, 2023, 401, 3410, 3284, 980, 2429, 284, 3301, 3943, 480, 3707, 2261, 127, 3154, 3436, 2369, 12, 2193, 1718, 3480, 1917, 222, 2575, 456, 2057, 1586, 3504, 2462, 1236, 3381, 654, 1424, 127, 2156, 3847, 976, 423, 3055, 2319, 4019, 3714, 3394, 662, 426, 0, 3394, 662, 289], [1010, 1673, 3046, 966, 1975, 1934, 307, 1312, 1069, 232, 422, 1791, 3107, 2683, 3948, 3480, 3297, 3952, 1059, 3103, 762, 1586, 1262, 1212, 565, 3823, 127, 3174, 456, 2536, 1424, 2367, 1394, 3304, 3751, 1586, 1367, 1221, 2589, 2228, 2193, 117, 2590, 284, 3397, 102, 2683, 3938, 1995, 31, 3132, 2023, 1575, 2947, 2535, 397, 1655, 3952, 127, 608, 756, 127, 1526, 2896, 1586, 83, 297, 1854, 2955, 2509, 2099, 2953, 3664, 82, 348, 1995, 14, 3561, 423, 3055, 2946, 4019, 3714, 3394, 662, 426, 0, 3394, 662, 289], [1010, 1673, 3688, 3152, 284, 2925, 2683, 307, 3747, 3823, 180, 2700, 2980, 3381, 3055, 3107, 3228, 3938, 3103, 2262, 3884, 284, 1635, 2683, 127, 3285, 844, 3496, 2683, 1675, 963, 1424, 2369, 3235, 3744, 2535, 127, 103, 3865, 3948, 3963, 2193, 347, 853, 796, 3443, 2425, 3107, 2683, 388, 2685, 2156, 2383, 3688, 1312, 3103, 3902, 1586, 1010, 741, 31, 3154, 3688, 3504, 397, 1655, 3952, 3682, 127, 3055, 975, 423, 3055, 389, 4019, 3714, 3394, 662, 426, 0, 3394, 662, 289], [1010, 1673, 1975, 2107, 284, 2346, 1791, 3779, 1995, 3845, 3337, 662, 2026, 2023, 3357, 1256, 942, 60, 2369, 12, 1995, 3426, 127, 1979, 3867, 1076, 222, 2031, 863, 1236, 476, 1320, 3823, 2284, 3840, 704, 1995, 1400, 3050, 1684, 2369, 3001, 1995, 969, 2348, 2462, 2752, 1010, 3947, 662, 127, 3718, 60, 3533, 1944, 476, 3357, 2247, 863, 1771, 827, 1108, 2590, 127, 1760, 3299, 1934, 456, 2458, 456, 1526, 1354, 423, 3055, 52, 4019, 3714, 3394, 662, 426, 0, 3394, 662, 289], [3885, 832, 3103, 762, 115, 3744, 2193, 127, 1608, 3823, 178, 2110, 844, 3554, 82, 127, 3945, 812, 1929, 2683, 216, 662, 3971, 347, 853, 1254, 2923, 3702, 2417, 3571, 2682, 1586, 284, 1771, 3159, 2683, 3103, 2261, 3018, 1082, 1193, 1521, 88, 1237, 3952, 2819, 2683, 1224, 699, 2023, 2369, 2569, 2198, 1082, 3103, 2355, 2193, 2834, 1586, 1975, 3875, 2193, 1465, 3569, 1082, 1994, 1977, 476, 127, 3445, 832, 2369, 1553, 3661, 2198, 662, 127, 88, 188, 2590, 2094, 3358, 827, 3102, 297, 2389, 2374, 1908, 2923, 1445, 588, 3484, 741, 127, 3445, 1975, 177, 1948, 927, 2023, 127, 1274, 3813, 1082, 284, 2266, 127, 3945, 812, 2683, 2668, 2369, 1707, 3823, 127, 1143, 3289, 3484, 483, 2153, 367, 177, 791, 439, 367, 9, 177, 456, 590, 2023, 396, 3230, 456, 367, 2928, 297, 1561, 3244, 3584, 1952, 396, 3610, 2369, 3643, 3823, 3569, 1977, 1082, 1994, 1586, 127, 2204, 3823, 2462, 1975, 307, 1611, 1586, 3965, 2683, 1929, 1082, 662, 3103, 2809, 396, 3610, 2832, 282, 590, 731, 31, 297, 2683, 3411, 1007, 2590, 3906, 1995, 31, 1078, 1055, 127, 2765, 1975, 307, 2491, 2800, 31, 6, 1811, 127, 654, 1082, 284, 222, 3358, 762, 2193, 127, 1608, 3823, 2369, 709, 2535, 3381, 3823, 3103, 1052, 2615, 2023, 127, 2982, 3813, 2923, 3571, 2682, 3805, 3403, 224, 31, 406, 3688, 1963, 127, 1127, 662, 2369, 2755, 2683, 2358, 1852, 1694, 3359, 3484, 2274, 854, 2928, 307, 2369, 1805, 60, 2937, 1352, 3885, 3244, 367, 654, 1082, 2649, 2462, 3999, 307, 456, 335, 456, 2707, 1082, 284, 1434, 483, 127, 976, 2535, 127, 2580, 2193, 1586, 2337, 747, 3963, 127, 706, 31, 3963, 127, 3197, 1248, 122, 2958, 1707, 2535, 2649, 3299, 2369, 1805, 3225, 127, 235, 662, 127, 2443, 284, 1586, 2682, 3397, 127, 335, 706, 1586, 3397, 212, 2832, 2818, 439, 2980, 3998, 2166, 3400, 2156, 3174, 31, 127, 3102, 1783, 728, 2193, 2406, 976, 396, 1561, 3524, 2683, 3524, 1254, 2683, 2599, 127, 1315, 3244, 367, 493, 2899, 2369, 2525, 1408, 1732, 367, 493, 2936, 115, 1082, 127, 2261, 2835, 2688, 88, 1689, 1895, 2441, 3688, 127, 1239, 3823, 3357, 1233, 2683, 1176, 1172, 3067, 1995, 2369, 2801, 188, 31, 3688, 1663, 1995, 127, 408, 3823, 127, 2507, 853, 3403, 3174, 2786, 88, 297, 3532, 1007, 2683, 307, 2702, 662, 3103, 1282, 3402, 2923, 3587, 931, 88, 1059, 2369, 2388, 3249, 3107, 2535, 762, 1521, 2910, 662, 3066, 1889, 2094, 762, 1352, 2962, 1688, 1082, 2358, 1852, 1694, 2156, 224, 2649, 439, 1995, 127, 188, 1340, 3610, 3963, 2449, 282, 1457, 1586, 635, 3707, 1717, 10, 2428, 547, 3622, 2193, 3863, 3484, 547, 1441, 2683, 297, 60, 3400, 928, 282, 791, 3445, 2257, 493, 1981, 2193, 127, 3102, 3978, 942, 1586, 1981, 3524, 2193, 3301, 1586, 547, 2070, 1441, 2683, 1456, 142, 2193, 3682, 740, 2869, 3102, 899, 3714, 844, 1241, 307, 282, 3235, 2683, 302, 3144, 1380, 729, 1424, 2962, 3654, 2800, 2841, 662, 3103, 1282, 2986, 636, 1340, 3541, 1082, 1791, 31, 1340, 2389, 3791, 942, 2325, 663, 2683, 3007, 2800, 942, 2052, 2369, 3904, 3823, 2230, 1082, 1400, 1606, 456, 2962, 571, 4003, 1380, 367, 493, 2424, 963, 689, 31, 844, 423, 3055, 2645], [1097, 141, 2388, 2060, 2193, 2649, 2096, 422, 654, 2923, 388, 2685, 662, 2413, 222, 2193, 3389, 2872, 107, 1959, 3823, 1172, 3174, 2872, 18, 2318, 3412, 1747, 127, 497, 295, 1075, 222, 3436, 1771, 313, 2176, 1417, 1853, 2556, 2023, 1434, 1732, 1738, 3070, 849, 305, 2193, 1888, 880, 410, 456, 2649, 973, 942, 3103, 1377, 1304, 1586, 3980, 2915, 2590, 3269, 1934, 133, 3022, 2683, 2369, 3174, 2193, 3231, 31, 898, 3299, 1065, 2257, 297, 2496, 127, 3300, 1271, 2208, 2718, 2070, 3688, 2176, 2683, 2424, 2547, 127, 2767, 3237, 2140, 2038, 2795, 60, 458, 3403, 3299, 3656, 662, 127, 2940, 3762, 2590, 533, 3656, 662, 1635, 200, 1895, 2441, 2070, 3209, 942, 800, 1586, 82, 1434, 493, 690, 3770, 127, 1420, 3359, 1494, 297, 3610, 2462, 2281, 2193, 3477, 493, 1543, 800, 547, 1929, 2683, 3592, 3055, 942, 3823, 127, 1862, 2172, 3174, 60, 2718, 3762, 1434, 493, 2519, 2229, 1172, 635, 333, 2922, 2193, 127, 2649, 3102, 2369, 1100, 1723, 2193, 127, 2735, 3823, 127, 1958, 1453, 3174, 31, 1620, 942, 2832, 3823, 1172, 1506, 2470, 2023, 2369, 817, 3893, 88, 3397, 2193, 3433, 3823, 2369, 2957, 574, 1424, 2872, 2612, 3194, 398, 1172, 904, 2360, 2193, 1172, 494, 115, 1082, 3885, 2124, 2181, 3416, 2023, 127, 772, 3289, 1172, 3974, 1586, 1419, 2176, 257, 3161, 127, 2550, 644, 31, 2928, 1800, 2308, 1172, 3102, 2683, 2369, 3249, 654, 127, 2172, 2525, 931, 973, 3729, 3055, 2964, 1507, 3823, 3403, 1172, 2874, 3808, 3397, 574, 3444, 2737, 1935, 1467, 301, 2276, 143, 1082, 127, 410, 141, 2601, 2193, 127, 2982, 654, 2923, 2361, 257, 3592, 88, 2507, 853, 4005, 863, 2683, 2369, 2550, 2192, 1732, 2369, 3582, 1586, 766, 668, 2429, 1081, 535, 3450, 2535, 3845, 3337, 2688, 3291, 127, 966, 691, 1771, 3103, 1219, 853, 654, 2369, 372, 212, 2193, 127, 3895, 3072, 3107, 3823, 388, 2925, 3548, 127, 2912, 1095, 3823, 2872, 319, 1586, 2633, 3578, 2947, 2644, 2683, 2354, 1831, 315, 3381, 1612, 1586, 1020, 2094, 1233, 2683, 3528, 2683, 3055, 2806, 620, 1771, 104, 2052, 3397, 2230, 1148, 444, 3337, 1586, 2925, 976, 3702, 288, 2265, 3407, 3123, 222, 3975, 2386, 1771, 2441, 60, 1934, 1801, 2193, 2656, 127, 1015, 3299, 2369, 1862, 31, 367, 3436, 2369, 287, 410, 2441, 483, 2023, 127, 3337, 654, 250, 800, 1434, 3299, 2369, 1862, 2257, 493, 3622, 1995, 1467, 111, 3707, 25, 3707, 3249, 1768, 1305, 3682, 743, 1141, 127, 2378, 2718, 1059, 2535, 2920, 2925, 1364, 458, 942, 2270, 1702, 2566, 2763, 1172, 2444, 1771, 127, 410, 1434, 2661, 1065, 689, 111, 1191, 3618, 1586, 3800, 210, 3397, 2193, 924, 2871, 3221, 3403, 35, 88, 443, 3622, 2462, 222, 2748, 60, 127, 1979, 2756, 3687, 2683, 988, 2872, 3084, 82, 1434, 222, 1906, 2567, 2683, 2424, 3339, 17, 2441, 2913, 278, 2193, 1172, 51, 2683, 152, 458, 662, 2369, 3469, 2318, 2138, 31, 1858, 3688, 125, 1873, 2683, 3587, 708, 2315, 223, 1586, 2559, 3842, 2441, 83, 297, 3610, 2369, 2472, 3055, 942, 3823, 2718, 1771, 399, 1172, 3369, 2683, 127, 3102, 1995, 2568, 3823, 458, 456, 127, 1933, 3039, 2683, 2134, 1450, 1586, 966, 1434, 3710, 2193, 1172, 3732, 2012, 2535, 2361, 3688, 2389, 636, 735, 237, 2193, 556, 3808, 2535, 105, 2193, 1255, 1586, 2910, 2925, 2193, 127, 2185, 3305, 2874, 2369, 2562, 2429, 2193, 127, 3878, 2590, 3055, 2841, 115, 2535, 2448, 1586, 2667, 925, 127, 2167, 514, 127, 3749, 2858, 2683, 1736, 1009, 662, 1976, 3740, 127, 80, 1413, 1503, 1120, 3504, 242, 2590, 141, 1981, 575, 2193, 127, 3331, 2659, 2535, 925, 3532, 3359, 1172, 1413, 2267, 3157, 297, 2389, 326, 2644, 2535, 127, 2408, 718, 1082, 3846, 2472, 643, 863, 60, 458, 2270, 1172, 274, 2429, 2193, 127, 3107, 2590, 1434, 2509, 2737, 2800, 1948, 3055, 2683, 900, 2503, 1995, 31, 483, 2193, 2471, 2397, 127, 1862, 3762, 3688, 1210, 127, 2930, 31, 2766, 444, 791, 2912, 1095, 2156, 1296, 2718, 571, 1934, 2642, 662, 1172, 3587, 417, 3832, 2535, 1480, 2369, 2674, 2253, 1092, 3300, 2683, 3983, 1428, 2823, 1172, 3357, 1135, 1771, 127, 3279, 3055, 3685, 3800, 210, 60, 127, 388, 2685, 3744, 222, 3707, 909, 1291, 1995, 1172, 1891, 1500, 2176, 60, 127, 1851, 3593, 3178, 2718, 3688, 3736, 2683, 2202, 1082, 2649, 1586, 2193, 1080, 444, 2337, 458, 297, 2384, 3745, 2683, 2369, 2190, 873, 338, 481, 1469, 2391, 2172, 3174, 2718, 1586, 2441, 411, 2176, 662, 57, 127, 3637, 221, 31, 737, 1172, 690, 2176, 662, 127, 3718, 307, 2462, 2193, 2419, 2369, 3055, 3975, 3408, 2012, 134, 326, 1967, 458, 2683, 3020, 1065, 2532, 1434, 3299, 2567, 2683, 3592, 829, 2683, 31, 3257, 1586, 2718, 1975, 307, 1233, 2683, 1246, 1434, 222, 1934, 1236, 2369, 1239, 303, 2590, 3381, 3303, 2683, 127, 831, 3823, 3403, 1070, 2649, 3102], [2872, 2378, 2683, 1172, 3866, 2193, 1411, 3072, 3813, 2923, 388, 2925, 1256, 2718, 942, 60, 127, 3895, 1248, 1269, 2786, 1172, 1486, 2192, 222, 477, 474, 1586, 2193, 1172, 2250, 3800, 210, 2513, 1172, 595, 1586, 1191, 3618, 2913, 1172, 420, 82, 1434, 571, 3978, 3524, 1434, 2572, 1172, 364, 1082, 2369, 417, 1531, 2034, 3292, 2590, 60, 1204, 2193, 1718, 1434, 222, 3422, 2193, 2683, 2303, 210, 2369, 1948, 356, 2204, 1895, 2441, 3877, 2683, 3150, 1995, 127, 1486, 3441, 2425, 1893, 2273, 3688, 3384, 2718, 2369, 3014, 1111, 736, 3823, 2342, 0, 1148, 1718, 1376, 1356, 2180, 2193, 456, 464, 976, 0, 3225, 3235, 2683, 1929, 3524, 662, 3403, 3174, 456, 854, 2590, 2369, 3448, 2841, 3536, 127, 1347, 31, 1434, 1373, 3403, 2791, 2193, 2872, 1511, 1995, 1606, 0, 1710, 3403, 3174, 2325, 900, 624, 2389, 2369, 2472, 3643, 102, 2325, 564, 2947, 3610, 978, 1586, 1732, 3245, 1709, 3870, 2369, 287, 410, 3803, 2070, 3245, 3524, 2683, 1570, 524, 1918, 2590, 3803, 282, 3391, 2980, 2325, 3929, 3403, 1751, 2193, 2649, 127, 2140, 2038, 2718, 3841, 2193, 1172, 3893, 2063, 2683, 2649, 1424, 566, 2062, 1567, 2683, 456, 1948, 456, 2565, 3237, 1211, 458, 127, 2937, 4016, 3636, 2140, 2193, 127, 2263, 1930, 2023, 210, 1586, 3814, 3246, 929, 3397, 1350, 2683, 1926, 282, 1710, 1082, 2916, 2425, 2718, 2070, 3688, 657, 3823, 410, 2683, 988, 1172, 48, 1082, 2649, 127, 2263, 2824, 60, 127, 889, 2638, 3823, 2172, 3424, 3512, 853, 1975, 1712, 3672, 2369, 3055, 1096, 1923, 188, 963, 31, 2718, 1975, 1653, 697, 1424, 127, 3512, 853, 3299, 8, 2986, 60, 2718, 1148, 1172, 410, 1995, 2062, 1434, 3504, 910, 2835, 2105, 2193, 3417, 347, 3687, 1851, 2428, 2874, 1081, 2536, 1586, 2726, 480, 1081, 3256, 1376, 3835, 2947, 1471, 3823, 127, 1798, 1586, 3832, 2649, 297, 2955, 3823, 2800, 3225, 1934, 2872, 2442, 2428, 1586, 367, 297, 2683, 1929, 3732, 367, 297, 2683, 2176, 282, 755, 1434, 483, 2052, 3963, 464, 791, 2580, 2832, 3823, 127, 690, 2193, 127, 157, 367, 297, 2683, 307, 282, 1568, 1586, 307, 282, 2617, 60, 127, 3512, 853, 2172, 3174, 2649, 1975, 533, 307, 442, 1995, 2369, 1149, 2262, 2775, 2172, 3174, 456, 547, 2290, 2683, 216, 662, 127, 3854, 587, 3823, 127, 1882, 3174, 2094, 2462, 3925, 3797, 456, 3244, 210, 134, 3618, 3963, 238, 3327, 3225, 2442, 2683, 2584, 2718, 3245, 3055, 1944, 456, 2441, 51, 2683, 349, 456, 464, 2959, 2193, 127, 243, 456, 266], [2649, 3038, 439, 297, 2369, 744, 2321, 2923, 3598, 1082, 974, 2810, 456, 1320, 1133, 3677, 2631, 3301, 398, 2369, 932, 2012, 2193, 127, 917, 3823, 127, 2429, 3403, 410, 1434, 2016, 2369, 1993, 1747, 2683, 1097, 2718, 2257, 549, 302, 1840, 2683, 127, 1637, 3403, 3299, 238, 2369, 3869, 3055, 1964, 2662, 3344, 678, 2462, 2928, 297], [1097, 2718, 643, 2391, 3403, 3744, 1995, 127, 2799, 1375, 3823, 2329, 1191, 1893, 3851, 3618, 3299, 942, 60, 127, 2204, 3823, 127, 3174, 2023, 1434, 222, 489, 1995, 2369, 1240, 2405, 60, 2697, 861, 1737, 480, 2270, 3403, 1707, 2718, 3688, 1081, 2536, 662, 127, 1751, 2590, 1172, 3084, 3688, 1909, 2389, 456, 2369, 581, 2451, 3339, 82, 1434, 3610, 127, 3794, 2683, 2192, 2462, 222, 480, 2683, 458, 2683, 550, 1172, 2057, 1895, 2441, 2023, 1080, 1586, 88, 2537, 1467, 111, 568, 2649, 480, 3249, 2718, 571, 1236, 31, 1586, 1356, 2683, 2303, 1172, 3102, 2369, 1067, 1890, 3174, 1975, 307, 11, 1526, 2193, 127, 3512, 853, 3293, 1729, 1586, 2094, 2718, 564, 2369, 3869, 3823, 976, 2193, 127, 2507, 853, 2718, 1975, 307, 1207, 2683, 1773, 31, 1434, 1415, 2193, 127, 3512, 853, 456, 2947, 1350, 2683, 1926, 3403, 2429, 560, 458, 2193, 2354, 791, 1299, 11, 1742, 456, 2369, 2262, 3886, 3688, 2389, 3381, 3823, 127, 3415, 952, 3403, 3174, 0, 2384, 1934, 456, 335, 456, 2910, 0, 1586, 3103, 2875, 462, 3688, 2389, 2369, 335, 904, 3823, 2462, 3244, 2649, 349, 3103, 3312, 3445, 1424, 3403, 1751, 1586, 3963, 1233, 2683, 1421, 1747, 127, 2140, 2586, 198, 307, 2369, 3102, 2683, 85, 942, 60, 2172, 1751], [1224, 0, 2649, 3732, 1097, 2718, 3688, 3707, 1760, 3876, 226, 1081, 2683, 71, 535, 1586, 3784, 1434, 290, 127, 363, 2447, 3241, 2718, 3514, 1172, 1662, 2935, 2891, 2193, 2825, 476, 432, 88, 1424, 566, 2062, 2193, 127, 3934, 2590, 1434, 855, 127, 2863, 347, 853, 1586, 1814, 3093, 3889, 2683, 127, 3253, 254, 1079, 383, 2263, 297, 1248, 931, 863, 1424, 1665, 2270, 127, 3938, 3823, 3473, 2094, 127, 1912, 3241, 3299, 127, 3180, 410, 3823, 1751, 60, 2447, 2263, 3315, 3876, 1081, 976, 2193, 1248, 535, 2832, 347, 853, 3445, 83, 2741, 307, 1278, 2369, 2472, 2330, 1082, 3403, 410, 3823, 1751, 2590, 1934, 3339, 60, 2718, 2257, 3299, 2193, 3707, 641, 456, 2683, 1172, 1013, 2325, 2465, 282, 3391, 127, 3732, 3612, 86, 2193, 2825, 367, 297, 752, 931, 3790, 1586, 1732, 367, 297, 2687, 3301, 1586, 2619, 3381, 224, 82, 367, 9, 3622, 3225, 282, 3056, 60, 3400, 60, 3400, 439, 3225, 282, 791, 2980, 226, 1081, 2683, 71, 535, 367, 297, 2369, 3744, 2325, 3423, 2683, 3622, 749, 3225, 906, 1526, 410, 2360, 2590, 3225, 3014, 2683, 307, 2360, 0, 2683, 3622, 15, 535, 3225, 282, 3014, 1434, 3612, 86, 2425, 88, 3241, 3688, 2389, 1963, 1771, 3625, 3249, 2185, 3305, 3107, 2683, 3845, 3337, 1586, 3269, 127, 1958, 1453, 1975, 307, 326, 863, 1140, 662, 1255, 1586, 3103, 347, 853, 2262, 1798, 2718, 2786, 3784, 127, 88, 188, 3397, 2752, 865, 1771, 3103, 3060, 1430, 2590, 1990, 127, 3371, 3299, 439, 662, 3103, 752, 1547, 740, 3225, 439, 2614, 367, 297, 2683, 1318, 662, 127, 2507, 853, 367, 1843, 3622, 226, 3744, 134, 226, 1180, 689, 127, 2185, 3305, 127, 2507, 853, 1586, 347, 853, 439, 367, 493, 1318, 662, 127, 2507, 853, 1586, 347, 853, 2980, 367, 1952, 2325, 2465, 865, 367, 3963, 865, 2590, 3403, 3299, 749, 367, 297, 2683, 1063, 2786, 127, 1979, 2756, 3687, 1018, 31, 88, 1430, 3157, 2308, 127, 188, 2193, 127, 287, 3153, 82, 558, 3244, 2357, 976, 3228, 1246, 2461, 2683, 88, 1434, 822, 1220, 2325, 900, 3339, 2980, 3225, 439, 238, 339, 127, 3938, 3823, 127, 3174, 1586, 3682, 127, 3445, 3157, 307, 590, 439, 3225, 282, 3444, 0, 367, 297, 752, 1607, 2683, 3622, 367, 3963, 1934, 3391, 2980, 367, 3963, 942, 3823, 127, 2185, 3305, 367, 297, 2683, 1063, 31, 367, 493, 439, 1318, 662, 127, 347, 853, 1586, 2507, 853, 88, 2307, 1853, 1586, 2509, 127, 326, 364, 2535, 127, 680, 2590, 3397, 1904, 1771, 1701, 3679, 3669, 1148, 1526, 2896, 880, 410, 1191, 3618, 1467, 111, 3778, 3781, 1586, 3677, 2631, 3682, 1783, 2599, 2683, 2006, 2872, 2464, 1718, 2928, 297, 3248, 2369, 912, 1082, 719, 3239, 2714, 3055, 3325, 3568, 60, 88, 1586, 127, 191, 2786, 741, 127, 188, 2928, 297, 1663, 1995, 2872, 1846, 3779, 3159, 3244, 367, 1356, 2193, 127, 2156, 727, 3225, 2369, 912, 2590, 2325, 900, 367, 297, 127, 3907, 60, 2185, 3305, 367, 2928, 1683, 307, 590, 2590, 2594, 1934, 88, 297, 2472, 410, 2683, 1545, 662, 127, 3107, 1995, 2448, 127, 1046, 2683, 2358, 1852, 1694, 662, 1562, 60, 127, 2507, 853, 1866, 762, 2659, 127, 1526, 2659, 2193, 3025, 2614, 1305, 3324, 88, 2919, 2683, 277, 127, 2235, 1082, 1791, 2590, 2718, 741, 547, 1975, 297, 2683, 307, 1082, 3103, 690, 2683, 302, 127, 1529, 2257, 3963, 46, 2937, 2193, 127, 325, 2369, 3803, 282, 3844, 2590, 367, 297, 2683, 654, 3403, 3744, 367, 297, 71, 535, 2270, 367, 3622, 0, 367, 493, 89, 1586, 2200, 367, 297, 2683, 307, 1683, 1153, 1586, 367, 297, 2683, 654, 3403, 3744, 3397, 2617, 2325, 1380, 367, 654, 2535, 2448, 547, 3963, 2369, 282, 791, 3102, 1586, 367, 3433, 2683, 307, 282, 1153, 2718, 222, 2933, 997, 1771, 1753, 2535, 3337, 2590, 127, 2940, 3784, 88, 1695, 297, 2070, 1934, 1291, 127, 690, 3823, 458, 2325, 3978, 2369, 2472, 3643, 2023, 2378, 439, 2325, 177, 326, 2662, 476, 2325, 4023, 2325, 493, 3622, 1948, 326, 2325, 493, 3024, 3055, 533, 2325, 297, 2683, 1957, 1995, 127, 3102, 2325, 1975, 2424, 660, 60, 127, 3102, 4011, 2462], [2718, 1097, 3784, 1434, 3299, 260, 2683, 307, 1919, 1771, 2649, 2683, 1921, 1172, 1265, 3823, 688, 1979, 2756, 1082, 127, 1398, 976, 3403, 1751, 2158, 1081, 3445, 2923, 127, 3198, 3823, 2565, 493, 307, 1477, 1771, 2365, 60, 127, 98, 1586, 1995, 2718, 3267, 3439, 2193, 632, 2756, 3433, 88, 2437, 2683, 500, 458, 2683, 3622, 2193, 539, 3990, 850, 1635, 200, 441, 3743, 1787, 2193, 936, 31, 2718, 2509, 1934, 2389, 1477, 60, 127, 825, 3102, 1148, 127, 3687, 2058, 456, 3551, 60, 1314, 458, 2683, 1755, 2193, 1532, 2786, 1314, 2718, 2683, 3622, 2928, 3108, 1172, 1428, 60, 127, 2192, 3823, 127, 2172, 347, 853, 3174, 2590, 127, 1887, 566, 2062, 3732, 3299, 1149, 3823, 688, 1172, 3807, 3397, 2070, 260, 60, 127, 128, 3339, 2325, 1843, 1926, 854, 1434, 3299, 1807, 456, 1203, 1771, 2591, 2594, 1934, 3622, 3225, 2369, 282, 3014, 1180, 1586, 2428, 1586, 226, 1862, 783, 2683, 1981, 2683, 3622, 2052, 624, 398, 2193, 127, 157, 3305, 1586, 2364, 3305, 1586, 2325, 76, 398, 2193, 127, 98, 2947, 3593, 10, 156], [2649, 3038, 292, 480, 3316, 1979, 3867, 3687, 1097, 2718, 2193, 127, 3934, 1424, 383, 3229, 566, 2062, 127, 1862, 593, 1455, 2683, 127, 3282, 2369, 3045, 2149, 2193, 127, 1734, 3823, 2767, 3237, 1586, 2898, 1995, 657, 3823, 1462, 2786, 1069, 212, 3197, 1504, 3823, 1172, 2548, 3907, 2718, 3688, 3101, 2572, 3762, 662, 127, 3206, 3403, 3174, 1586, 3688, 533, 2509, 2683, 1234, 1995, 2378, 1082, 410, 439, 1434, 3688, 2509, 2369, 2516, 1384, 1424, 1172, 3687, 1689, 31, 1434, 1985, 2683, 307, 2369, 507, 2683, 3622, 60, 1172, 3799, 2683, 127, 2756, 2230, 1349, 441, 3743, 2509, 3403, 2683, 1926, 2503, 127, 1979, 2756, 2537, 0, 1586, 1065, 2257, 3397, 1934, 507, 3795, 312, 2325, 2465, 908, 800, 547, 1975, 3119, 942, 2193, 2068, 3403, 3934, 2325, 297, 2832, 929, 31, 444, 3445, 2257, 3963, 1934, 3876, 1433, 3157, 297, 3055, 3822, 2193, 288, 2580, 2462, 3299, 282, 3444, 60, 2800, 2683, 3622, 1433, 2325, 900, 2970, 480, 3445, 2257, 297, 1934, 398, 456, 507, 2724, 60, 2503, 1248, 3330, 2683, 127, 157, 3305, 188, 3999, 307, 609, 2718, 2903, 3688, 2832, 3433, 2683, 307, 3764, 1434, 3688, 398, 1236, 3165, 1944, 2193, 127, 347, 853, 3403, 3174, 1789, 2683, 1172, 1630, 1082, 88, 31, 352, 1934, 423, 2947, 3800, 210, 3688, 398, 3619, 1944, 1703, 3677, 2631, 1586, 1191, 3618, 297, 398, 466, 1586, 1978, 2411, 127, 3867, 1985, 2683, 3161, 3762, 456, 3055, 3823, 2369, 507, 3093, 1082, 2649, 3244, 1434, 3299, 2683, 3076, 3762, 2369, 2250, 2193, 127, 825, 3102, 2193, 127, 3363, 2683, 3978, 3244, 1934, 2462, 1050, 3743, 2928, 689, 458, 2683, 153, 2369, 2649, 1430], [439, 31, 127, 704, 60, 127, 870, 1757, 157, 3305, 3090, 1898, 3275, 3299, 942, 2462, 3299, 410, 2683, 1690, 2369, 829, 1929, 2391, 1718, 3823, 127, 2715, 3731, 3445, 1975, 307, 480, 2535, 3381, 487, 456, 127, 976, 3622, 942, 2052, 1975, 307, 2832, 742, 2252, 2923, 127, 1386, 3330, 456, 127, 690, 2580, 662, 127, 3848, 308, 2462, 942, 2923, 127, 3756, 3823, 3249, 976, 2158, 71, 2364, 2365, 1975, 307, 579, 157, 3305, 866, 1995, 487, 752, 682, 3055, 2501, 60, 2369, 49, 2683, 988, 2462, 2683, 1572, 870, 127, 1269, 3976, 2193, 13, 1586, 1975, 1512, 2193, 1702, 1870, 2369, 1234, 3403, 3228, 307, 2067, 127, 3242, 848, 515, 1586, 3447, 918, 3950, 3173, 3688, 3929, 3876, 2535, 127, 56, 1855, 3069, 3293, 31, 995, 511, 2193, 529, 2850, 82, 1434, 643, 863, 127, 3206, 2193, 3258, 1995, 127, 3226, 2794, 3249, 127, 2204, 1586, 1172, 752, 2536, 2193, 127, 2156, 1248, 1944, 3299, 1930, 127, 1887, 486, 2920, 3688, 78, 3005, 2193, 127, 915, 1995, 1172, 1806, 2129, 2590, 2839, 3688, 2389, 600, 3762, 2193, 127, 347, 853, 1995, 2579, 2923, 127, 3363, 2590, 1172, 494, 2193, 127, 2447, 3744, 222, 2369, 1885, 3381, 2839, 222, 1082, 127, 3524, 82, 3948, 3230, 724, 1434, 3688, 3505, 2947, 2683, 127, 1503, 408, 3823, 127, 347, 853, 2683, 1682, 2369, 3093, 2193, 127, 1544, 453, 2839, 1975, 307, 2037, 127, 49, 2683, 832, 3447, 3993, 2672, 127, 752, 3008, 3963, 2114, 2683, 3289, 127, 2156, 410, 31, 3173, 3684, 127, 3678, 2535, 127, 56, 1855, 1434, 1975, 1258, 2683, 527, 863, 2193, 2369, 2508, 3823, 2009, 3447, 3731, 3950, 1975, 1258, 2683, 3771, 458, 3173, 4007, 127, 1757, 1862, 31, 891, 1695, 2632, 127, 937, 2824, 4005, 1975, 307, 2369, 2696, 3381, 60, 127, 3138, 196, 970, 222, 2369, 2196, 1862, 1082, 127, 1794, 1757, 2364, 3305, 1586, 3688, 2389, 3381, 3823, 127, 4016, 1070, 31, 127, 3848, 3688, 1121, 2193, 2369, 287, 410, 1027, 134, 3530, 1434, 3299, 1934, 2503, 2683, 307, 1469, 2683, 127, 335, 640, 3823, 1255, 2590, 1695, 2337, 3458, 1975, 3592, 487, 49, 2683, 3593, 1172, 596, 127, 1362, 981, 2920, 428, 127, 2612, 2651, 60, 127, 3138, 1232, 2337, 3705, 127, 2580, 975, 1139, 2400, 2455, 2683, 1485, 1057, 1586, 1975, 307, 2369, 2423, 60, 127, 2492, 3139, 1075, 1586, 2875, 3418, 1088, 127, 3727, 1002, 3299, 341, 2391, 2369, 2806, 1076, 1172, 1955, 2535, 3041, 2193, 936, 2193, 127, 2790, 704, 2683, 1880, 3731, 595, 2193, 127, 762, 3275, 889, 222, 3731, 2742, 1088, 1949, 2193, 3972, 3823, 127, 453, 1586, 471, 305, 3187, 2171, 2683, 2308, 1172, 3102, 90, 1853, 2193, 127, 1127, 1051, 127, 2940, 3228, 307, 2503, 2683, 832, 1172, 3006, 3739, 2193, 127, 1911, 3823, 127, 934, 41, 457, 2616, 493, 2686, 1172, 1550, 60, 1172, 3807, 1732, 1979, 2756, 1975, 307, 467, 3823, 2369, 1058, 373, 240, 662, 127, 3546, 2638, 127, 88, 1420, 3299, 3401, 2683, 3837, 1172, 3128, 2387, 1995, 1172, 3807, 2590, 3299, 192, 1934, 1925, 115, 1434, 3688, 533, 3401, 2683, 2424, 127, 2625, 60, 2649, 3038, 3293, 1172, 810, 2063, 2156, 3934, 1424, 566, 2062, 2590, 2052, 3299, 3381, 697, 1424, 1172, 2087, 2683, 1682, 2369, 507, 2993, 456, 1172, 1316, 1972, 1975, 307, 1788, 1586, 2617, 2683, 3153, 1082, 127, 24, 3524, 71, 2368, 2864, 3299, 3456, 456, 3381, 3823, 2460, 690, 3259, 1774, 2594, 3598, 3504, 2369, 334, 343, 1771, 2364, 3512, 2002, 3308, 2156, 3934, 127, 2146, 3264, 493, 3622, 1082, 3604, 134, 2193, 127, 3112, 2590, 2532, 1434, 3299, 3607, 297, 1172, 3441, 3128, 1995, 127, 1979, 3867, 2474, 3244, 2709, 1586, 2368, 493, 3771, 2718, 1732, 3102, 2379, 1975, 961, 3103, 364, 3823, 2189, 3103, 3055, 215, 118, 2910, 2925, 654, 127, 347, 853, 127, 1267, 3823, 1161, 2683, 2879, 2193, 13, 1975, 307, 2872, 3729, 3415, 268, 761, 2683, 127, 3052, 3823, 2440, 2653, 127, 891, 1935, 3688, 2389, 2369, 3022, 904, 2193, 127, 587, 3823, 127, 1189, 1565, 1586, 3299, 1344, 2683, 3592, 2369, 2488, 924, 2193, 127, 2925, 3823, 2703, 1995, 670, 2536, 2193, 1570, 2105, 2653, 3688, 2872, 2968, 2874, 3459, 1586, 3729, 433, 1172, 1759, 2364, 722, 1975, 307, 127, 2920, 2683, 85, 60, 2392, 1903, 3082, 1975, 297, 1172, 2176, 477, 942, 2067, 127, 1355, 127, 3264, 3688, 2389, 3381, 3823, 127, 1155, 2635, 2193, 127, 1734, 60, 3363, 3729, 3244, 1172, 1265, 3823, 3876, 2193, 127, 335, 640, 3823, 1255, 3688, 3401, 2683, 3978, 2186, 127, 2172, 690, 95, 3157, 307, 3059, 3762, 2535, 127, 1935, 1424, 127, 2447, 3512, 2193, 2369, 3022, 157, 3305, 3580, 2193, 2879, 3823, 3756, 3082, 1586, 2392, 1975, 533, 307, 3338, 551, 2193, 1702, 1586, 947, 82, 547, 322, 3103, 820, 2061, 3305, 2812, 1362, 2476, 222, 127, 2680, 2364, 1862, 3823, 127, 1751, 2590, 3688, 1934, 2389, 2369, 1755, 3823, 127, 3817, 1754, 749, 3102, 728, 3219, 1603, 2249, 2590, 2462, 2928, 307, 1222, 2683, 1926, 127, 3846, 3244, 1434, 222, 171, 60, 127, 3260, 2535, 166, 127, 3817, 1935, 222, 1886, 60, 1248, 976, 60, 296, 1082, 127, 1815, 1685, 456, 1362, 2089, 1952, 127, 2680, 2364, 3512, 853, 3090, 2683, 710, 1382, 2561, 3359, 2351, 222, 2369, 1215, 1587, 2369, 2777, 2928, 2363, 2369, 434, 2840, 2683, 127, 3202, 2590, 3729, 3244, 1362, 2476, 352, 1934, 3592, 2369, 501, 2052, 1975, 2070, 307, 657, 60, 1859, 1586, 1172, 3702, 3226, 2683, 268, 1995, 3761, 1362, 1619, 3299, 127, 3731, 429, 662, 127, 3169, 2683, 1572, 3339, 1925, 1995, 108, 2536, 2193, 127, 762, 3275, 1887, 916, 1685, 2351, 3390, 439, 2369, 3263, 3823, 2776, 3173, 1082, 24, 1851, 2764, 2218, 3299, 1344, 2683, 297, 1172, 3441, 3128, 1434, 3299, 2114, 2683, 307, 3542, 1082, 127, 3524, 1771, 3597, 3717, 2257, 1431, 2369, 3464, 1075, 1082, 2156, 3363, 2364, 3305, 1995, 2158, 3381, 2429, 1018, 2193, 127, 3044, 2907], [2649, 3498, 127, 49, 2683, 1647, 1705, 480, 762, 2250, 2023, 547, 1460, 2683, 2369, 405, 3107, 2683, 2579, 1082, 2358, 1852, 1694, 3403, 511, 1895, 2354, 3229, 564, 1618, 2193, 1216, 1711, 1586, 1783, 2193, 3972, 476, 127, 3744, 222, 744, 1944, 3993, 1654, 3823, 1097, 141, 1193, 2429, 3823, 127, 3174, 127, 1979, 3867, 3943, 480, 127, 3370, 1424, 2801, 1586, 2024, 2977, 1995, 3800, 210, 476, 3166, 350, 3850, 1586, 1920, 1791, 2391, 2872, 2452, 3362, 127, 1046, 2162, 1839, 3103, 3300, 3524, 2391, 127, 3744, 1586, 2094, 88, 3929, 949, 2193, 1853, 127, 1544, 3397, 2369, 2018, 2700, 662, 127, 2623, 2760, 1586, 802, 897, 662, 127, 2896, 772, 2543, 287, 942, 965, 1478, 759, 1586, 2000, 2369, 3370, 1600, 127, 832, 3823, 2429, 1718, 2093, 113, 1008, 1082, 127, 1808, 862, 591, 2142, 222, 3879, 2683, 3771, 127, 950, 3955, 3151, 1069, 3245, 2369, 2041, 201, 2683, 127, 3370, 2736, 127, 1903, 3228, 3797, 3918, 2590, 2369, 1862, 3823, 1172, 3928, 2113, 297, 3338, 127, 2075, 3247, 111, 3498, 2369, 847, 49, 662, 127, 1825, 3823, 2896, 410, 82, 1434, 2306, 2683, 1739, 1424, 2369, 3215, 2301, 3223, 2662, 281, 2683, 3800, 210, 1586, 127, 752, 443, 1783, 2193, 897, 88, 3397, 3504, 2683, 1727, 127, 3498, 3832, 82, 113, 2024, 2977, 1995, 3071, 287, 1586, 594, 2369, 2577, 3151, 2193, 127, 1352, 1573, 662, 178, 59, 731, 3397, 1758, 662, 1494, 443, 1148, 127, 2131, 2907, 1995, 127, 21, 320, 3975, 3876, 2369, 904, 1586, 88, 3397, 3879, 2683, 2686, 2872, 2464, 1718, 2510, 127, 308, 60, 762, 2250, 1975, 1981, 2683, 127, 2156, 2483, 874, 2293, 3229, 1103, 493, 1937, 2683, 1265, 3823, 2369, 2507, 853, 2250, 2023, 3581, 1400, 1606, 2391, 1539, 2250], [2649, 3038, 297, 3381, 3779, 2752, 3403, 3174, 1995, 127, 1375, 3823, 1790, 762, 2250, 2193, 127, 347, 853, 2070, 1082, 201, 3401, 2023, 127, 3023, 3823, 1030, 942, 662, 127, 2262, 127, 1758, 2374, 2892, 1906, 1728, 127, 1896, 3823, 3403, 3102, 1586, 10, 2462, 3228, 3837, 1995, 1635, 200, 1895, 2441, 3299, 1946, 3427, 3340, 1586, 1995, 2462, 3204, 2923, 2257, 1975, 307, 2232, 2014, 3103, 2140, 2178, 3403, 2994, 2023, 11, 405, 3154, 1995, 2579, 2441, 3261, 3117, 942, 31, 1616, 1172, 3102, 3299, 1934, 1236, 2503, 288, 3265, 2325, 297, 2369, 282, 944, 536, 127, 3701, 367, 3433, 2683, 3949, 1586, 800, 127, 2167, 483, 3925, 3672, 31, 367, 3433, 2683, 2363, 3445, 2510, 31, 367, 3433, 2683, 3949, 127, 2625, 3445, 31, 367, 297, 3433, 2683, 2063, 662, 1586, 3949, 2832, 3445, 2193, 743, 3462, 530, 1586, 743, 849, 2590, 127, 4016, 3444, 95, 3299, 367, 4023, 800, 2094, 1376, 2374, 75, 2683, 983, 127, 454, 3823, 444, 1931, 1082, 127, 1851, 1012, 2193, 288, 3445, 3299, 456, 1948, 2369, 904, 3823, 1616, 2800, 456, 854, 3599, 1364, 1882, 951, 662, 3103, 3266, 1995, 2428, 60, 1112, 456, 2947, 456, 3482, 127, 2966, 60, 2832, 2354, 3694, 60, 1172, 779, 2875, 1975, 307, 1222, 2683, 3883, 127, 3674, 2640, 1745, 132, 2990, 2722, 1146, 2472, 2688, 592, 650, 1191, 3618, 1434, 3688, 1081, 3823, 127, 3156, 690, 881, 2193, 3403, 2399, 2193, 3477, 2600, 3834, 88, 1929, 2562, 481, 1995, 127, 3849, 3128, 2590, 1278, 1906, 797, 2662, 2369, 1751, 43, 82, 1395, 1482, 1586, 3429, 1910, 3397, 3773, 1586, 189, 222, 533, 662, 1172, 3300, 942, 3725, 2441, 3688, 1931, 3270, 1434, 3299, 1934, 2369, 2057, 2683, 2204, 662, 1172, 1403, 127, 4015, 3823, 2981, 2746, 1586, 1750, 2182, 3432, 3403, 3174, 297, 2389, 1507, 2683, 1172, 2593, 188, 3823, 127, 3433, 60, 1192, 2412, 1586, 2369, 791, 1399, 3823, 2081, 88, 3963, 2193, 1667, 1911, 1082, 1928, 1995, 127, 1297, 463, 1066, 1586, 651, 3910, 3096, 1771, 3252, 1285, 1586, 2295, 1583, 127, 3878, 752, 3963, 2114, 2683, 307, 326, 60, 3103, 2450, 3403, 3174, 2094, 137, 3687, 2203, 1251, 1975, 307, 3524, 1424, 1172, 3937, 1082, 887, 1434, 3157, 2686, 1434, 3299, 690, 3425, 1995, 2369, 2063, 2836, 779, 1075, 3605, 3055, 2391, 127, 2216, 2211, 3823, 162, 2683, 3020, 2950, 1586, 1185, 127, 1882, 889, 1995, 2369, 288, 1691]]\n"
     ]
    }
   ],
   "source": [
    "if __name__ == \"__main__\":\n",
    "    dir_name = \"news_data\"\n",
    "    file_list = get_file_list(dir_name)\n",
    "    file_list = [os.path.join(dir_name, file_name) for file_name in file_list]\n",
    "\n",
    "    X_text, y_class = get_conetents(file_list)\n",
    "\n",
    "    corpus = get_corpus_dict(X_text)\n",
    "    #print(\"Number of words : {0}\".format(len(corpus)))\n",
    "    X_vector = get_count_vector(X_text, corpus)"
   ]
  },
  {
   "cell_type": "markdown",
   "metadata": {},
   "source": [
    "#### 비교하기"
   ]
  },
  {
   "cell_type": "code",
   "execution_count": 49,
   "metadata": {
    "collapsed": true
   },
   "outputs": [],
   "source": [
    "import math\n",
    "def get_cosine_similarity(v1,v2):\n",
    "    \"compute cosine similarity of v1 to v2: (v1 dot v2)/{||v1||*||v2||)\"\n",
    "    sumxx, sumxy, sumyy = 0, 0, 0\n",
    "    for i in range(len(v1)):\n",
    "        x = v1[i]; y = v2[i]\n",
    "        sumxx += x*x\n",
    "        sumyy += y*y\n",
    "        sumxy += x*y\n",
    "    return sumxy/math.sqrt(sumxx*sumyy)"
   ]
  },
  {
   "cell_type": "markdown",
   "metadata": {},
   "source": [
    "#### 비교결과 정리하기"
   ]
  },
  {
   "cell_type": "code",
   "execution_count": null,
   "metadata": {
    "collapsed": true
   },
   "outputs": [],
   "source": [
    "def get_similarity_score(X_vector, source):\n",
    "    source_vector = X_vector[source]\n",
    "    similarity_list = []\n",
    "    for target_vector in X_vector:\n",
    "        similarity_list.append(\n",
    "            get_cosine_similarity(source_vector, target_vector))\n",
    "    return similarity_list\n",
    "\n",
    "\n",
    "def get_top_n_similarity_news(similarity_score, n):\n",
    "    import operator\n",
    "    x = {i:v for i, v in enumerate(similarity_score)}\n",
    "    sorted_x = sorted(x.items(), key=operator.itemgetter(1))\n",
    "\n",
    "    return list(reversed(sorted_x))[1:n+1]\n",
    "\n",
    "def get_accuracy(similarity_list, y_class, source_news):\n",
    "    source_class = y_class[source_news]\n",
    "\n",
    "    return sum([source_class == y_class[i[0]] for i in similarity_list]) / len(similarity_list)\n",
    "\n",
    "\n",
    "if __name__ == \"__main__\":\n",
    "    dir_name = \"news_data\"\n",
    "    file_list = get_file_list(dir_name)\n",
    "    file_list = [os.path.join(dir_name, file_name) for file_name in file_list]\n",
    "\n",
    "    X_text, y_class = get_conetents(file_list)\n",
    "\n",
    "    corpus = get_corpus_dict(X_text)\n",
    "    print(\"Number of words : {0}\".format(len(corpus)))\n",
    "    X_vector = get_count_vector(X_text, corpus)\n",
    "    source_number = 10\n",
    "\n",
    "    result = []\n",
    "\n",
    "    for i in range(80):\n",
    "        source_number = i\n",
    "\n",
    "        similarity_score = get_similarity_score(X_vector, source_number)\n",
    "        similarity_news = get_top_n_similarity_news(similarity_score, 10)\n",
    "        accuracy_score = get_accuracy(similarity_news, y_class, source_number)\n",
    "        result.append(accuracy_score)\n",
    "    print(sum(result) / 80)"
   ]
  }
 ],
 "metadata": {
  "kernelspec": {
   "display_name": "Python 3",
   "language": "python",
   "name": "python3"
  },
  "language_info": {
   "codemirror_mode": {
    "name": "ipython",
    "version": 3
   },
   "file_extension": ".py",
   "mimetype": "text/x-python",
   "name": "python",
   "nbconvert_exporter": "python",
   "pygments_lexer": "ipython3",
   "version": "3.5.2"
  }
 },
 "nbformat": 4,
 "nbformat_minor": 0
}
