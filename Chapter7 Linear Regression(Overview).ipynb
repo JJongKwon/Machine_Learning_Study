{
 "cells": [
  {
   "cell_type": "markdown",
   "metadata": {},
   "source": [
    "# Overview\n",
    "**학습 목표**\n",
    "\n",
    "이번 강의는 Linear Regression을 주제를 가지고 진행되는 강의가 앞으로 어떻게 이루어지는지, 그리고 Linear Regression\n",
    "의 가장 기본적인 개념에 대해 간단하게 설명하는 Overview 강의입니다."
   ]
  },
  {
   "cell_type": "markdown",
   "metadata": {},
   "source": [
    "**핵심키워드**\n",
    "- Linear Regression\n",
    "- gradient Descent based learning"
   ]
  },
  {
   "cell_type": "markdown",
   "metadata": {},
   "source": [
    "## 머신러닝의 학습 방법들\n",
    "\n",
    "\n",
    "- Gradient descent based learning\n",
    "\n",
    "\n",
    "- Probability theory based learning\n",
    "\n",
    "\n",
    "- Information theory based learning\n",
    "\n",
    "\n",
    "- Distance similarity based learning"
   ]
  },
  {
   "cell_type": "markdown",
   "metadata": {},
   "source": [
    "### Gradient descent based learning\n",
    "- 실제 값과 학습된 모델 예측치의 오차를 최소화\n",
    "- 모델의 최적 parameter 찾기가 목적\n",
    "- gradient descent 활용"
   ]
  },
  {
   "cell_type": "markdown",
   "metadata": {},
   "source": [
    "![](./image2.png)"
   ]
  },
  {
   "cell_type": "markdown",
   "metadata": {},
   "source": [
    "#### 예측 함수와 실제 값의 오차를 줄여보자"
   ]
  },
  {
   "cell_type": "markdown",
   "metadata": {},
   "source": [
    "![](./image4.png)"
   ]
  },
  {
   "cell_type": "markdown",
   "metadata": {},
   "source": [
    "![](./image5.png)"
   ]
  },
  {
   "cell_type": "markdown",
   "metadata": {},
   "source": [
    "#### Squared Error를 최소화 할 수 있는 weight값의 발견"
   ]
  },
  {
   "cell_type": "markdown",
   "metadata": {},
   "source": [
    "![](./image6.png)"
   ]
  }
 ],
 "metadata": {
  "kernelspec": {
   "display_name": "Python 3",
   "language": "python",
   "name": "python3"
  },
  "language_info": {
   "codemirror_mode": {
    "name": "ipython",
    "version": 3
   },
   "file_extension": ".py",
   "mimetype": "text/x-python",
   "name": "python",
   "nbconvert_exporter": "python",
   "pygments_lexer": "ipython3",
   "version": "3.5.2"
  }
 },
 "nbformat": 4,
 "nbformat_minor": 0
}
