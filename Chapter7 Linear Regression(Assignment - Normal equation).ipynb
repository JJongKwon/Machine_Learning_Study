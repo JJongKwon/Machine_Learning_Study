{
 "cells": [
  {
   "cell_type": "markdown",
   "metadata": {},
   "source": [
    "# Assignment - Normal equation"
   ]
  },
  {
   "cell_type": "markdown",
   "metadata": {},
   "source": [
    "**학습 목표**\n",
    "\n",
    "- 이번 강의는 이전 강의에서 배운 Normal Equation을 실제로 코드로 구현하는 과제인 Linear Regression(Normal Equation)의 코드 해설입니다. \n",
    "- 이 과제는 class로 이루어져 있으며, fitting과 predict를 하는 코드까지 구현하게 됩니다. \n",
    "- 예제 데이터를 이용하여 scikit learn의 linear regression 모듈에서 도출되는 결과가 작성되어 있습니다."
   ]
  },
  {
   "cell_type": "markdown",
   "metadata": {},
   "source": [
    "**핵심 키워드**\n",
    "\n",
    "- Linear Model\n",
    "- Normal Equation\n",
    "- numpy\n",
    "- Class\n",
    "- fit intercept\n",
    "- coefficient\n",
    "- intercept value"
   ]
  }
 ],
 "metadata": {
  "kernelspec": {
   "display_name": "Python 3",
   "language": "python",
   "name": "python3"
  },
  "language_info": {
   "codemirror_mode": {
    "name": "ipython",
    "version": 3
   },
   "file_extension": ".py",
   "mimetype": "text/x-python",
   "name": "python",
   "nbconvert_exporter": "python",
   "pygments_lexer": "ipython3",
   "version": "3.5.2"
  }
 },
 "nbformat": 4,
 "nbformat_minor": 0
}
