{
 "cells": [
  {
   "cell_type": "markdown",
   "metadata": {},
   "source": [
    "# Objective of the notebook\n",
    "\n",
    "이 노트는 [edwith](https://www.edwith.org/) 교육사이트의 [머신러닝을 위한 Python](https://www.edwith.org/aipython/joinLectures/14365) 강의 일부분을 정리한 것이다."
   ]
  },
  {
   "cell_type": "markdown",
   "metadata": {},
   "source": [
    "# Normal equation"
   ]
  },
  {
   "cell_type": "markdown",
   "metadata": {},
   "source": [
    "**학습 목표**\n",
    "\n",
    "이번 강의에서는 weight를 구하는 방법 중 하나인 Normal Equation에 대한 개념과, Normal Equation을 이용하여  \n",
    "X와 Y행렬에 대한 weight를 구하는 식을 함께 설명하며 공부합니다. "
   ]
  },
  {
   "cell_type": "markdown",
   "metadata": {},
   "source": [
    "**핵심 키워드**\n",
    "\n",
    "- Normal Equation : 잔차의 제곱의 합을 최소로 한다는 조건, 즉 최소제곱법에 의하여 얻어지는, 미지수의 개수와 같은 수의 방정식이다.\n",
    "- transpose matrix\n",
    "- inverse matrix\n",
    "- determinant"
   ]
  },
  {
   "cell_type": "markdown",
   "metadata": {},
   "source": [
    "<center>**Cost Function을 최소화하는 방법**</center>\n",
    "\n",
    "$$argmin_{\\theta}\\frac{1}{2m} \\sum_{i=1}^{m}(h_{\\theta}(x^{(i)})-y^{(i)})^2$$\n",
    "<br></br>"
   ]
  },
  {
   "cell_type": "markdown",
   "metadata": {},
   "source": [
    "$$y^{(1)} = w_0 + w_{1}x^{(1)} + \\epsilon^{(1)}$$\n",
    "$$y^{(2)} = w_0 + w_{1}x^{(2)} + \\epsilon^{(2)}$$\n",
    "$$y^{(3)} = w_0 + w_{1}x^{(3)} + \\epsilon^{(3)}$$\n",
    "$$y^{(4)} = w_0 + w_{1}x^{(4)} + \\epsilon^{(4)}$$\n",
    "$$y^{(5)} = w_0 + w_{1}x^{(5)} + \\epsilon^{(5)}$$\n",
    "<br></br>"
   ]
  },
  {
   "cell_type": "markdown",
   "metadata": {},
   "source": [
    "$$\n",
    "\\mathbf{y} = \\left[ \\begin{matrix} \n",
    "y^{(1)} \\\\\n",
    "y^{(2)} \\\\\n",
    "y^{(3)} \\\\\n",
    "y^{(4)} \\\\\n",
    "y^{(5)} \n",
    "\\end{matrix} \\right]\n",
    "\\quad \\quad \n",
    "\\mathbf{x} = \\left[ \\begin{matrix} \n",
    "1 & x^{(1)} \\\\\n",
    "1 & x^{(2)} \\\\\n",
    "1 & x^{(3)} \\\\\n",
    "1 & x^{(4)} \\\\\n",
    "1 & x^{(5)} \n",
    "\\end{matrix} \\right]\n",
    "\\quad \\quad \n",
    "\\mathbf{w} = \\left[ \\begin{matrix} \n",
    "w_0 \\\\\n",
    "w_1\n",
    "\\end{matrix} \\right]\n",
    "\\quad \\quad\n",
    "\\mathbf{y} = \\mathbf{X}\\mathbf{w}\n",
    "$$"
   ]
  },
  {
   "cell_type": "markdown",
   "metadata": {},
   "source": [
    "$$J = \\frac{1}{2} \\sum_{i=1}^{m}(w_{1}x^{(i)}+w_{0}-y^{(i)})^2$$\n",
    "<br></br>\n",
    "$$\\frac{\\partial J}{\\partial w_{0}} = \\sum (w_{1}x^{(i)}+w_{0}-y^{(i)}) = 0$$\n",
    "<br></br>\n",
    "$$\\frac{\\partial J}{\\partial w_{1}} = \\sum (w_{1}x^{(i)}+w_{0}-y^{(i)})x^{(i)} = 0$$\n",
    "<br></br>\n",
    "<center>**위 식을 만족하는 $\\hat{w}_j$값을 구하기**</center>\n",
    "<br></br>"
   ]
  },
  {
   "cell_type": "markdown",
   "metadata": {},
   "source": [
    "$$\\hat{w}_{0}m + \\hat{w}_{1}\\sum x^{(i)} = \\sum y^{(i)}$$\n",
    "<br></br>\n",
    "$$\\hat{w}_{0}\\sum x^{(i)} + \\hat{w}_{1} \\sum (x^{(i)})^2 = \\sum y^{(i)} x^{(i)}$$\n",
    "<br></br>\n",
    "<br></br>\n",
    "$$\n",
    "\\mathbf{X}^T \\mathbf{X} = \\left[ \\begin{matrix} \n",
    "m & \\sum x^{(i)} \\\\\n",
    "\\sum x^{(i)} & \\sum (x^{(i)})^2 \\end{matrix} \\right]\n",
    "$$\n",
    "<br></br>\n",
    "<br></br>\n",
    "$$\n",
    "(\\mathbf{X}^T \\mathbf{X})\\hat{\\mathbf{w}} = \\mathbf{X}^T \\mathbf{y}\\\\\n",
    "\\hat{\\mathbf{w}} = (\\mathbf{X}^T \\mathbf{X})^{-1} \\mathbf{X}^T \\mathbf{y}\n",
    "$$"
   ]
  },
  {
   "cell_type": "markdown",
   "metadata": {},
   "source": [
    "$$\n",
    "\\mathbf{X}^T \\mathbf{X} = \\left[ \\begin{matrix} \n",
    "m & \\sum x^{(i)} \\\\\n",
    "\\sum x^{(i)} & \\sum (x^{(i)})^2 \\end{matrix} \\right] = \n",
    "\\left[ \\begin{matrix} \n",
    "m & m \\bar{x} \\\\\n",
    "m \\bar{x} & \\sum (x^{(i)})^2 \\end{matrix} \\right]\n",
    "$$\n",
    "<br></br>\n",
    "<br></br>\n",
    "\\begin{align*}\n",
    "|\\mathbf{X}^T \\mathbf{X}| & = m \\sum(x^{(i)})^2 - (m \\bar{x})^2 \\\\\n",
    "& = m(\\sum(x^{(i)})^2 - m \\bar{x}^2) \\\\\n",
    "& = m\\sum(x^{(i)} - \\bar{x})^2\n",
    "\\end{align*}"
   ]
  },
  {
   "cell_type": "markdown",
   "metadata": {},
   "source": [
    "\\begin{align*}\n",
    "(\\mathbf{X}^T \\mathbf{X})^{-1} &= \\frac{1}{m \\sum(x^{(i)}-\\bar{x})^2}\n",
    "\\left[ \\begin{matrix} \n",
    "\\sum (x^{(i)})^2 & -m \\bar{x} \\\\\n",
    "-m \\bar{x} & m \\end{matrix} \\right]\\\\\n",
    " &= \\frac{1}{ \\sum(x^{(i)}-\\bar{x})^2}\n",
    "\\left[ \\begin{matrix} \n",
    "\\sum (x^{(i)})^2/m & -\\bar{x} \\\\\n",
    "-\\bar{x} & 1 \\end{matrix} \\right]\n",
    "\\end{align*}\n",
    "<br></br>"
   ]
  },
  {
   "cell_type": "markdown",
   "metadata": {},
   "source": [
    "$$\n",
    "\\mathbf{X^{T}y} = \\left[ \\begin{matrix} \n",
    "\\sum y^{(i)} \\\\\n",
    "\\sum x^{(i)} y^{(i)} \n",
    "\\end{matrix} \\right]\n",
    "\\quad \\quad \n",
    "\\mathbf{x} = \\left[ \\begin{matrix} \n",
    "1 & x^{(1)} \\\\\n",
    "1 & x^{(2)} \\\\\n",
    "1 & x^{(3)} \\\\\n",
    "1 & x^{(4)} \\\\\n",
    "1 & x^{(5)} \n",
    "\\end{matrix} \\right]\n",
    "\\quad \\quad \n",
    "\\mathbf{y} = \\left[ \\begin{matrix} \n",
    "y^{(1)} \\\\\n",
    "y^{(2)} \\\\\n",
    "y^{(3)} \\\\\n",
    "y^{(4)} \\\\\n",
    "y^{(5)} \n",
    "\\end{matrix} \\right]\n",
    "$$\n",
    "<br></br>"
   ]
  },
  {
   "cell_type": "markdown",
   "metadata": {},
   "source": [
    "\\begin{align*}\n",
    "\\hat{\\mathbf{w}} &= (\\mathbf{X}^T \\mathbf{X})^{-1} \\mathbf{X}^T \\mathbf{y} = \\left[ \\begin{matrix} \n",
    "w_0 \\\\\n",
    "w_1\n",
    "\\end{matrix} \\right] \\\\\n",
    "&= \\frac{1}{ \\sum(x^{(i)}-\\bar{x})^2}\n",
    "\\left[ \\begin{matrix} \n",
    "\\sum (x^{(i)})^2/m & -\\bar{x} \\\\\n",
    "-\\bar{x} & 1 \\end{matrix} \\right]\n",
    "\\left[ \\begin{matrix} \\sum y^{(i)} \\\\\n",
    "\\sum x^{(i)} y^{(i)} \\end{matrix} \\right]\n",
    "\\end{align*}\n",
    "<br></br>"
   ]
  },
  {
   "cell_type": "markdown",
   "metadata": {},
   "source": [
    "$$\n",
    "\\hat{w}_1 = \\frac{\\sum x^{(i)} y^{(i)} - m \\bar{x} \\bar{y} }{\\sum(x^{(i)}-\\bar{x})^2} \\\\\n",
    "\\hat{w}_0 = \\bar{y} - \\hat{w}_{1} \\bar{x}\n",
    "$$"
   ]
  },
  {
   "cell_type": "markdown",
   "metadata": {},
   "source": [
    "<center> **여러개의 변수일 경우?** </center>\n",
    "\n",
    "$$\n",
    "\\mathbf{X}^T \\mathbf{X} = \n",
    "\\left[ \\begin{matrix} \n",
    "m & m \\bar{x} \\\\\n",
    "m \\bar{x} & \\sum (x^{(i)})^2 \\end{matrix} \\right]\n",
    "$$\n",
    "<br></br>\n",
    "<center> **가 확대됨** </center>"
   ]
  },
  {
   "cell_type": "markdown",
   "metadata": {},
   "source": [
    "![](./image12.png)"
   ]
  },
  {
   "cell_type": "markdown",
   "metadata": {},
   "source": [
    "## Normal equation\n",
    "- $\\mathbf{X}^T \\mathbf{X}$의 역행렬이 존재할 때 사용\n",
    "- lteration 등 사용자 지정 parameter가 없음\n",
    "- Feature가 많으면 계산 속도가 느려짐"
   ]
  }
 ],
 "metadata": {
  "kernelspec": {
   "display_name": "Python 3",
   "language": "python",
   "name": "python3"
  },
  "language_info": {
   "codemirror_mode": {
    "name": "ipython",
    "version": 3
   },
   "file_extension": ".py",
   "mimetype": "text/x-python",
   "name": "python",
   "nbconvert_exporter": "python",
   "pygments_lexer": "ipython3",
   "version": "3.6.5"
  }
 },
 "nbformat": 4,
 "nbformat_minor": 1
}
