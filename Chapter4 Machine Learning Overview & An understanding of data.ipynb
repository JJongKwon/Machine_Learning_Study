{
 "cells": [
  {
   "cell_type": "markdown",
   "metadata": {},
   "source": [
    "# Chapter 4 Machine Learning Overview & An understanding of data"
   ]
  },
  {
   "cell_type": "markdown",
   "metadata": {},
   "source": [
    "## Machine Learning Overview - Python ecosystsem for ML"
   ]
  },
  {
   "cell_type": "markdown",
   "metadata": {},
   "source": [
    "### 머신러닝을 위해 사용하는 여러 모듈\n",
    "- Anaconda\n",
    "- Jupyter\n",
    "- Numpy\n",
    "- pandas\n",
    "- Matplotlib"
   ]
  },
  {
   "cell_type": "markdown",
   "metadata": {},
   "source": [
    "## Machine Learning Overview & An understanding of data\n",
    "\n",
    "- How to learn machine learning\n",
    "\n",
    "- The concept of a feature, Data Attributes, Loading data with pandas"
   ]
  },
  {
   "cell_type": "markdown",
   "metadata": {},
   "source": [
    "### Key concepts\n",
    "- Model : 예측을 위한 수한 공식, 함수, 1차 방정식, 확률분포, condition rule\n",
    "- Algorithms : 어떠한 문제를 풀기 위한 과정, Model을 생성하기 위한 (훈련)과정"
   ]
  },
  {
   "cell_type": "markdown",
   "metadata": {},
   "source": [
    "### Feature\n",
    "- 머신러닝에서 데이터의 특징을 나타내는 변수\n",
    "- feature, 독립변수, input 변수 등은 동일의미로 사용\n",
    "- 일반적으로 Table 상에 Data를 표현할 때, Column을 의미\n",
    "- 하나의 data instance(실제 데이터)는 feature vector로 표현"
   ]
  },
  {
   "cell_type": "markdown",
   "metadata": {},
   "source": [
    "### Pandas - 엑셀처럼 데이터 사용"
   ]
  },
  {
   "cell_type": "markdown",
   "metadata": {},
   "source": [
    "## An understanding of data - Representing a model"
   ]
  }
 ],
 "metadata": {
  "kernelspec": {
   "display_name": "Python 3",
   "language": "python",
   "name": "python3"
  },
  "language_info": {
   "codemirror_mode": {
    "name": "ipython",
    "version": 3
   },
   "file_extension": ".py",
   "mimetype": "text/x-python",
   "name": "python",
   "nbconvert_exporter": "python",
   "pygments_lexer": "ipython3",
   "version": "3.5.2"
  }
 },
 "nbformat": 4,
 "nbformat_minor": 0
}
